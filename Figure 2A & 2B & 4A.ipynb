{
 "cells": [
  {
   "cell_type": "markdown",
   "metadata": {},
   "source": [
    "# Import packages"
   ]
  },
  {
   "cell_type": "code",
   "execution_count": 1,
   "metadata": {},
   "outputs": [],
   "source": [
    "import numpy as np\n",
    "import matplotlib.pyplot as plt \n",
    "from sympy import symbols, solve, simplify\n",
    "import pandas as pd\n",
    "import sympy as sp\n",
    "import random \n",
    "plt.rcParams.update({'font.size': 20})"
   ]
  },
  {
   "cell_type": "markdown",
   "metadata": {},
   "source": [
    "# Definitions"
   ]
  },
  {
   "cell_type": "markdown",
   "metadata": {},
   "source": [
    "Function to define the properties of the axis of a plot"
   ]
  },
  {
   "cell_type": "code",
   "execution_count": 2,
   "metadata": {},
   "outputs": [],
   "source": [
    "def my_axsis(ax, xlim, ylim, xticks, title, xtickslabels, bold=True, scale='lin'):    \n",
    "    \n",
    "    ax.set_xlim(xlim)\n",
    "    ax.set_ylim(ylim)\n",
    "    ax.set_xticks(xticks)\n",
    "    ax.set_title(title)\n",
    "    ax.set_xticklabels(xtickslabels)\n",
    "    \n",
    "    if bold==True:\n",
    "        for axis in ['top','bottom','left','right']:\n",
    "            ax.spines[axis].set_linewidth(1.2)\n",
    "            \n",
    "    if scale=='log':\n",
    "        ax.set_yscale('log', base=2)"
   ]
  },
  {
   "cell_type": "markdown",
   "metadata": {},
   "source": [
    "Function to pick a random number in an interval centered around a standard value x_st "
   ]
  },
  {
   "cell_type": "code",
   "execution_count": 5,
   "metadata": {},
   "outputs": [],
   "source": [
    "def rand(x_st, length, perc=5): \n",
    "    x_rand = np.ones(len(length))\n",
    "    x_min = x_st- x_st*perc/100\n",
    "    x_max = x_st+ x_st*perc/100\n",
    "    \n",
    "    for i in range(len(length)): \n",
    "        x_rand[i] = np.round(random.uniform(x_min, x_max),4)\n",
    "    \n",
    "    return x_rand"
   ]
  },
  {
   "cell_type": "markdown",
   "metadata": {},
   "source": [
    "# Model "
   ]
  },
  {
   "cell_type": "markdown",
   "metadata": {},
   "source": [
    "Definition of the parameters of the model \n"
   ]
  },
  {
   "cell_type": "code",
   "execution_count": 6,
   "metadata": {},
   "outputs": [],
   "source": [
    "T, V1, V2, K1, K2, Kb = symbols('T V1 V2 K1 K2 Kb') \n",
    "Vs, Rb, Ks, Vrg, Qb, Krg = symbols('Vs Rb Ks Vrg Qb Krg')\n",
    "R, F, Kd, Q, E, Ke = symbols('R F Kd Q E Ke')\n",
    "S1, Qtot, S2, Rtot= symbols('S1 Qtot S2 Rtot')"
   ]
  },
  {
   "cell_type": "markdown",
   "metadata": {},
   "source": [
    "Solve the evolution equation for T (fraction of Ras-GTP)"
   ]
  },
  {
   "cell_type": "code",
   "execution_count": 7,
   "metadata": {},
   "outputs": [
    {
     "name": "stdout",
     "output_type": "stream",
     "text": [
      "Evolution equation for T:\n",
      "-Kb*T - T*V2/(K2 + T) + V1*(1 - T)/(K1 - T + 1)\n",
      "Evolution equation for T (all parameters explicited):\n",
      "-E*Qtot*T*Vrg*(0.9092 - 1.1265*S1)*(K1 - T + 1)/((E + Ke)*(E*Qtot*(0.9092 - 1.1265*S1)/(E + Ke) + Krg)) + F*Rtot*S1*Vs*(1 - T)*(K2 + T)/((F + Kd)*(F*Rtot*S1/(F + Kd) + Ks)) - Kb*T*(K2 + T)*(K1 - T + 1)\n"
     ]
    }
   ],
   "source": [
    "# Evolution equation for T: \n",
    "expr = V1*(1-T)/(K1+(1-T))-V2*T/(K2+T)-Kb*T\n",
    "expr_simplified= V1*(1-T)*(K2+T) -V2*T*(K1+(1-T))-Kb*T*(K1+(1-T))*(K2+T)\n",
    "print('Evolution equation for T:')\n",
    "print(expr)\n",
    "\n",
    "# Substitute the expression for V1 and V2 in the evolution equation for T:  \n",
    "expr_RQ= expr_simplified.subs([(V1, Vs*(R*F/(Kd+F))/(Ks+(R*F/(Kd+F)))),(V2, Vrg*(Q*E/(Ke+E))/(Krg+(Q*E/(Ke+E))))])\n",
    "\n",
    "# Substitute the expressions for Q and R\n",
    "expr_S1S2 = expr_RQ.subs([(R, Rtot*S1),(Q, Qtot*S2)])\n",
    "\n",
    "# Expliciting the relation between S1 and S2 to obtain T(FGF, S1): \n",
    "expr_T = expr_S1S2.subs([(S2,-1.1265*S1 +0.9092)])\n",
    "\n",
    "print('Evolution equation for T (all parameters explicited):')\n",
    "print(expr_T)\n",
    "\n",
    "# Solve the equation \n",
    "sol = solve(expr_T, T)[2]"
   ]
  },
  {
   "cell_type": "markdown",
   "metadata": {},
   "source": [
    "Definition of the function ExprT that compute T as a function of all the parameters of the equation"
   ]
  },
  {
   "cell_type": "code",
   "execution_count": 8,
   "metadata": {},
   "outputs": [],
   "source": [
    "def exprT(Vs_v=1, Vrg_v=0.4, K1_v=0.5, K2_v=0.2, Krg_v=1200, Ks_v=1200, Kb_v=0.2, F_v=5, Kd_v=25, E_v=5, Ke_v=50, Rtot_v=2000, Qtot_v=2000, S1_v=0.5):\n",
    "    sol_T = sol.subs([(Vs,Vs_v),(Vrg,Vrg_v),(K1, K1_v),(K2,K2_v),(Krg, Krg_v), (Ks, Ks_v), (Kb, Kb_v),(F, F_v),(Kd, Kd_v),(E,E_v), (Ke, Ke_v),(Rtot, Rtot_v),(Qtot,Qtot_v),(S1,S1_v)])\n",
    "    sol_T = np.real(np.array(sol_T,complex))\n",
    "    return sol_T"
   ]
  },
  {
   "cell_type": "markdown",
   "metadata": {},
   "source": [
    " Definition of the function to compute Erk (as a function of T): "
   ]
  },
  {
   "cell_type": "code",
   "execution_count": 9,
   "metadata": {},
   "outputs": [],
   "source": [
    "def Erk(T,n=2, Kerk=0.5, Erk_max=1, Erk_bas=0): \n",
    "    Erk = [Erk_max* T[i]**n/(T[i]**n +Kerk**n) + Erk_bas for i in range(len(T))]\n",
    "    return Erk"
   ]
  },
  {
   "cell_type": "markdown",
   "metadata": {},
   "source": [
    "# Import the experimental data "
   ]
  },
  {
   "cell_type": "code",
   "execution_count": 10,
   "metadata": {},
   "outputs": [],
   "source": [
    "#read the excel file with the experimental data\n",
    "data_S1 = pd.read_excel('/Users/rossanabettoni/Desktop/PhD/Article_PLOS/ExpData.xlsx', sheet_name='Cell surface contacts')\n",
    "df_S1 = pd.DataFrame(data_S1)\n",
    "\n",
    "data_Fig2A = pd.read_excel('/Users/rossanabettoni/Desktop/PhD/Article_PLOS/ExpData.xlsx', sheet_name='Fig 2A & S1A')\n",
    "df_Fig2A = pd.DataFrame(data_Fig2A)\n",
    "\n",
    "data_Fig2B = pd.read_excel('/Users/rossanabettoni/Desktop/PhD/Article_PLOS/ExpData.xlsx', sheet_name='Fig 2B')\n",
    "df_Fig2B = pd.DataFrame(data_Fig2B)"
   ]
  },
  {
   "cell_type": "markdown",
   "metadata": {},
   "source": [
    "Experimental data figure 1C  "
   ]
  },
  {
   "cell_type": "code",
   "execution_count": 11,
   "metadata": {},
   "outputs": [],
   "source": [
    "# Reltive area of cell surface contact with FGF expressing cells (divided by cell type)\n",
    "a65_RelContactArea_A = np.array(df_S1['a6.5 S1'].values.tolist())[0:25] \n",
    "a66_RelContactArea_A = np.array(df_S1['a6.6 S1'].values.tolist())[0:25] \n",
    "a67_RelContactArea_A = np.array(df_S1['a6.7 S1'].values.tolist())[0:25] \n",
    "a68_RelContactArea_A = np.array(df_S1['a6.8 S1'].values.tolist())[0:25] "
   ]
  },
  {
   "cell_type": "markdown",
   "metadata": {},
   "source": [
    "Experimental data figure 2A"
   ]
  },
  {
   "cell_type": "code",
   "execution_count": 12,
   "metadata": {},
   "outputs": [],
   "source": [
    "# Measured levels of Erk fluorescence (divided by cell type)\n",
    "a65_Erk = np.array(df_Fig2A['a6.5'].values.tolist())\n",
    "a66_Erk = np.array(df_Fig2A['a6.6'].values.tolist())\n",
    "a67_Erk = np.array(df_Fig2A['a6.7'].values.tolist())\n",
    "a68_Erk = np.array(df_Fig2A['a6.8'].values.tolist())\n",
    "\n",
    "# Compute the mean of the experimental data\n",
    "mean_a65_Erk = np.mean(a65_Erk)\n",
    "mean_a66_Erk = np.mean(a66_Erk)\n",
    "mean_a67_Erk = np.mean(a67_Erk)\n",
    "mean_a68_Erk = np.mean(a68_Erk)\n",
    "\n",
    "mean_Erk_exp = [mean_a68_Erk,mean_a66_Erk,mean_a67_Erk,mean_a65_Erk]\n",
    "\n",
    "# Compute the standard deviation of the experimental data\n",
    "sdev_a65_Erk_exp = np.std(a65_Erk)\n",
    "sdev_a66_Erk_exp = np.std(a66_Erk)\n",
    "sdev_a67_Erk_exp = np.std(a67_Erk)\n",
    "sdev_a68_Erk_exp = np.std(a68_Erk)\n",
    "\n",
    "Std_exp = [sdev_a68_Erk_exp,sdev_a66_Erk_exp,sdev_a67_Erk_exp,sdev_a65_Erk_exp]"
   ]
  },
  {
   "cell_type": "markdown",
   "metadata": {},
   "source": [
    "Experimental data figure 2B"
   ]
  },
  {
   "cell_type": "code",
   "execution_count": 13,
   "metadata": {},
   "outputs": [],
   "source": [
    "# Relative contact area with FGF-expressing cells \n",
    "RelContactArea_FGF = np.array(df_Fig2B['fgf relatif'].values.tolist())\n",
    "\n",
    "# Relative contact area with FGF-expressing cells (divided by cell type)\n",
    "a65_S1 = np.array(df_Fig2B['a6.5 fgf relatif'].values.tolist())\n",
    "a66_S1 = np.array(df_Fig2B['a6.6 fgf relatif'].values.tolist())\n",
    "a67_S1 = np.array(df_Fig2B['a6.7 fgf relatif'].values.tolist())\n",
    "a68_S1 = np.array(df_Fig2B['a6.8 fgf relatif'].values.tolist())\n",
    "\n",
    "# Corresponding level of Erk fluorescence (divided by cell type)\n",
    "a65_Erk_1E = np.array(df_Fig2B['a6.5 dpERK'].values.tolist())\n",
    "a66_Erk_1E = np.array(df_Fig2B['a6.6 dpERK'].values.tolist())\n",
    "a67_Erk_1E = np.array(df_Fig2B['a6.7 dpERK'].values.tolist())\n",
    "a68_Erk_1E = np.array(df_Fig2B['a6.8 dpERK'].values.tolist())"
   ]
  },
  {
   "cell_type": "markdown",
   "metadata": {},
   "source": [
    "# Results"
   ]
  },
  {
   "cell_type": "markdown",
   "metadata": {},
   "source": [
    "## Figure 2A"
   ]
  },
  {
   "cell_type": "markdown",
   "metadata": {},
   "source": [
    "### Model predictions"
   ]
  },
  {
   "cell_type": "code",
   "execution_count": 14,
   "metadata": {},
   "outputs": [],
   "source": [
    "# Parameter values: \n",
    "Erk_m= 1850    \n",
    "Erk_b = np.mean(a68_Erk)   "
   ]
  },
  {
   "cell_type": "markdown",
   "metadata": {},
   "source": [
    "Compute Erk activity "
   ]
  },
  {
   "cell_type": "code",
   "execution_count": 15,
   "metadata": {},
   "outputs": [],
   "source": [
    "# Compute T\n",
    "T_pred_a65 = [exprT(S1_v= a65_RelContactArea_A[i]) for i in range(len(a65_RelContactArea_A))]\n",
    "T_pred_a66 = [exprT(S1_v= a66_RelContactArea_A[i]) for i in range(len(a66_RelContactArea_A))]\n",
    "T_pred_a67 = [exprT(S1_v= a67_RelContactArea_A[i]) for i in range(len(a67_RelContactArea_A))]\n",
    "T_pred_a68 = [exprT(S1_v= a68_RelContactArea_A[i]) for i in range(len(a68_RelContactArea_A))]\n",
    "\n",
    "# Compute Erk\n",
    "Erk_pred_a65_a = Erk(T_pred_a65)\n",
    "Erk_pred_a66_a = Erk(T_pred_a66)\n",
    "Erk_pred_a67_a = Erk(T_pred_a67)\n",
    "Erk_pred_a68_a = Erk(T_pred_a68)\n",
    "\n",
    "# Compute the mean Erk value for each cell type (with our model)\n",
    "mean_a65_Erk_model_a= np.mean(Erk_pred_a65_a) \n",
    "mean_a66_Erk_model_a= np.mean(Erk_pred_a66_a)\n",
    "mean_a67_Erk_model_a= np.mean(Erk_pred_a67_a)\n",
    "mean_a68_Erk_model_a= np.mean(Erk_pred_a68_a)\n",
    "Erk_mean_a = [mean_a65_Erk_model_a, mean_a66_Erk_model_a, mean_a67_Erk_model_a, mean_a68_Erk_model_a]\n",
    "\n",
    "# Compute the std\n",
    "sdev_a65_Erk_model_a = np.std(Erk_pred_a65_a)\n",
    "sdev_a66_Erk_model_a = np.std(Erk_pred_a66_a)\n",
    "sdev_a67_Erk_model_a = np.std(Erk_pred_a67_a)\n",
    "sdev_a68_Erk_model_a = np.std(Erk_pred_a68_a)"
   ]
  },
  {
   "cell_type": "markdown",
   "metadata": {},
   "source": [
    "Compute Erk fluorescence "
   ]
  },
  {
   "cell_type": "code",
   "execution_count": 16,
   "metadata": {},
   "outputs": [],
   "source": [
    "Erk_max= 1850    \n",
    "Erk_bas = np.mean(a68_Erk)  \n",
    "\n",
    "Erk_pred_a65_f = Erk(T_pred_a65, Erk_max=Erk_m, Erk_bas =Erk_b)\n",
    "Erk_pred_a66_f = Erk(T_pred_a66, Erk_max=Erk_m, Erk_bas =Erk_b)\n",
    "Erk_pred_a67_f = Erk(T_pred_a67, Erk_max=Erk_m, Erk_bas =Erk_b)\n",
    "Erk_pred_a68_f = Erk(T_pred_a68, Erk_max=Erk_m, Erk_bas =Erk_b)\n",
    "\n",
    "# Compute the mean Erk value for each cell type (with our model)\n",
    "mean_a65_Erk_model_f= np.mean(Erk_pred_a65_f) \n",
    "mean_a66_Erk_model_f= np.mean(Erk_pred_a66_f)\n",
    "mean_a67_Erk_model_f= np.mean(Erk_pred_a67_f)\n",
    "mean_a68_Erk_model_f= np.mean(Erk_pred_a68_f)\n",
    "Erk_mean_f = [mean_a65_Erk_model_f, mean_a66_Erk_model_f, mean_a67_Erk_model_f, mean_a68_Erk_model_f]\n",
    "\n",
    "# Compute the std\n",
    "sdev_a65_Erk_model_f = np.sqrt(Erk_max**2*sdev_a65_Erk_model_a**2+sdev_a68_Erk_exp**2)\n",
    "sdev_a66_Erk_model_f = np.sqrt(Erk_max**2*sdev_a66_Erk_model_a**2+sdev_a68_Erk_exp**2)\n",
    "sdev_a67_Erk_model_f = np.sqrt(Erk_max**2*sdev_a67_Erk_model_a**2+sdev_a68_Erk_exp**2)\n",
    "sdev_a68_Erk_model_f = np.sqrt(Erk_max**2*sdev_a68_Erk_model_a**2+sdev_a68_Erk_exp**2)"
   ]
  },
  {
   "cell_type": "markdown",
   "metadata": {},
   "source": [
    "### Comparison with experimental data"
   ]
  },
  {
   "cell_type": "code",
   "execution_count": 17,
   "metadata": {},
   "outputs": [
    {
     "data": {
      "image/png": "[encoded data removed]",
      "text/plain": [
       "<Figure size 648x432 with 4 Axes>"
      ]
     },
     "metadata": {
      "needs_background": "light"
     },
     "output_type": "display_data"
    }
   ],
   "source": [
    "fig = plt.figure(figsize=(9,6))\n",
    "gs = fig.add_gridspec(1,4, hspace=0,wspace=0)\n",
    "axs = gs.subplots(sharey=True)\n",
    "\n",
    "# a6.8 \n",
    "x = np.random.normal(1, 0.08, size=len(a68_Erk))\n",
    "axs[0].plot(x,a68_Erk,'.', color='grey', alpha=0.3,markersize=10,zorder=1)\n",
    "\n",
    "x = 1 \n",
    "axs[0].errorbar(x,mean_a68_Erk ,sdev_a68_Erk_exp, marker='o',markersize=5,color='black', capsize=5,mfc='black', mec='black', ls='none',zorder=2)\n",
    "\n",
    "x = np.random.normal(2, 0.08, size=len(Erk_pred_a68_f))\n",
    "axs[0].plot(x,Erk_pred_a68_f,'.', color='grey', alpha=0.3,markersize=10,zorder=1)\n",
    "\n",
    "x = 2 \n",
    "axs[0].errorbar(x,mean_a68_Erk_model_f ,sdev_a68_Erk_model_f, marker='o',markersize=5,color='black', capsize=5,mfc='black', mec='black', ls='none',zorder=2)\n",
    "\n",
    "my_axsis(axs[0], xlim=[0.5,2.5], ylim=[2**6,2**(10)], xticks=[1,2], title='a6.8', xtickslabels=['Exp', 'Model'], bold=True, scale='log')\n",
    "axs[0].set_ylabel('nuclear dpErk signal')\n",
    "   \n",
    "# a6.6 \n",
    "x = np.random.normal(1, 0.08, size=len(a66_Erk))\n",
    "axs[1].plot(x,a66_Erk,'.', color='tab:green', alpha=0.3, markersize=10,zorder=1)\n",
    "\n",
    "x = 1 \n",
    "axs[1].errorbar(x,mean_a66_Erk ,sdev_a66_Erk_exp, marker='o',markersize=5,color='black', capsize=5,mfc='black', mec='black', ls='none',zorder=2)\n",
    "\n",
    "x = np.random.normal(2, 0.08, size=len(Erk_pred_a66_f))\n",
    "axs[1].plot(x,Erk_pred_a66_f,'.', color='tab:green', alpha=0.3, markersize=10,zorder=1)\n",
    "\n",
    "x = 2 \n",
    "axs[1].errorbar(x,mean_a66_Erk_model_f ,sdev_a66_Erk_model_f, marker='o',markersize=5,color='black', capsize=5,mfc='black', mec='black', ls='none',zorder=2)\n",
    "\n",
    "my_axsis(axs[1], xlim=[0.5,2.5], ylim=[2**6,2**(10)], xticks=[1,2], title='a6.6', xtickslabels=['Exp', 'Model'], bold=True, scale='log')\n",
    "\n",
    "# a6.7 \n",
    "x = np.random.normal(1, 0.08, size=len(a67_Erk))\n",
    "axs[2].plot(x,a67_Erk,'.', color='tab:blue', alpha=0.3,markersize=10,zorder=1)\n",
    "\n",
    "x = 1 \n",
    "axs[2].errorbar(x,mean_a67_Erk ,sdev_a67_Erk_exp, marker='o',markersize=5,color='black', capsize=5,mfc='black', mec='black', ls='none',zorder=2)\n",
    "\n",
    "x = np.random.normal(2, 0.08, size=len(Erk_pred_a67_f))\n",
    "axs[2].plot(x,Erk_pred_a67_f,'.', color='tab:blue', alpha=0.3,markersize=10,zorder=1)\n",
    "\n",
    "x = 2 \n",
    "axs[2].errorbar(x,mean_a67_Erk_model_f ,sdev_a67_Erk_model_f, marker='o',markersize=5,color='black', capsize=5,mfc='black', mec='black', ls='none',zorder=2)\n",
    "\n",
    "my_axsis(axs[2], xlim=[0.5,2.5], ylim=[2**6,2**(10)], xticks=[1,2], title='a6.7', xtickslabels=['Exp', 'Model'], bold=True, scale='log')\n",
    "\n",
    "# a6.5\n",
    "x = np.random.normal(1, 0.08, size=len(a65_Erk))\n",
    "axs[3].plot(x,a65_Erk,'.', color='orchid', alpha=0.3,markersize=10,zorder=1)\n",
    "\n",
    "x = 1 \n",
    "axs[3].errorbar(x,mean_a65_Erk ,sdev_a65_Erk_exp, marker='o',markersize=5,color='black', capsize=5,mfc='black', mec='black', ls='none',zorder=2)\n",
    "\n",
    "x = np.random.normal(2, 0.08, size=len(Erk_pred_a65_f))\n",
    "axs[3].plot(x,Erk_pred_a65_f,'.', color='orchid', alpha=0.3,markersize=10,zorder=1)\n",
    "\n",
    "x = 2 \n",
    "axs[3].errorbar(x,mean_a65_Erk_model_f ,sdev_a65_Erk_model_f, marker='o',markersize=5,color='black', capsize=5,mfc='black', mec='black', ls='none',zorder=2)\n",
    "\n",
    "my_axsis(axs[3], xlim=[0.5,2.5], ylim=[2**6,2**(10)], xticks=[1,2], title='a6.5', xtickslabels=['Exp', 'Model'], bold=True, scale='log')\n",
    "\n",
    "plt.tight_layout()\n",
    "plt.show()\n"
   ]
  },
  {
   "cell_type": "markdown",
   "metadata": {},
   "source": [
    "## Figure 2B"
   ]
  },
  {
   "cell_type": "markdown",
   "metadata": {},
   "source": [
    "### Model predictions"
   ]
  },
  {
   "cell_type": "markdown",
   "metadata": {},
   "source": [
    "Compute Erk activity and Erk fluorescence  "
   ]
  },
  {
   "cell_type": "code",
   "execution_count": 18,
   "metadata": {},
   "outputs": [],
   "source": [
    "S1_temp = np.linspace(0.03, 0.42, 100) \n",
    "\n",
    "T_pred_model1E = [exprT(S1_v= S1_temp[i]) for i in range(len(S1_temp))]\n",
    "\n",
    "# Compute Erk activity \n",
    "Erk_pred_model1E_a =  Erk(T_pred_model1E)\n",
    "\n",
    "# Compute Erk fluorescence \n",
    "Erk_m= 3000  \n",
    "Erk_b = np.nanmean(a68_Erk_1E)  \n",
    "\n",
    "T_pred_model1E = [exprT(S1_v= S1_temp[i]) for i in range(len(S1_temp))]\n",
    "Erk_pred_model1E_f = Erk(T_pred_model1E, Erk_max =Erk_m, Erk_bas= Erk_b)\n",
    "\n",
    "Error_Erk_f = np.nanstd(a68_Erk_1E)*np.ones(len(Erk_pred_model1E_f))  \n",
    "Error_piu = Erk_pred_model1E_f + Error_Erk_f\n",
    "Error_meno = Erk_pred_model1E_f - Error_Erk_f"
   ]
  },
  {
   "cell_type": "markdown",
   "metadata": {},
   "source": [
    "Compute Erk activity and fluorescence starting from the exp data of S1 of figure 1E "
   ]
  },
  {
   "cell_type": "code",
   "execution_count": 19,
   "metadata": {},
   "outputs": [],
   "source": [
    "T_pred_1E = [exprT(S1_v= RelContactArea_FGF[i]) for i in range(len(RelContactArea_FGF))]\n",
    "\n",
    "# Compute Erk activity \n",
    "Erk_pred_1E_a =  Erk(T_pred_1E)\n",
    "\n",
    "# Compute Erk fluorescence \n",
    "Erk_pred_1E_f = Erk(T_pred_1E, Erk_max =Erk_m, Erk_bas= Erk_b)\n",
    "Error_Erk_f = np.nanstd(a68_Erk_1E)*np.ones(len(Erk_pred_1E_f)) "
   ]
  },
  {
   "cell_type": "markdown",
   "metadata": {},
   "source": [
    "### Comparison with experimental data"
   ]
  },
  {
   "cell_type": "code",
   "execution_count": 20,
   "metadata": {},
   "outputs": [
    {
     "data": {
      "image/png": "[encoded data removed]",
      "text/plain": [
       "<Figure size 576x432 with 1 Axes>"
      ]
     },
     "metadata": {
      "needs_background": "light"
     },
     "output_type": "display_data"
    }
   ],
   "source": [
    "fig= plt.figure(figsize=(8,6))\n",
    "plt.plot(RelContactArea_FGF, Erk_pred_1E_f,'o',markersize=6,alpha=1, color= '0.2', label='Model predictions', zorder=2)\n",
    "\n",
    "plt.plot(a65_S1, a65_Erk_1E,'.', markersize=12, color='orchid', zorder=1)\n",
    "plt.plot(a66_S1, a66_Erk_1E,'.', markersize=12, color='tab:green', zorder=1)\n",
    "plt.plot(a67_S1, a67_Erk_1E,'.', markersize=12, color='tab:blue', zorder=1)\n",
    "plt.plot(a68_S1, a68_Erk_1E,'.', markersize=12, color='grey', zorder=1, label='Experimental data \\n cell a6.8')\n",
    "\n",
    "plt.plot(S1_temp, Erk_pred_model1E_f,'--', color='0.2')\n",
    "plt.fill_between(S1_temp, Error_meno, Error_piu, color='grey', alpha=0.2)\n",
    "\n",
    "plt.xlabel('relative contact area with \\n A-line mesendoderm cells ($S_1$)')\n",
    "plt.ylabel('nuclear dpErk signal')\n",
    "ax = fig.gca()\n",
    "my_axsis(ax, xlim=[0.005,0.45], ylim=[200,1100], xticks=[0.1,0.2,0.3,0.4], title='', xtickslabels=['0.1', '0.2', '0.3','0.4'], bold=True, scale='lin')\n",
    "plt.tight_layout()\n",
    "plt.show()"
   ]
  },
  {
   "cell_type": "markdown",
   "metadata": {},
   "source": [
    "## Figure 4A"
   ]
  },
  {
   "cell_type": "markdown",
   "metadata": {},
   "source": [
    "Definition of the random parameters"
   ]
  },
  {
   "cell_type": "code",
   "execution_count": 21,
   "metadata": {},
   "outputs": [],
   "source": [
    "p = 20\n",
    "length= a65_RelContactArea_A\n",
    "\n",
    "FGF_rand_a65 = rand(5, length, perc=p)\n",
    "FGF_rand_a66 = rand(5, length, perc=p)\n",
    "FGF_rand_a67 = rand(5, length, perc=p)\n",
    "FGF_rand_a68 = rand(5, length, perc=p)\n",
    "\n",
    "E_rand_a65 = rand(5, length, perc=p)\n",
    "E_rand_a66 = rand(5, length, perc=p)\n",
    "E_rand_a67 = rand(5, length, perc=p)\n",
    "E_rand_a68 = rand(5, length, perc=p)\n",
    "\n",
    "Rt_rand_a65 = rand(2000, length, perc=p)\n",
    "Rt_rand_a66 = rand(2000, length, perc=p)\n",
    "Rt_rand_a67 = rand(2000, length, perc=p)\n",
    "Rt_rand_a68 = rand(2000, length, perc=p)\n",
    "\n",
    "Qt_rand_a65 = rand(2000, length, perc=p)\n",
    "Qt_rand_a66 = rand(2000, length, perc=p)\n",
    "Qt_rand_a67 = rand(2000, length, perc=p)\n",
    "Qt_rand_a68 = rand(2000, length, perc=p)\n",
    "\n",
    "Kd_rand_a65 = rand(25, length, perc=p)\n",
    "Kd_rand_a66 = rand(25, length, perc=p)\n",
    "Kd_rand_a67 = rand(25, length, perc=p)\n",
    "Kd_rand_a68 = rand(25, length, perc=p)\n",
    "\n",
    "Ke_rand_a65 = rand(50, length, perc=p)\n",
    "Ke_rand_a66 = rand(50, length, perc=p)\n",
    "Ke_rand_a67 = rand(50, length, perc=p)\n",
    "Ke_rand_a68 = rand(50, length, perc=p)\n",
    "\n",
    "Kb_rand_a65 = rand(0.2, length, perc=p)\n",
    "Kb_rand_a66 = rand(0.2, length, perc=p)\n",
    "Kb_rand_a67 = rand(0.2, length, perc=p)\n",
    "Kb_rand_a68 = rand(0.2, length, perc=p)\n",
    "\n",
    "K1_rand_a65 = rand(0.5, length, perc=p)\n",
    "K1_rand_a66 = rand(0.5, length, perc=p)\n",
    "K1_rand_a67 = rand(0.5, length, perc=p)\n",
    "K1_rand_a68 = rand(0.5, length, perc=p)\n",
    "\n",
    "K2_rand_a65 = rand(0.2, length, perc=p)\n",
    "K2_rand_a66 = rand(0.2, length, perc=p)\n",
    "K2_rand_a67 = rand(0.2, length, perc=p)\n",
    "K2_rand_a68 = rand(0.2, length, perc=p)\n",
    "\n",
    "Krg_rand_a65 = rand(1200, length, perc=p)\n",
    "Krg_rand_a66 = rand(1200, length, perc=p)\n",
    "Krg_rand_a67 = rand(1200, length, perc=p)\n",
    "Krg_rand_a68 = rand(1200, length, perc=p)\n",
    "\n",
    "Ks_rand_a65 = rand(1200, length, perc=p)\n",
    "Ks_rand_a66 = rand(1200, length, perc=p)\n",
    "Ks_rand_a67 = rand(1200, length, perc=p)\n",
    "Ks_rand_a68 = rand(1200, length, perc=p)\n",
    "\n",
    "Vrg_rand_a65 = rand(0.4, length, perc=p)\n",
    "Vrg_rand_a66 = rand(0.4, length, perc=p)\n",
    "Vrg_rand_a67 = rand(0.4, length, perc=p)\n",
    "Vrg_rand_a68 = rand(0.4, length, perc=p)\n",
    "\n",
    "Vs_rand_a65 = rand(1, length, perc=p)\n",
    "Vs_rand_a66 = rand(1, length, perc=p)\n",
    "Vs_rand_a67 = rand(1, length, perc=p)\n",
    "Vs_rand_a68 = rand(1, length, perc=p)\n",
    "\n",
    "Kerk_rand_a65 = rand(0.5, length, perc=p)\n",
    "Kerk_rand_a66 = rand(0.5, length, perc=p)\n",
    "Kerk_rand_a67 = rand(0.5, length, perc=p)\n",
    "Kerk_rand_a68 = rand(0.5, length, perc=p)"
   ]
  },
  {
   "cell_type": "markdown",
   "metadata": {},
   "source": [
    "### Parameters linked to the FGF pathway randomly choosen "
   ]
  },
  {
   "cell_type": "code",
   "execution_count": 22,
   "metadata": {},
   "outputs": [],
   "source": [
    "T_pred_a65 = [exprT(S1_v= a65_RelContactArea_A[i], F_v=FGF_rand_a65[i], Kd_v=Kd_rand_a65[i],Ks_v=Ks_rand_a65[i], Rtot_v=Rt_rand_a65[i],Vs_v=Vs_rand_a65[i],K1_v =K1_rand_a65[i]) for i in range(len(a65_RelContactArea_A))]\n",
    "T_pred_a66 = [exprT(S1_v= a66_RelContactArea_A[i], F_v=FGF_rand_a66[i], Kd_v=Kd_rand_a66[i],Ks_v=Ks_rand_a66[i], Rtot_v=Rt_rand_a66[i],Vs_v=Vs_rand_a65[i],K1_v =K1_rand_a66[i]) for i in range(len(a66_RelContactArea_A))]\n",
    "T_pred_a67 = [exprT(S1_v= a67_RelContactArea_A[i], F_v=FGF_rand_a67[i], Kd_v=Kd_rand_a67[i],Ks_v=Ks_rand_a67[i], Rtot_v=Rt_rand_a67[i],Vs_v=Vs_rand_a65[i],K1_v =K1_rand_a67[i]) for i in range(len(a67_RelContactArea_A))]\n",
    "T_pred_a68 = [exprT(S1_v= a68_RelContactArea_A[i], F_v=FGF_rand_a68[i], Kd_v=Kd_rand_a68[i],Ks_v=Ks_rand_a68[i], Rtot_v=Rt_rand_a68[i],Vs_v=Vs_rand_a65[i],K1_v =K1_rand_a68[i]) for i in range(len(a68_RelContactArea_A))]\n",
    "\n",
    "Erk_pred_a65_a = Erk(T_pred_a65)\n",
    "Erk_pred_a66_a = Erk(T_pred_a66)\n",
    "Erk_pred_a67_a = Erk(T_pred_a67)\n",
    "Erk_pred_a68_a = Erk(T_pred_a68)\n",
    "\n",
    "# Compute the mean Erk value for each cell type (with our model)\n",
    "mean_a65_Erk_model_a= np.mean(Erk_pred_a65_a) \n",
    "mean_a66_Erk_model_a= np.mean(Erk_pred_a66_a)\n",
    "mean_a67_Erk_model_a= np.mean(Erk_pred_a67_a)\n",
    "mean_a68_Erk_model_a= np.mean(Erk_pred_a68_a)\n",
    "Erk_mean_a = [mean_a65_Erk_model_a, mean_a66_Erk_model_a, mean_a67_Erk_model_a, mean_a68_Erk_model_a]\n",
    "\n",
    "# Compute the std\n",
    "sdev_a65_Erk_model_a = np.std(Erk_pred_a65_a)\n",
    "sdev_a66_Erk_model_a = np.std(Erk_pred_a66_a)\n",
    "sdev_a67_Erk_model_a = np.std(Erk_pred_a67_a)\n",
    "sdev_a68_Erk_model_a = np.std(Erk_pred_a68_a)\n",
    "sdev_a = [sdev_a65_Erk_model_a, sdev_a66_Erk_model_a, sdev_a67_Erk_model_a, sdev_a68_Erk_model_a]"
   ]
  },
  {
   "cell_type": "code",
   "execution_count": 23,
   "metadata": {},
   "outputs": [
    {
     "data": {
      "image/png": "[encoded data removed]",
      "text/plain": [
       "<Figure size 396x288 with 1 Axes>"
      ]
     },
     "metadata": {
      "needs_background": "light"
     },
     "output_type": "display_data"
    }
   ],
   "source": [
    "plt.figure(figsize=(5.5,4))\n",
    "\n",
    "x = np.random.normal(1, 0.08, size=len(Erk_pred_a68_a)) \n",
    "plt.plot(x,Erk_pred_a68_a,'.', color='grey', alpha=0.4,markersize=12, zorder=1)\n",
    "    \n",
    "x = np.random.normal(2, 0.08, size=len(Erk_pred_a66_a))\n",
    "plt.plot(x,Erk_pred_a66_a,'.', color='tab:green', alpha=0.4,markersize=12, zorder=1)\n",
    "    \n",
    "x = np.random.normal(3, 0.08, size=len(Erk_pred_a67_a))\n",
    "plt.plot(x,Erk_pred_a67_a,'.', color='tab:blue', alpha=0.4,markersize=12, zorder=1)\n",
    "\n",
    "x = np.random.normal(4, 0.08, size=len(Erk_pred_a65_a))\n",
    "plt.plot(x,Erk_pred_a65_a,'.', color='orchid', alpha=0.4,markersize=12, zorder=1)\n",
    "\n",
    "x = [4, 2, 3, 1]\n",
    "plt.errorbar(x, Erk_mean_a, sdev_a, marker='o',markersize=5,color='black', capsize=5,mfc='black', mec='black', ls='none',zorder=2)\n",
    "\n",
    "ax=plt.gca()\n",
    "my_axsis(ax, xlim=[0.5,4.5], ylim=[-0.03,0.33], xticks=[1,2,3,4], title='', xtickslabels=['a6.8', 'a6.6', 'a6.7','a6.5'], bold=True)\n",
    "plt.ylabel('Erk activity')\n",
    "plt.tight_layout()\n",
    "plt.show()"
   ]
  },
  {
   "cell_type": "markdown",
   "metadata": {},
   "source": [
    "### Parameters linked to the ephrin pathway randomly choosen"
   ]
  },
  {
   "cell_type": "code",
   "execution_count": 24,
   "metadata": {},
   "outputs": [],
   "source": [
    "T_pred_a65 = [exprT(S1_v= a65_RelContactArea_A[i], E_v=E_rand_a65[i], Ke_v=Ke_rand_a65[i],Krg_v=Krg_rand_a65[i], Qtot_v=Qt_rand_a65[i],Vrg_v=Vrg_rand_a65[i],K2_v =K2_rand_a65[i]) for i in range(len(a65_RelContactArea_A))]\n",
    "T_pred_a66 = [exprT(S1_v= a66_RelContactArea_A[i], E_v=E_rand_a66[i], Ke_v=Ke_rand_a66[i],Krg_v=Krg_rand_a66[i], Qtot_v=Qt_rand_a66[i],Vrg_v=Vrg_rand_a65[i],K2_v =K2_rand_a66[i]) for i in range(len(a66_RelContactArea_A))]\n",
    "T_pred_a67 = [exprT(S1_v= a67_RelContactArea_A[i], E_v=E_rand_a67[i], Ke_v=Ke_rand_a67[i],Krg_v=Krg_rand_a67[i], Qtot_v=Qt_rand_a67[i],Vrg_v=Vrg_rand_a65[i],K2_v =K2_rand_a67[i]) for i in range(len(a67_RelContactArea_A))]\n",
    "T_pred_a68 = [exprT(S1_v= a68_RelContactArea_A[i], E_v=E_rand_a68[i], Ke_v=Ke_rand_a68[i],Krg_v=Krg_rand_a68[i], Qtot_v=Qt_rand_a68[i],Vrg_v=Vrg_rand_a65[i],K2_v =K2_rand_a68[i]) for i in range(len(a68_RelContactArea_A))]\n",
    "\n",
    "Erk_pred_a65_a = Erk(T_pred_a65)\n",
    "Erk_pred_a66_a = Erk(T_pred_a66)\n",
    "Erk_pred_a67_a = Erk(T_pred_a67)\n",
    "Erk_pred_a68_a = Erk(T_pred_a68)\n",
    "\n",
    "# Compute the mean Erk value for each cell type (with our model)\n",
    "mean_a65_Erk_model_a= np.mean(Erk_pred_a65_a) \n",
    "mean_a66_Erk_model_a= np.mean(Erk_pred_a66_a)\n",
    "mean_a67_Erk_model_a= np.mean(Erk_pred_a67_a)\n",
    "mean_a68_Erk_model_a= np.mean(Erk_pred_a68_a)\n",
    "Erk_mean_a = [mean_a65_Erk_model_a, mean_a66_Erk_model_a, mean_a67_Erk_model_a, mean_a68_Erk_model_a]\n",
    "\n",
    "# Compute the std\n",
    "sdev_a65_Erk_model_a = np.std(Erk_pred_a65_a)\n",
    "sdev_a66_Erk_model_a = np.std(Erk_pred_a66_a)\n",
    "sdev_a67_Erk_model_a = np.std(Erk_pred_a67_a)\n",
    "sdev_a68_Erk_model_a = np.std(Erk_pred_a68_a)\n",
    "sdev_a = [sdev_a65_Erk_model_a, sdev_a66_Erk_model_a, sdev_a67_Erk_model_a, sdev_a68_Erk_model_a]"
   ]
  },
  {
   "cell_type": "code",
   "execution_count": 25,
   "metadata": {},
   "outputs": [
    {
     "data": {
      "image/png": "[encoded data removed]",
      "text/plain": [
       "<Figure size 396x288 with 1 Axes>"
      ]
     },
     "metadata": {
      "needs_background": "light"
     },
     "output_type": "display_data"
    }
   ],
   "source": [
    "plt.figure(figsize=(5.5,4))\n",
    "\n",
    "x = np.random.normal(1, 0.08, size=len(Erk_pred_a68_a))\n",
    "plt.plot(x,Erk_pred_a68_a,'.', color='grey', alpha=0.4,markersize=12, zorder=1)\n",
    "    \n",
    "x = np.random.normal(2, 0.08, size=len(Erk_pred_a66_a))\n",
    "plt.plot(x,Erk_pred_a66_a,'.', color='tab:green', alpha=0.4,markersize=12, zorder=1)\n",
    "    \n",
    "x = np.random.normal(3, 0.08, size=len(Erk_pred_a67_a))\n",
    "plt.plot(x,Erk_pred_a67_a,'.', color='tab:blue', alpha=0.4,markersize=12, zorder=1)\n",
    "\n",
    "x = np.random.normal(4, 0.08, size=len(Erk_pred_a65_a))\n",
    "plt.plot(x,Erk_pred_a65_a,'.', color='orchid', alpha=0.4,markersize=12, zorder=1)\n",
    "\n",
    "x = [4, 2, 3, 1]\n",
    "plt.errorbar(x, Erk_mean_a, sdev_a, marker='o',markersize=5,color='black', capsize=5,mfc='black', mec='black', ls='none',zorder=2)\n",
    "\n",
    "ax=plt.gca()\n",
    "my_axsis(ax, xlim=[0.5,4.5], ylim=[-0.03, 0.33], xticks=[1,2,3,4], title='', xtickslabels=['a6.8', 'a6.6', 'a6.7','a6.5'], bold=True)\n",
    "\n",
    "plt.ylabel('Erk activity')\n",
    "plt.tight_layout()\n",
    "plt.show()"
   ]
  },
  {
   "cell_type": "code",
   "execution_count": null,
   "metadata": {},
   "outputs": [],
   "source": []
  }
 ],
 "metadata": {
  "kernelspec": {
   "display_name": "Python 3",
   "language": "python",
   "name": "python3"
  },
  "language_info": {
   "codemirror_mode": {
    "name": "ipython",
    "version": 3
   },
   "file_extension": ".py",
   "mimetype": "text/x-python",
   "name": "python",
   "nbconvert_exporter": "python",
   "pygments_lexer": "ipython3",
   "version": "3.8.5"
  }
 },
 "nbformat": 4,
 "nbformat_minor": 4
}
