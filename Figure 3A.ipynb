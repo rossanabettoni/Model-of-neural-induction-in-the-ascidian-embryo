{
 "cells": [
  {
   "cell_type": "markdown",
   "metadata": {},
   "source": [
    "# Figure 3A\n"
   ]
  },
  {
   "cell_type": "markdown",
   "metadata": {},
   "source": [
    "# Import packages"
   ]
  },
  {
   "cell_type": "code",
   "execution_count": 1,
   "metadata": {},
   "outputs": [],
   "source": [
    "import numpy as np\n",
    "import matplotlib.pyplot as plt \n",
    "from sympy import symbols, solve, simplify\n",
    "import pandas as pd\n",
    "import sympy as sp\n",
    "plt.rcParams.update({'font.size': 20})"
   ]
  },
  {
   "cell_type": "markdown",
   "metadata": {},
   "source": [
    "# Definitions"
   ]
  },
  {
   "cell_type": "markdown",
   "metadata": {},
   "source": [
    "Function to plot together the exp data and the model predictions for the different cell types"
   ]
  },
  {
   "cell_type": "code",
   "execution_count": 2,
   "metadata": {},
   "outputs": [],
   "source": [
    "def plot_celltypes(data_exp, data_model, col, axs, avg=True): \n",
    "    \n",
    "    mean_data_exp = np.nanmean(data_exp)\n",
    "    mean_data_model = np.nanmean(data_model)\n",
    "    std_data_exp = np.nanstd(data_exp)\n",
    "    std_data_model = np.nanstd(data_model)\n",
    "    \n",
    "    x = np.random.normal(1, 0.08, size=len(data_exp))\n",
    "    axs.plot(x,data_exp,'.', color= col, alpha=0.3, markersize=10, zorder=1) \n",
    "     \n",
    "    x = np.random.normal(2, 0.08, size=len(data_model))\n",
    "    axs.plot(x,data_model,'.', color= col, alpha=0.3, markersize=10, zorder=1)\n",
    "    \n",
    "    if avg==True:\n",
    "        x = 1 \n",
    "        axs.errorbar(x,mean_data_exp ,std_data_exp, marker='o',markersize=5,color='black', capsize=5,mfc='black', mec='black', ls='none',zorder=2)\n",
    "   \n",
    "        x = 2 \n",
    "        axs.errorbar(x,mean_data_model ,std_data_model, marker='o',markersize=5,color='black', capsize=5,mfc='black', mec='black', ls='none',zorder=2)"
   ]
  },
  {
   "cell_type": "markdown",
   "metadata": {},
   "source": [
    "Function to define the properties of the axis of a plot"
   ]
  },
  {
   "cell_type": "code",
   "execution_count": 3,
   "metadata": {},
   "outputs": [],
   "source": [
    "def my_axsis(ax, xlim, ylim, xticks, title, xtickslabels, bold=True, scale='lin'):    \n",
    "    \n",
    "    ax.set_xlim(xlim)\n",
    "    ax.set_ylim(ylim)\n",
    "    ax.set_xticks(xticks)\n",
    "    ax.set_title(title)\n",
    "    ax.set_xticklabels(xtickslabels)\n",
    "    \n",
    "    if bold==True:\n",
    "        for axis in ['top','bottom','left','right']:\n",
    "            ax.spines[axis].set_linewidth(1.2)\n",
    "            \n",
    "    if scale=='log':\n",
    "        ax.set_yscale('log', base=2)"
   ]
  },
  {
   "cell_type": "markdown",
   "metadata": {
    "heading_collapsed": true
   },
   "source": [
    "# Model "
   ]
  },
  {
   "cell_type": "markdown",
   "metadata": {
    "hidden": true
   },
   "source": [
    "Definition of the parameters of the model"
   ]
  },
  {
   "cell_type": "code",
   "execution_count": 4,
   "metadata": {
    "hidden": true
   },
   "outputs": [],
   "source": [
    "T, V1, V2, K1, K2, Kb = symbols('T V1 V2 K1 K2 Kb') \n",
    "Vs, Rb, Ks, Vrg, Qb, Krg = symbols('Vs Rb Ks Vrg Qb Krg')\n",
    "R, F, Kd, Q, E, Ke = symbols('R F Kd Q E Ke')\n",
    "S1, Qtot, S2, Rtot= symbols('S1 Qtot S2 Rtot')\n",
    "Ap,kMM3,Er,KMM3,vMM4,KMM4 = symbols('Ap kMM3 Er KMM3 vMM4 KMM4')\n",
    "I, kMM1, Er, KMM1, vMM2,KMM2 = symbols('I kMM1 Er KMM1 vMM2 KMM2')\n",
    "vb, vo, Ap, Ka, Ki, I, k, O = symbols('vb vo Ap Ka Ki I k O')"
   ]
  },
  {
   "cell_type": "markdown",
   "metadata": {
    "hidden": true
   },
   "source": [
    "The evolution equation for T "
   ]
  },
  {
   "cell_type": "code",
   "execution_count": 5,
   "metadata": {
    "hidden": true
   },
   "outputs": [
    {
     "name": "stdout",
     "output_type": "stream",
     "text": [
      "Evolution equation for T:\n",
      "-Kb*T - T*V2/(K2 + T) + V1*(1 - T)/(K1 - T + 1)\n",
      "Evolution equation for T (all parameters explicited):\n",
      "-E*Qtot*T*Vrg*(0.9092 - 1.1265*S1)*(K1 - T + 1)/((E + Ke)*(E*Qtot*(0.9092 - 1.1265*S1)/(E + Ke) + Krg)) + F*Rtot*S1*Vs*(1 - T)*(K2 + T)/((F + Kd)*(F*Rtot*S1/(F + Kd) + Ks)) - Kb*T*(K2 + T)*(K1 - T + 1)\n"
     ]
    }
   ],
   "source": [
    "# Evolution equation for T: \n",
    "expr = V1*(1-T)/(K1+(1-T))-V2*T/(K2+T)-Kb*T\n",
    "expr_simplified= V1*(1-T)*(K2+T) -V2*T*(K1+(1-T))-Kb*T*(K1+(1-T))*(K2+T)\n",
    "print('Evolution equation for T:')\n",
    "print(expr)\n",
    "\n",
    "# Substitute the expression for V1 and V2 in the evolution equation for T:  \n",
    "expr_RQ= expr_simplified.subs([(V1, Vs*(R*F/(Kd+F))/(Ks+(R*F/(Kd+F)))),(V2, Vrg*(Q*E/(Ke+E))/(Krg+(Q*E/(Ke+E))))])\n",
    "\n",
    "# Substitute the expressions for Q and R\n",
    "expr_S1S2 = expr_RQ.subs([(R, Rtot*S1),(Q, Qtot*S2)])\n",
    "\n",
    "# Expliciting the relation between S1 and S2 to obtain T(FGF, S1): \n",
    "expr_T = expr_S1S2.subs([(S2,-1.1265*S1 +0.9092)])\n",
    "\n",
    "print('Evolution equation for T (all parameters explicited):')\n",
    "print(expr_T)\n",
    "\n",
    "# Solve the equation \n",
    "sol = solve(expr_T, T)[2]"
   ]
  },
  {
   "cell_type": "markdown",
   "metadata": {
    "hidden": true
   },
   "source": [
    "Definition of the function ExprT that compute T as a function of all the parameters of the equation"
   ]
  },
  {
   "cell_type": "code",
   "execution_count": 6,
   "metadata": {
    "hidden": true
   },
   "outputs": [],
   "source": [
    "def exprT(Vs_v=1, Vrg_v=0.4, K1_v=0.5, K2_v=0.2, Krg_v=1200, Ks_v=1200, Kb_v=0.2, F_v=5, Kd_v=25, E_v=5, Ke_v=50, Rtot_v=2000, Qtot_v=2000, S1_v=0.5):\n",
    "    sol_T = sol.subs([(Vs,Vs_v),(Vrg,Vrg_v),(K1, K1_v),(K2,K2_v),(Krg, Krg_v), (Ks, Ks_v), (Kb, Kb_v),(F, F_v),(Kd, Kd_v),(E,E_v), (Ke, Ke_v),(Rtot, Rtot_v),(Qtot,Qtot_v),(S1,S1_v)])\n",
    "    sol_T = np.real(np.array(sol_T,complex))\n",
    "    return sol_T"
   ]
  },
  {
   "cell_type": "markdown",
   "metadata": {
    "hidden": true
   },
   "source": [
    "Definition of the function to compute Erk (as a function of T)"
   ]
  },
  {
   "cell_type": "code",
   "execution_count": 7,
   "metadata": {
    "hidden": true
   },
   "outputs": [],
   "source": [
    "def Erk(T,n=2, Kerk=0.5, Erk_max=1, Erk_bas=0): \n",
    "    Erk = [ Erk_max* T[i]**n/(T[i]**n +Kerk**n)+Erk_bas for i in range(len(T)) ]\n",
    "    return Erk"
   ]
  },
  {
   "cell_type": "markdown",
   "metadata": {
    "hidden": true
   },
   "source": [
    "Evolution equation for the activator Ap"
   ]
  },
  {
   "cell_type": "code",
   "execution_count": 8,
   "metadata": {
    "hidden": true
   },
   "outputs": [],
   "source": [
    "expr_Ap = kMM3*Er*(1-Ap)/(KMM3+(1-Ap))-vMM4*Ap/(KMM4+Ap)\n",
    "sol_Ap= solve(expr_Ap, Ap)[1] \n",
    "\n",
    "# Function to compute Ap as a function of the other parameters:  \n",
    "def exprAp(kMM3_v=12,Er_v=0.5,KMM3_v=0.05,vMM4_v=1,KMM4_v=0.05):\n",
    "    solAp= sol_Ap.subs([(kMM3,kMM3_v), (Er,Er_v), (KMM4,KMM4_v), (vMM4,vMM4_v), (KMM3,KMM3_v)]) \n",
    "    return solAp"
   ]
  },
  {
   "cell_type": "markdown",
   "metadata": {
    "hidden": true
   },
   "source": [
    "Evolution equation for the inhibitor I"
   ]
  },
  {
   "cell_type": "code",
   "execution_count": 9,
   "metadata": {
    "hidden": true
   },
   "outputs": [],
   "source": [
    "expr_I = -kMM1*Er*I/(KMM1+I)+vMM2*(1-I)/(KMM2+(1-I))\n",
    "sol_I= solve(expr_I, I)[0] \n",
    "\n",
    "# Function to compute I as a function of the other parameters: \n",
    "def exprI(kMM1_v=12,Er_v=0.5,KMM1_v=0.05,vMM2_v=1,KMM2_v=0.05): \n",
    "    solI= sol_I.subs([(kMM1,kMM1_v), (Er,Er_v), (KMM1,KMM1_v), (vMM2,vMM2_v), (KMM2,KMM2_v)]) \n",
    "    return solI "
   ]
  },
  {
   "cell_type": "markdown",
   "metadata": {
    "hidden": true
   },
   "source": [
    "Compute Otx and define a function ExprOtx that compute Otx as a function of all the parameters of the equation"
   ]
  },
  {
   "cell_type": "code",
   "execution_count": 10,
   "metadata": {
    "hidden": true
   },
   "outputs": [],
   "source": [
    "expr_Otx = vb+ vo*Ap/((Ka*(1+I/Ki))+Ap)-k*O\n",
    "sol_Otx= solve(expr_Otx, O)[0]  \n",
    "\n",
    "# Function to compute Otx as a function of the other parameters\n",
    "def exprOtx(Ap_v, I_v, vb_v=0.001,vo_v=1,Ka_v=0.1,Ki_v=0.1,k_v=0.2, Omax=1, Obas=0): \n",
    "    solOtx= [sol_Otx.subs([(Ap, Ap_v[i]), (I, I_v[i]), (vb,vb_v), (vo,vo_v), (Ka,Ka_v), (Ki,Ki_v), (k,k_v)])*Omax +Obas for i in range(len(Ap_v))] \n",
    "    return solOtx"
   ]
  },
  {
   "cell_type": "markdown",
   "metadata": {
    "heading_collapsed": true
   },
   "source": [
    "# Import the experimental data "
   ]
  },
  {
   "cell_type": "code",
   "execution_count": 11,
   "metadata": {
    "hidden": true
   },
   "outputs": [],
   "source": [
    "#read the excel file with the experimental data\n",
    "data_S1 = pd.read_excel('/Users/rossanabettoni/Desktop/PhD/Article_PLOS/ExpData.xlsx', sheet_name='Cell surface contacts')\n",
    "df_S1 = pd.DataFrame(data_S1)\n",
    "\n",
    "data_Fig3A = pd.read_excel('/Users/rossanabettoni/Desktop/PhD/Article_PLOS/ExpData.xlsx', sheet_name='Fig 3A & S3A')\n",
    "df_Fig3A = pd.DataFrame(data_Fig3A)"
   ]
  },
  {
   "cell_type": "markdown",
   "metadata": {
    "hidden": true
   },
   "source": [
    "Experimental data figure 1C"
   ]
  },
  {
   "cell_type": "code",
   "execution_count": 12,
   "metadata": {
    "hidden": true
   },
   "outputs": [],
   "source": [
    "# Reltive area of cell surface contact with FGF expressing cells (divided by cell type)\n",
    "a65_RelContactArea_A = np.array(df_S1['a6.5 S1'].values.tolist())[0:25] \n",
    "a66_RelContactArea_A = np.array(df_S1['a6.6 S1'].values.tolist())[0:25] \n",
    "a67_RelContactArea_A = np.array(df_S1['a6.7 S1'].values.tolist())[0:25] \n",
    "a68_RelContactArea_A = np.array(df_S1['a6.8 S1'].values.tolist())[0:25] "
   ]
  },
  {
   "cell_type": "markdown",
   "metadata": {
    "hidden": true
   },
   "source": [
    "Experimental data figure 3A"
   ]
  },
  {
   "cell_type": "code",
   "execution_count": 13,
   "metadata": {
    "hidden": true
   },
   "outputs": [],
   "source": [
    "# Levels of Otx expression (divided by cell type)\n",
    "a65_Otx = np.array(df_Fig3A['a6.5'].values.tolist())\n",
    "a66_Otx = np.array(df_Fig3A['a6.6'].values.tolist())\n",
    "a67_Otx = np.array(df_Fig3A['a6.7'].values.tolist())\n",
    "a68_Otx = np.array(df_Fig3A['a6.8'].values.tolist())\n",
    "\n",
    "alldata_Otx = np.concatenate((a65_Otx,a66_Otx,a67_Otx,a68_Otx))\n",
    "\n",
    "# Compute the mean of the experimental data \n",
    "a65_Otx_mean = np.nanmean(a65_Otx)\n",
    "a66_Otx_mean = np.nanmean(a66_Otx)\n",
    "a67_Otx_mean = np.nanmean(a67_Otx)\n",
    "a68_Otx_mean = np.nanmean(a68_Otx)\n",
    "\n",
    "# Compute the standard deviation\n",
    "a65_Otx_std = np.nanstd(a65_Otx)\n",
    "a66_Otx_std = np.nanstd(a66_Otx)\n",
    "a67_Otx_std = np.nanstd(a67_Otx)\n",
    "a68_Otx_std = np.nanstd(a68_Otx)\n",
    "\n",
    "mean_Otx = [a65_Otx_mean, a66_Otx_mean, a67_Otx_mean, a68_Otx_mean]\n",
    "std_Otx = [a65_Otx_std, a66_Otx_std, a67_Otx_std, a68_Otx_std]"
   ]
  },
  {
   "cell_type": "markdown",
   "metadata": {},
   "source": [
    "# Results"
   ]
  },
  {
   "cell_type": "markdown",
   "metadata": {},
   "source": [
    "## Figure 3A"
   ]
  },
  {
   "cell_type": "markdown",
   "metadata": {
    "heading_collapsed": true
   },
   "source": [
    "### Model predictions"
   ]
  },
  {
   "cell_type": "markdown",
   "metadata": {
    "hidden": true
   },
   "source": [
    "Compute Otx expression"
   ]
  },
  {
   "cell_type": "code",
   "execution_count": 14,
   "metadata": {
    "hidden": true
   },
   "outputs": [],
   "source": [
    "# Compute T \n",
    "T_pred_a65 = [exprT(S1_v= a65_RelContactArea_A[i]) for i in range(len(a65_RelContactArea_A))]\n",
    "T_pred_a66 = [exprT(S1_v= a66_RelContactArea_A[i]) for i in range(len(a66_RelContactArea_A))]\n",
    "T_pred_a67 = [exprT(S1_v= a67_RelContactArea_A[i]) for i in range(len(a67_RelContactArea_A))]\n",
    "T_pred_a68 = [exprT(S1_v= a68_RelContactArea_A[i]) for i in range(len(a68_RelContactArea_A))]\n",
    "\n",
    "# Compute Erk activity\n",
    "Erk_pred_a65 = Erk(T_pred_a65)\n",
    "Erk_pred_a66 = Erk(T_pred_a66)\n",
    "Erk_pred_a67 = Erk(T_pred_a67)\n",
    "Erk_pred_a68 = Erk(T_pred_a68)\n",
    "\n",
    "# Compute Ap\n",
    "Ap_pred_a65 = [exprAp(Er_v=Erk_pred_a65[i]) for i in range(len(Erk_pred_a65))]\n",
    "Ap_pred_a66 = [exprAp(Er_v=Erk_pred_a66[i]) for i in range(len(Erk_pred_a66))]\n",
    "Ap_pred_a67 = [exprAp(Er_v=Erk_pred_a67[i]) for i in range(len(Erk_pred_a67))]\n",
    "Ap_pred_a68 = [exprAp(Er_v=Erk_pred_a68[i]) for i in range(len(Erk_pred_a68))]\n",
    "\n",
    "# Compute I\n",
    "I_pred_a65 = [exprI(Er_v=Erk_pred_a65[i]) for i in range(len(Erk_pred_a65))]\n",
    "I_pred_a66 = [exprI(Er_v=Erk_pred_a66[i]) for i in range(len(Erk_pred_a66))]\n",
    "I_pred_a67 = [exprI(Er_v=Erk_pred_a67[i]) for i in range(len(Erk_pred_a67))]\n",
    "I_pred_a68 = [exprI(Er_v=Erk_pred_a68[i]) for i in range(len(Erk_pred_a68))]\n",
    "\n",
    "# Compute Otx expression\n",
    "Otx_pred_a65_e = np.array(exprOtx(Ap_v=Ap_pred_a65,I_v=I_pred_a65)).astype(float)\n",
    "Otx_pred_a66_e = np.array(exprOtx(Ap_v=Ap_pred_a66,I_v=I_pred_a66)).astype(float)\n",
    "Otx_pred_a67_e = np.array(exprOtx(Ap_v=Ap_pred_a67,I_v=I_pred_a67)).astype(float)\n",
    "Otx_pred_a68_e = np.array(exprOtx(Ap_v=Ap_pred_a68,I_v=I_pred_a68)).astype(float)\n",
    "\n",
    "# Compute mean\n",
    "a65_Otx_mean_pred_e = np.mean(Otx_pred_a65_e)\n",
    "a66_Otx_mean_pred_e = np.mean(Otx_pred_a66_e)\n",
    "a67_Otx_mean_pred_e = np.mean(Otx_pred_a67_e)\n",
    "a68_Otx_mean_pred_e = np.mean(Otx_pred_a68_e)\n",
    "\n",
    "# Compute std\n",
    "a65_Otx_std_pred_e = np.std(Otx_pred_a65_e)\n",
    "a66_Otx_std_pred_e = np.std(Otx_pred_a66_e)\n",
    "a67_Otx_std_pred_e = np.std(Otx_pred_a67_e)\n",
    "a68_Otx_std_pred_e = np.std(Otx_pred_a68_e)\n",
    "\n",
    "mean_Otx_pred_e = [a65_Otx_mean_pred_e, a66_Otx_mean_pred_e, a67_Otx_mean_pred_e, a68_Otx_mean_pred_e]\n",
    "std_Otx_pred_e = [a65_Otx_std_pred_e, a66_Otx_std_pred_e, a67_Otx_std_pred_e, a68_Otx_std_pred_e]"
   ]
  },
  {
   "cell_type": "markdown",
   "metadata": {
    "hidden": true
   },
   "source": [
    "Compute Otx smFISH spots counts"
   ]
  },
  {
   "cell_type": "code",
   "execution_count": 15,
   "metadata": {
    "hidden": true
   },
   "outputs": [],
   "source": [
    "# Compute Otx spot counts\n",
    "Obas_value = a68_Otx_mean\n",
    "Omax_value= 66\n",
    "\n",
    "Otx_pred_a65_sc = np.array(exprOtx(Ap_v=Ap_pred_a65,I_v=I_pred_a65, Omax = Omax_value, Obas = Obas_value)).astype(float)\n",
    "Otx_pred_a66_sc = np.array(exprOtx(Ap_v=Ap_pred_a66,I_v=I_pred_a66, Omax = Omax_value, Obas = Obas_value)).astype(float)\n",
    "Otx_pred_a67_sc = np.array(exprOtx(Ap_v=Ap_pred_a67,I_v=I_pred_a67, Omax = Omax_value, Obas = Obas_value)).astype(float)\n",
    "Otx_pred_a68_sc = np.array(exprOtx(Ap_v=Ap_pred_a68,I_v=I_pred_a68, Omax = Omax_value, Obas = Obas_value)).astype(float)\n",
    "\n",
    "# Compute mean\n",
    "a65_Otx_mean_pred_sc = np.mean(Otx_pred_a65_sc)\n",
    "a66_Otx_mean_pred_sc = np.mean(Otx_pred_a66_sc)\n",
    "a67_Otx_mean_pred_sc = np.mean(Otx_pred_a67_sc)\n",
    "a68_Otx_mean_pred_sc = np.mean(Otx_pred_a68_sc)\n",
    "\n",
    "# Compute std\n",
    "a65_Otx_std_pred_sc = np.sqrt(Omax_value**2*a65_Otx_std_pred_e**2+a68_Otx_std**2)\n",
    "a66_Otx_std_pred_sc = np.sqrt(Omax_value**2*a66_Otx_std_pred_e**2+a68_Otx_std**2)\n",
    "a67_Otx_std_pred_sc = np.sqrt(Omax_value**2*a67_Otx_std_pred_e**2+a68_Otx_std**2)\n",
    "a68_Otx_std_pred_sc = np.sqrt(Omax_value**2*a68_Otx_std_pred_e**2+a68_Otx_std**2)\n",
    "\n",
    "mean_Otx_pred_sc = [a65_Otx_mean_pred_sc, a66_Otx_mean_pred_sc, a67_Otx_mean_pred_sc, a68_Otx_mean_pred_sc]\n",
    "std_Otx_pred_sc = [a65_Otx_std_pred_sc, a66_Otx_std_pred_sc, a67_Otx_std_pred_sc, a68_Otx_std_pred_sc]"
   ]
  },
  {
   "cell_type": "markdown",
   "metadata": {},
   "source": [
    "### Comparison with experimental data "
   ]
  },
  {
   "cell_type": "code",
   "execution_count": 16,
   "metadata": {},
   "outputs": [
    {
     "data": {
      "image/png": "[encoded data removed]",
      "text/plain": [
       "<Figure size 648x432 with 4 Axes>"
      ]
     },
     "metadata": {
      "needs_background": "light"
     },
     "output_type": "display_data"
    }
   ],
   "source": [
    "fig = plt.figure(figsize=(9,6))\n",
    "gs = fig.add_gridspec(1,4, hspace=0,wspace=0)\n",
    "axs = gs.subplots(sharey=True)\n",
    "\n",
    "# a6.8 \n",
    "ax = axs[0]\n",
    "plot_celltypes(a68_Otx, Otx_pred_a68_sc, col='grey', axs=ax, avg=True)\n",
    "ax.set_ylabel('nuclear $Otx$ smFISH spots')\n",
    "my_axsis(axs[0], xlim=[0.5,2.5], ylim=[-100,800], xticks=[1,2], title='a6.8', xtickslabels=['Exp', 'Model'])\n",
    "\n",
    "# a6.6 \n",
    "ax = axs[1]\n",
    "plot_celltypes(a66_Otx, Otx_pred_a66_sc, col='tab:green', axs=ax, avg=True)\n",
    "my_axsis(axs[1], xlim=[0.5,2.5], ylim=[-100,800], xticks=[1,2], title='a6.6', xtickslabels=['Exp', 'Model'])\n",
    "\n",
    "# a6.7 \n",
    "ax = axs[2]\n",
    "plot_celltypes(a67_Otx, Otx_pred_a67_sc, col='tab:blue', axs=ax, avg=True)\n",
    "my_axsis(axs[2], xlim=[0.5,2.5], ylim=[-100,800], xticks=[1,2], title='a6.7', xtickslabels=['Exp', 'Model'])\n",
    "\n",
    "# a6.5\n",
    "ax = axs[3]\n",
    "plot_celltypes(a65_Otx, Otx_pred_a65_sc, col='orchid', axs=ax, avg=True)\n",
    "my_axsis(axs[3], xlim=[0.5,2.5], ylim=[-100,800], xticks=[1,2], title='a6.5', xtickslabels=['Exp', 'Model'])\n",
    "\n",
    "plt.tight_layout()\n",
    "plt.show()"
   ]
  },
  {
   "cell_type": "code",
   "execution_count": null,
   "metadata": {},
   "outputs": [],
   "source": []
  }
 ],
 "metadata": {
  "kernelspec": {
   "display_name": "Python 3",
   "language": "python",
   "name": "python3"
  },
  "language_info": {
   "codemirror_mode": {
    "name": "ipython",
    "version": 3
   },
   "file_extension": ".py",
   "mimetype": "text/x-python",
   "name": "python",
   "nbconvert_exporter": "python",
   "pygments_lexer": "ipython3",
   "version": "3.8.5"
  }
 },
 "nbformat": 4,
 "nbformat_minor": 4
}
