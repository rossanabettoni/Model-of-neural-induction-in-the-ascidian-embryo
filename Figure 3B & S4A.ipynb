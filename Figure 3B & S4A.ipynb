{
 "cells": [
  {
   "cell_type": "markdown",
   "metadata": {},
   "source": [
    "# Figure 3B & S4A"
   ]
  },
  {
   "cell_type": "markdown",
   "metadata": {},
   "source": [
    "# Import packages"
   ]
  },
  {
   "cell_type": "code",
   "execution_count": 1,
   "metadata": {},
   "outputs": [],
   "source": [
    "import numpy as np\n",
    "import matplotlib.pyplot as plt \n",
    "from sympy import symbols, solve, simplify\n",
    "import pandas as pd\n",
    "import sympy as sp\n",
    "plt.rcParams.update({'font.size': 20})"
   ]
  },
  {
   "cell_type": "markdown",
   "metadata": {},
   "source": [
    "# Definitions"
   ]
  },
  {
   "cell_type": "markdown",
   "metadata": {},
   "source": [
    "Function to plot together results of different experiments"
   ]
  },
  {
   "cell_type": "code",
   "execution_count": 2,
   "metadata": {},
   "outputs": [],
   "source": [
    "def plot_comp(x_ctrl65, x_ctrl66, x_ctrl67, x_ctrl68, x_inj65, x_inj66, x_inj67, x_inj68, n , a=0.2): \n",
    "    \n",
    "    # Control \n",
    "    x = np.random.normal(1, 0.08, size=len(x_ctrl66))\n",
    "    axs[n].plot(x,x_ctrl66,'.', color='tab:green', alpha=a, markersize=10, zorder=1)\n",
    "\n",
    "    x = np.random.normal(1, 0.08, size=len(x_ctrl67))\n",
    "    axs[n].plot(x,x_ctrl67,'.', color='tab:blue', alpha=a, markersize=10, zorder=1)\n",
    "\n",
    "    x = np.random.normal(1, 0.08, size=len(x_ctrl68))\n",
    "    axs[n].plot(x,x_ctrl68,'.', color='tab:grey', alpha=a, markersize=10, zorder=1)\n",
    "\n",
    "    x = np.random.normal(1, 0.08, size=len(x_ctrl65))\n",
    "    axs[n].plot(x,x_ctrl65,'.', color='orchid', alpha=a, markersize=10, zorder=1)\n",
    "\n",
    "\n",
    "    # Inj \n",
    "    x = np.random.normal(2, 0.08, size=len(x_inj66))\n",
    "    axs[n].plot(x,x_inj66,'.', color='tab:green', alpha=a, markersize=10, zorder=1)\n",
    "\n",
    "    x = np.random.normal(2, 0.08, size=len(x_inj67))\n",
    "    axs[n].plot(x,x_inj67,'.', color='tab:blue', alpha=a, markersize=10, zorder=1)\n",
    "\n",
    "    x = np.random.normal(2, 0.08, size=len(x_inj68))\n",
    "    axs[n].plot(x,x_inj68,'.', color='tab:grey', alpha=a, markersize=10, zorder=1)\n",
    "\n",
    "    x = np.random.normal(2, 0.08, size=len(x_inj65))\n",
    "    axs[n].plot(x,x_inj65,'.', color='orchid', alpha=a, markersize=10, zorder=1)\n",
    "\n"
   ]
  },
  {
   "cell_type": "markdown",
   "metadata": {},
   "source": [
    "Function to define the properties of the axis of a plot"
   ]
  },
  {
   "cell_type": "code",
   "execution_count": 3,
   "metadata": {},
   "outputs": [],
   "source": [
    "def my_axsis(ax, xlim, ylim, xticks, title, xtickslabels, bold=True, scale='lin'):    \n",
    "    \n",
    "    ax.set_xlim(xlim)\n",
    "    ax.set_ylim(ylim)\n",
    "    ax.set_xticks(xticks)\n",
    "    ax.set_title(title)\n",
    "    ax.set_xticklabels(xtickslabels)\n",
    "    \n",
    "    if bold==True:\n",
    "        for axis in ['top','bottom','left','right']:\n",
    "            ax.spines[axis].set_linewidth(1.2)\n",
    "            \n",
    "    if scale=='log':\n",
    "        ax.set_yscale('log', base=2)"
   ]
  },
  {
   "cell_type": "markdown",
   "metadata": {},
   "source": [
    "Function to define the properties of the errorbar"
   ]
  },
  {
   "cell_type": "code",
   "execution_count": 4,
   "metadata": {},
   "outputs": [],
   "source": [
    "def myErrorbar(x, mean_a65, mean_a66, mean_a67, mean_a68, std_a65, std_a66, std_a67, std_a68, axs): \n",
    "    axs.errorbar(x, mean_a65, std_a65, label='Exp data (mean \\u00B1 std)', marker='o',markersize=5,color='mediumorchid', capsize=5,mfc='mediumorchid', mec='mediumorchid', ls='none', zorder=2)\n",
    "    axs.errorbar(x, mean_a66, std_a66, label='Exp data (mean \\u00B1 std)', marker='o',markersize=5,color='tab:green', capsize=5,mfc='tab:green', mec='tab:green', ls='none', zorder=2)\n",
    "    axs.errorbar(x, mean_a67, std_a67, label='Exp data (mean \\u00B1 std)', marker='o',markersize=5,color='tab:blue', capsize=5,mfc='tab:blue', mec='tab:blue', ls='none', zorder=2)\n",
    "    axs.errorbar(x, mean_a68, std_a68, label='Exp data (mean \\u00B1 std)', marker='o',markersize=5,color='grey', capsize=5,mfc='grey', mec='grey', ls='none', zorder=2)"
   ]
  },
  {
   "cell_type": "markdown",
   "metadata": {},
   "source": [
    "# Model "
   ]
  },
  {
   "cell_type": "markdown",
   "metadata": {},
   "source": [
    "Definition of the parameters of the model"
   ]
  },
  {
   "cell_type": "code",
   "execution_count": 5,
   "metadata": {},
   "outputs": [],
   "source": [
    "T, V1, V2, K1, K2, Kb = symbols('T V1 V2 K1 K2 Kb') \n",
    "Vs, Rb, Ks, Vrg, Qb, Krg = symbols('Vs Rb Ks Vrg Qb Krg')\n",
    "R, F, Kd, Q, E, Ke = symbols('R F Kd Q E Ke')\n",
    "S1, Qtot, S2, Rtot= symbols('S1 Qtot S2 Rtot')\n",
    "Ap,kMM3,Er,KMM3,vMM4,KMM4 = symbols('Ap kMM3 Er KMM3 vMM4 KMM4')\n",
    "I, kMM1, Er, KMM1, vMM2,KMM2 = symbols('I kMM1 Er KMM1 vMM2 KMM2')\n",
    "vb, vo, Ap, Ka, Ki, I, k, O = symbols('vb vo Ap Ka Ki I k O')"
   ]
  },
  {
   "cell_type": "markdown",
   "metadata": {},
   "source": [
    "Evolution equation for T "
   ]
  },
  {
   "cell_type": "code",
   "execution_count": 6,
   "metadata": {},
   "outputs": [
    {
     "name": "stdout",
     "output_type": "stream",
     "text": [
      "Evolution equation for T:\n",
      "-Kb*T - T*V2/(K2 + T) + V1*(1 - T)/(K1 - T + 1)\n"
     ]
    }
   ],
   "source": [
    "# Evolution equation for T: \n",
    "expr = V1*(1-T)/(K1+(1-T))-V2*T/(K2+T)-Kb*T\n",
    "expr_simplified= V1*(1-T)*(K2+T) -V2*T*(K1+(1-T))-Kb*T*(K1+(1-T))*(K2+T)\n",
    "print('Evolution equation for T:')\n",
    "print(expr)\n",
    "\n",
    "# Substitute the expression for V1 and V2 in the evolution equation for T:  \n",
    "expr_RQ= expr_simplified.subs([(V1, Vs*(R*F/(Kd+F))/(Ks+(R*F/(Kd+F)))),(V2, Vrg*(Q*E/(Ke+E))/(Krg+(Q*E/(Ke+E))))])\n",
    "\n",
    "# Substitute the expressions for Q and R\n",
    "expr_S1S2 = expr_RQ.subs([(R, Rtot*S1),(Q, Qtot*S2)])\n",
    "\n",
    "# Expliciting the relation between S1 and S2 to obtain T(FGF, S1): \n",
    "expr_T = expr_S1S2.subs([(S2,-1.1265*S1 +0.9092)])\n",
    "\n",
    "# Solve the equation \n",
    "sol = solve(expr_T, T)[2]"
   ]
  },
  {
   "cell_type": "markdown",
   "metadata": {},
   "source": [
    "Definition of the function ExprT that compute T as a function of all the parameters of the equation"
   ]
  },
  {
   "cell_type": "code",
   "execution_count": 7,
   "metadata": {},
   "outputs": [],
   "source": [
    "def exprT(Vs_v=1, Vrg_v=0.4, K1_v=0.5, K2_v=0.2, Krg_v=1200, Ks_v=1200, Kb_v=0.2, F_v=5, Kd_v=25, E_v=5, Ke_v=50, Rtot_v=2000, Qtot_v=2000, S1_v=0.5):\n",
    "    sol_T = sol.subs([(Vs,Vs_v),(Vrg,Vrg_v),(K1, K1_v),(K2,K2_v),(Krg, Krg_v), (Ks, Ks_v), (Kb, Kb_v),(F, F_v),(Kd, Kd_v),(E,E_v), (Ke, Ke_v),(Rtot, Rtot_v),(Qtot,Qtot_v),(S1,S1_v)])\n",
    "    sol_T = np.real(np.array(sol_T,complex))\n",
    "    return sol_T"
   ]
  },
  {
   "cell_type": "markdown",
   "metadata": {},
   "source": [
    "Definition of the function to compute Erk (as a function of T)"
   ]
  },
  {
   "cell_type": "code",
   "execution_count": 8,
   "metadata": {},
   "outputs": [],
   "source": [
    "def Erk(T,n=2, Kerk=0.5, Erk_max=1, Erk_bas=0): \n",
    "    Erk = [ Erk_max* T[i]**n/(T[i]**n +Kerk**n)+Erk_bas for i in range(len(T)) ]\n",
    "    return Erk"
   ]
  },
  {
   "cell_type": "markdown",
   "metadata": {},
   "source": [
    "Evolution equation for the activator Ap"
   ]
  },
  {
   "cell_type": "code",
   "execution_count": 9,
   "metadata": {},
   "outputs": [],
   "source": [
    "expr_Ap = kMM3*Er*(1-Ap)/(KMM3+(1-Ap))-vMM4*Ap/(KMM4+Ap)\n",
    "sol_Ap= solve(expr_Ap, Ap)[1] \n",
    "\n",
    "# Function to compute Ap as a function of the other parameters:  \n",
    "def exprAp(kMM3_v=12,Er_v=0.5,KMM3_v=0.05,vMM4_v=1,KMM4_v=0.05):\n",
    "    solAp= sol_Ap.subs([(kMM3,kMM3_v), (Er,Er_v), (KMM4,KMM4_v), (vMM4,vMM4_v), (KMM3,KMM3_v)]) \n",
    "    return solAp"
   ]
  },
  {
   "cell_type": "markdown",
   "metadata": {},
   "source": [
    "Evolution equation for the inhibitor I"
   ]
  },
  {
   "cell_type": "code",
   "execution_count": 10,
   "metadata": {},
   "outputs": [],
   "source": [
    "expr_I = -kMM1*Er*I/(KMM1+I)+vMM2*(1-I)/(KMM2+(1-I))\n",
    "sol_I= solve(expr_I, I)[0] \n",
    "\n",
    "# Function to compute I as a function of the other parameters: \n",
    "def exprI(kMM1_v=12,Er_v=0.5,KMM1_v=0.05,vMM2_v=1,KMM2_v=0.05): \n",
    "    solI= sol_I.subs([(kMM1,kMM1_v), (Er,Er_v), (KMM1,KMM1_v), (vMM2,vMM2_v), (KMM2,KMM2_v)]) \n",
    "    return solI "
   ]
  },
  {
   "cell_type": "markdown",
   "metadata": {},
   "source": [
    "Compute Otx and define a function ExprOtx that compute Otx as a function of all the parameters of the equation"
   ]
  },
  {
   "cell_type": "code",
   "execution_count": 11,
   "metadata": {},
   "outputs": [],
   "source": [
    "expr_Otx = vb+ vo*Ap/((Ka*(1+I/Ki))+Ap)-k*O\n",
    "sol_Otx= solve(expr_Otx, O)[0]  \n",
    "\n",
    "# Function to compute Otx as a function of the other parameters\n",
    "def exprOtx(Ap_v, I_v, vb_v=0.001,vo_v=1,Ka_v=0.1,Ki_v=0.1,k_v=0.2, Omax=1, Obas=0): \n",
    "    solOtx= [sol_Otx.subs([(Ap, Ap_v[i]), (I, I_v[i]), (vb,vb_v), (vo,vo_v), (Ka,Ka_v), (Ki,Ki_v), (k,k_v)])*Omax +Obas for i in range(len(Ap_v))] \n",
    "    return solOtx"
   ]
  },
  {
   "cell_type": "markdown",
   "metadata": {},
   "source": [
    "# Import the experimental data"
   ]
  },
  {
   "cell_type": "code",
   "execution_count": 12,
   "metadata": {},
   "outputs": [],
   "source": [
    "#read the excel file with the experimental data\n",
    "data_S1 = pd.read_excel('/Users/rossanabettoni/Desktop/PhD/Article_PLOS/ExpData.xlsx', sheet_name='Cell surface contacts')\n",
    "df_S1 = pd.DataFrame(data_S1)\n",
    "\n",
    "data_Fig3B = pd.read_excel('/Users/rossanabettoni/Desktop/PhD/Article_PLOS/ExpData.xlsx', sheet_name='Fig 3B & S4A')\n",
    "df_Fig3B = pd.DataFrame(data_Fig3B)"
   ]
  },
  {
   "cell_type": "markdown",
   "metadata": {},
   "source": [
    "Experimental data figure 1C"
   ]
  },
  {
   "cell_type": "code",
   "execution_count": 13,
   "metadata": {},
   "outputs": [],
   "source": [
    "# Reltive area of cell surface contact with FGF expressing cells (divided by cell type)\n",
    "a65_RelContactArea_A = np.array(df_S1['a6.5 S1'].values.tolist())[0:25] \n",
    "a66_RelContactArea_A = np.array(df_S1['a6.6 S1'].values.tolist())[0:25] \n",
    "a67_RelContactArea_A = np.array(df_S1['a6.7 S1'].values.tolist())[0:25] \n",
    "a68_RelContactArea_A = np.array(df_S1['a6.8 S1'].values.tolist())[0:25] "
   ]
  },
  {
   "cell_type": "markdown",
   "metadata": {},
   "source": [
    "Experimental data figure 3B"
   ]
  },
  {
   "cell_type": "code",
   "execution_count": 14,
   "metadata": {},
   "outputs": [],
   "source": [
    "# Level of Otx expression obtained in the different experiments\n",
    "\n",
    "# Control\n",
    "control_PHGFP = np.array(df_Fig3B['ctrlPH'].values.tolist())\n",
    "inj_PHGFP = np.array(df_Fig3B['injPH'].values.tolist())\n",
    "\n",
    "# dnFGFR\n",
    "control_dnFGFR = np.array(df_Fig3B['ctrldnFGFR'].values.tolist())\n",
    "inj_dnFGFR = np.array(df_Fig3B['injdnFGFR'].values.tolist())\n",
    "\n",
    "# dnRG\n",
    "control_dnRG = np.array(df_Fig3B['ctrlRGDGAP'].values.tolist())\n",
    "inj_dnRG = np.array(df_Fig3B['injRGDGAP'].values.tolist())\n",
    "\n",
    "# dnEph\n",
    "control_dnEph = np.array(df_Fig3B['ctrlEph3DC'].values.tolist())\n",
    "inj_dnEph = np.array(df_Fig3B['injEph3DC'].values.tolist())"
   ]
  },
  {
   "cell_type": "code",
   "execution_count": 15,
   "metadata": {},
   "outputs": [],
   "source": [
    "# Divide the data by cell type\n",
    "control_PHGFP_a65 = control_PHGFP[0:25]\n",
    "control_PHGFP_a66 = control_PHGFP[26:50]\n",
    "control_PHGFP_a67 = control_PHGFP[51:75]\n",
    "control_PHGFP_a68 = control_PHGFP[77:101]\n",
    "\n",
    "inj_PHGFP_a65 = inj_PHGFP[0:25]\n",
    "inj_PHGFP_a66 = inj_PHGFP[26:50]\n",
    "inj_PHGFP_a67 = inj_PHGFP[51:75]\n",
    "inj_PHGFP_a68 = inj_PHGFP[77:101]\n",
    "\n",
    "\n",
    "control_dnFGFR_a65 = control_dnFGFR[0:18]\n",
    "control_dnFGFR_a66 = control_dnFGFR[20:37]\n",
    "control_dnFGFR_a67 = control_dnFGFR[38:56]\n",
    "control_dnFGFR_a68 = control_dnFGFR[58:75]\n",
    "\n",
    "inj_dnFGFR_a65 = inj_dnFGFR[0:18]\n",
    "inj_dnFGFR_a66 = inj_dnFGFR[20:37]\n",
    "inj_dnFGFR_a67 = inj_dnFGFR[38:56]\n",
    "inj_dnFGFR_a68 = inj_dnFGFR[58:75]\n",
    "\n",
    "\n",
    "control_dnRG_a65 = control_dnRG[0:19]\n",
    "control_dnRG_a66 = control_dnRG[20:39]\n",
    "control_dnRG_a67 = control_dnRG[40:59]\n",
    "control_dnRG_a68 = control_dnRG[60:79]\n",
    "\n",
    "inj_dnRG_a65 = inj_dnRG[0:19]\n",
    "inj_dnRG_a66 = inj_dnRG[20:39]\n",
    "inj_dnRG_a67 = inj_dnRG[40:59]\n",
    "inj_dnRG_a68 = inj_dnRG[60:79]\n",
    "\n",
    "\n",
    "control_dnEph_a65 = control_dnEph[0:46]\n",
    "control_dnEph_a66 = control_dnEph[47:93]\n",
    "control_dnEph_a67 = control_dnEph[94:140]\n",
    "control_dnEph_a68 = control_dnEph[141:187]\n",
    "\n",
    "inj_dnEph_a65 = inj_dnEph[0:46]\n",
    "inj_dnEph_a66 = inj_dnEph[47:93]\n",
    "inj_dnEph_a67 = inj_dnEph[94:140]\n",
    "inj_dnEph_a68 = inj_dnEph[141:187]"
   ]
  },
  {
   "cell_type": "code",
   "execution_count": 16,
   "metadata": {},
   "outputs": [],
   "source": [
    "# Compute mean and std of exp data \n",
    "mean_inj_PHGFP_a65 = np.mean(inj_PHGFP_a65)\n",
    "mean_inj_PHGFP_a66 = np.mean(inj_PHGFP_a66)\n",
    "mean_inj_PHGFP_a67 = np.mean(inj_PHGFP_a67)\n",
    "mean_inj_PHGFP_a68 = np.mean(inj_PHGFP_a68)\n",
    "\n",
    "std_inj_PHGFP_a65 = np.std(inj_PHGFP_a65)\n",
    "std_inj_PHGFP_a66 = np.std(inj_PHGFP_a66)\n",
    "std_inj_PHGFP_a67 = np.std(inj_PHGFP_a67)\n",
    "std_inj_PHGFP_a68 = np.std(inj_PHGFP_a68)\n",
    "\n",
    "mean_inj_dnFGFR_a65 = np.mean(inj_dnFGFR_a65)\n",
    "mean_inj_dnFGFR_a66 = np.mean(inj_dnFGFR_a66)\n",
    "mean_inj_dnFGFR_a67 = np.mean(inj_dnFGFR_a67)\n",
    "mean_inj_dnFGFR_a68 = np.mean(inj_dnFGFR_a68)\n",
    "\n",
    "std_inj_dnFGFR_a65 = np.std(inj_dnFGFR_a65)\n",
    "std_inj_dnFGFR_a66 = np.std(inj_dnFGFR_a66)\n",
    "std_inj_dnFGFR_a67 = np.std(inj_dnFGFR_a67)\n",
    "std_inj_dnFGFR_a68 = np.std(inj_dnFGFR_a68)\n",
    "\n",
    "mean_inj_dnEph_a65 = np.mean(inj_dnEph_a65)\n",
    "mean_inj_dnEph_a66 = np.mean(inj_dnEph_a66)\n",
    "mean_inj_dnEph_a67 = np.mean(inj_dnEph_a67)\n",
    "mean_inj_dnEph_a68 = np.mean(inj_dnEph_a68)\n",
    "\n",
    "std_inj_dnEph_a65 = np.std(inj_dnEph_a65)\n",
    "std_inj_dnEph_a66 = np.std(inj_dnEph_a66)\n",
    "std_inj_dnEph_a67 = np.std(inj_dnEph_a67)\n",
    "std_inj_dnEph_a68 = np.std(inj_dnEph_a68)\n",
    "\n",
    "mean_inj_dnRG_a65 = np.mean(inj_dnRG_a65)\n",
    "mean_inj_dnRG_a66 = np.mean(inj_dnRG_a66)\n",
    "mean_inj_dnRG_a67 = np.mean(inj_dnRG_a67)\n",
    "mean_inj_dnRG_a68 = np.mean(inj_dnRG_a68)\n",
    "\n",
    "std_inj_dnRG_a65 = np.std(inj_dnRG_a65)\n",
    "std_inj_dnRG_a66 = np.std(inj_dnRG_a66)\n",
    "std_inj_dnRG_a67 = np.std(inj_dnRG_a67)\n",
    "std_inj_dnRG_a68 = np.std(inj_dnRG_a68)"
   ]
  },
  {
   "cell_type": "markdown",
   "metadata": {},
   "source": [
    "# Results"
   ]
  },
  {
   "cell_type": "markdown",
   "metadata": {},
   "source": [
    "## Figure 3B"
   ]
  },
  {
   "cell_type": "markdown",
   "metadata": {},
   "source": [
    "### Model predictions"
   ]
  },
  {
   "cell_type": "markdown",
   "metadata": {},
   "source": [
    "#### Control"
   ]
  },
  {
   "cell_type": "code",
   "execution_count": 17,
   "metadata": {},
   "outputs": [],
   "source": [
    "# Compute T\n",
    "T_pred_65 = [exprT(S1_v= a65_RelContactArea_A[i]) for i in range(len(a65_RelContactArea_A))]\n",
    "T_pred_66 = [exprT(S1_v= a66_RelContactArea_A[i]) for i in range(len(a66_RelContactArea_A))]\n",
    "T_pred_67 = [exprT(S1_v= a67_RelContactArea_A[i]) for i in range(len(a67_RelContactArea_A))]\n",
    "T_pred_68 = [exprT(S1_v= a68_RelContactArea_A[i]) for i in range(len(a68_RelContactArea_A))]\n",
    "\n",
    "# Compute Erk activity\n",
    "Erk_pred_65 = Erk(T_pred_65)\n",
    "Erk_pred_66 = Erk(T_pred_66)\n",
    "Erk_pred_67 = Erk(T_pred_67)\n",
    "Erk_pred_68 = Erk(T_pred_68)\n",
    "\n",
    "# Compute Ap\n",
    "Ap_pred_65 = [exprAp(Er_v=Erk_pred_65[i]) for i in range(len(Erk_pred_65))]\n",
    "Ap_pred_66 = [exprAp(Er_v=Erk_pred_66[i]) for i in range(len(Erk_pred_66))]\n",
    "Ap_pred_67 = [exprAp(Er_v=Erk_pred_67[i]) for i in range(len(Erk_pred_67))]\n",
    "Ap_pred_68 = [exprAp(Er_v=Erk_pred_68[i]) for i in range(len(Erk_pred_68))]\n",
    "\n",
    "# Compute I \n",
    "I_pred_65 = [exprI(Er_v=Erk_pred_65[i]) for i in range(len(Erk_pred_65))]\n",
    "I_pred_66 = [exprI(Er_v=Erk_pred_66[i]) for i in range(len(Erk_pred_66))]\n",
    "I_pred_67 = [exprI(Er_v=Erk_pred_67[i]) for i in range(len(Erk_pred_67))]\n",
    "I_pred_68 = [exprI(Er_v=Erk_pred_68[i]) for i in range(len(Erk_pred_68))]\n",
    "\n",
    "# Compute Otx expression \n",
    "Otx_pred_65_e = np.array(exprOtx(Ap_v=Ap_pred_65,I_v=I_pred_65)).astype(float)\n",
    "Otx_pred_66_e = np.array(exprOtx(Ap_v=Ap_pred_66,I_v=I_pred_66)).astype(float)\n",
    "Otx_pred_67_e = np.array(exprOtx(Ap_v=Ap_pred_67,I_v=I_pred_67)).astype(float)\n",
    "Otx_pred_68_e = np.array(exprOtx(Ap_v=Ap_pred_68,I_v=I_pred_68)).astype(float)\n",
    "\n",
    "# Compute mean\n",
    "a65_Otx_mean_pred_e = np.mean(Otx_pred_65_e)\n",
    "a66_Otx_mean_pred_e = np.mean(Otx_pred_66_e)\n",
    "a67_Otx_mean_pred_e = np.mean(Otx_pred_67_e)\n",
    "a68_Otx_mean_pred_e = np.mean(Otx_pred_68_e)\n",
    "\n",
    "# Compute std\n",
    "a65_Otx_std_pred_e = np.std(Otx_pred_65_e)\n",
    "a66_Otx_std_pred_e = np.std(Otx_pred_66_e)\n",
    "a67_Otx_std_pred_e = np.std(Otx_pred_67_e)\n",
    "a68_Otx_std_pred_e = np.std(Otx_pred_68_e)"
   ]
  },
  {
   "cell_type": "code",
   "execution_count": 18,
   "metadata": {},
   "outputs": [],
   "source": [
    "# Compute Otx smFISH spot counts \n",
    "Omax_value= 92\n",
    "Obas_value = 1.5\n",
    "\n",
    "Otx_pred_65_sc = np.array(exprOtx(Ap_v=Ap_pred_65,I_v=I_pred_65, Omax= Omax_value,Obas= Obas_value)).astype(float)\n",
    "Otx_pred_66_sc = np.array(exprOtx(Ap_v=Ap_pred_66,I_v=I_pred_66, Omax= Omax_value,Obas= Obas_value)).astype(float)\n",
    "Otx_pred_67_sc = np.array(exprOtx(Ap_v=Ap_pred_67,I_v=I_pred_67, Omax= Omax_value,Obas= Obas_value)).astype(float)\n",
    "Otx_pred_68_sc = np.array(exprOtx(Ap_v=Ap_pred_68,I_v=I_pred_68, Omax= Omax_value,Obas= Obas_value)).astype(float)\n",
    "\n",
    "# Compute mean\n",
    "a65_Otx_mean_pred_sc = np.mean(Otx_pred_65_sc)\n",
    "a66_Otx_mean_pred_sc = np.mean(Otx_pred_66_sc)\n",
    "a67_Otx_mean_pred_sc = np.mean(Otx_pred_67_sc)\n",
    "a68_Otx_mean_pred_sc = np.mean(Otx_pred_68_sc)\n",
    "\n",
    "# Compute std\n",
    "a65_Otx_std_pred_sc = np.sqrt(Omax_value**2*a65_Otx_std_pred_e**2+std_inj_PHGFP_a68**2)\n",
    "a66_Otx_std_pred_sc = np.sqrt(Omax_value**2*a66_Otx_std_pred_e**2+std_inj_PHGFP_a68**2)\n",
    "a67_Otx_std_pred_sc = np.sqrt(Omax_value**2*a67_Otx_std_pred_e**2+std_inj_PHGFP_a68**2)\n",
    "a68_Otx_std_pred_sc = np.sqrt(Omax_value**2*a68_Otx_std_pred_e**2+std_inj_PHGFP_a68**2)"
   ]
  },
  {
   "cell_type": "markdown",
   "metadata": {},
   "source": [
    "#### dnFGFR"
   ]
  },
  {
   "cell_type": "code",
   "execution_count": 19,
   "metadata": {},
   "outputs": [],
   "source": [
    "# Compute T\n",
    "T_pred_dnFGFR_65 = [exprT(S1_v= a65_RelContactArea_A[i], Rtot_v= 100) for i in range(len(a65_RelContactArea_A))]\n",
    "T_pred_dnFGFR_66 = [exprT(S1_v= a66_RelContactArea_A[i], Rtot_v= 100) for i in range(len(a66_RelContactArea_A))]\n",
    "T_pred_dnFGFR_67 = [exprT(S1_v= a67_RelContactArea_A[i], Rtot_v= 100) for i in range(len(a67_RelContactArea_A))]\n",
    "T_pred_dnFGFR_68 = [exprT(S1_v= a68_RelContactArea_A[i], Rtot_v= 100) for i in range(len(a68_RelContactArea_A))]\n",
    "\n",
    "# Compute Erk activity \n",
    "Erk_pred_dnFGFR_65 = Erk(T_pred_dnFGFR_65)\n",
    "Erk_pred_dnFGFR_66 = Erk(T_pred_dnFGFR_66)\n",
    "Erk_pred_dnFGFR_67 = Erk(T_pred_dnFGFR_67)\n",
    "Erk_pred_dnFGFR_68 = Erk(T_pred_dnFGFR_68)\n",
    "\n",
    "# Compute Ap\n",
    "Ap_pred_dnFGFR_65 = [exprAp(Er_v=Erk_pred_dnFGFR_65[i]) for i in range(len(Erk_pred_dnFGFR_65))]\n",
    "Ap_pred_dnFGFR_66 = [exprAp(Er_v=Erk_pred_dnFGFR_66[i]) for i in range(len(Erk_pred_dnFGFR_66))]\n",
    "Ap_pred_dnFGFR_67 = [exprAp(Er_v=Erk_pred_dnFGFR_67[i]) for i in range(len(Erk_pred_dnFGFR_67))]\n",
    "Ap_pred_dnFGFR_68 = [exprAp(Er_v=Erk_pred_dnFGFR_68[i]) for i in range(len(Erk_pred_dnFGFR_68))]\n",
    "\n",
    "# Compute I \n",
    "I_pred_dnFGFR_65 = [exprI(Er_v=Erk_pred_dnFGFR_65[i]) for i in range(len(Erk_pred_dnFGFR_65))]\n",
    "I_pred_dnFGFR_66 = [exprI(Er_v=Erk_pred_dnFGFR_66[i]) for i in range(len(Erk_pred_dnFGFR_66))]\n",
    "I_pred_dnFGFR_67 = [exprI(Er_v=Erk_pred_dnFGFR_67[i]) for i in range(len(Erk_pred_dnFGFR_67))]\n",
    "I_pred_dnFGFR_68 = [exprI(Er_v=Erk_pred_dnFGFR_68[i]) for i in range(len(Erk_pred_dnFGFR_68))]\n",
    "\n",
    "# Compute Otx expression\n",
    "Otx_pred_dnFGFR_65_e = np.array(exprOtx(Ap_v=Ap_pred_dnFGFR_65,I_v=I_pred_dnFGFR_65)).astype(float)\n",
    "Otx_pred_dnFGFR_66_e = np.array(exprOtx(Ap_v=Ap_pred_dnFGFR_66,I_v=I_pred_dnFGFR_66)).astype(float)\n",
    "Otx_pred_dnFGFR_67_e = np.array(exprOtx(Ap_v=Ap_pred_dnFGFR_67,I_v=I_pred_dnFGFR_67)).astype(float)\n",
    "Otx_pred_dnFGFR_68_e = np.array(exprOtx(Ap_v=Ap_pred_dnFGFR_68,I_v=I_pred_dnFGFR_68)).astype(float)\n",
    "\n",
    "# Compute mean\n",
    "a65_Otx_mean_pred_dnFGFR_e = np.mean(Otx_pred_dnFGFR_65_e)\n",
    "a66_Otx_mean_pred_dnFGFR_e = np.mean(Otx_pred_dnFGFR_66_e)\n",
    "a67_Otx_mean_pred_dnFGFR_e = np.mean(Otx_pred_dnFGFR_67_e)\n",
    "a68_Otx_mean_pred_dnFGFR_e = np.mean(Otx_pred_dnFGFR_68_e)\n",
    "\n",
    "# Compute std\n",
    "a65_Otx_std_pred_dnFGFR_e = np.std(Otx_pred_dnFGFR_65_e)\n",
    "a66_Otx_std_pred_dnFGFR_e = np.std(Otx_pred_dnFGFR_66_e)\n",
    "a67_Otx_std_pred_dnFGFR_e = np.std(Otx_pred_dnFGFR_67_e)\n",
    "a68_Otx_std_pred_dnFGFR_e = np.std(Otx_pred_dnFGFR_68_e)"
   ]
  },
  {
   "cell_type": "code",
   "execution_count": 20,
   "metadata": {},
   "outputs": [],
   "source": [
    "# Compute Otx spot counts\n",
    "Omax_value= 92\n",
    "Obas_value = 1.5\n",
    "\n",
    "Ap_pred_dnFGFR_65 = [exprAp(Er_v=Erk_pred_dnFGFR_65[i]) for i in range(len(Erk_pred_dnFGFR_65))]\n",
    "Ap_pred_dnFGFR_66 = [exprAp(Er_v=Erk_pred_dnFGFR_66[i]) for i in range(len(Erk_pred_dnFGFR_66))]\n",
    "Ap_pred_dnFGFR_67 = [exprAp(Er_v=Erk_pred_dnFGFR_67[i]) for i in range(len(Erk_pred_dnFGFR_67))]\n",
    "Ap_pred_dnFGFR_68 = [exprAp(Er_v=Erk_pred_dnFGFR_68[i]) for i in range(len(Erk_pred_dnFGFR_68))]\n",
    "\n",
    "I_pred_dnFGFR_65 = [exprI(Er_v=Erk_pred_dnFGFR_65[i]) for i in range(len(Erk_pred_dnFGFR_65))]\n",
    "I_pred_dnFGFR_66 = [exprI(Er_v=Erk_pred_dnFGFR_66[i]) for i in range(len(Erk_pred_dnFGFR_66))]\n",
    "I_pred_dnFGFR_67 = [exprI(Er_v=Erk_pred_dnFGFR_67[i]) for i in range(len(Erk_pred_dnFGFR_67))]\n",
    "I_pred_dnFGFR_68 = [exprI(Er_v=Erk_pred_dnFGFR_68[i]) for i in range(len(Erk_pred_dnFGFR_68))]\n",
    "\n",
    "Otx_pred_dnFGFR_65_sc = np.array(exprOtx(Ap_v=Ap_pred_dnFGFR_65,I_v=I_pred_dnFGFR_65, Omax= Omax_value,Obas=Obas_value)).astype(float)\n",
    "Otx_pred_dnFGFR_66_sc = np.array(exprOtx(Ap_v=Ap_pred_dnFGFR_66,I_v=I_pred_dnFGFR_66, Omax= Omax_value,Obas=Obas_value)).astype(float)\n",
    "Otx_pred_dnFGFR_67_sc = np.array(exprOtx(Ap_v=Ap_pred_dnFGFR_67,I_v=I_pred_dnFGFR_67, Omax= Omax_value,Obas=Obas_value)).astype(float)\n",
    "Otx_pred_dnFGFR_68_sc = np.array(exprOtx(Ap_v=Ap_pred_dnFGFR_68,I_v=I_pred_dnFGFR_68, Omax= Omax_value,Obas=Obas_value)).astype(float)\n",
    "\n",
    "# Compute mean\n",
    "a65_Otx_mean_pred_dnFGFR_sc = np.mean(Otx_pred_dnFGFR_65_sc)\n",
    "a66_Otx_mean_pred_dnFGFR_sc = np.mean(Otx_pred_dnFGFR_66_sc)\n",
    "a67_Otx_mean_pred_dnFGFR_sc = np.mean(Otx_pred_dnFGFR_67_sc)\n",
    "a68_Otx_mean_pred_dnFGFR_sc = np.mean(Otx_pred_dnFGFR_68_sc)\n",
    "\n",
    "# Compute std\n",
    "a65_Otx_std_pred_dnFGFR_sc = np.sqrt(Omax_value**2*a65_Otx_std_pred_dnFGFR_e**2+std_inj_dnFGFR_a68**2)\n",
    "a66_Otx_std_pred_dnFGFR_sc = np.sqrt(Omax_value**2*a65_Otx_std_pred_dnFGFR_e**2+std_inj_dnFGFR_a68**2)\n",
    "a67_Otx_std_pred_dnFGFR_sc = np.sqrt(Omax_value**2*a65_Otx_std_pred_dnFGFR_e**2+std_inj_dnFGFR_a68**2)\n",
    "a68_Otx_std_pred_dnFGFR_sc = np.sqrt(Omax_value**2*a65_Otx_std_pred_dnFGFR_e**2+std_inj_dnFGFR_a68**2)"
   ]
  },
  {
   "cell_type": "markdown",
   "metadata": {},
   "source": [
    "#### Eph3$\\Delta$C"
   ]
  },
  {
   "cell_type": "code",
   "execution_count": 21,
   "metadata": {},
   "outputs": [],
   "source": [
    "# Compute T\n",
    "T_pred_dnEph_65 = [exprT(S1_v= a65_RelContactArea_A[i], Qtot_v= 10) for i in range(len(a65_RelContactArea_A))]\n",
    "T_pred_dnEph_66 = [exprT(S1_v= a66_RelContactArea_A[i], Qtot_v= 10) for i in range(len(a66_RelContactArea_A))]\n",
    "T_pred_dnEph_67 = [exprT(S1_v= a67_RelContactArea_A[i], Qtot_v= 10) for i in range(len(a67_RelContactArea_A))]\n",
    "T_pred_dnEph_68 = [exprT(S1_v= a68_RelContactArea_A[i], Qtot_v= 10) for i in range(len(a68_RelContactArea_A))]\n",
    "\n",
    "# Compute Erk activity \n",
    "Erk_pred_dnEph_65 = Erk(T_pred_dnEph_65)\n",
    "Erk_pred_dnEph_66 = Erk(T_pred_dnEph_66)\n",
    "Erk_pred_dnEph_67 = Erk(T_pred_dnEph_67)\n",
    "Erk_pred_dnEph_68 = Erk(T_pred_dnEph_68)\n",
    "\n",
    "# Compute Ap\n",
    "Ap_pred_dnEph_65 = [exprAp(Er_v=Erk_pred_dnEph_65[i]) for i in range(len(Erk_pred_dnEph_65))]\n",
    "Ap_pred_dnEph_66 = [exprAp(Er_v=Erk_pred_dnEph_66[i]) for i in range(len(Erk_pred_dnEph_66))]\n",
    "Ap_pred_dnEph_67 = [exprAp(Er_v=Erk_pred_dnEph_67[i]) for i in range(len(Erk_pred_dnEph_67))]\n",
    "Ap_pred_dnEph_68 = [exprAp(Er_v=Erk_pred_dnEph_68[i]) for i in range(len(Erk_pred_dnEph_68))]\n",
    "\n",
    "# Compute I \n",
    "I_pred_dnEph_65 = [exprI(Er_v=Erk_pred_dnEph_65[i]) for i in range(len(Erk_pred_dnEph_65))]\n",
    "I_pred_dnEph_66 = [exprI(Er_v=Erk_pred_dnEph_66[i]) for i in range(len(Erk_pred_dnEph_66))]\n",
    "I_pred_dnEph_67 = [exprI(Er_v=Erk_pred_dnEph_67[i]) for i in range(len(Erk_pred_dnEph_67))]\n",
    "I_pred_dnEph_68 = [exprI(Er_v=Erk_pred_dnEph_68[i]) for i in range(len(Erk_pred_dnEph_68))]\n",
    "\n",
    "# Compute Otx expression\n",
    "Otx_pred_dnEph_65_e = np.array(exprOtx(Ap_v=Ap_pred_dnEph_65,I_v=I_pred_dnEph_65)).astype(float)\n",
    "Otx_pred_dnEph_66_e = np.array(exprOtx(Ap_v=Ap_pred_dnEph_66,I_v=I_pred_dnEph_66)).astype(float)\n",
    "Otx_pred_dnEph_67_e = np.array(exprOtx(Ap_v=Ap_pred_dnEph_67,I_v=I_pred_dnEph_67)).astype(float)\n",
    "Otx_pred_dnEph_68_e = np.array(exprOtx(Ap_v=Ap_pred_dnEph_68,I_v=I_pred_dnEph_68)).astype(float)\n",
    "\n",
    "# Compute mean\n",
    "a65_Otx_mean_pred_dnEph_e = np.mean(Otx_pred_dnEph_65_e)\n",
    "a66_Otx_mean_pred_dnEph_e = np.mean(Otx_pred_dnEph_66_e)\n",
    "a67_Otx_mean_pred_dnEph_e = np.mean(Otx_pred_dnEph_67_e)\n",
    "a68_Otx_mean_pred_dnEph_e = np.mean(Otx_pred_dnEph_68_e)\n",
    "\n",
    "# Compute std\n",
    "a65_Otx_std_pred_dnEph_e = np.std(Otx_pred_dnEph_65_e)\n",
    "a66_Otx_std_pred_dnEph_e = np.std(Otx_pred_dnEph_66_e)\n",
    "a67_Otx_std_pred_dnEph_e = np.std(Otx_pred_dnEph_67_e)\n",
    "a68_Otx_std_pred_dnEph_e = np.std(Otx_pred_dnEph_68_e)"
   ]
  },
  {
   "cell_type": "code",
   "execution_count": 22,
   "metadata": {},
   "outputs": [],
   "source": [
    "# Compute Otx spot counts\n",
    "Omax_value= 95\n",
    "Obas_value = mean_inj_dnEph_a68\n",
    "\n",
    "Otx_pred_dnEph_65_sc = np.array(exprOtx(Ap_v=Ap_pred_dnEph_65,I_v=I_pred_dnEph_65, Omax= Omax_value,Obas=Obas_value)).astype(float)\n",
    "Otx_pred_dnEph_66_sc = np.array(exprOtx(Ap_v=Ap_pred_dnEph_66,I_v=I_pred_dnEph_66, Omax= Omax_value,Obas=Obas_value)).astype(float)\n",
    "Otx_pred_dnEph_67_sc = np.array(exprOtx(Ap_v=Ap_pred_dnEph_67,I_v=I_pred_dnEph_67, Omax= Omax_value,Obas=Obas_value)).astype(float)\n",
    "Otx_pred_dnEph_68_sc = np.array(exprOtx(Ap_v=Ap_pred_dnEph_68,I_v=I_pred_dnEph_68, Omax= Omax_value,Obas=Obas_value)).astype(float)\n",
    "\n",
    "# Compute mean\n",
    "a65_Otx_mean_pred_dnEph_sc = np.mean(Otx_pred_dnEph_65_sc)\n",
    "a66_Otx_mean_pred_dnEph_sc = np.mean(Otx_pred_dnEph_66_sc)\n",
    "a67_Otx_mean_pred_dnEph_sc = np.mean(Otx_pred_dnEph_67_sc)\n",
    "a68_Otx_mean_pred_dnEph_sc = np.mean(Otx_pred_dnEph_68_sc)\n",
    "\n",
    "# Compute std\n",
    "a65_Otx_std_pred_dnEph_sc = np.sqrt(Omax_value**2*a65_Otx_std_pred_dnEph_e**2+std_inj_dnEph_a68**2)\n",
    "a66_Otx_std_pred_dnEph_sc = np.sqrt(Omax_value**2*a65_Otx_std_pred_dnEph_e**2+std_inj_dnEph_a68**2)\n",
    "a67_Otx_std_pred_dnEph_sc = np.sqrt(Omax_value**2*a65_Otx_std_pred_dnEph_e**2+std_inj_dnEph_a68**2)\n",
    "a68_Otx_std_pred_dnEph_sc = np.sqrt(Omax_value**2*a65_Otx_std_pred_dnEph_e**2+std_inj_dnEph_a68**2)"
   ]
  },
  {
   "cell_type": "markdown",
   "metadata": {},
   "source": [
    "#### RG$\\Delta$GAP"
   ]
  },
  {
   "cell_type": "code",
   "execution_count": 23,
   "metadata": {},
   "outputs": [],
   "source": [
    "# Compute T \n",
    "T_pred_dnRG_65 = [exprT(S1_v= a65_RelContactArea_A[i], Vrg_v= 0.01) for i in range(len(a65_RelContactArea_A))]\n",
    "T_pred_dnRG_66 = [exprT(S1_v= a66_RelContactArea_A[i], Vrg_v= 0.01) for i in range(len(a66_RelContactArea_A))]\n",
    "T_pred_dnRG_67 = [exprT(S1_v= a67_RelContactArea_A[i], Vrg_v= 0.01) for i in range(len(a67_RelContactArea_A))]\n",
    "T_pred_dnRG_68 = [exprT(S1_v= a68_RelContactArea_A[i], Vrg_v= 0.01) for i in range(len(a68_RelContactArea_A))]\n",
    "\n",
    "# Compute Erk activity \n",
    "Erk_pred_dnRG_65 = Erk(T_pred_dnRG_65)\n",
    "Erk_pred_dnRG_66 = Erk(T_pred_dnRG_66)\n",
    "Erk_pred_dnRG_67 = Erk(T_pred_dnRG_67)\n",
    "Erk_pred_dnRG_68 = Erk(T_pred_dnRG_68)\n",
    "\n",
    "# Compute Ap\n",
    "Ap_pred_dnRG_65 = [exprAp(Er_v=Erk_pred_dnRG_65[i]) for i in range(len(Erk_pred_dnRG_65))]\n",
    "Ap_pred_dnRG_66 = [exprAp(Er_v=Erk_pred_dnRG_66[i]) for i in range(len(Erk_pred_dnRG_66))]\n",
    "Ap_pred_dnRG_67 = [exprAp(Er_v=Erk_pred_dnRG_67[i]) for i in range(len(Erk_pred_dnRG_67))]\n",
    "Ap_pred_dnRG_68 = [exprAp(Er_v=Erk_pred_dnRG_68[i]) for i in range(len(Erk_pred_dnRG_68))]\n",
    "\n",
    "# Compute I \n",
    "I_pred_dnRG_65 = [exprI(Er_v=Erk_pred_dnRG_65[i]) for i in range(len(Erk_pred_dnRG_65))]\n",
    "I_pred_dnRG_66 = [exprI(Er_v=Erk_pred_dnRG_66[i]) for i in range(len(Erk_pred_dnRG_66))]\n",
    "I_pred_dnRG_67 = [exprI(Er_v=Erk_pred_dnRG_67[i]) for i in range(len(Erk_pred_dnRG_67))]\n",
    "I_pred_dnRG_68 = [exprI(Er_v=Erk_pred_dnRG_68[i]) for i in range(len(Erk_pred_dnRG_68))]\n",
    "\n",
    "# Compute Otx expression\n",
    "Otx_pred_dnRG_65_e = np.array(exprOtx(Ap_v=Ap_pred_dnRG_65,I_v=I_pred_dnRG_65)).astype(float)\n",
    "Otx_pred_dnRG_66_e = np.array(exprOtx(Ap_v=Ap_pred_dnRG_66,I_v=I_pred_dnRG_66)).astype(float)\n",
    "Otx_pred_dnRG_67_e = np.array(exprOtx(Ap_v=Ap_pred_dnRG_67,I_v=I_pred_dnRG_67)).astype(float)\n",
    "Otx_pred_dnRG_68_e = np.array(exprOtx(Ap_v=Ap_pred_dnRG_68,I_v=I_pred_dnRG_68)).astype(float)\n",
    "\n",
    "# Compute mean\n",
    "a65_Otx_mean_pred_dnRG_e = np.mean(Otx_pred_dnRG_65_e)\n",
    "a66_Otx_mean_pred_dnRG_e = np.mean(Otx_pred_dnRG_66_e)\n",
    "a67_Otx_mean_pred_dnRG_e = np.mean(Otx_pred_dnRG_67_e)\n",
    "a68_Otx_mean_pred_dnRG_e = np.mean(Otx_pred_dnRG_68_e)\n",
    "\n",
    "# Compute std\n",
    "a65_Otx_std_pred_dnRG_e = np.std(Otx_pred_dnRG_65_e)\n",
    "a66_Otx_std_pred_dnRG_e = np.std(Otx_pred_dnRG_66_e)\n",
    "a67_Otx_std_pred_dnRG_e = np.std(Otx_pred_dnRG_67_e)\n",
    "a68_Otx_std_pred_dnRG_e = np.std(Otx_pred_dnRG_68_e)"
   ]
  },
  {
   "cell_type": "code",
   "execution_count": 24,
   "metadata": {},
   "outputs": [],
   "source": [
    "Omax_value= 122 \n",
    "Obas_value = mean_inj_dnRG_a68\n",
    "\n",
    "# Compute Otx smFISH spot counts\n",
    "Otx_pred_dnRG_65_sc = np.array(exprOtx(Ap_v=Ap_pred_dnRG_65,I_v=I_pred_dnRG_65, Omax= Omax_value,Obas=Obas_value)).astype(float)\n",
    "Otx_pred_dnRG_66_sc = np.array(exprOtx(Ap_v=Ap_pred_dnRG_66,I_v=I_pred_dnRG_66, Omax= Omax_value,Obas=Obas_value)).astype(float)\n",
    "Otx_pred_dnRG_67_sc = np.array(exprOtx(Ap_v=Ap_pred_dnRG_67,I_v=I_pred_dnRG_67, Omax= Omax_value,Obas=Obas_value)).astype(float)\n",
    "Otx_pred_dnRG_68_sc = np.array(exprOtx(Ap_v=Ap_pred_dnRG_68,I_v=I_pred_dnRG_68, Omax= Omax_value,Obas=Obas_value)).astype(float)\n",
    "\n",
    "# Compute mean\n",
    "a65_Otx_mean_pred_dnRG_sc = np.mean(Otx_pred_dnRG_65_sc)\n",
    "a66_Otx_mean_pred_dnRG_sc = np.mean(Otx_pred_dnRG_66_sc)\n",
    "a67_Otx_mean_pred_dnRG_sc = np.mean(Otx_pred_dnRG_67_sc)\n",
    "a68_Otx_mean_pred_dnRG_sc = np.mean(Otx_pred_dnRG_68_sc)\n",
    "\n",
    "# Compute std\n",
    "a65_Otx_std_pred_dnRG_sc = np.sqrt(Omax_value**2*a65_Otx_std_pred_dnRG_e**2+std_inj_dnRG_a68**2)\n",
    "a66_Otx_std_pred_dnRG_sc = np.sqrt(Omax_value**2*a66_Otx_std_pred_dnRG_e**2+std_inj_dnRG_a68**2)\n",
    "a67_Otx_std_pred_dnRG_sc = np.sqrt(Omax_value**2*a67_Otx_std_pred_dnRG_e**2+std_inj_dnRG_a68**2)\n",
    "a68_Otx_std_pred_dnRG_sc = np.sqrt(Omax_value**2*a68_Otx_std_pred_dnRG_e**2+std_inj_dnRG_a68**2)"
   ]
  },
  {
   "cell_type": "markdown",
   "metadata": {},
   "source": [
    "### Comparison with experimental data "
   ]
  },
  {
   "cell_type": "code",
   "execution_count": 25,
   "metadata": {},
   "outputs": [
    {
     "data": {
      "image/png": "[encoded data removed]",
      "text/plain": [
       "<Figure size 648x432 with 4 Axes>"
      ]
     },
     "metadata": {
      "needs_background": "light"
     },
     "output_type": "display_data"
    }
   ],
   "source": [
    "fig = plt.figure(figsize=(9,6))\n",
    "gs = fig.add_gridspec(1,4, hspace=0,wspace=0)\n",
    "axs = gs.subplots(sharey=True)\n",
    "\n",
    "# Control\n",
    "plot_comp(inj_PHGFP_a65, inj_PHGFP_a66, inj_PHGFP_a67, inj_PHGFP_a68, Otx_pred_65_sc, Otx_pred_66_sc, Otx_pred_67_sc, Otx_pred_68_sc,n=0, a=0.2)\n",
    "ax = axs[0]\n",
    "myErrorbar(x=[1], mean_a65= mean_inj_PHGFP_a65, mean_a66= mean_inj_PHGFP_a66, mean_a67=mean_inj_PHGFP_a67, mean_a68= mean_inj_PHGFP_a68, std_a65= std_inj_PHGFP_a65, std_a66= std_inj_PHGFP_a66, std_a67=std_inj_PHGFP_a67, std_a68=std_inj_PHGFP_a68, axs =ax)\n",
    "myErrorbar(x=[2], mean_a65= a65_Otx_mean_pred_sc, mean_a66= a66_Otx_mean_pred_sc, mean_a67=a67_Otx_mean_pred_sc, mean_a68= a68_Otx_mean_pred_sc, std_a65= a65_Otx_std_pred_sc, std_a66= a66_Otx_std_pred_sc , std_a67=a67_Otx_std_pred_sc , std_a68=a68_Otx_std_pred_sc , axs =ax)\n",
    "my_axsis(ax, xlim=[0.5,2.5], ylim=[-100,1024], xticks=[1,2], title='control', xtickslabels=['Exp', 'Model'])\n",
    "ax.set_ylabel('nuclear $Otx$ smFISH spots')\n",
    "\n",
    "# dnFGFR\n",
    "plot_comp(inj_dnFGFR_a65, inj_dnFGFR_a66, inj_dnFGFR_a67, inj_dnFGFR_a68, Otx_pred_dnFGFR_65_sc, Otx_pred_dnFGFR_66_sc, Otx_pred_dnFGFR_67_sc, Otx_pred_dnFGFR_68_sc, n=1, a=0.2)\n",
    "ax = axs[1]\n",
    "myErrorbar(x=[1], mean_a65= mean_inj_dnFGFR_a65, mean_a66= mean_inj_dnFGFR_a66, mean_a67=mean_inj_dnFGFR_a67, mean_a68= mean_inj_dnFGFR_a68, std_a65= std_inj_dnFGFR_a65, std_a66= std_inj_dnFGFR_a66, std_a67=std_inj_dnFGFR_a67, std_a68=std_inj_dnFGFR_a68, axs =ax)\n",
    "myErrorbar(x=[2], mean_a65= a65_Otx_mean_pred_dnFGFR_sc, mean_a66= a66_Otx_mean_pred_dnFGFR_sc, mean_a67=a67_Otx_mean_pred_dnFGFR_sc, mean_a68= a68_Otx_mean_pred_dnFGFR_sc, std_a65= a65_Otx_std_pred_dnFGFR_sc, std_a66= a66_Otx_std_pred_dnFGFR_sc, std_a67=a67_Otx_std_pred_dnFGFR_sc, std_a68=a68_Otx_std_pred_dnFGFR_sc, axs =ax)\n",
    "my_axsis(ax, xlim=[0.5,2.5], ylim=[-100,1024], xticks=[1,2], title='dnFGFR', xtickslabels=['Exp', 'Model'])\n",
    "\n",
    "# dnEph\n",
    "plot_comp(inj_dnEph_a65, inj_dnEph_a66, inj_dnEph_a67, inj_dnEph_a68, Otx_pred_dnEph_65_sc, Otx_pred_dnEph_66_sc, Otx_pred_dnEph_67_sc, Otx_pred_dnEph_68_sc, n=2, a=0.2)\n",
    "ax = axs[2]\n",
    "myErrorbar(x=[1], mean_a65= mean_inj_dnEph_a65, mean_a66= mean_inj_dnEph_a66, mean_a67=mean_inj_dnEph_a67, mean_a68= mean_inj_dnEph_a68, std_a65= std_inj_dnEph_a65, std_a66= std_inj_dnEph_a66, std_a67=std_inj_dnEph_a67, std_a68=std_inj_dnEph_a68, axs =ax)\n",
    "myErrorbar(x=[2], mean_a65= a65_Otx_mean_pred_dnEph_sc, mean_a66= a66_Otx_mean_pred_dnEph_sc, mean_a67=a67_Otx_mean_pred_dnEph_sc, mean_a68= a68_Otx_mean_pred_dnEph_sc, std_a65= a65_Otx_std_pred_dnEph_sc, std_a66= a66_Otx_std_pred_dnEph_sc, std_a67=a67_Otx_std_pred_dnEph_sc, std_a68=a68_Otx_std_pred_dnEph_sc, axs =ax)\n",
    "my_axsis(ax, xlim=[0.5,2.5], ylim=[-100,1024], xticks=[1,2], title='Eph3$\\Delta$C', xtickslabels=['Exp', 'Model'])\n",
    "\n",
    "# dnRG\n",
    "plot_comp(inj_dnRG_a65, inj_dnRG_a66, inj_dnRG_a67, inj_dnRG_a68,Otx_pred_dnRG_65_sc, Otx_pred_dnRG_66_sc, Otx_pred_dnRG_67_sc, Otx_pred_dnRG_68_sc,n=3, a=0.2)\n",
    "ax = axs[3]\n",
    "myErrorbar(x=[1], mean_a65= mean_inj_dnRG_a65, mean_a66= mean_inj_dnRG_a66, mean_a67=mean_inj_dnRG_a67, mean_a68= mean_inj_dnRG_a68, std_a65= std_inj_dnRG_a65, std_a66= std_inj_dnRG_a66, std_a67=std_inj_dnRG_a67, std_a68=std_inj_dnRG_a68, axs =ax)\n",
    "myErrorbar(x=[2], mean_a65= a65_Otx_mean_pred_dnRG_sc, mean_a66= a66_Otx_mean_pred_dnRG_sc, mean_a67=a67_Otx_mean_pred_dnRG_sc, mean_a68= a68_Otx_mean_pred_dnRG_sc, std_a65= a65_Otx_std_pred_dnRG_sc, std_a66=a66_Otx_std_pred_dnRG_sc, std_a67=a67_Otx_std_pred_dnRG_sc, std_a68=a68_Otx_std_pred_dnRG_sc, axs =ax)\n",
    "my_axsis(ax, xlim=[0.5,2.5], ylim=[-100,1024], xticks=[1,2], title='RG$\\Delta$GAP', xtickslabels=['Exp', 'Model'])\n",
    "\n",
    "plt.tight_layout()\n",
    "plt.show()\n",
    "\n"
   ]
  },
  {
   "cell_type": "markdown",
   "metadata": {},
   "source": [
    "## Figure S4A"
   ]
  },
  {
   "cell_type": "markdown",
   "metadata": {},
   "source": [
    "### dnFGFR"
   ]
  },
  {
   "cell_type": "code",
   "execution_count": 26,
   "metadata": {},
   "outputs": [
    {
     "data": {
      "image/png": "[encoded data removed]",
      "text/plain": [
       "<Figure size 648x432 with 4 Axes>"
      ]
     },
     "metadata": {
      "needs_background": "light"
     },
     "output_type": "display_data"
    }
   ],
   "source": [
    "fig = plt.figure(figsize=(9,6))\n",
    "gs = fig.add_gridspec(1,4, hspace=0,wspace=0)\n",
    "axs = gs.subplots(sharey=True)\n",
    "\n",
    "# a6.8\n",
    "x = np.random.normal(1, 0.08, size=len(inj_dnFGFR_a68))\n",
    "axs[0].plot(x,inj_dnFGFR_a68,'.', color='grey', alpha=0.3, markersize=10,zorder=1)\n",
    " \n",
    "axs[0].errorbar(1,mean_inj_dnFGFR_a68 ,std_inj_dnFGFR_a68, marker='o',markersize=5,color='black', capsize=5,mfc='black', mec='black', ls='none',zorder=2)\n",
    "\n",
    "x = np.random.normal(2, 0.08, size=len(Otx_pred_dnFGFR_68_sc))\n",
    "axs[0].plot(x,Otx_pred_dnFGFR_68_sc,'.', color='grey', alpha=0.3, markersize=10,zorder=1)\n",
    "\n",
    "axs[0].errorbar(2,a68_Otx_mean_pred_dnFGFR_sc ,a68_Otx_std_pred_dnFGFR_sc, marker='o',markersize=5,color='black', capsize=5,mfc='black', mec='black', ls='none',zorder=2)\n",
    "\n",
    "my_axsis(axs[0], xlim= [0.5,2.5], ylim=[-100,1000], xticks=[1,2], title='a6.5', xtickslabels=['Exp', 'Model'], bold=True)\n",
    "axs[0].set_ylabel('nuclear $Otx$ smFISH spots')\n",
    "\n",
    "\n",
    "# a6.6 \n",
    "x = np.random.normal(1, 0.08, size=len(inj_dnFGFR_a66))\n",
    "axs[1].plot(x,inj_dnFGFR_a66,'.', color='tab:green', alpha=0.3, markersize=10, zorder=1)\n",
    "\n",
    "x = 1 \n",
    "axs[1].errorbar(x,mean_inj_dnFGFR_a66 ,std_inj_dnFGFR_a66, marker='o',markersize=5,color='black', capsize=5,mfc='black', mec='black', ls='none',zorder=2)\n",
    "\n",
    "x = np.random.normal(2, 0.08, size=len(Otx_pred_dnFGFR_66_sc))\n",
    "axs[1].plot(x,Otx_pred_dnFGFR_66_sc,'.', color='tab:green', alpha=0.3, markersize=10, zorder=1)\n",
    "\n",
    "x = 2 \n",
    "axs[1].errorbar(x,a66_Otx_mean_pred_dnFGFR_sc ,a66_Otx_std_pred_dnFGFR_sc, marker='o',markersize=5,color='black', capsize=5,mfc='black', mec='black', ls='none',zorder=2)\n",
    "\n",
    "my_axsis(axs[1], xlim= [0.5,2.5], ylim=[-100,1000], xticks=[1,2], title='a6.6', xtickslabels=['Exp', 'Model'], bold=True)\n",
    "\n",
    "\n",
    "# a6.7 \n",
    "x = np.random.normal(1, 0.08, size=len(inj_dnFGFR_a67))\n",
    "axs[2].plot(x,inj_dnFGFR_a67,'.', color='tab:blue', alpha=0.3, markersize=10, zorder=1)\n",
    " \n",
    "axs[2].errorbar(1,mean_inj_dnFGFR_a67 ,std_inj_dnFGFR_a67, marker='o',markersize=5,color='black', capsize=5,mfc='black', mec='black', ls='none',zorder=2)\n",
    "\n",
    "x = np.random.normal(2, 0.08, size=len(Otx_pred_dnFGFR_67_sc))\n",
    "axs[2].plot(x,Otx_pred_dnFGFR_67_sc,'.', color='tab:blue', alpha=0.3, markersize=10, zorder=1)\n",
    "\n",
    "axs[2].errorbar(2,a67_Otx_mean_pred_dnFGFR_sc,a67_Otx_std_pred_dnFGFR_sc, marker='o',markersize=5,color='black', capsize=5,mfc='black', mec='black', ls='none',zorder=2)\n",
    "\n",
    "my_axsis(axs[2], xlim= [0.5,2.5], ylim=[-100,1000], xticks=[1,2], title='a6.7', xtickslabels=['Exp', 'Model'], bold=True)\n",
    "\n",
    "\n",
    "# a6.5\n",
    "x = np.random.normal(1, 0.08, size=len(inj_dnFGFR_a65))\n",
    "axs[3].plot(x,inj_dnFGFR_a65,'.', color='orchid', alpha=0.3,zorder=1, markersize=10)\n",
    " \n",
    "axs[3].errorbar(1,mean_inj_dnFGFR_a65 ,std_inj_dnFGFR_a65, marker='o',markersize=5,color='black', capsize=5,mfc='black', mec='black', ls='none',zorder=2)\n",
    "\n",
    "x = np.random.normal(2, 0.08, size=len(Otx_pred_dnFGFR_65_sc))\n",
    "axs[3].plot(x,Otx_pred_dnFGFR_65_sc,'.', color='orchid', alpha=0.3,zorder=1, markersize=10)\n",
    "\n",
    "axs[3].errorbar(2,a65_Otx_mean_pred_dnFGFR_sc, a65_Otx_std_pred_dnFGFR_sc, marker='o',markersize=5,color='black', capsize=5,mfc='black', mec='black', ls='none',zorder=2)\n",
    "\n",
    "my_axsis(axs[3], xlim= [0,2.5], ylim=[-100,1000], xticks=[1,2], title='a6.5', xtickslabels=['Exp', 'Model'], bold=True)\n",
    "\n",
    "plt.tight_layout()\n",
    "plt.show()"
   ]
  },
  {
   "cell_type": "markdown",
   "metadata": {},
   "source": [
    "### Eph3DC"
   ]
  },
  {
   "cell_type": "code",
   "execution_count": 27,
   "metadata": {},
   "outputs": [
    {
     "data": {
      "image/png": "[encoded data removed]",
      "text/plain": [
       "<Figure size 648x432 with 4 Axes>"
      ]
     },
     "metadata": {
      "needs_background": "light"
     },
     "output_type": "display_data"
    }
   ],
   "source": [
    "fig = plt.figure(figsize=(9,6))\n",
    "gs = fig.add_gridspec(1,4, hspace=0,wspace=0)\n",
    "axs = gs.subplots(sharey=True)\n",
    "\n",
    "# a6.8\n",
    "x = np.random.normal(1, 0.08, size=len(inj_dnEph_a68))\n",
    "axs[0].plot(x,inj_dnEph_a68,'.', color='grey', alpha=0.3, markersize=10,zorder=1)\n",
    " \n",
    "axs[0].errorbar(1,mean_inj_dnEph_a68 ,std_inj_dnEph_a68, marker='o',markersize=5,color='black', capsize=5,mfc='black', mec='black', ls='none',zorder=2)\n",
    "\n",
    "x = np.random.normal(2, 0.08, size=len(Otx_pred_dnEph_68_sc))\n",
    "axs[0].plot(x,Otx_pred_dnEph_68_sc,'.', color='grey', alpha=0.3, markersize=10,zorder=1)\n",
    "\n",
    "axs[0].errorbar(2,a68_Otx_mean_pred_dnEph_sc ,a68_Otx_std_pred_dnEph_sc, marker='o',markersize=5,color='black', capsize=5,mfc='black', mec='black', ls='none',zorder=2)\n",
    "\n",
    "my_axsis(axs[0], xlim= [0.5,2.5], ylim=[-100,1000], xticks=[1,2], title='a6.5', xtickslabels=['Exp', 'Model'], bold=True)\n",
    "axs[0].set_ylabel('nuclear $Otx$ smFISH spots')\n",
    "\n",
    "\n",
    "# a6.6 \n",
    "x = np.random.normal(1, 0.08, size=len(inj_dnEph_a66))\n",
    "axs[1].plot(x,inj_dnEph_a66,'.', color='tab:green', alpha=0.3, markersize=10, zorder=1)\n",
    "\n",
    "x = 1 \n",
    "axs[1].errorbar(x,mean_inj_dnEph_a66 ,std_inj_dnEph_a66, marker='o',markersize=5,color='black', capsize=5,mfc='black', mec='black', ls='none',zorder=2)\n",
    "\n",
    "x = np.random.normal(2, 0.08, size=len(Otx_pred_dnEph_66_sc))\n",
    "axs[1].plot(x,Otx_pred_dnEph_66_sc,'.', color='tab:green', alpha=0.3, markersize=10, zorder=1)\n",
    "\n",
    "x = 2 \n",
    "axs[1].errorbar(x,a66_Otx_mean_pred_dnEph_sc ,a66_Otx_std_pred_dnEph_sc, marker='o',markersize=5,color='black', capsize=5,mfc='black', mec='black', ls='none',zorder=2)\n",
    "\n",
    "my_axsis(axs[1], xlim= [0.5,2.5], ylim=[-100,1000], xticks=[1,2], title='a6.6', xtickslabels=['Exp', 'Model'], bold=True)\n",
    "\n",
    "\n",
    "# a6.7 \n",
    "x = np.random.normal(1, 0.08, size=len(inj_dnEph_a67))\n",
    "axs[2].plot(x,inj_dnEph_a67,'.', color='tab:blue', alpha=0.3, markersize=10, zorder=1)\n",
    " \n",
    "axs[2].errorbar(1,mean_inj_dnEph_a67 ,std_inj_dnEph_a67, marker='o',markersize=5,color='black', capsize=5,mfc='black', mec='black', ls='none',zorder=2)\n",
    "\n",
    "x = np.random.normal(2, 0.08, size=len(Otx_pred_dnEph_67_sc))\n",
    "axs[2].plot(x,Otx_pred_dnEph_67_sc,'.', color='tab:blue', alpha=0.3, markersize=10, zorder=1)\n",
    "\n",
    "axs[2].errorbar(2,a67_Otx_mean_pred_dnEph_sc,a67_Otx_std_pred_dnEph_sc, marker='o',markersize=5,color='black', capsize=5,mfc='black', mec='black', ls='none',zorder=2)\n",
    "\n",
    "my_axsis(axs[2], xlim= [0.5,2.5], ylim=[-100,1000], xticks=[1,2], title='a6.7', xtickslabels=['Exp', 'Model'], bold=True)\n",
    "\n",
    "\n",
    "# a6.5\n",
    "x = np.random.normal(1, 0.08, size=len(inj_dnEph_a65))\n",
    "axs[3].plot(x,inj_dnEph_a65,'.', color='orchid', alpha=0.3,zorder=1, markersize=10)\n",
    " \n",
    "axs[3].errorbar(1,mean_inj_dnEph_a65 ,std_inj_dnEph_a65, marker='o',markersize=5,color='black', capsize=5,mfc='black', mec='black', ls='none',zorder=2)\n",
    "\n",
    "x = np.random.normal(2, 0.08, size=len(Otx_pred_dnEph_65_sc))\n",
    "axs[3].plot(x,Otx_pred_dnEph_65_sc,'.', color='orchid', alpha=0.3,zorder=1, markersize=10)\n",
    "\n",
    "axs[3].errorbar(2,a65_Otx_mean_pred_dnEph_sc, a65_Otx_std_pred_dnEph_sc, marker='o',markersize=5,color='black', capsize=5,mfc='black', mec='black', ls='none',zorder=2)\n",
    "\n",
    "my_axsis(axs[3], xlim= [0,2.5], ylim=[-100,1000], xticks=[1,2], title='a6.5', xtickslabels=['Exp', 'Model'], bold=True)\n",
    "\n",
    "plt.tight_layout()\n",
    "plt.show()"
   ]
  },
  {
   "cell_type": "markdown",
   "metadata": {},
   "source": [
    "### RGDGAP"
   ]
  },
  {
   "cell_type": "code",
   "execution_count": 28,
   "metadata": {},
   "outputs": [
    {
     "data": {
      "image/png": "[encoded data removed]",
      "text/plain": [
       "<Figure size 648x432 with 4 Axes>"
      ]
     },
     "metadata": {
      "needs_background": "light"
     },
     "output_type": "display_data"
    }
   ],
   "source": [
    "fig = plt.figure(figsize=(9,6))\n",
    "gs = fig.add_gridspec(1,4, hspace=0,wspace=0)\n",
    "axs = gs.subplots(sharey=True)\n",
    "\n",
    "# a6.8\n",
    "x = np.random.normal(1, 0.08, size=len(inj_dnRG_a68))\n",
    "axs[0].plot(x,inj_dnRG_a68,'.', color='grey', alpha=0.3, markersize=10,zorder=1)\n",
    " \n",
    "axs[0].errorbar(1,mean_inj_dnRG_a68 ,std_inj_dnRG_a68, marker='o',markersize=5,color='black', capsize=5,mfc='black', mec='black', ls='none',zorder=2)\n",
    "\n",
    "x = np.random.normal(2, 0.08, size=len(Otx_pred_dnRG_68_sc))\n",
    "axs[0].plot(x,Otx_pred_dnRG_68_sc,'.', color='grey', alpha=0.3, markersize=10,zorder=1)\n",
    "\n",
    "axs[0].errorbar(2,a68_Otx_mean_pred_dnRG_sc ,a68_Otx_std_pred_dnRG_sc, marker='o',markersize=5,color='black', capsize=5,mfc='black', mec='black', ls='none',zorder=2)\n",
    "\n",
    "my_axsis(axs[0], xlim= [0.5,2.5], ylim=[-100,1000], xticks=[1,2], title='a6.5', xtickslabels=['Exp', 'Model'], bold=True)\n",
    "axs[0].set_ylabel('nuclear $Otx$ smFISH spots')\n",
    "\n",
    "\n",
    "# a6.6 \n",
    "x = np.random.normal(1, 0.08, size=len(inj_dnRG_a66))\n",
    "axs[1].plot(x,inj_dnRG_a66,'.', color='tab:green', alpha=0.3, markersize=10, zorder=1)\n",
    "\n",
    "x = 1 \n",
    "axs[1].errorbar(x,mean_inj_dnRG_a66 ,std_inj_dnRG_a66, marker='o',markersize=5,color='black', capsize=5,mfc='black', mec='black', ls='none',zorder=2)\n",
    "\n",
    "x = np.random.normal(2, 0.08, size=len(Otx_pred_dnRG_66_sc))\n",
    "axs[1].plot(x,Otx_pred_dnRG_66_sc,'.', color='tab:green', alpha=0.3, markersize=10, zorder=1)\n",
    "\n",
    "x = 2 \n",
    "axs[1].errorbar(x,a66_Otx_mean_pred_dnRG_sc ,a66_Otx_std_pred_dnRG_sc, marker='o',markersize=5,color='black', capsize=5,mfc='black', mec='black', ls='none',zorder=2)\n",
    "\n",
    "my_axsis(axs[1], xlim= [0.5,2.5], ylim=[-100,1000], xticks=[1,2], title='a6.6', xtickslabels=['Exp', 'Model'], bold=True)\n",
    "\n",
    "\n",
    "# a6.7 \n",
    "x = np.random.normal(1, 0.08, size=len(inj_dnRG_a67))\n",
    "axs[2].plot(x,inj_dnRG_a67,'.', color='tab:blue', alpha=0.3, markersize=10, zorder=1)\n",
    " \n",
    "axs[2].errorbar(1,mean_inj_dnRG_a67 ,std_inj_dnRG_a67, marker='o',markersize=5,color='black', capsize=5,mfc='black', mec='black', ls='none',zorder=2)\n",
    "\n",
    "x = np.random.normal(2, 0.08, size=len(Otx_pred_dnRG_67_sc))\n",
    "axs[2].plot(x,Otx_pred_dnRG_67_sc,'.', color='tab:blue', alpha=0.3, markersize=10, zorder=1)\n",
    "\n",
    "axs[2].errorbar(2,a67_Otx_mean_pred_dnRG_sc,a67_Otx_std_pred_dnRG_sc, marker='o',markersize=5,color='black', capsize=5,mfc='black', mec='black', ls='none',zorder=2)\n",
    "\n",
    "my_axsis(axs[2], xlim= [0.5,2.5], ylim=[-100,1000], xticks=[1,2], title='a6.7', xtickslabels=['Exp', 'Model'], bold=True)\n",
    "\n",
    "\n",
    "# a6.5\n",
    "x = np.random.normal(1, 0.08, size=len(inj_dnRG_a65))\n",
    "axs[3].plot(x,inj_dnRG_a65,'.', color='orchid', alpha=0.3,zorder=1, markersize=10)\n",
    " \n",
    "axs[3].errorbar(1,mean_inj_dnRG_a65 ,std_inj_dnRG_a65, marker='o',markersize=5,color='black', capsize=5,mfc='black', mec='black', ls='none',zorder=2)\n",
    "\n",
    "x = np.random.normal(2, 0.08, size=len(Otx_pred_dnRG_65_sc))\n",
    "axs[3].plot(x,Otx_pred_dnRG_65_sc,'.', color='orchid', alpha=0.3,zorder=1, markersize=10)\n",
    "\n",
    "axs[3].errorbar(2,a65_Otx_mean_pred_dnRG_sc, a65_Otx_std_pred_dnRG_sc, marker='o',markersize=5,color='black', capsize=5,mfc='black', mec='black', ls='none',zorder=2)\n",
    "\n",
    "my_axsis(axs[3], xlim= [0,2.5], ylim=[-100,1000], xticks=[1,2], title='a6.5', xtickslabels=['Exp', 'Model'], bold=True)\n",
    "\n",
    "plt.tight_layout()\n",
    "plt.show()"
   ]
  },
  {
   "cell_type": "code",
   "execution_count": null,
   "metadata": {},
   "outputs": [],
   "source": []
  },
  {
   "cell_type": "code",
   "execution_count": null,
   "metadata": {},
   "outputs": [],
   "source": []
  }
 ],
 "metadata": {
  "kernelspec": {
   "display_name": "Python 3",
   "language": "python",
   "name": "python3"
  },
  "language_info": {
   "codemirror_mode": {
    "name": "ipython",
    "version": 3
   },
   "file_extension": ".py",
   "mimetype": "text/x-python",
   "name": "python",
   "nbconvert_exporter": "python",
   "pygments_lexer": "ipython3",
   "version": "3.8.5"
  }
 },
 "nbformat": 4,
 "nbformat_minor": 4
}
