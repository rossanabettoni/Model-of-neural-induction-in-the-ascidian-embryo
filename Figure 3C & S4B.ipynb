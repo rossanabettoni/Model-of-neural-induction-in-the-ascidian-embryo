{
 "cells": [
  {
   "cell_type": "markdown",
   "metadata": {},
   "source": [
    "# Figure 3C & S4B"
   ]
  },
  {
   "cell_type": "markdown",
   "metadata": {},
   "source": [
    "# Import packages"
   ]
  },
  {
   "cell_type": "code",
   "execution_count": 1,
   "metadata": {},
   "outputs": [],
   "source": [
    "import numpy as np\n",
    "import matplotlib.pyplot as plt \n",
    "from sympy import symbols, solve, simplify\n",
    "import pandas as pd\n",
    "from scipy.optimize import curve_fit\n",
    "import sympy as sp\n",
    "plt.rcParams.update({'font.size': 20})"
   ]
  },
  {
   "cell_type": "markdown",
   "metadata": {},
   "source": [
    "# Definitions"
   ]
  },
  {
   "cell_type": "markdown",
   "metadata": {},
   "source": [
    "Function to define the properties of the axis of a plot"
   ]
  },
  {
   "cell_type": "code",
   "execution_count": 2,
   "metadata": {},
   "outputs": [],
   "source": [
    "def my_axsis(ax, xlim, ylim, xticks, title, xtickslabels, bold=True, scale='lin'):    \n",
    "    \n",
    "    ax.set_xlim(xlim)\n",
    "    ax.set_ylim(ylim)\n",
    "    ax.set_xticks(xticks)\n",
    "    ax.set_title(title)\n",
    "    ax.set_xticklabels(xtickslabels)\n",
    "    \n",
    "    if bold==True:\n",
    "        for axis in ['top','bottom','left','right']:\n",
    "            ax.spines[axis].set_linewidth(1.2)\n",
    "            \n",
    "    if scale=='log':\n",
    "        ax.set_yscale('log', base=2)"
   ]
  },
  {
   "cell_type": "markdown",
   "metadata": {},
   "source": [
    "Function to define the properties of the errorbar"
   ]
  },
  {
   "cell_type": "code",
   "execution_count": 3,
   "metadata": {},
   "outputs": [],
   "source": [
    "def myErrorbar(x, mean_a65, mean_a66, mean_a67, mean_a68, std_a65, std_a66, std_a67, std_a68, axs): \n",
    "    axs.errorbar(x, mean_a65, std_a65, label='Exp data (mean \\u00B1 std)', marker='o',markersize=5,color='mediumorchid', capsize=5,mfc='mediumorchid', mec='mediumorchid', ls='none', zorder=2)\n",
    "    axs.errorbar(x, mean_a66, std_a66, label='Exp data (mean \\u00B1 std)', marker='o',markersize=5,color='tab:green', capsize=5,mfc='tab:green', mec='tab:green', ls='none', zorder=2)\n",
    "    axs.errorbar(x, mean_a67, std_a67, label='Exp data (mean \\u00B1 std)', marker='o',markersize=5,color='tab:blue', capsize=5,mfc='tab:blue', mec='tab:blue', ls='none', zorder=2)\n",
    "    axs.errorbar(x, mean_a68, std_a68, label='Exp data (mean \\u00B1 std)', marker='o',markersize=5,color='grey', capsize=5,mfc='grey', mec='grey', ls='none', zorder=2)"
   ]
  },
  {
   "cell_type": "markdown",
   "metadata": {},
   "source": [
    "# Model "
   ]
  },
  {
   "cell_type": "markdown",
   "metadata": {},
   "source": [
    "Definition of the parameters of the model"
   ]
  },
  {
   "cell_type": "code",
   "execution_count": 4,
   "metadata": {},
   "outputs": [],
   "source": [
    "T, V1, V2, K1, K2, Kb = symbols('T V1 V2 K1 K2 Kb') \n",
    "Vs, Rb, Ks, Vrg, Qb, Krg = symbols('Vs Rb Ks Vrg Qb Krg')\n",
    "R, F, Kd, Q, E, Ke = symbols('R F Kd Q E Ke')\n",
    "S1, Qtot, S2, Rtot= symbols('S1 Qtot S2 Rtot')\n",
    "Ap,kMM3,Er,KMM3,vMM4,KMM4 = symbols('Ap kMM3 Er KMM3 vMM4 KMM4')\n",
    "I, kMM1, Er, KMM1, vMM2,KMM2 = symbols('I kMM1 Er KMM1 vMM2 KMM2')\n",
    "vb, vo, Ap, Ka, Ki, I, k, O = symbols('vb vo Ap Ka Ki I k O')"
   ]
  },
  {
   "cell_type": "markdown",
   "metadata": {},
   "source": [
    "Evolution equation for T"
   ]
  },
  {
   "cell_type": "code",
   "execution_count": 5,
   "metadata": {},
   "outputs": [
    {
     "name": "stdout",
     "output_type": "stream",
     "text": [
      "Evolution equation for T:\n",
      "-Kb*T - T*V2/(K2 + T) + V1*(1 - T)/(K1 - T + 1)\n",
      "Evolution equation for T (all parameters explicited):\n",
      "-E*Qtot*T*Vrg*(0.9092 - 1.1265*S1)*(K1 - T + 1)/((E + Ke)*(E*Qtot*(0.9092 - 1.1265*S1)/(E + Ke) + Krg)) + F*Rtot*S1*Vs*(1 - T)*(K2 + T)/((F + Kd)*(F*Rtot*S1/(F + Kd) + Ks)) - Kb*T*(K2 + T)*(K1 - T + 1)\n"
     ]
    }
   ],
   "source": [
    "# Evolution equation for T: \n",
    "expr = V1*(1-T)/(K1+(1-T))-V2*T/(K2+T)-Kb*T\n",
    "expr_simplified= V1*(1-T)*(K2+T) -V2*T*(K1+(1-T))-Kb*T*(K1+(1-T))*(K2+T)\n",
    "print('Evolution equation for T:')\n",
    "print(expr)\n",
    "\n",
    "# Substitute the expression for V1 and V2 in the evolution equation for T:  \n",
    "expr_RQ= expr_simplified.subs([(V1, Vs*(R*F/(Kd+F))/(Ks+(R*F/(Kd+F)))),(V2, Vrg*(Q*E/(Ke+E))/(Krg+(Q*E/(Ke+E))))])\n",
    "\n",
    "# Substitute the expressions for Q and R\n",
    "expr_S1S2 = expr_RQ.subs([(R, Rtot*S1),(Q, Qtot*S2)])\n",
    "\n",
    "# Expliciting the relation between S1 and S2 to obtain T(FGF, S1): \n",
    "expr_T = expr_S1S2.subs([(S2,-1.1265*S1 +0.9092)])\n",
    "\n",
    "print('Evolution equation for T (all parameters explicited):')\n",
    "print(expr_T)\n",
    "\n",
    "# Solve the equation \n",
    "sol = solve(expr_T, T)[2]"
   ]
  },
  {
   "cell_type": "markdown",
   "metadata": {},
   "source": [
    "Definition of the function ExprT that compute T as a function of all the parameters of the equation"
   ]
  },
  {
   "cell_type": "code",
   "execution_count": 6,
   "metadata": {},
   "outputs": [],
   "source": [
    "def exprT(Vs_v=1, Vrg_v=0.4, K1_v=0.5, K2_v=0.2, Krg_v=1200, Ks_v=1200, Kb_v=0.2, F_v=5, Kd_v=25, E_v=5, Ke_v=50, Rtot_v=2000, Qtot_v=2000, S1_v=0.5):\n",
    "    sol_T = sol.subs([(Vs,Vs_v),(Vrg,Vrg_v),(K1, K1_v),(K2,K2_v),(Krg, Krg_v), (Ks, Ks_v), (Kb, Kb_v),(F, F_v),(Kd, Kd_v),(E,E_v), (Ke, Ke_v),(Rtot, Rtot_v),(Qtot,Qtot_v),(S1,S1_v)])\n",
    "    sol_T = np.real(np.array(sol_T,complex))\n",
    "    return sol_T"
   ]
  },
  {
   "cell_type": "markdown",
   "metadata": {},
   "source": [
    "Definition of the function to compute Erk (as a function of T)"
   ]
  },
  {
   "cell_type": "code",
   "execution_count": 7,
   "metadata": {},
   "outputs": [],
   "source": [
    "def Erk(T,n=2, Kerk=0.5, Erk_max=1, Erk_bas=0): \n",
    "    Erk = [ Erk_max* T[i]**n/(T[i]**n +Kerk**n)+Erk_bas for i in range(len(T)) ]\n",
    "    return Erk"
   ]
  },
  {
   "cell_type": "markdown",
   "metadata": {},
   "source": [
    "Evolution equation for the activator Ap"
   ]
  },
  {
   "cell_type": "code",
   "execution_count": 8,
   "metadata": {},
   "outputs": [],
   "source": [
    "expr_Ap = kMM3*Er*(1-Ap)/(KMM3+(1-Ap))-vMM4*Ap/(KMM4+Ap)\n",
    "sol_Ap= solve(expr_Ap, Ap)[1] \n",
    "\n",
    "# Function to compute Ap as a function of the other parameters:  \n",
    "def exprAp(kMM3_v=12,Er_v=0.5,KMM3_v=0.05,vMM4_v=1,KMM4_v=0.05):\n",
    "    solAp= sol_Ap.subs([(kMM3,kMM3_v), (Er,Er_v), (KMM4,KMM4_v), (vMM4,vMM4_v), (KMM3,KMM3_v)]) \n",
    "    return solAp"
   ]
  },
  {
   "cell_type": "markdown",
   "metadata": {},
   "source": [
    "Evolution equation for the inhibitor I"
   ]
  },
  {
   "cell_type": "code",
   "execution_count": 9,
   "metadata": {},
   "outputs": [],
   "source": [
    "expr_I = -kMM1*Er*I/(KMM1+I)+vMM2*(1-I)/(KMM2+(1-I))\n",
    "sol_I= solve(expr_I, I)[0] \n",
    "\n",
    "# Function to compute I as a function of the other parameters: \n",
    "def exprI(kMM1_v=12,Er_v=0.5,KMM1_v=0.05,vMM2_v=1,KMM2_v=0.05): \n",
    "    solI= sol_I.subs([(kMM1,kMM1_v), (Er,Er_v), (KMM1,KMM1_v), (vMM2,vMM2_v), (KMM2,KMM2_v)]) \n",
    "    return solI "
   ]
  },
  {
   "cell_type": "markdown",
   "metadata": {},
   "source": [
    "Compute Otx and define a function ExprOtx that compute Otx as a function of all the parameters of the equation"
   ]
  },
  {
   "cell_type": "code",
   "execution_count": 10,
   "metadata": {},
   "outputs": [],
   "source": [
    "expr_Otx = vb+ vo*Ap/((Ka*(1+I/Ki))+Ap)-k*O\n",
    "sol_Otx= solve(expr_Otx, O)[0]  \n",
    "\n",
    "# Function to compute Otx as a function of the other parameters\n",
    "def exprOtx(Ap_v, I_v, vb_v=0.001,vo_v=1,Ka_v=0.1,Ki_v=0.1,k_v=0.2, Omax=1, Obas=0): \n",
    "    solOtx= [sol_Otx.subs([(Ap, Ap_v[i]), (I, I_v[i]), (vb,vb_v), (vo,vo_v), (Ka,Ka_v), (Ki,Ki_v), (k,k_v)])*Omax +Obas for i in range(len(Ap_v))] \n",
    "    return solOtx"
   ]
  },
  {
   "cell_type": "markdown",
   "metadata": {},
   "source": [
    "# Import the experimental data and reproduce the figures of the paper"
   ]
  },
  {
   "cell_type": "code",
   "execution_count": 12,
   "metadata": {},
   "outputs": [],
   "source": [
    "#read the excel file with the experimental data\n",
    "data_S1 = pd.read_excel('/Users/rossanabettoni/Desktop/PhD/Article_PLOS/ExpData.xlsx', sheet_name='Cell surface contacts')\n",
    "df_S1 = pd.DataFrame(data_S1)\n",
    "\n",
    "data_Fig3C = pd.read_excel('/Users/rossanabettoni/Desktop/PhD/Article_PLOS/ExpData.xlsx', sheet_name='Fig 3C & S4B')\n",
    "df_Fig3C = pd.DataFrame(data_Fig3C)"
   ]
  },
  {
   "cell_type": "markdown",
   "metadata": {},
   "source": [
    "Experimental data figure 1C"
   ]
  },
  {
   "cell_type": "code",
   "execution_count": 13,
   "metadata": {},
   "outputs": [],
   "source": [
    "# Reltive area of cell surface contact with FGF expressing cells (divided by cell type)\n",
    "a65_RelContactArea_A = np.array(df_S1['a6.5 S1'].values.tolist())[0:25] \n",
    "a66_RelContactArea_A = np.array(df_S1['a6.6 S1'].values.tolist())[0:25] \n",
    "a67_RelContactArea_A = np.array(df_S1['a6.7 S1'].values.tolist())[0:25] \n",
    "a68_RelContactArea_A = np.array(df_S1['a6.8 S1'].values.tolist())[0:25] "
   ]
  },
  {
   "cell_type": "markdown",
   "metadata": {},
   "source": [
    "Experimental data figure 3C"
   ]
  },
  {
   "cell_type": "code",
   "execution_count": 14,
   "metadata": {},
   "outputs": [],
   "source": [
    "# Level of Otx expression in the different condition\n",
    "control = np.array(df_Fig3C['Ctrl'].values.tolist())\n",
    "NVP = np.array(df_Fig3C['nvp'].values.tolist())\n",
    "Rescue = np.array(df_Fig3C['Rescue'].values.tolist())\n",
    "\n",
    "# Control: Divide the data per cell type\n",
    "control_a65 = control[0:16]\n",
    "control_a66 = control[16:32]\n",
    "control_a67 = control[32:48]\n",
    "control_a68 = control[48:64]\n",
    "\n",
    "# Control: compute the mean and std\n",
    "mean_Otx_a65 = np.nanmean(control_a65)\n",
    "mean_Otx_a66 = np.nanmean(control_a66)\n",
    "mean_Otx_a67 = np.nanmean(control_a67)\n",
    "mean_Otx_a68 = np.nanmean(control_a68)\n",
    "\n",
    "std_Otx_a65 = np.nanstd(control_a65)\n",
    "std_Otx_a66 = np.nanstd(control_a66)\n",
    "std_Otx_a67 = np.nanstd(control_a67)\n",
    "std_Otx_a68 = np.nanstd(control_a68)\n",
    "\n",
    "mean_control = [mean_Otx_a65, mean_Otx_a66, mean_Otx_a67, mean_Otx_a68]\n",
    "std_control = [std_Otx_a65, std_Otx_a66, std_Otx_a67, std_Otx_a68]\n",
    "\n",
    "\n",
    "# NVP: Divide the data per cell type\n",
    "NVP_a65 = NVP[0:16]\n",
    "NVP_a66 = NVP[16:32]\n",
    "NVP_a67 = NVP[32:48]\n",
    "NVP_a68 = NVP[48:64]\n",
    "\n",
    "# NVP: compute the mean and std\n",
    "mean_Otx_a65_NVP = np.nanmean(NVP_a65)\n",
    "mean_Otx_a66_NVP = np.nanmean(NVP_a66)\n",
    "mean_Otx_a67_NVP = np.nanmean(NVP_a67)\n",
    "mean_Otx_a68_NVP = np.nanmean(NVP_a68)\n",
    "\n",
    "std_Otx_a65_NVP = np.nanstd(NVP_a65)\n",
    "std_Otx_a66_NVP = np.nanstd(NVP_a66)\n",
    "std_Otx_a67_NVP = np.nanstd(NVP_a67)\n",
    "std_Otx_a68_NVP = np.nanstd(NVP_a68)\n",
    "\n",
    "mean_NVP = [mean_Otx_a65_NVP, mean_Otx_a66_NVP, mean_Otx_a67_NVP, mean_Otx_a68_NVP]\n",
    "std_NVP = [std_Otx_a65_NVP, std_Otx_a66_NVP, std_Otx_a67_NVP, std_Otx_a68_NVP]\n",
    "\n",
    "# NVP + U0126: compute the mean and std\n",
    "Rescue_a65 = Rescue[0:16]\n",
    "Rescue_a66 = Rescue[16:32]\n",
    "Rescue_a67 = Rescue[32:48]\n",
    "Rescue_a68 = Rescue[48:64]\n",
    "\n",
    "# NVP +U0126: compute the mean and std\n",
    "mean_Otx_a65_Rescue = np.nanmean(Rescue_a65)\n",
    "mean_Otx_a66_Rescue = np.nanmean(Rescue_a66)\n",
    "mean_Otx_a67_Rescue = np.nanmean(Rescue_a67)\n",
    "mean_Otx_a68_Rescue = np.nanmean(Rescue_a68)\n",
    "\n",
    "std_Otx_a65_Rescue = np.nanstd(Rescue_a65)\n",
    "std_Otx_a66_Rescue = np.nanstd(Rescue_a66)\n",
    "std_Otx_a67_Rescue = np.nanstd(Rescue_a67)\n",
    "std_Otx_a68_Rescue = np.nanstd(Rescue_a68)\n",
    "\n",
    "mean_Rescue = [mean_Otx_a65_Rescue, mean_Otx_a66_Rescue, mean_Otx_a67_Rescue, mean_Otx_a68_Rescue]\n",
    "std_Rescue = [std_Otx_a65_Rescue, std_Otx_a66_Rescue, std_Otx_a67_Rescue, std_Otx_a68_Rescue]"
   ]
  },
  {
   "cell_type": "markdown",
   "metadata": {},
   "source": [
    "# Results"
   ]
  },
  {
   "cell_type": "markdown",
   "metadata": {
    "heading_collapsed": true
   },
   "source": [
    "## Figure 3C"
   ]
  },
  {
   "cell_type": "markdown",
   "metadata": {
    "heading_collapsed": true,
    "hidden": true
   },
   "source": [
    "### Model predictions"
   ]
  },
  {
   "cell_type": "markdown",
   "metadata": {
    "hidden": true
   },
   "source": [
    "#### Control"
   ]
  },
  {
   "cell_type": "code",
   "execution_count": 15,
   "metadata": {
    "hidden": true
   },
   "outputs": [],
   "source": [
    "# Compute T \n",
    "T_pred_a65 = [exprT(S1_v= a65_RelContactArea_A[i]) for i in range(len(a65_RelContactArea_A))]\n",
    "T_pred_a66 = [exprT(S1_v= a66_RelContactArea_A[i]) for i in range(len(a66_RelContactArea_A))]\n",
    "T_pred_a67 = [exprT(S1_v= a67_RelContactArea_A[i]) for i in range(len(a67_RelContactArea_A))]\n",
    "T_pred_a68 = [exprT(S1_v= a68_RelContactArea_A[i]) for i in range(len(a68_RelContactArea_A))]\n",
    "\n",
    "# Compute Erk activity \n",
    "Erk_pred_a65 = Erk(T_pred_a65)\n",
    "Erk_pred_a66 = Erk(T_pred_a66)\n",
    "Erk_pred_a67 = Erk(T_pred_a67)\n",
    "Erk_pred_a68 = Erk(T_pred_a68)\n",
    "\n",
    "# Compute Ap\n",
    "Ap_pred_a65 = [exprAp(Er_v=Erk_pred_a65[i]) for i in range(len(Erk_pred_a65))]\n",
    "Ap_pred_a66 = [exprAp(Er_v=Erk_pred_a66[i]) for i in range(len(Erk_pred_a66))]\n",
    "Ap_pred_a67 = [exprAp(Er_v=Erk_pred_a67[i]) for i in range(len(Erk_pred_a67))]\n",
    "Ap_pred_a68 = [exprAp(Er_v=Erk_pred_a68[i]) for i in range(len(Erk_pred_a68))]\n",
    "\n",
    "# Compute I\n",
    "I_pred_a65 = [exprI(Er_v=Erk_pred_a65[i]) for i in range(len(Erk_pred_a65))]\n",
    "I_pred_a66 = [exprI(Er_v=Erk_pred_a66[i]) for i in range(len(Erk_pred_a66))]\n",
    "I_pred_a67 = [exprI(Er_v=Erk_pred_a67[i]) for i in range(len(Erk_pred_a67))]\n",
    "I_pred_a68 = [exprI(Er_v=Erk_pred_a68[i]) for i in range(len(Erk_pred_a68))]\n",
    "\n",
    "# Compute otx expression\n",
    "Otx_pred_a65_e = np.array(exprOtx(Ap_v=Ap_pred_a65,I_v=I_pred_a65)).astype(float)\n",
    "Otx_pred_a66_e = np.array(exprOtx(Ap_v=Ap_pred_a66,I_v=I_pred_a66)).astype(float)\n",
    "Otx_pred_a67_e = np.array(exprOtx(Ap_v=Ap_pred_a67,I_v=I_pred_a67)).astype(float)\n",
    "Otx_pred_a68_e = np.array(exprOtx(Ap_v=Ap_pred_a68,I_v=I_pred_a68)).astype(float)\n",
    "\n",
    "# Compute the mean and std\n",
    "mean_Otx_pred_a65_e = np.mean(Otx_pred_a65_e)\n",
    "mean_Otx_pred_a66_e = np.mean(Otx_pred_a66_e)\n",
    "mean_Otx_pred_a67_e = np.mean(Otx_pred_a67_e)\n",
    "mean_Otx_pred_a68_e = np.mean(Otx_pred_a68_e)\n",
    "\n",
    "std_Otx_pred_a65_e = np.std(Otx_pred_a65_e)\n",
    "std_Otx_pred_a66_e = np.std(Otx_pred_a66_e)\n",
    "std_Otx_pred_a67_e = np.std(Otx_pred_a67_e)\n",
    "std_Otx_pred_a68_e = np.std(Otx_pred_a68_e)"
   ]
  },
  {
   "cell_type": "code",
   "execution_count": 16,
   "metadata": {
    "hidden": true
   },
   "outputs": [],
   "source": [
    "# Compute Otx smFISH spot counts\n",
    "Omax_value= 94\n",
    "Obas_value= 1.2 # mean_Otx_a68\n",
    "\n",
    "Otx_pred_a65_sc = np.array(exprOtx(Ap_v=Ap_pred_a65,I_v=I_pred_a65, Omax= Omax_value,Obas=Obas_value)).astype(float)\n",
    "Otx_pred_a66_sc = np.array(exprOtx(Ap_v=Ap_pred_a66,I_v=I_pred_a66, Omax= Omax_value,Obas=Obas_value)).astype(float)\n",
    "Otx_pred_a67_sc = np.array(exprOtx(Ap_v=Ap_pred_a67,I_v=I_pred_a67, Omax= Omax_value,Obas=Obas_value)).astype(float)\n",
    "Otx_pred_a68_sc = np.array(exprOtx(Ap_v=Ap_pred_a68,I_v=I_pred_a68, Omax= Omax_value,Obas=Obas_value)).astype(float)\n",
    "\n",
    "# Compute the mean and std\n",
    "mean_Otx_pred_a65_sc = np.mean(Otx_pred_a65_sc)\n",
    "mean_Otx_pred_a66_sc = np.mean(Otx_pred_a66_sc)\n",
    "mean_Otx_pred_a67_sc = np.mean(Otx_pred_a67_sc)\n",
    "mean_Otx_pred_a68_sc = np.mean(Otx_pred_a68_sc)\n",
    "\n",
    "std_Otx_pred_a65_sc = np.sqrt(Omax_value**2*std_Otx_pred_a65_e**2+std_Otx_a68**2)\n",
    "std_Otx_pred_a66_sc = np.sqrt(Omax_value**2*std_Otx_pred_a66_e**2+std_Otx_a68**2)\n",
    "std_Otx_pred_a67_sc = np.sqrt(Omax_value**2*std_Otx_pred_a67_e**2+std_Otx_a68**2)\n",
    "std_Otx_pred_a68_sc = np.sqrt(Omax_value**2*std_Otx_pred_a68_e**2+std_Otx_a68**2)"
   ]
  },
  {
   "cell_type": "markdown",
   "metadata": {
    "hidden": true
   },
   "source": [
    "#### NVP"
   ]
  },
  {
   "cell_type": "code",
   "execution_count": 17,
   "metadata": {
    "hidden": true
   },
   "outputs": [],
   "source": [
    "E_value = 0.001\n",
    "\n",
    "# Compute T\n",
    "T_pred_a65_NVP = [exprT(S1_v= a65_RelContactArea_A[i], E_v=E_value) for i in range(len(a65_RelContactArea_A))]\n",
    "T_pred_a66_NVP = [exprT(S1_v= a66_RelContactArea_A[i], E_v=E_value) for i in range(len(a66_RelContactArea_A))]\n",
    "T_pred_a67_NVP = [exprT(S1_v= a67_RelContactArea_A[i], E_v=E_value) for i in range(len(a67_RelContactArea_A))]\n",
    "T_pred_a68_NVP = [exprT(S1_v= a68_RelContactArea_A[i], E_v=E_value) for i in range(len(a68_RelContactArea_A))]\n",
    "\n",
    "# Compute Erk activity \n",
    "Erk_pred_a65_NVP = Erk(T_pred_a65_NVP)\n",
    "Erk_pred_a66_NVP = Erk(T_pred_a66_NVP)\n",
    "Erk_pred_a67_NVP = Erk(T_pred_a67_NVP)\n",
    "Erk_pred_a68_NVP = Erk(T_pred_a68_NVP)\n",
    "\n",
    "# Compute Ap\n",
    "Ap_pred_a65_NVP = [exprAp(Er_v=Erk_pred_a65_NVP[i]) for i in range(len(Erk_pred_a65_NVP))]\n",
    "Ap_pred_a66_NVP = [exprAp(Er_v=Erk_pred_a66_NVP[i]) for i in range(len(Erk_pred_a66_NVP))]\n",
    "Ap_pred_a67_NVP = [exprAp(Er_v=Erk_pred_a67_NVP[i]) for i in range(len(Erk_pred_a67_NVP))]\n",
    "Ap_pred_a68_NVP = [exprAp(Er_v=Erk_pred_a68_NVP[i]) for i in range(len(Erk_pred_a68_NVP))]\n",
    "\n",
    "# Compute I \n",
    "I_pred_a65_NVP = [exprI(Er_v=Erk_pred_a65_NVP[i]) for i in range(len(Erk_pred_a65_NVP))]\n",
    "I_pred_a66_NVP = [exprI(Er_v=Erk_pred_a66_NVP[i]) for i in range(len(Erk_pred_a66_NVP))]\n",
    "I_pred_a67_NVP = [exprI(Er_v=Erk_pred_a67_NVP[i]) for i in range(len(Erk_pred_a67_NVP))]\n",
    "I_pred_a68_NVP = [exprI(Er_v=Erk_pred_a68_NVP[i]) for i in range(len(Erk_pred_a68_NVP))]\n",
    "\n",
    "# Compute Otx epression\n",
    "Otx_pred_a65_NVP_e = np.array(exprOtx(Ap_v=Ap_pred_a65_NVP,I_v=I_pred_a65_NVP)).astype(float)\n",
    "Otx_pred_a66_NVP_e = np.array(exprOtx(Ap_v=Ap_pred_a66_NVP,I_v=I_pred_a66_NVP)).astype(float)\n",
    "Otx_pred_a67_NVP_e = np.array(exprOtx(Ap_v=Ap_pred_a67_NVP,I_v=I_pred_a67_NVP)).astype(float)\n",
    "Otx_pred_a68_NVP_e = np.array(exprOtx(Ap_v=Ap_pred_a68_NVP,I_v=I_pred_a68_NVP)).astype(float)\n",
    "\n",
    "# Compute the mean and std\n",
    "mean_Otx_pred_a65_NVP_e = np.mean(Otx_pred_a65_NVP_e)\n",
    "mean_Otx_pred_a66_NVP_e = np.mean(Otx_pred_a66_NVP_e)\n",
    "mean_Otx_pred_a67_NVP_e = np.mean(Otx_pred_a67_NVP_e)\n",
    "mean_Otx_pred_a68_NVP_e = np.mean(Otx_pred_a68_NVP_e)\n",
    "\n",
    "std_Otx_pred_a65_NVP_e = np.std(Otx_pred_a65_NVP_e)\n",
    "std_Otx_pred_a66_NVP_e = np.std(Otx_pred_a66_NVP_e)\n",
    "std_Otx_pred_a67_NVP_e = np.std(Otx_pred_a67_NVP_e)\n",
    "std_Otx_pred_a68_NVP_e = np.std(Otx_pred_a68_NVP_e)"
   ]
  },
  {
   "cell_type": "code",
   "execution_count": 18,
   "metadata": {
    "hidden": true
   },
   "outputs": [],
   "source": [
    "# Compute Otx spot counts\n",
    "Omax_value= 94\n",
    "Obas_value= 1.2 \n",
    "\n",
    "Otx_pred_a65_NVP_sc = np.array(exprOtx(Ap_v=Ap_pred_a65_NVP,I_v=I_pred_a65_NVP, Omax = Omax_value, Obas=Obas_value)).astype(float)\n",
    "Otx_pred_a66_NVP_sc = np.array(exprOtx(Ap_v=Ap_pred_a66_NVP,I_v=I_pred_a66_NVP, Omax = Omax_value, Obas=Obas_value)).astype(float)\n",
    "Otx_pred_a67_NVP_sc = np.array(exprOtx(Ap_v=Ap_pred_a67_NVP,I_v=I_pred_a67_NVP, Omax = Omax_value, Obas=Obas_value)).astype(float)\n",
    "Otx_pred_a68_NVP_sc = np.array(exprOtx(Ap_v=Ap_pred_a68_NVP,I_v=I_pred_a68_NVP, Omax = Omax_value, Obas=Obas_value)).astype(float)\n",
    "\n",
    "# Compute the mean and std\n",
    "mean_Otx_pred_a65_NVP_sc = np.mean(Otx_pred_a65_NVP_sc)\n",
    "mean_Otx_pred_a66_NVP_sc = np.mean(Otx_pred_a66_NVP_sc)\n",
    "mean_Otx_pred_a67_NVP_sc = np.mean(Otx_pred_a67_NVP_sc)\n",
    "mean_Otx_pred_a68_NVP_sc = np.mean(Otx_pred_a68_NVP_sc)\n",
    "\n",
    "std_Otx_pred_a65_NVP_sc = np.sqrt(Omax_value**2*std_Otx_pred_a65_NVP_e**2+std_Otx_a68_NVP**2)\n",
    "std_Otx_pred_a66_NVP_sc = np.sqrt(Omax_value**2*std_Otx_pred_a66_NVP_e**2+std_Otx_a68_NVP**2)\n",
    "std_Otx_pred_a67_NVP_sc = np.sqrt(Omax_value**2*std_Otx_pred_a67_NVP_e**2+std_Otx_a68_NVP**2)\n",
    "std_Otx_pred_a68_NVP_sc = np.sqrt(Omax_value**2*std_Otx_pred_a68_NVP_e**2+std_Otx_a68_NVP**2)"
   ]
  },
  {
   "cell_type": "markdown",
   "metadata": {
    "hidden": true
   },
   "source": [
    "#### NVP + U0126 0.2 mM (Rescue)"
   ]
  },
  {
   "cell_type": "code",
   "execution_count": 19,
   "metadata": {
    "hidden": true
   },
   "outputs": [],
   "source": [
    "E_value = 0.001\n",
    "K_erk = 0.6\n",
    "\n",
    "# Compute Erk activity \n",
    "T_pred_a65_NVP = [exprT(S1_v= a65_RelContactArea_A[i], E_v=E_value) for i in range(len(a65_RelContactArea_A))]\n",
    "T_pred_a66_NVP = [exprT(S1_v= a66_RelContactArea_A[i], E_v=E_value) for i in range(len(a66_RelContactArea_A))]\n",
    "T_pred_a67_NVP = [exprT(S1_v= a67_RelContactArea_A[i], E_v=E_value) for i in range(len(a67_RelContactArea_A))]\n",
    "T_pred_a68_NVP = [exprT(S1_v= a68_RelContactArea_A[i], E_v=E_value) for i in range(len(a68_RelContactArea_A))]\n",
    "\n",
    "Erk_pred_a65_Rescue = Erk(T_pred_a65_NVP, Kerk = K_erk)\n",
    "Erk_pred_a66_Rescue = Erk(T_pred_a66_NVP, Kerk = K_erk)\n",
    "Erk_pred_a67_Rescue = Erk(T_pred_a67_NVP, Kerk = K_erk)\n",
    "Erk_pred_a68_Rescue = Erk(T_pred_a68_NVP, Kerk = K_erk)\n",
    "\n",
    "# Compute Otx expression  \n",
    "Ap_pred_a65_Rescue  = [exprAp(Er_v=Erk_pred_a65_Rescue[i]) for i in range(len(Erk_pred_a65_Rescue))]\n",
    "Ap_pred_a66_Rescue  = [exprAp(Er_v=Erk_pred_a66_Rescue[i]) for i in range(len(Erk_pred_a65_Rescue))]\n",
    "Ap_pred_a67_Rescue  = [exprAp(Er_v=Erk_pred_a67_Rescue[i]) for i in range(len(Erk_pred_a65_Rescue))]\n",
    "Ap_pred_a68_Rescue  = [exprAp(Er_v=Erk_pred_a68_Rescue[i]) for i in range(len(Erk_pred_a65_Rescue))]\n",
    "\n",
    "I_pred_a65_Rescue  = [exprI(Er_v=Erk_pred_a65_Rescue[i]) for i in range(len(Erk_pred_a65_Rescue))]\n",
    "I_pred_a66_Rescue  = [exprI(Er_v=Erk_pred_a66_Rescue[i]) for i in range(len(Erk_pred_a65_Rescue))]\n",
    "I_pred_a67_Rescue  = [exprI(Er_v=Erk_pred_a67_Rescue[i]) for i in range(len(Erk_pred_a65_Rescue))]\n",
    "I_pred_a68_Rescue  = [exprI(Er_v=Erk_pred_a68_Rescue[i]) for i in range(len(Erk_pred_a65_Rescue))]\n",
    "\n",
    "Otx_pred_a65_Rescue_e = np.array(exprOtx(Ap_v=Ap_pred_a65_Rescue ,I_v=I_pred_a65_Rescue)).astype(float)\n",
    "Otx_pred_a66_Rescue_e = np.array(exprOtx(Ap_v=Ap_pred_a66_Rescue ,I_v=I_pred_a66_Rescue)).astype(float)\n",
    "Otx_pred_a67_Rescue_e = np.array(exprOtx(Ap_v=Ap_pred_a67_Rescue ,I_v=I_pred_a67_Rescue)).astype(float)\n",
    "Otx_pred_a68_Rescue_e = np.array(exprOtx(Ap_v=Ap_pred_a68_Rescue ,I_v=I_pred_a68_Rescue)).astype(float)\n",
    "\n",
    "# Compute the mean and std\n",
    "mean_Otx_pred_a65_Rescue_e = np.mean(Otx_pred_a65_Rescue_e)\n",
    "mean_Otx_pred_a66_Rescue_e = np.mean(Otx_pred_a66_Rescue_e)\n",
    "mean_Otx_pred_a67_Rescue_e = np.mean(Otx_pred_a67_Rescue_e)\n",
    "mean_Otx_pred_a68_Rescue_e = np.mean(Otx_pred_a68_Rescue_e)\n",
    "\n",
    "std_Otx_pred_a65_Rescue_e = np.std(Otx_pred_a65_Rescue_e)\n",
    "std_Otx_pred_a66_Rescue_e = np.std(Otx_pred_a66_Rescue_e)\n",
    "std_Otx_pred_a67_Rescue_e = np.std(Otx_pred_a67_Rescue_e)\n",
    "std_Otx_pred_a68_Rescue_e = np.std(Otx_pred_a68_Rescue_e)"
   ]
  },
  {
   "cell_type": "code",
   "execution_count": 20,
   "metadata": {
    "hidden": true
   },
   "outputs": [],
   "source": [
    "Omax_value= 94\n",
    "Obas_value= 1.2 #mean_Otx_a68_Rescue\n",
    "\n",
    "# Compute Otx spot counts  \n",
    "Otx_pred_a65_Rescue_sc = np.array(exprOtx(Ap_v=Ap_pred_a65_Rescue,I_v=I_pred_a65_Rescue, Omax = Omax_value,Obas=Obas_value)).astype(float)\n",
    "Otx_pred_a66_Rescue_sc = np.array(exprOtx(Ap_v=Ap_pred_a66_Rescue,I_v=I_pred_a66_Rescue, Omax = Omax_value,Obas=Obas_value)).astype(float)\n",
    "Otx_pred_a67_Rescue_sc = np.array(exprOtx(Ap_v=Ap_pred_a67_Rescue,I_v=I_pred_a67_Rescue, Omax = Omax_value,Obas=Obas_value)).astype(float)\n",
    "Otx_pred_a68_Rescue_sc = np.array(exprOtx(Ap_v=Ap_pred_a68_Rescue,I_v=I_pred_a68_Rescue, Omax = Omax_value,Obas=Obas_value)).astype(float)\n",
    "\n",
    "# Compute the mean and std\n",
    "mean_Otx_pred_a65_Rescue_sc = np.mean(Otx_pred_a65_Rescue_sc)\n",
    "mean_Otx_pred_a66_Rescue_sc = np.mean(Otx_pred_a66_Rescue_sc)\n",
    "mean_Otx_pred_a67_Rescue_sc = np.mean(Otx_pred_a67_Rescue_sc)\n",
    "mean_Otx_pred_a68_Rescue_sc = np.mean(Otx_pred_a68_Rescue_sc)\n",
    "\n",
    "std_Otx_pred_a65_Rescue_sc = np.sqrt(Omax_value**2*std_Otx_pred_a65_Rescue_e**2+std_Otx_a68_Rescue**2)\n",
    "std_Otx_pred_a66_Rescue_sc = np.sqrt(Omax_value**2*std_Otx_pred_a66_Rescue_e**2+std_Otx_a68_Rescue**2)\n",
    "std_Otx_pred_a67_Rescue_sc = np.sqrt(Omax_value**2*std_Otx_pred_a67_Rescue_e**2+std_Otx_a68_Rescue**2)\n",
    "std_Otx_pred_a68_Rescue_sc = np.sqrt(Omax_value**2*std_Otx_pred_a68_Rescue_e**2+std_Otx_a68_Rescue**2)"
   ]
  },
  {
   "cell_type": "markdown",
   "metadata": {
    "heading_collapsed": true,
    "hidden": true
   },
   "source": [
    "### Comparison with experimental data "
   ]
  },
  {
   "cell_type": "code",
   "execution_count": 22,
   "metadata": {
    "hidden": true
   },
   "outputs": [
    {
     "data": {
      "image/png": "[encoded data removed]",
      "text/plain": [
       "<Figure size 648x432 with 3 Axes>"
      ]
     },
     "metadata": {
      "needs_background": "light"
     },
     "output_type": "display_data"
    }
   ],
   "source": [
    "fig = plt.figure(figsize=(9,6))\n",
    "gs = fig.add_gridspec(1,3, hspace=0,wspace=0)\n",
    "axs = gs.subplots(sharey=True)\n",
    "\n",
    "# control\n",
    "x = np.random.normal(1, 0.08, size=len(control_a65 ))\n",
    "axs[0].plot(x,control_a65 ,'.', color='orchid', alpha=0.2, markersize=10, zorder=1)\n",
    "\n",
    "x = np.random.normal(1, 0.08, size=len(control_a66 ))\n",
    "axs[0].plot(x,control_a66 ,'.', color='tab:green', alpha=0.2, markersize=10, zorder=1)\n",
    "\n",
    "x = np.random.normal(1, 0.08, size=len(control_a68 ))\n",
    "axs[0].plot(x,control_a68 ,'.', color='grey', alpha=0.2, markersize=10, zorder=1)\n",
    "\n",
    "x = np.random.normal(1, 0.08, size=len(control_a67 ))\n",
    "axs[0].plot(x,control_a67 ,'.', color='tab:blue', alpha=0.2, markersize=10, zorder=1)\n",
    "\n",
    "\n",
    "x = np.random.normal(2, 0.08, size=len(Otx_pred_a65_sc))\n",
    "axs[0].plot(x,Otx_pred_a65_sc,'.', color='orchid', alpha=0.2, markersize=10, zorder=1)\n",
    "\n",
    "x = np.random.normal(2, 0.08, size=len(Otx_pred_a66_sc ))\n",
    "axs[0].plot(x,Otx_pred_a66_sc ,'.', color='tab:green', alpha=0.2, markersize=10, zorder=1)\n",
    "\n",
    "x = np.random.normal(2, 0.08, size=len(Otx_pred_a68_sc ))\n",
    "axs[0].plot(x,Otx_pred_a68_sc ,'.', color='grey', alpha=0.2, markersize=10, zorder=1)\n",
    "\n",
    "x = np.random.normal(2, 0.08, size=len(Otx_pred_a67_sc ))\n",
    "axs[0].plot(x,Otx_pred_a67_sc ,'.', color='tab:blue', alpha=0.2, markersize=10, zorder=1)\n",
    "\n",
    "ax= axs[0]\n",
    "myErrorbar(x=[1], mean_a65= mean_control[0], mean_a66= mean_control[1], mean_a67=mean_control[2], mean_a68= mean_control[3], std_a65= std_control[0], std_a66= std_control[1], std_a67=std_control[2], std_a68=std_control[3], axs =ax)\n",
    "myErrorbar(x=[2], mean_a65= mean_Otx_pred_a65_sc, mean_a66= mean_Otx_pred_a66_sc, mean_a67=mean_Otx_pred_a67_sc, mean_a68= mean_Otx_pred_a68_sc, std_a65= std_Otx_pred_a65_sc, std_a66= std_Otx_pred_a66_sc, std_a67=std_Otx_pred_a67_sc, std_a68=std_Otx_pred_a68_sc, axs =ax)\n",
    "my_axsis(ax, xlim=[0.5,2.5], ylim=[-50,500], xticks=[1,2], title='Control', xtickslabels=['Exp', 'Model'])\n",
    "ax.set_ylabel('nuclear $Otx$ smFISH spots')\n",
    "\n",
    "\n",
    "# NVP\n",
    "x = np.random.normal(1, 0.08, size=len(NVP_a65 ))\n",
    "axs[1].plot(x,NVP_a65 ,'.', color='orchid', alpha=0.2, markersize=10, zorder=1)\n",
    "\n",
    "x = np.random.normal(1, 0.08, size=len(NVP_a66 ))\n",
    "axs[1].plot(x,NVP_a66 ,'.', color='tab:green', alpha=0.2, markersize=10, zorder=1)\n",
    "\n",
    "x = np.random.normal(1, 0.08, size=len(NVP_a68 ))\n",
    "axs[1].plot(x,NVP_a68 ,'.', color='grey', alpha=0.2, markersize=10, zorder=1)\n",
    "\n",
    "x = np.random.normal(1, 0.08, size=len(NVP_a67 ))\n",
    "axs[1].plot(x,NVP_a67 ,'.', color='tab:blue', alpha=0.2, markersize=10, zorder=1)\n",
    "\n",
    "\n",
    "x = np.random.normal(2, 0.08, size=len(Otx_pred_a65_NVP_sc ))\n",
    "axs[1].plot(x,Otx_pred_a65_NVP_sc ,'.', color='orchid', alpha=0.2, markersize=10, zorder=1)\n",
    "\n",
    "x = np.random.normal(2, 0.08, size=len(Otx_pred_a66_NVP_sc ))\n",
    "axs[1].plot(x,Otx_pred_a66_NVP_sc ,'.', color='tab:green', alpha=0.2, markersize=10, zorder=1)\n",
    "\n",
    "x = np.random.normal(2, 0.08, size=len(Otx_pred_a68_NVP_sc ))\n",
    "axs[1].plot(x,Otx_pred_a68_NVP_sc ,'.', color='grey', alpha=0.2, markersize=10, zorder=1)\n",
    "\n",
    "x = np.random.normal(2, 0.08, size=len(Otx_pred_a67_NVP_sc ))\n",
    "axs[1].plot(x,Otx_pred_a67_NVP_sc ,'.', color='tab:blue', alpha=0.2, markersize=10, zorder=1)\n",
    "\n",
    "ax= axs[1]\n",
    "myErrorbar(x=[1], mean_a65= mean_NVP[0], mean_a66= mean_NVP[1], mean_a67=mean_NVP[2], mean_a68= mean_NVP[3], std_a65= std_NVP[0], std_a66= std_NVP[1], std_a67=std_NVP[2], std_a68=std_NVP[3], axs =ax)\n",
    "myErrorbar(x=[2], mean_a65= mean_Otx_pred_a65_NVP_sc, mean_a66= mean_Otx_pred_a66_NVP_sc, mean_a67=mean_Otx_pred_a67_NVP_sc, mean_a68= mean_Otx_pred_a68_NVP_sc, std_a65= std_Otx_pred_a65_NVP_sc, std_a66= std_Otx_pred_a66_NVP_sc, std_a67=std_Otx_pred_a67_NVP_sc, std_a68=std_Otx_pred_a68_NVP_sc, axs =ax)\n",
    "my_axsis(ax, xlim=[0.5,2.5], ylim=[-50,500], xticks=[1,2], title='NVP', xtickslabels=['Exp', 'Model'])\n",
    "\n",
    "\n",
    "# NVP+U0126\n",
    "x = np.random.normal(1, 0.08, size=len(Rescue_a65 ))\n",
    "axs[2].plot(x,Rescue_a65 ,'.', color='orchid', alpha=0.2, markersize=10, zorder=1)\n",
    "\n",
    "x = np.random.normal(1, 0.08, size=len(Rescue_a66 ))\n",
    "axs[2].plot(x,Rescue_a66 ,'.', color='tab:green', alpha=0.2, markersize=10, zorder=1)\n",
    "\n",
    "x = np.random.normal(1, 0.08, size=len(Rescue_a68 ))\n",
    "axs[2].plot(x,Rescue_a68 ,'.', color='grey', alpha=0.2, markersize=10, zorder=1)\n",
    "\n",
    "x = np.random.normal(1, 0.08, size=len(Rescue_a67 ))\n",
    "axs[2].plot(x,Rescue_a67 ,'.', color='tab:blue', alpha=0.2, markersize=10, zorder=1)\n",
    "\n",
    "\n",
    "x = np.random.normal(2, 0.08, size=len(Otx_pred_a65_Rescue_sc ))\n",
    "axs[2].plot(x,Otx_pred_a65_Rescue_sc ,'.', color='orchid', alpha=0.2, markersize=10, zorder=1)\n",
    "\n",
    "x = np.random.normal(2, 0.08, size=len(Otx_pred_a66_Rescue_sc ))\n",
    "axs[2].plot(x,Otx_pred_a66_Rescue_sc ,'.', color='tab:green', alpha=0.2, markersize=10, zorder=1)\n",
    "\n",
    "x = np.random.normal(2, 0.08, size=len(Otx_pred_a68_Rescue_sc ))\n",
    "axs[2].plot(x,Otx_pred_a68_Rescue_sc ,'.', color='grey', alpha=0.2, markersize=10, zorder=1)\n",
    "\n",
    "x = np.random.normal(2, 0.08, size=len(Otx_pred_a67_Rescue_sc ))\n",
    "axs[2].plot(x,Otx_pred_a67_Rescue_sc ,'.', color='tab:blue', alpha=0.2, markersize=10, zorder=1)\n",
    "\n",
    "ax= axs[2]\n",
    "myErrorbar(x=[1], mean_a65= mean_Rescue[0], mean_a66= mean_Rescue[1], mean_a67=mean_Rescue[2], mean_a68= mean_Rescue[3], std_a65= std_Rescue[0], std_a66= std_Rescue[1], std_a67=std_Rescue[2], std_a68=std_Rescue[3], axs =ax)\n",
    "myErrorbar(x=[2], mean_a65= mean_Otx_pred_a65_Rescue_sc, mean_a66= mean_Otx_pred_a66_Rescue_sc, mean_a67=mean_Otx_pred_a67_Rescue_sc, mean_a68= mean_Otx_pred_a68_Rescue_sc, std_a65= std_Otx_pred_a65_Rescue_sc, std_a66= std_Otx_pred_a66_Rescue_sc, std_a67=std_Otx_pred_a67_Rescue_sc, std_a68=std_Otx_pred_a68_Rescue_sc, axs =ax)\n",
    "my_axsis(ax, xlim=[0.5,2.5], ylim=[-50,900], xticks=[1,2], title='NVP \\n + 0.2 $\\mu$M U0126', xtickslabels=['Exp', 'Model'])\n",
    "\n",
    "\n",
    "plt.tight_layout()\n",
    "plt.show()\n"
   ]
  },
  {
   "cell_type": "markdown",
   "metadata": {
    "heading_collapsed": true
   },
   "source": [
    "## Figure S4B"
   ]
  },
  {
   "cell_type": "markdown",
   "metadata": {
    "hidden": true
   },
   "source": [
    "#### NVP"
   ]
  },
  {
   "cell_type": "code",
   "execution_count": 23,
   "metadata": {
    "hidden": true
   },
   "outputs": [
    {
     "data": {
      "image/png": "[encoded data removed]",
      "text/plain": [
       "<Figure size 648x432 with 4 Axes>"
      ]
     },
     "metadata": {
      "needs_background": "light"
     },
     "output_type": "display_data"
    }
   ],
   "source": [
    "fig = plt.figure(figsize=(9,6))\n",
    "gs = fig.add_gridspec(1,4, hspace=0,wspace=0)\n",
    "axs = gs.subplots(sharey=True)\n",
    "\n",
    "# a6.8\n",
    "x = np.random.normal(1, 0.08, size=len(NVP_a68))\n",
    "axs[0].plot(x,NVP_a68,'.', color='grey', alpha=0.3, markersize=10,zorder=1)\n",
    " \n",
    "axs[0].errorbar(1,mean_NVP[3] ,std_NVP[3], marker='o',markersize=5,color='black', capsize=5,mfc='black', mec='black', ls='none',zorder=2)\n",
    "\n",
    "x = np.random.normal(2, 0.08, size=len(Otx_pred_a68_NVP_sc))\n",
    "axs[0].plot(x,Otx_pred_a68_NVP_sc,'.', color='grey', alpha=0.3, markersize=10,zorder=1)\n",
    "\n",
    "axs[0].errorbar(2,mean_Otx_pred_a68_NVP_sc ,std_Otx_pred_a68_NVP_sc, marker='o',markersize=5,color='black', capsize=5,mfc='black', mec='black', ls='none',zorder=2)\n",
    "\n",
    "my_axsis(axs[0], xlim= [0.5,2.5], ylim=[-100,1000], xticks=[1,2], title='a6.5', xtickslabels=['Exp', 'Model'], bold=True)\n",
    "axs[0].set_ylabel('nuclear $Otx$ smFISH spots')\n",
    "\n",
    "\n",
    "# a6.6 \n",
    "x = np.random.normal(1, 0.08, size=len(NVP_a66))\n",
    "axs[1].plot(x,NVP_a66,'.', color='tab:green', alpha=0.3, markersize=10, zorder=1)\n",
    "\n",
    "x = 1 \n",
    "axs[1].errorbar(x,mean_NVP[1] ,std_NVP[1], marker='o',markersize=5,color='black', capsize=5,mfc='black', mec='black', ls='none',zorder=2)\n",
    "\n",
    "x = np.random.normal(2, 0.08, size=len(Otx_pred_a66_NVP_sc))\n",
    "axs[1].plot(x,Otx_pred_a66_NVP_sc,'.', color='tab:green', alpha=0.3, markersize=10, zorder=1)\n",
    "\n",
    "x = 2 \n",
    "axs[1].errorbar(x,mean_Otx_pred_a66_NVP_sc ,std_Otx_pred_a66_NVP_sc, marker='o',markersize=5,color='black', capsize=5,mfc='black', mec='black', ls='none',zorder=2)\n",
    "\n",
    "my_axsis(axs[1], xlim= [0.5,2.5], ylim=[-100,1000], xticks=[1,2], title='a6.6', xtickslabels=['Exp', 'Model'], bold=True)\n",
    "\n",
    "\n",
    "# a6.7 \n",
    "x = np.random.normal(1, 0.08, size=len(NVP_a67))\n",
    "axs[2].plot(x,NVP_a67,'.', color='tab:blue', alpha=0.3, markersize=10, zorder=1)\n",
    " \n",
    "axs[2].errorbar(1,mean_NVP[2], std_NVP[2], marker='o',markersize=5,color='black', capsize=5,mfc='black', mec='black', ls='none',zorder=2)\n",
    "\n",
    "x = np.random.normal(2, 0.08, size=len(Otx_pred_a67_NVP_sc))\n",
    "axs[2].plot(x,Otx_pred_a67_NVP_sc,'.', color='tab:blue', alpha=0.3, markersize=10, zorder=1)\n",
    "\n",
    "axs[2].errorbar(2,mean_Otx_pred_a67_NVP_sc,std_Otx_pred_a67_NVP_sc, marker='o',markersize=5,color='black', capsize=5,mfc='black', mec='black', ls='none',zorder=2)\n",
    "\n",
    "my_axsis(axs[2], xlim= [0.5,2.5], ylim=[-100,1000], xticks=[1,2], title='a6.7', xtickslabels=['Exp', 'Model'], bold=True)\n",
    "\n",
    "\n",
    "# a6.5\n",
    "x = np.random.normal(1, 0.08, size=len(NVP_a65))\n",
    "axs[3].plot(x,NVP_a65,'.', color='orchid', alpha=0.3,zorder=1, markersize=10)\n",
    " \n",
    "axs[3].errorbar(1,mean_NVP[0], std_NVP[0], marker='o',markersize=5,color='black', capsize=5,mfc='black', mec='black', ls='none',zorder=2)\n",
    "\n",
    "x = np.random.normal(2, 0.08, size=len(Otx_pred_a65_NVP_sc))\n",
    "axs[3].plot(x,Otx_pred_a65_NVP_sc,'.', color='orchid', alpha=0.3,zorder=1, markersize=10)\n",
    "\n",
    "axs[3].errorbar(2,mean_Otx_pred_a65_NVP_sc, std_Otx_pred_a65_NVP_sc, marker='o',markersize=5,color='black', capsize=5,mfc='black', mec='black', ls='none',zorder=2)\n",
    "\n",
    "my_axsis(axs[3], xlim= [0,2.5], ylim=[-100,1000], xticks=[1,2], title='a6.5', xtickslabels=['Exp', 'Model'], bold=True)\n",
    "\n",
    "plt.tight_layout()\n",
    "plt.show()"
   ]
  },
  {
   "cell_type": "markdown",
   "metadata": {
    "hidden": true
   },
   "source": [
    "#### NVP +U0126"
   ]
  },
  {
   "cell_type": "code",
   "execution_count": 24,
   "metadata": {
    "hidden": true
   },
   "outputs": [
    {
     "data": {
      "image/png": "[encoded data removed]",
      "text/plain": [
       "<Figure size 648x432 with 4 Axes>"
      ]
     },
     "metadata": {
      "needs_background": "light"
     },
     "output_type": "display_data"
    }
   ],
   "source": [
    "fig = plt.figure(figsize=(9,6))\n",
    "gs = fig.add_gridspec(1,4, hspace=0,wspace=0)\n",
    "axs = gs.subplots(sharey=True)\n",
    "\n",
    "# a6.8\n",
    "x = np.random.normal(1, 0.08, size=len(Rescue_a68))\n",
    "axs[0].plot(x,Rescue_a68,'.', color='grey', alpha=0.3, markersize=10,zorder=1)\n",
    " \n",
    "axs[0].errorbar(1,mean_Rescue[3] ,std_Rescue[3], marker='o',markersize=5,color='black', capsize=5,mfc='black', mec='black', ls='none',zorder=2)\n",
    "\n",
    "x = np.random.normal(2, 0.08, size=len(Otx_pred_a68_Rescue_sc))\n",
    "axs[0].plot(x,Otx_pred_a68_Rescue_sc,'.', color='grey', alpha=0.3, markersize=10,zorder=1)\n",
    "\n",
    "axs[0].errorbar(2,mean_Otx_pred_a68_Rescue_sc ,std_Otx_pred_a68_Rescue_sc, marker='o',markersize=5,color='black', capsize=5,mfc='black', mec='black', ls='none',zorder=2)\n",
    "\n",
    "my_axsis(axs[0], xlim= [0.5,2.5], ylim=[-100,1000], xticks=[1,2], title='a6.5', xtickslabels=['Exp', 'Model'], bold=True)\n",
    "axs[0].set_ylabel('nuclear $Otx$ smFISH spots')\n",
    "\n",
    "\n",
    "# a6.6 \n",
    "x = np.random.normal(1, 0.08, size=len(Rescue_a66))\n",
    "axs[1].plot(x,Rescue_a66,'.', color='tab:green', alpha=0.3, markersize=10, zorder=1)\n",
    "\n",
    "x = 1 \n",
    "axs[1].errorbar(x,mean_Rescue[1] ,std_Rescue[1], marker='o',markersize=5,color='black', capsize=5,mfc='black', mec='black', ls='none',zorder=2)\n",
    "\n",
    "x = np.random.normal(2, 0.08, size=len(Otx_pred_a66_Rescue_sc))\n",
    "axs[1].plot(x,Otx_pred_a66_Rescue_sc,'.', color='tab:green', alpha=0.3, markersize=10, zorder=1)\n",
    "\n",
    "x = 2 \n",
    "axs[1].errorbar(x,mean_Otx_pred_a66_Rescue_sc ,std_Otx_pred_a66_Rescue_sc, marker='o',markersize=5,color='black', capsize=5,mfc='black', mec='black', ls='none',zorder=2)\n",
    "\n",
    "my_axsis(axs[1], xlim= [0.5,2.5], ylim=[-100,1000], xticks=[1,2], title='a6.6', xtickslabels=['Exp', 'Model'], bold=True)\n",
    "\n",
    "\n",
    "# a6.7 \n",
    "x = np.random.normal(1, 0.08, size=len(Rescue_a67))\n",
    "axs[2].plot(x,Rescue_a67,'.', color='tab:blue', alpha=0.3, markersize=10, zorder=1)\n",
    " \n",
    "axs[2].errorbar(1,mean_Rescue[2], std_Rescue[2], marker='o',markersize=5,color='black', capsize=5,mfc='black', mec='black', ls='none',zorder=2)\n",
    "\n",
    "x = np.random.normal(2, 0.08, size=len(Otx_pred_a67_Rescue_sc))\n",
    "axs[2].plot(x,Otx_pred_a67_Rescue_sc,'.', color='tab:blue', alpha=0.3, markersize=10, zorder=1)\n",
    "\n",
    "axs[2].errorbar(2,mean_Otx_pred_a67_Rescue_sc,std_Otx_pred_a67_Rescue_sc, marker='o',markersize=5,color='black', capsize=5,mfc='black', mec='black', ls='none',zorder=2)\n",
    "\n",
    "my_axsis(axs[2], xlim= [0.5,2.5], ylim=[-100,1000], xticks=[1,2], title='a6.7', xtickslabels=['Exp', 'Model'], bold=True)\n",
    "\n",
    "\n",
    "# a6.5\n",
    "x = np.random.normal(1, 0.08, size=len(Rescue_a65))\n",
    "axs[3].plot(x,Rescue_a65,'.', color='orchid', alpha=0.3,zorder=1, markersize=10)\n",
    " \n",
    "axs[3].errorbar(1,mean_Rescue[0], std_Rescue[0], marker='o',markersize=5,color='black', capsize=5,mfc='black', mec='black', ls='none',zorder=2)\n",
    "\n",
    "x = np.random.normal(2, 0.08, size=len(Otx_pred_a65_Rescue_sc))\n",
    "axs[3].plot(x,Otx_pred_a65_Rescue_sc,'.', color='orchid', alpha=0.3,zorder=1, markersize=10)\n",
    "\n",
    "axs[3].errorbar(2,mean_Otx_pred_a65_Rescue_sc, std_Otx_pred_a65_Rescue_sc, marker='o',markersize=5,color='black', capsize=5,mfc='black', mec='black', ls='none',zorder=2)\n",
    "\n",
    "my_axsis(axs[3], xlim= [0,2.5], ylim=[-100,1000], xticks=[1,2], title='a6.5', xtickslabels=['Exp', 'Model'], bold=True)\n",
    "\n",
    "plt.tight_layout()\n",
    "plt.show()"
   ]
  },
  {
   "cell_type": "code",
   "execution_count": null,
   "metadata": {
    "hidden": true
   },
   "outputs": [],
   "source": []
  }
 ],
 "metadata": {
  "kernelspec": {
   "display_name": "Python 3",
   "language": "python",
   "name": "python3"
  },
  "language_info": {
   "codemirror_mode": {
    "name": "ipython",
    "version": 3
   },
   "file_extension": ".py",
   "mimetype": "text/x-python",
   "name": "python",
   "nbconvert_exporter": "python",
   "pygments_lexer": "ipython3",
   "version": "3.8.5"
  }
 },
 "nbformat": 4,
 "nbformat_minor": 4
}
