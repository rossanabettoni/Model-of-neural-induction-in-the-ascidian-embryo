{
 "cells": [
  {
   "cell_type": "markdown",
   "metadata": {},
   "source": [
    "# Figure 3D"
   ]
  },
  {
   "cell_type": "markdown",
   "metadata": {},
   "source": [
    "# Import packages"
   ]
  },
  {
   "cell_type": "code",
   "execution_count": 1,
   "metadata": {},
   "outputs": [],
   "source": [
    "import numpy as np\n",
    "import matplotlib.pyplot as plt \n",
    "from sympy import symbols, solve, simplify\n",
    "import seaborn as sb\n",
    "import pandas as pd\n",
    "from scipy.optimize import curve_fit\n",
    "import sympy as sp\n",
    "plt.rcParams.update({'font.size': 18})"
   ]
  },
  {
   "cell_type": "markdown",
   "metadata": {},
   "source": [
    "# Definitions"
   ]
  },
  {
   "cell_type": "markdown",
   "metadata": {},
   "source": [
    "Function to fit a curve with an Hill function"
   ]
  },
  {
   "cell_type": "code",
   "execution_count": 2,
   "metadata": {},
   "outputs": [],
   "source": [
    "def model(x, a, b, c):\n",
    "    return c*x**a/(x**a+b**a)\n",
    "\n",
    "def Hill(z,x, params=[1,1,1]):\n",
    "    y= z-min(z)\n",
    "    popt, _ = curve_fit(model, x, y, params)\n",
    "    a,b,c = popt\n",
    "    fit= c*x**a/(x**a+ b**a)\n",
    "    \n",
    "    return [round(a,2), round(b,2), round(c,2)]"
   ]
  },
  {
   "cell_type": "markdown",
   "metadata": {},
   "source": [
    "# Model "
   ]
  },
  {
   "cell_type": "markdown",
   "metadata": {},
   "source": [
    "Definition of the parameters of the model"
   ]
  },
  {
   "cell_type": "code",
   "execution_count": 3,
   "metadata": {},
   "outputs": [],
   "source": [
    "Ap,kMM3,Er,KMM3,vMM4,KMM4 = symbols('Ap kMM3 Er KMM3 vMM4 KMM4')\n",
    "I, kMM1, Er, KMM1, vMM2,KMM2 = symbols('I kMM1 Er KMM1 vMM2 KMM2')\n",
    "vb, vo, Ap, Ka, Ki, I, k, O = symbols('vb vo Ap Ka Ki I k O')"
   ]
  },
  {
   "cell_type": "markdown",
   "metadata": {},
   "source": [
    "Evolution equation for the activator Ap"
   ]
  },
  {
   "cell_type": "code",
   "execution_count": 4,
   "metadata": {},
   "outputs": [],
   "source": [
    "expr_Ap = kMM3*Er*(1-Ap)/(KMM3+(1-Ap))-vMM4*Ap/(KMM4+Ap)\n",
    "sol_Ap= solve(expr_Ap, Ap)[1] \n",
    "\n",
    "# Function to compute Ap as a function of the other parameters:  \n",
    "def exprAp(kMM3_v=12,Er_v=0.5,KMM3_v=0.05,vMM4_v=1,KMM4_v=0.05):\n",
    "    solAp= sol_Ap.subs([(kMM3,kMM3_v), (Er,Er_v), (KMM4,KMM4_v), (vMM4,vMM4_v), (KMM3,KMM3_v)]) \n",
    "    return solAp"
   ]
  },
  {
   "cell_type": "markdown",
   "metadata": {},
   "source": [
    "Evolution equation for the inhibitor I"
   ]
  },
  {
   "cell_type": "code",
   "execution_count": 5,
   "metadata": {},
   "outputs": [],
   "source": [
    "expr_I = -kMM1*Er*I/(KMM1+I)+vMM2*(1-I)/(KMM2+(1-I))\n",
    "sol_I= solve(expr_I, I)[0] \n",
    "\n",
    "# Function to compute I as a function of the other parameters: \n",
    "def exprI(kMM1_v=12,Er_v=0.5,KMM1_v=0.05,vMM2_v=1,KMM2_v=0.05): \n",
    "    solI= sol_I.subs([(kMM1,kMM1_v), (Er,Er_v), (KMM1,KMM1_v), (vMM2,vMM2_v), (KMM2,KMM2_v)]) \n",
    "    return solI "
   ]
  },
  {
   "cell_type": "markdown",
   "metadata": {},
   "source": [
    "Compute Otx and define a function ExprOtx that compute Otx as a function of all the parameters of the equation"
   ]
  },
  {
   "cell_type": "code",
   "execution_count": 6,
   "metadata": {},
   "outputs": [],
   "source": [
    "expr_Otx = vb+ vo*Ap/((Ka*(1+I/Ki))+Ap)-k*O\n",
    "sol_Otx= solve(expr_Otx, O)[0]  \n",
    "\n",
    "# Function to compute Otx as a function of the other parameters\n",
    "def exprOtx(Ap_v, I_v, vb_v=0.001,vo_v=1,Ka_v=0.1,Ki_v=0.1,k_v=0.2, Omax=1, Obas=0): \n",
    "    solOtx= [sol_Otx.subs([(Ap, Ap_v[i]), (I, I_v[i]), (vb,vb_v), (vo,vo_v), (Ka,Ka_v), (Ki,Ki_v), (k,k_v)])*Omax +Obas for i in range(len(Ap_v))] \n",
    "    return solOtx"
   ]
  },
  {
   "cell_type": "markdown",
   "metadata": {},
   "source": [
    "# Import the experimental data"
   ]
  },
  {
   "cell_type": "code",
   "execution_count": 7,
   "metadata": {},
   "outputs": [],
   "source": [
    "#read the excel file with the experimental data\n",
    "data_S1 = pd.read_excel('/Users/rossanabettoni/Desktop/PhD/Article_PLOS/ExpData.xlsx', sheet_name='Cell surface contacts')\n",
    "df_S1 = pd.DataFrame(data_S1)\n",
    "\n",
    "data_Fig3D = pd.read_excel('/Users/rossanabettoni/Desktop/PhD/Article_PLOS/ExpData.xlsx', sheet_name='Fig 3D')\n",
    "df_Fig3D = pd.DataFrame(data_Fig3D)"
   ]
  },
  {
   "cell_type": "markdown",
   "metadata": {},
   "source": [
    "Area of cell surface in contact with FGF (S1)  "
   ]
  },
  {
   "cell_type": "code",
   "execution_count": 8,
   "metadata": {},
   "outputs": [],
   "source": [
    "a65_RelContactArea_A = np.array(df_S1['a6.5 S1'].values.tolist())[0:25] \n",
    "a66_RelContactArea_A = np.array(df_S1['a6.6 S1'].values.tolist())[0:25] \n",
    "a67_RelContactArea_A = np.array(df_S1['a6.7 S1'].values.tolist())[0:25] \n",
    "a68_RelContactArea_A = np.array(df_S1['a6.8 S1'].values.tolist())[0:25] "
   ]
  },
  {
   "cell_type": "markdown",
   "metadata": {},
   "source": [
    "Experimental data figure 3D"
   ]
  },
  {
   "cell_type": "code",
   "execution_count": 9,
   "metadata": {},
   "outputs": [],
   "source": [
    "mean_Erk = np.array(df_Fig3D['mean_Erk'].values.tolist())\n",
    "std_Erk = np.array(df_Fig3D['SEM_Erk'].values.tolist())\n",
    "\n",
    "mean_Otx = np.array(df_Fig3D['mean_Otx'].values.tolist())\n",
    "std_Otx = np.array(df_Fig3D['SEM_Otx'].values.tolist())\n",
    "\n",
    "# Rearrange the experimental data \n",
    "mean_Erk_a65 = mean_Erk[0]\n",
    "mean_Erk_a66 = mean_Erk[1]\n",
    "mean_Erk_a67 = mean_Erk[2]\n",
    "mean_Erk_a68 = mean_Erk[3]\n",
    "\n",
    "mean_Erk_a65_E = mean_Erk[4]\n",
    "mean_Erk_a66_E = mean_Erk[5]\n",
    "mean_Erk_a67_E = mean_Erk[6]\n",
    "mean_Erk_a68_E = mean_Erk[7]\n",
    "\n",
    "std_Erk_a65 = std_Erk[0]\n",
    "std_Erk_a66 = std_Erk[1]\n",
    "std_Erk_a67 = std_Erk[2]\n",
    "std_Erk_a68 = std_Erk[3]\n",
    "\n",
    "std_Erk_a65_E = std_Erk[4]\n",
    "std_Erk_a66_E = std_Erk[5]\n",
    "std_Erk_a67_E = std_Erk[6]\n",
    "std_Erk_a68_E = std_Erk[7]\n",
    "\n",
    "mean_Otx_a65 = mean_Otx[0]\n",
    "mean_Otx_a66 = mean_Otx[1]\n",
    "mean_Otx_a67 = mean_Otx[2]\n",
    "mean_Otx_a68 = mean_Otx[3]\n",
    "\n",
    "mean_Otx_a65_E = mean_Otx[4]\n",
    "mean_Otx_a66_E = mean_Otx[5]\n",
    "mean_Otx_a67_E = mean_Otx[6]\n",
    "mean_Otx_a68_E = mean_Otx[7]\n",
    "\n",
    "std_Otx_a65 = std_Otx[0]\n",
    "std_Otx_a66 = std_Otx[1]\n",
    "std_Otx_a67 = std_Otx[2]\n",
    "std_Otx_a68 = std_Otx[3]\n",
    "\n",
    "std_Otx_a65_E = std_Otx[4]\n",
    "std_Otx_a66_E = std_Otx[5]\n",
    "std_Otx_a67_E = std_Otx[6]\n",
    "std_Otx_a68_E = std_Otx[7]\n",
    "\n",
    "mean_Erk_ctrl = mean_Erk[0:4]\n",
    "mean_Erk_E = mean_Erk[4:8]\n",
    "mean_Otx_ctrl = mean_Otx[0:4]\n",
    "mean_Otx_E = mean_Otx[4:8]\n"
   ]
  },
  {
   "cell_type": "markdown",
   "metadata": {},
   "source": [
    "# Results"
   ]
  },
  {
   "cell_type": "markdown",
   "metadata": {},
   "source": [
    "## Figure 3D: model predictions"
   ]
  },
  {
   "cell_type": "code",
   "execution_count": 10,
   "metadata": {},
   "outputs": [],
   "source": [
    "# Normalize the experimental data, to obtain Erk activity \n",
    "mean_Erk_star = [mean_Erk[i]/3200 for i in range(len(mean_Erk))]\n",
    "\n",
    "std_Erk_a65_star = std_Erk_a65/3200\n",
    "std_Erk_a66_star = std_Erk_a66/3200\n",
    "std_Erk_a67_star = std_Erk_a67/3200\n",
    "std_Erk_a68_star = std_Erk_a68/3200\n",
    "\n",
    "std_Erk_a65_E_star = std_Erk_a65_E/3200\n",
    "std_Erk_a66_E_star = std_Erk_a66_E/3200\n",
    "std_Erk_a67_E_star = std_Erk_a67_E/3200\n",
    "std_Erk_a68_E_star = std_Erk_a68_E/3200\n",
    "\n",
    "# Select the data of the control embryos\n",
    "mean_Erk_ctrl_star =  mean_Erk_star[0:4]\n",
    "\n",
    "# Select the data of the ephrin inhibited embryos\n",
    "mean_Erk_E_star =  mean_Erk_star[4:8]"
   ]
  },
  {
   "cell_type": "code",
   "execution_count": 11,
   "metadata": {},
   "outputs": [],
   "source": [
    "# Normalize the exp data to obtain Otx expression\n",
    "mean_Otx_star = [mean_Otx[i]/120 for i in range(len(mean_Otx))]\n",
    "\n",
    "mean_Otx_a65_star = mean_Otx_a65/120 \n",
    "mean_Otx_a66_star = mean_Otx_a66/120 \n",
    "mean_Otx_a67_star = mean_Otx_a67/120 \n",
    "mean_Otx_a68_star = mean_Otx_a68/120 \n",
    "\n",
    "std_Otx_a65_star = std_Otx_a65/120\n",
    "std_Otx_a66_star = std_Otx_a66/120\n",
    "std_Otx_a67_star = std_Otx_a67/120\n",
    "std_Otx_a68_star = std_Otx_a68/120\n",
    "\n",
    "mean_Otx_a65_E_star = mean_Otx_a65_E/120 \n",
    "mean_Otx_a66_E_star = mean_Otx_a66_E/120 \n",
    "mean_Otx_a67_E_star = mean_Otx_a67_E/120 \n",
    "mean_Otx_a68_E_star = mean_Otx_a68_E/120 \n",
    "\n",
    "std_Otx_a65_E_star = std_Otx_a65_E/120\n",
    "std_Otx_a66_E_star = std_Otx_a66_E/120\n",
    "std_Otx_a67_E_star = std_Otx_a67_E/120\n",
    "std_Otx_a68_E_star = std_Otx_a68_E/120\n",
    "\n",
    "# Fit all the exp data (Erk star, Otx_star) with an Hill function \n",
    "par = (5, 0.08, 10)\n",
    "a,b,c = Hill(np.array(mean_Otx_star), mean_Erk_star, par)\n",
    "\n",
    "Erk_temp= np.linspace(0,1,100)\n",
    "Hill_f = [c*Erk_temp[i]**a/(Erk_temp[i]**a+b**a) for i in range(len(Erk_temp))]"
   ]
  },
  {
   "cell_type": "code",
   "execution_count": 12,
   "metadata": {},
   "outputs": [],
   "source": [
    "# Compute Otx level with our model for each data point \n",
    "Ap_pred = [exprAp(Er_v=mean_Erk_ctrl_star[i]) for i in range(len(mean_Erk_ctrl_star))]\n",
    "I_pred = [exprI(Er_v=mean_Erk_ctrl_star[i]) for i in range(len(mean_Erk_ctrl_star))]\n",
    "\n",
    "Ap_pred_E = [exprAp(Er_v=mean_Erk_E_star[i]) for i in range(len(mean_Erk_E_star))]\n",
    "I_pred_E = [exprI(Er_v=mean_Erk_E_star[i]) for i in range(len(mean_Erk_E_star))]\n",
    "\n",
    "Otx_pred_a = exprOtx(Ap_v=Ap_pred,I_v=I_pred)\n",
    "Otx_pred_E_a = exprOtx(Ap_v=Ap_pred_E,I_v=I_pred_E)"
   ]
  },
  {
   "cell_type": "markdown",
   "metadata": {},
   "source": [
    "## Figure 3D: comparison with experimental data"
   ]
  },
  {
   "cell_type": "code",
   "execution_count": 13,
   "metadata": {},
   "outputs": [
    {
     "data": {
      "image/png": "[encoded data removed]",
      "text/plain": [
       "<Figure size 504x360 with 1 Axes>"
      ]
     },
     "metadata": {
      "needs_background": "light"
     },
     "output_type": "display_data"
    }
   ],
   "source": [
    "fig= plt.figure(figsize=(7,5))\n",
    "plt.errorbar(mean_Erk_ctrl_star[0], mean_Otx_a65_star, std_Otx_a65_star, std_Erk_a65_star, marker='o',markersize=6,color='orchid', capsize=5,mfc='orchid', mec='orchid', ls='none')\n",
    "plt.errorbar(mean_Erk_ctrl_star[1], mean_Otx_a66_star, std_Otx_a66_star, std_Erk_a66_star, marker='o',markersize=6,color='tab:green', capsize=5,mfc='tab:green', mec='tab:green', ls='none')\n",
    "plt.errorbar(mean_Erk_ctrl_star[2], mean_Otx_a67_star, std_Otx_a67_star, std_Erk_a67_star, marker='o',markersize=6,color='tab:blue', capsize=5,mfc='tab:blue', mec='tab:blue', ls='none')\n",
    "plt.errorbar(mean_Erk_ctrl_star[3], mean_Otx_a68_star, std_Otx_a68_star, std_Erk_a68_star, marker='o',markersize=6,color='grey', capsize=5,mfc='grey', mec='grey', ls='none')\n",
    "\n",
    "plt.errorbar(mean_Erk_E_star[0], mean_Otx_a65_E_star, std_Otx_a65_E_star, std_Erk_a65_E_star, marker='s',markersize=6,color='orchid', capsize=5,mfc='orchid', mec='orchid', ls='none')\n",
    "plt.errorbar(mean_Erk_E_star[1], mean_Otx_a66_E_star, std_Otx_a66_E_star, std_Erk_a66_E_star, marker='s',markersize=6,color='tab:green', capsize=5,mfc='tab:green', mec='tab:green', ls='none')\n",
    "plt.errorbar(mean_Erk_E_star[2], mean_Otx_a67_E_star, std_Otx_a67_E_star, std_Erk_a67_E_star, marker='s',markersize=6,color='tab:blue', capsize=5,mfc='tab:blue', mec='tab:blue', ls='none')\n",
    "plt.errorbar(mean_Erk_E_star[3], mean_Otx_a68_E_star, std_Otx_a68_E_star, std_Erk_a68_E_star, marker='s',markersize=6,color='grey', capsize=5,mfc='grey', mec='grey', ls='none')\n",
    "\n",
    "plt.plot(Erk_temp,Hill_f,'--', color='black', label= f'Fit, Hill coefficient = {a} ')\n",
    "\n",
    "plt.plot(mean_Erk_ctrl_star,Otx_pred_a, color='black', marker='o', markersize=6, linestyle='none', label='Model predictions control')\n",
    "plt.plot(mean_Erk_E_star,Otx_pred_E_a, color='black', marker='s', markersize=6, linestyle='none', label='Model predictions \\nephrin inhibited embryos')\n",
    "\n",
    "ax = fig.gca()\n",
    "for axis in ['top','bottom','left','right']:\n",
    "    ax.spines[axis].set_linewidth(1.2)\n",
    "    \n",
    "plt.xlim([-0.01,0.4])\n",
    "plt.legend()\n",
    "plt.ylabel('$Otx$ expression (O)')\n",
    "plt.xlabel('Erk activity (Erk*)')\n",
    "plt.tight_layout()\n",
    "plt.show()"
   ]
  }
 ],
 "metadata": {
  "kernelspec": {
   "display_name": "Python 3",
   "language": "python",
   "name": "python3"
  },
  "language_info": {
   "codemirror_mode": {
    "name": "ipython",
    "version": 3
   },
   "file_extension": ".py",
   "mimetype": "text/x-python",
   "name": "python",
   "nbconvert_exporter": "python",
   "pygments_lexer": "ipython3",
   "version": "3.8.5"
  }
 },
 "nbformat": 4,
 "nbformat_minor": 4
}
