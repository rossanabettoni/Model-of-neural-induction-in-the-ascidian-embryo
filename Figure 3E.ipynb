{
 "cells": [
  {
   "cell_type": "markdown",
   "metadata": {
    "heading_collapsed": true
   },
   "source": [
    "# Figure 3E"
   ]
  },
  {
   "cell_type": "markdown",
   "metadata": {},
   "source": [
    "# Import packages"
   ]
  },
  {
   "cell_type": "code",
   "execution_count": 1,
   "metadata": {},
   "outputs": [],
   "source": [
    "import numpy as np\n",
    "import matplotlib.pyplot as plt \n",
    "from sympy import symbols, solve, simplify\n",
    "import pandas as pd\n",
    "from scipy.optimize import curve_fit\n",
    "import sympy as sp\n",
    "plt.rcParams.update({'font.size': 20})"
   ]
  },
  {
   "cell_type": "markdown",
   "metadata": {},
   "source": [
    "# Definitions"
   ]
  },
  {
   "cell_type": "markdown",
   "metadata": {},
   "source": [
    "Function to define the properties of the axis of a plot"
   ]
  },
  {
   "cell_type": "code",
   "execution_count": 2,
   "metadata": {},
   "outputs": [],
   "source": [
    "def my_axsis(ax, xlim, ylim, xticks, title, xtickslabels, bold=True, scale='lin'):    \n",
    "    \n",
    "    ax.set_xlim(xlim)\n",
    "    ax.set_ylim(ylim)\n",
    "    ax.set_xticks(xticks)\n",
    "    ax.set_title(title)\n",
    "    ax.set_xticklabels(xtickslabels)\n",
    "    \n",
    "    if bold==True:\n",
    "        for axis in ['top','bottom','left','right']:\n",
    "            ax.spines[axis].set_linewidth(1.2)\n",
    "            \n",
    "    if scale=='log':\n",
    "        ax.set_yscale('log', base=2)"
   ]
  },
  {
   "cell_type": "markdown",
   "metadata": {},
   "source": [
    "Function to plot together the exp data and the model predictions for the different cell types"
   ]
  },
  {
   "cell_type": "code",
   "execution_count": 3,
   "metadata": {},
   "outputs": [],
   "source": [
    "def plot_celltypes(data_exp, data_model, error, col, axs, avg=True): \n",
    "    \n",
    "    mean_data_exp = np.nanmean(data_exp)\n",
    "    mean_data_model = np.nanmean(data_model)\n",
    "    std_data_exp = np.nanstd(data_exp)\n",
    "    \n",
    "    x = np.random.normal(1, 0.08, size=len(data_exp))\n",
    "    axs.plot(x,data_exp,'.', color= col, alpha=0.3, markersize=10, zorder=1) \n",
    "     \n",
    "    x = np.random.normal(2, 0.08, size=len(data_model))\n",
    "    axs.plot(x,data_model,'.', color= col, alpha=0.3, markersize=10, zorder=1)\n",
    "    \n",
    "    if avg==True:\n",
    "        x = 1 \n",
    "        axs.errorbar(x,mean_data_exp ,std_data_exp, marker='o',markersize=5,color='black', capsize=5,mfc='black', mec='black', ls='none',zorder=2)\n",
    "   \n",
    "        x = 2 \n",
    "        axs.errorbar(x,mean_data_model ,error, marker='o',markersize=5,color='black', capsize=5,mfc='black', mec='black', ls='none',zorder=2)"
   ]
  },
  {
   "cell_type": "markdown",
   "metadata": {},
   "source": [
    "# Model "
   ]
  },
  {
   "cell_type": "markdown",
   "metadata": {},
   "source": [
    "Definition of the parameters of the model"
   ]
  },
  {
   "cell_type": "code",
   "execution_count": 4,
   "metadata": {},
   "outputs": [],
   "source": [
    "T, V1, V2, K1, K2, Kb = symbols('T V1 V2 K1 K2 Kb') \n",
    "Vs, Rb, Ks, Vrg, Qb, Krg = symbols('Vs Rb Ks Vrg Qb Krg')\n",
    "R, F, Kd, Q, E, Ke = symbols('R F Kd Q E Ke')\n",
    "S1, Qtot, S2, Rtot= symbols('S1 Qtot S2 Rtot')\n",
    "Ap,kMM3,Er,KMM3,vMM4,KMM4 = symbols('Ap kMM3 Er KMM3 vMM4 KMM4')\n",
    "I, kMM1, Er, KMM1, vMM2,KMM2 = symbols('I kMM1 Er KMM1 vMM2 KMM2')\n",
    "vb, vo, Ap, Ka, Ki, I, k, O = symbols('vb vo Ap Ka Ki I k O')"
   ]
  },
  {
   "cell_type": "markdown",
   "metadata": {},
   "source": [
    "Evolution equation for T"
   ]
  },
  {
   "cell_type": "code",
   "execution_count": 5,
   "metadata": {},
   "outputs": [
    {
     "name": "stdout",
     "output_type": "stream",
     "text": [
      "Evolution equation for T:\n",
      "-Kb*T - T*V2/(K2 + T) + V1*(1 - T)/(K1 - T + 1)\n",
      "Evolution equation for T (all parameters explicited):\n",
      "-E*Qtot*T*Vrg*(0.9092 - 1.1265*S1)*(K1 - T + 1)/((E + Ke)*(E*Qtot*(0.9092 - 1.1265*S1)/(E + Ke) + Krg)) + F*Rtot*S1*Vs*(1 - T)*(K2 + T)/((F + Kd)*(F*Rtot*S1/(F + Kd) + Ks)) - Kb*T*(K2 + T)*(K1 - T + 1)\n"
     ]
    }
   ],
   "source": [
    "# Evolution equation for T: \n",
    "expr = V1*(1-T)/(K1+(1-T))-V2*T/(K2+T)-Kb*T\n",
    "expr_simplified= V1*(1-T)*(K2+T) -V2*T*(K1+(1-T))-Kb*T*(K1+(1-T))*(K2+T)\n",
    "print('Evolution equation for T:')\n",
    "print(expr)\n",
    "\n",
    "# Substitute the expression for V1 and V2 in the evolution equation for T:  \n",
    "expr_RQ= expr_simplified.subs([(V1, Vs*(R*F/(Kd+F))/(Ks+(R*F/(Kd+F)))),(V2, Vrg*(Q*E/(Ke+E))/(Krg+(Q*E/(Ke+E))))])\n",
    "\n",
    "# Substitute the expressions for Q and R\n",
    "expr_S1S2 = expr_RQ.subs([(R, Rtot*S1),(Q, Qtot*S2)])\n",
    "\n",
    "# Expliciting the relation between S1 and S2 to obtain T(FGF, S1): \n",
    "expr_T = expr_S1S2.subs([(S2,-1.1265*S1 +0.9092)])\n",
    "\n",
    "print('Evolution equation for T (all parameters explicited):')\n",
    "print(expr_T)\n",
    "\n",
    "# Solve the equation \n",
    "sol = solve(expr_T, T)[2]"
   ]
  },
  {
   "cell_type": "markdown",
   "metadata": {},
   "source": [
    "Definition of the function ExprT that compute T as a function of all the parameters of the equation"
   ]
  },
  {
   "cell_type": "code",
   "execution_count": 6,
   "metadata": {},
   "outputs": [],
   "source": [
    "def exprT(Vs_v=1, Vrg_v=0.4, K1_v=0.5, K2_v=0.2, Krg_v=1200, Ks_v=1200, Kb_v=0.2, F_v=5, Kd_v=25, E_v=5, Ke_v=50, Rtot_v=2000, Qtot_v=2000, S1_v=0.5):\n",
    "    sol_T = sol.subs([(Vs,Vs_v),(Vrg,Vrg_v),(K1, K1_v),(K2,K2_v),(Krg, Krg_v), (Ks, Ks_v), (Kb, Kb_v),(F, F_v),(Kd, Kd_v),(E,E_v), (Ke, Ke_v),(Rtot, Rtot_v),(Qtot,Qtot_v),(S1,S1_v)])\n",
    "    sol_T = np.real(np.array(sol_T,complex))\n",
    "    return sol_T"
   ]
  },
  {
   "cell_type": "markdown",
   "metadata": {},
   "source": [
    "Definition of the function to compute Erk (as a function of T)"
   ]
  },
  {
   "cell_type": "code",
   "execution_count": 7,
   "metadata": {},
   "outputs": [],
   "source": [
    "def Erk(T,n=2, Kerk=0.5, Erk_max=1, Erk_bas=0): \n",
    "    Erk = [ Erk_max* T[i]**n/(T[i]**n +Kerk**n)+Erk_bas for i in range(len(T)) ]\n",
    "    return Erk"
   ]
  },
  {
   "cell_type": "markdown",
   "metadata": {},
   "source": [
    "Evolution equation for the activator Ap"
   ]
  },
  {
   "cell_type": "code",
   "execution_count": 8,
   "metadata": {},
   "outputs": [],
   "source": [
    "expr_Ap = kMM3*Er*(1-Ap)/(KMM3+(1-Ap))-vMM4*Ap/(KMM4+Ap)\n",
    "sol_Ap= solve(expr_Ap, Ap)[1] \n",
    "\n",
    "# Function to compute Ap as a function of the other parameters:  \n",
    "def exprAp(kMM3_v=12,Er_v=0.5,KMM3_v=0.05,vMM4_v=1,KMM4_v=0.05):\n",
    "    solAp= sol_Ap.subs([(kMM3,kMM3_v), (Er,Er_v), (KMM4,KMM4_v), (vMM4,vMM4_v), (KMM3,KMM3_v)]) \n",
    "    return solAp"
   ]
  },
  {
   "cell_type": "markdown",
   "metadata": {},
   "source": [
    "Evolution equation for the inhibitor I"
   ]
  },
  {
   "cell_type": "code",
   "execution_count": 9,
   "metadata": {},
   "outputs": [],
   "source": [
    "expr_I = -kMM1*Er*I/(KMM1+I)+vMM2*(1-I)/(KMM2+(1-I))\n",
    "sol_I= solve(expr_I, I)[0] \n",
    "\n",
    "# Function to compute I as a function of the other parameters: \n",
    "def exprI(kMM1_v=12,Er_v=0.5,KMM1_v=0.05,vMM2_v=1,KMM2_v=0.05): \n",
    "    solI= sol_I.subs([(kMM1,kMM1_v), (Er,Er_v), (KMM1,KMM1_v), (vMM2,vMM2_v), (KMM2,KMM2_v)]) \n",
    "    return solI "
   ]
  },
  {
   "cell_type": "markdown",
   "metadata": {},
   "source": [
    "Compute Otx and define a function ExprOtx that compute Otx as a function of all the parameters of the equation"
   ]
  },
  {
   "cell_type": "code",
   "execution_count": 10,
   "metadata": {},
   "outputs": [],
   "source": [
    "expr_Otx = vb+ vo*Ap/((Ka*(1+I/Ki))+Ap)-k*O\n",
    "sol_Otx= solve(expr_Otx, O)[0]  \n",
    "\n",
    "# Function to compute Otx as a function of the other parameters\n",
    "def exprOtx(Ap_v, I_v, vb_v=0.001,vo_v=1,Ka_v=0.1,Ki_v=0.1,k_v=0.2, Omax=1, Obas=0): \n",
    "    solOtx= [sol_Otx.subs([(Ap, Ap_v[i]), (I, I_v[i]), (vb,vb_v), (vo,vo_v), (Ka,Ka_v), (Ki,Ki_v), (k,k_v)])*Omax +Obas for i in range(len(Ap_v))] \n",
    "    return solOtx"
   ]
  },
  {
   "cell_type": "markdown",
   "metadata": {},
   "source": [
    "# Import the experimental data "
   ]
  },
  {
   "cell_type": "code",
   "execution_count": 11,
   "metadata": {},
   "outputs": [],
   "source": [
    "#read the excel file with the experimental data\n",
    "data_S1 = pd.read_excel('/Users/rossanabettoni/Desktop/PhD/Article_PLOS/ExpData.xlsx', sheet_name='Cell surface contacts')\n",
    "df_S1 = pd.DataFrame(data_S1)\n",
    "\n",
    "data_Fig3E = pd.read_excel('/Users/rossanabettoni/Desktop/PhD/Article_PLOS/ExpData.xlsx', sheet_name='Fig 3E')\n",
    "df_Fig3E = pd.DataFrame(data_Fig3E)"
   ]
  },
  {
   "cell_type": "markdown",
   "metadata": {},
   "source": [
    "Experimental data figure 1C "
   ]
  },
  {
   "cell_type": "code",
   "execution_count": 12,
   "metadata": {},
   "outputs": [],
   "source": [
    "# Reltive area of cell surface contact with FGF expressing cells (divided by cell type)\n",
    "a65_RelContactArea_A = np.array(df_S1['a6.5 S1'].values.tolist())[0:25] \n",
    "a66_RelContactArea_A = np.array(df_S1['a6.6 S1'].values.tolist())[0:25] \n",
    "a67_RelContactArea_A = np.array(df_S1['a6.7 S1'].values.tolist())[0:25] \n",
    "a68_RelContactArea_A = np.array(df_S1['a6.8 S1'].values.tolist())[0:25] "
   ]
  },
  {
   "cell_type": "markdown",
   "metadata": {},
   "source": [
    "Experimental data figure 3E"
   ]
  },
  {
   "cell_type": "code",
   "execution_count": 13,
   "metadata": {},
   "outputs": [],
   "source": [
    "# Levels of Otx expression - ctrl \n",
    "Otx_a65 = np.array(df_Fig3E['a6.5msxMO'].values.tolist())\n",
    "Otx_a66 = np.array(df_Fig3E['a6.6msxMO'].values.tolist())\n",
    "Otx_a67 = np.array(df_Fig3E['a6.7msxMO'].values.tolist())\n",
    "Otx_a68 = np.array(df_Fig3E['a6.8msxMO'].values.tolist())\n",
    "\n",
    "# Levels of Otx expression - ERF morpholino \n",
    "Otx_a65_ErfMO = np.array(df_Fig3E['a6.5ERF2-MO'].values.tolist())\n",
    "Otx_a66_ErfMO = np.array(df_Fig3E['a6.6ERF2-MO'].values.tolist())\n",
    "Otx_a67_ErfMO = np.array(df_Fig3E['a6.7ERF2-MO'].values.tolist())\n",
    "Otx_a68_ErfMO = np.array(df_Fig3E['a6.8ERF2-MO'].values.tolist())\n",
    "\n",
    "alldataOtx = np.concatenate((Otx_a65, Otx_a66, Otx_a67, Otx_a68))\n",
    "alldataOtx_ErfMO = np.concatenate((Otx_a65_ErfMO, Otx_a66_ErfMO, Otx_a67_ErfMO, Otx_a68_ErfMO))\n",
    "\n",
    "alldataOtx = [alldataOtx[i] for i in range(len(alldataOtx)) if np.isnan(alldataOtx[i]) == False]\n",
    "alldataOtx_ErfMO = [alldataOtx_ErfMO[i] for i in range(len(alldataOtx_ErfMO)) if np.isnan(alldataOtx_ErfMO[i]) == False]"
   ]
  },
  {
   "cell_type": "code",
   "execution_count": 14,
   "metadata": {},
   "outputs": [],
   "source": [
    "# Compute mean and std of the experimental data \n",
    "\n",
    "# Cntrl\n",
    "mean_Otx_65 = np.nanmean(Otx_a65)\n",
    "mean_Otx_66 = np.nanmean(Otx_a66)\n",
    "mean_Otx_67 = np.nanmean(Otx_a67)\n",
    "mean_Otx_68 = np.nanmean(Otx_a68)\n",
    "\n",
    "std_Otx_65 = np.nanstd(Otx_a65)\n",
    "std_Otx_66 = np.nanstd(Otx_a66)\n",
    "std_Otx_67 = np.nanstd(Otx_a67)\n",
    "std_Otx_68 = np.nanstd(Otx_a68)\n",
    "\n",
    "# ERF morpholino\n",
    "mean_Otx_ERFmo_65 = np.nanmean(Otx_a65_ErfMO)\n",
    "mean_Otx_ERFmo_66 = np.nanmean(Otx_a66_ErfMO)\n",
    "mean_Otx_ERFmo_67 = np.nanmean(Otx_a67_ErfMO)\n",
    "mean_Otx_ERFmo_68 = np.nanmean(Otx_a68_ErfMO)\n",
    "\n",
    "std_Otx_ERFmo_65 = np.nanstd(Otx_a65_ErfMO)\n",
    "std_Otx_ERFmo_66 = np.nanstd(Otx_a66_ErfMO)\n",
    "std_Otx_ERFmo_67 = np.nanstd(Otx_a67_ErfMO)\n",
    "std_Otx_ERFmo_68 = np.nanstd(Otx_a68_ErfMO)"
   ]
  },
  {
   "cell_type": "markdown",
   "metadata": {},
   "source": [
    "# Results"
   ]
  },
  {
   "cell_type": "markdown",
   "metadata": {},
   "source": [
    "## Figure 3E\n"
   ]
  },
  {
   "cell_type": "markdown",
   "metadata": {},
   "source": [
    "### Model predictions"
   ]
  },
  {
   "cell_type": "code",
   "execution_count": 15,
   "metadata": {},
   "outputs": [],
   "source": [
    "# Compute T\n",
    "T_pred_ERFmo_65 = [exprT(S1_v= a65_RelContactArea_A[i]) for i in range(len(a65_RelContactArea_A))]\n",
    "T_pred_ERFmo_66 = [exprT(S1_v= a66_RelContactArea_A[i]) for i in range(len(a66_RelContactArea_A))]\n",
    "T_pred_ERFmo_67 = [exprT(S1_v= a67_RelContactArea_A[i]) for i in range(len(a67_RelContactArea_A))]\n",
    "T_pred_ERFmo_68 = [exprT(S1_v= a68_RelContactArea_A[i]) for i in range(len(a68_RelContactArea_A))]\n",
    "\n",
    "# Compute Erk activity \n",
    "Erk_pred_ERFmo_65 = Erk(T_pred_ERFmo_65)\n",
    "Erk_pred_ERFmo_66 = Erk(T_pred_ERFmo_66)\n",
    "Erk_pred_ERFmo_67 = Erk(T_pred_ERFmo_67)\n",
    "Erk_pred_ERFmo_68 = Erk(T_pred_ERFmo_68)\n",
    "\n",
    "# Compute Ap\n",
    "Ap_pred_ERFmo_65 = [exprAp(Er_v=Erk_pred_ERFmo_65[i]) for i in range(len(Erk_pred_ERFmo_65))]\n",
    "Ap_pred_ERFmo_66 = [exprAp(Er_v=Erk_pred_ERFmo_66[i]) for i in range(len(Erk_pred_ERFmo_66))]\n",
    "Ap_pred_ERFmo_67 = [exprAp(Er_v=Erk_pred_ERFmo_67[i]) for i in range(len(Erk_pred_ERFmo_67))]\n",
    "Ap_pred_ERFmo_68 = [exprAp(Er_v=Erk_pred_ERFmo_68[i]) for i in range(len(Erk_pred_ERFmo_68))]\n",
    "\n",
    "# Compute I \n",
    "I_pred_ERFmo_65= 0.001 * np.ones(len(Erk_pred_ERFmo_65))\n",
    "I_pred_ERFmo_66= 0.001 * np.ones(len(Erk_pred_ERFmo_66))\n",
    "I_pred_ERFmo_67= 0.001 * np.ones(len(Erk_pred_ERFmo_67))\n",
    "I_pred_ERFmo_68= 0.001 * np.ones(len(Erk_pred_ERFmo_68))\n",
    "\n",
    "# Compute Otx expression\n",
    "Otx_pred_ERFmo_65_e = np.array(exprOtx(Ap_v=Ap_pred_ERFmo_65,I_v=I_pred_ERFmo_65)).astype(float)\n",
    "Otx_pred_ERFmo_66_e = np.array(exprOtx(Ap_v=Ap_pred_ERFmo_66,I_v=I_pred_ERFmo_66)).astype(float)\n",
    "Otx_pred_ERFmo_67_e = np.array(exprOtx(Ap_v=Ap_pred_ERFmo_67,I_v=I_pred_ERFmo_67)).astype(float)\n",
    "Otx_pred_ERFmo_68_e = np.array(exprOtx(Ap_v=Ap_pred_ERFmo_68,I_v=I_pred_ERFmo_68)).astype(float)\n",
    "\n",
    "mean_Otx_pred_ERFmo_65_e = np.mean(Otx_pred_ERFmo_65_e)\n",
    "mean_Otx_pred_ERFmo_66_e = np.mean(Otx_pred_ERFmo_66_e)\n",
    "mean_Otx_pred_ERFmo_67_e = np.mean(Otx_pred_ERFmo_67_e)\n",
    "mean_Otx_pred_ERFmo_68_e = np.mean(Otx_pred_ERFmo_68_e)\n",
    "\n",
    "std_Otx_pred_ERFmo_65_e = np.nanstd(Otx_pred_ERFmo_65_e)\n",
    "std_Otx_pred_ERFmo_66_e = np.nanstd(Otx_pred_ERFmo_66_e)\n",
    "std_Otx_pred_ERFmo_67_e = np.nanstd(Otx_pred_ERFmo_67_e)\n",
    "std_Otx_pred_ERFmo_68_e = np.nanstd(Otx_pred_ERFmo_68_e)"
   ]
  },
  {
   "cell_type": "code",
   "execution_count": 16,
   "metadata": {},
   "outputs": [],
   "source": [
    "# Compute Otx spot counts\n",
    "Omax_value= 75\n",
    "Obas_value= mean_Otx_ERFmo_68\n",
    "\n",
    "Otx_pred_ERFmo_65_sc = np.array(exprOtx(Ap_v=Ap_pred_ERFmo_65,I_v=I_pred_ERFmo_65, Omax= Omax_value,Obas=Obas_value)).astype(float)\n",
    "Otx_pred_ERFmo_66_sc = np.array(exprOtx(Ap_v=Ap_pred_ERFmo_66,I_v=I_pred_ERFmo_66, Omax= Omax_value,Obas=Obas_value)).astype(float)\n",
    "Otx_pred_ERFmo_67_sc = np.array(exprOtx(Ap_v=Ap_pred_ERFmo_67,I_v=I_pred_ERFmo_67, Omax= Omax_value,Obas=Obas_value)).astype(float)\n",
    "Otx_pred_ERFmo_68_sc = np.array(exprOtx(Ap_v=Ap_pred_ERFmo_68,I_v=I_pred_ERFmo_68, Omax= Omax_value,Obas=Obas_value)).astype(float)\n",
    "\n",
    "mean_Otx_pred_ERFmo_65_sc = np.mean(Otx_pred_ERFmo_65_sc)\n",
    "mean_Otx_pred_ERFmo_66_sc = np.mean(Otx_pred_ERFmo_66_sc)\n",
    "mean_Otx_pred_ERFmo_67_sc = np.mean(Otx_pred_ERFmo_67_sc)\n",
    "mean_Otx_pred_ERFmo_68_sc = np.mean(Otx_pred_ERFmo_68_sc)\n",
    "\n",
    "std_Otx_pred_ERFmo_65_sc = np.sqrt(Omax_value**2*std_Otx_pred_ERFmo_65_e**2+std_Otx_ERFmo_68**2)\n",
    "std_Otx_pred_ERFmo_66_sc = np.sqrt(Omax_value**2*std_Otx_pred_ERFmo_66_e**2+std_Otx_ERFmo_68**2)\n",
    "std_Otx_pred_ERFmo_67_sc = np.sqrt(Omax_value**2*std_Otx_pred_ERFmo_67_e**2+std_Otx_ERFmo_68**2)\n",
    "std_Otx_pred_ERFmo_68_sc = np.sqrt(Omax_value**2*std_Otx_pred_ERFmo_68_e**2+std_Otx_ERFmo_68**2)"
   ]
  },
  {
   "cell_type": "markdown",
   "metadata": {},
   "source": [
    "### Comparison with the experimental data "
   ]
  },
  {
   "cell_type": "code",
   "execution_count": 17,
   "metadata": {},
   "outputs": [
    {
     "data": {
      "image/png": "[encoded data removed]",
      "text/plain": [
       "<Figure size 648x432 with 4 Axes>"
      ]
     },
     "metadata": {
      "needs_background": "light"
     },
     "output_type": "display_data"
    }
   ],
   "source": [
    "fig = plt.figure(figsize=(9,6))\n",
    "gs = fig.add_gridspec(1,4, hspace=0,wspace=0)\n",
    "axs = gs.subplots(sharey=True)\n",
    "\n",
    "# a6.8 \n",
    "ax = axs[0]\n",
    "plot_celltypes(Otx_a68_ErfMO, Otx_pred_ERFmo_68_sc,std_Otx_pred_ERFmo_68_sc, col='grey', axs=ax, avg=True)\n",
    "ax.set_ylabel('nuclear $Otx$ smFISH spots')\n",
    "my_axsis(ax, xlim=[0.5,2.5], ylim=[-100,800], xticks=[1,2], title='a6.8', xtickslabels=['Exp', 'Model'])\n",
    "\n",
    "# a6.6 \n",
    "ax = axs[1]\n",
    "plot_celltypes(Otx_a66_ErfMO, Otx_pred_ERFmo_66_sc,std_Otx_pred_ERFmo_66_sc, col='tab:green', axs=ax, avg=True)\n",
    "my_axsis(ax, xlim=[0.5,2.5], ylim=[-100,800], xticks=[1,2], title='a6.6', xtickslabels=['Exp', 'Model'])\n",
    "\n",
    "# a6.7 \n",
    "ax = axs[2]\n",
    "plot_celltypes(Otx_a67_ErfMO, Otx_pred_ERFmo_67_sc,std_Otx_pred_ERFmo_67_sc, col='tab:blue', axs=ax, avg=True)\n",
    "my_axsis(ax, xlim=[0.5,2.5], ylim=[-100,800], xticks=[1,2], title='a6.7', xtickslabels=['Exp', 'Model'])\n",
    "\n",
    "# a6.5\n",
    "ax = axs[3]\n",
    "plot_celltypes(Otx_a65_ErfMO, Otx_pred_ERFmo_65_sc, std_Otx_pred_ERFmo_65_sc, col='orchid', axs=ax, avg=True)\n",
    "my_axsis(ax, xlim=[0.5,2.5], ylim=[-100,800], xticks=[1,2], title='a6.5', xtickslabels=['Exp', 'Model'])\n",
    "\n",
    "plt.tight_layout()\n",
    "plt.show()"
   ]
  },
  {
   "cell_type": "code",
   "execution_count": null,
   "metadata": {},
   "outputs": [],
   "source": []
  }
 ],
 "metadata": {
  "kernelspec": {
   "display_name": "Python 3",
   "language": "python",
   "name": "python3"
  },
  "language_info": {
   "codemirror_mode": {
    "name": "ipython",
    "version": 3
   },
   "file_extension": ".py",
   "mimetype": "text/x-python",
   "name": "python",
   "nbconvert_exporter": "python",
   "pygments_lexer": "ipython3",
   "version": "3.8.5"
  }
 },
 "nbformat": 4,
 "nbformat_minor": 4
}
