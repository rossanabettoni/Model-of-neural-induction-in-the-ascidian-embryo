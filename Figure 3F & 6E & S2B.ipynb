{
 "cells": [
  {
   "cell_type": "markdown",
   "metadata": {},
   "source": [
    "# Figure 3F, 6E & S2B"
   ]
  },
  {
   "cell_type": "markdown",
   "metadata": {},
   "source": [
    "# Import packages"
   ]
  },
  {
   "cell_type": "code",
   "execution_count": 1,
   "metadata": {},
   "outputs": [],
   "source": [
    "import numpy as np\n",
    "import matplotlib.pyplot as plt \n",
    "import pandas as pd\n",
    "from sympy import symbols, solve, simplify\n",
    "from scipy.optimize import curve_fit\n",
    "import sympy as sp\n",
    "plt.rcParams.update({'font.size': 18})"
   ]
  },
  {
   "cell_type": "markdown",
   "metadata": {},
   "source": [
    "# Definitions"
   ]
  },
  {
   "cell_type": "code",
   "execution_count": 2,
   "metadata": {},
   "outputs": [],
   "source": [
    "def model(x, a, b, c):\n",
    "    return c*x**a/(x**a+b**a)\n",
    "\n",
    "def Hill(z,x, params=[1,1,1]):\n",
    "    y= z-min(z)\n",
    "    popt, _ = curve_fit(model, x, y, params)\n",
    "    a,b,c = popt\n",
    "    fit= c*x**a/(x**a+ b**a)\n",
    "    \n",
    "    return [round(a,2), round(b,2), round(c,2)]"
   ]
  },
  {
   "cell_type": "code",
   "execution_count": 3,
   "metadata": {},
   "outputs": [],
   "source": [
    "def Hill_log(z,x):\n",
    "    y= np.array(z-min(z))\n",
    "    y90= max(y)*0.9\n",
    "    y10= max(y)*0.1\n",
    "\n",
    "    dif90= np.array([abs(y[kk]-y90) for kk in range(len(y))])\n",
    "    dif10= np.array([abs(y[kk]-y10) for kk in range(len(y))])\n",
    "\n",
    "    idx90= dif90.argmin()\n",
    "    idx10= dif10.argmin()              \n",
    "\n",
    "    x90= x[idx90]\n",
    "    x10= x[idx10]\n",
    "\n",
    "    HillCoeff= round(np.log(81)/np.log(x90/x10),2)\n",
    "    \n",
    "    return HillCoeff"
   ]
  },
  {
   "cell_type": "code",
   "execution_count": 4,
   "metadata": {},
   "outputs": [],
   "source": [
    "def my_axsis(ax, xlim, ylim, bold=True, scale='lin'):    \n",
    "    \n",
    "    ax.set_xlim(xlim)\n",
    "    ax.set_ylim(ylim)\n",
    "    \n",
    "    if bold==True:\n",
    "        for axis in ['top','bottom','left','right']:\n",
    "            ax.spines[axis].set_linewidth(1.2)\n",
    "            \n",
    "    if scale=='log':\n",
    "        ax.set_xscale('log', base=10)"
   ]
  },
  {
   "cell_type": "markdown",
   "metadata": {},
   "source": [
    "# Model "
   ]
  },
  {
   "cell_type": "markdown",
   "metadata": {},
   "source": [
    "Definition of the parameters of the model"
   ]
  },
  {
   "cell_type": "code",
   "execution_count": 5,
   "metadata": {},
   "outputs": [],
   "source": [
    "T, V1, V2, K1, K2, Kb = symbols('T V1 V2 K1 K2 Kb') \n",
    "Vs, Rb, Ks, Vrg, Qb, Krg = symbols('Vs Rb Ks Vrg Qb Krg')\n",
    "R, F, Kd, Q, E, Ke = symbols('R F Kd Q E Ke')\n",
    "S1, Qtot, S2, Rtot= symbols('S1 Qtot S2 Rtot')\n",
    "Ap,kMM3,Er,KMM3,vMM4,KMM4 = symbols('Ap kMM3 Er KMM3 vMM4 KMM4')\n",
    "I, kMM1, Er, KMM1, vMM2,KMM2 = symbols('I kMM1 Er KMM1 vMM2 KMM2')\n",
    "vb, vo, Ap, Ka, Ki, I, k, O = symbols('vb vo Ap Ka Ki I k O')"
   ]
  },
  {
   "cell_type": "markdown",
   "metadata": {},
   "source": [
    "Evolution equation for T"
   ]
  },
  {
   "cell_type": "code",
   "execution_count": 6,
   "metadata": {},
   "outputs": [
    {
     "name": "stdout",
     "output_type": "stream",
     "text": [
      "Evolution equation for T:\n",
      "-Kb*T - T*V2/(K2 + T) + V1*(1 - T)/(K1 - T + 1)\n",
      "Evolution equation for T (all parameters explicited):\n",
      "-E*Qtot*T*Vrg*(0.9092 - 1.1265*S1)*(K1 - T + 1)/((E + Ke)*(E*Qtot*(0.9092 - 1.1265*S1)/(E + Ke) + Krg)) + F*Rtot*S1*Vs*(1 - T)*(K2 + T)/((F + Kd)*(F*Rtot*S1/(F + Kd) + Ks)) - Kb*T*(K2 + T)*(K1 - T + 1)\n"
     ]
    }
   ],
   "source": [
    "# Evolution equation for T: \n",
    "expr = V1*(1-T)/(K1+(1-T))-V2*T/(K2+T)-Kb*T\n",
    "expr_simplified= V1*(1-T)*(K2+T) -V2*T*(K1+(1-T))-Kb*T*(K1+(1-T))*(K2+T)\n",
    "print('Evolution equation for T:')\n",
    "print(expr)\n",
    "\n",
    "# Substitute the expression for V1 and V2 in the evolution equation for T:  \n",
    "expr_RQ= expr_simplified.subs([(V1, Vs*(R*F/(Kd+F))/(Ks+(R*F/(Kd+F)))),(V2, Vrg*(Q*E/(Ke+E))/(Krg+(Q*E/(Ke+E))))])\n",
    "\n",
    "# Substitute the expressions for Q and R\n",
    "expr_S1S2 = expr_RQ.subs([(R, Rtot*S1),(Q, Qtot*S2)])\n",
    "\n",
    "# Expliciting the relation between S1 and S2 to obtain T(FGF, S1): \n",
    "expr_T = expr_S1S2.subs([(S2,-1.1265*S1 +0.9092)])\n",
    "\n",
    "print('Evolution equation for T (all parameters explicited):')\n",
    "print(expr_T)\n",
    "\n",
    "# Solve the equation \n",
    "sol = solve(expr_T, T)[2]"
   ]
  },
  {
   "cell_type": "markdown",
   "metadata": {},
   "source": [
    "Definition of the function ExprT that compute T as a function of all the parameters of the equation"
   ]
  },
  {
   "cell_type": "code",
   "execution_count": 7,
   "metadata": {},
   "outputs": [],
   "source": [
    "def exprT(Vs_v=1, Vrg_v=0.4, K1_v=0.5, K2_v=0.2, Krg_v=1200, Ks_v=1200, Kb_v=0.2, F_v=5, Kd_v=25, E_v=5, Ke_v=50, Rtot_v=2000, Qtot_v=2000, S1_v=0.5):\n",
    "    sol_T = sol.subs([(Vs,Vs_v),(Vrg,Vrg_v),(K1, K1_v),(K2,K2_v),(Krg, Krg_v), (Ks, Ks_v), (Kb, Kb_v),(F, F_v),(Kd, Kd_v),(E,E_v), (Ke, Ke_v),(Rtot, Rtot_v),(Qtot,Qtot_v),(S1,S1_v)])\n",
    "    sol_T = np.real(np.array(sol_T,complex))\n",
    "    return sol_T"
   ]
  },
  {
   "cell_type": "markdown",
   "metadata": {},
   "source": [
    "Definition of the function to compute Erk (as a function of T)"
   ]
  },
  {
   "cell_type": "code",
   "execution_count": 8,
   "metadata": {},
   "outputs": [],
   "source": [
    "def Erk(T,n=2, Kerk=0.5, Erk_max=1, Erk_bas=0): \n",
    "    Erk = [ Erk_max* T[i]**n/(T[i]**n +Kerk**n)+Erk_bas for i in range(len(T)) ]\n",
    "    return Erk"
   ]
  },
  {
   "cell_type": "markdown",
   "metadata": {},
   "source": [
    "Evolution equation for the activator Ap"
   ]
  },
  {
   "cell_type": "code",
   "execution_count": 9,
   "metadata": {},
   "outputs": [],
   "source": [
    "expr_Ap = kMM3*Er*(1-Ap)/(KMM3+(1-Ap))-vMM4*Ap/(KMM4+Ap)\n",
    "sol_Ap= solve(expr_Ap, Ap)[1] \n",
    "\n",
    "# Function to compute Ap as a function of the other parameters:  \n",
    "def exprAp(kMM3_v=12,Er_v=0.5,KMM3_v=0.05,vMM4_v=1,KMM4_v=0.05):\n",
    "    solAp= sol_Ap.subs([(kMM3,kMM3_v), (Er,Er_v), (KMM4,KMM4_v), (vMM4,vMM4_v), (KMM3,KMM3_v)]) \n",
    "    return solAp"
   ]
  },
  {
   "cell_type": "markdown",
   "metadata": {},
   "source": [
    "Evolution equation for the inhibitor I"
   ]
  },
  {
   "cell_type": "code",
   "execution_count": 10,
   "metadata": {},
   "outputs": [],
   "source": [
    "expr_I = -kMM1*Er*I/(KMM1+I)+vMM2*(1-I)/(KMM2+(1-I))\n",
    "sol_I= solve(expr_I, I)[0] \n",
    "\n",
    "# Function to compute I as a function of the other parameters: \n",
    "def exprI(kMM1_v=12,Er_v=0.5,KMM1_v=0.05,vMM2_v=1,KMM2_v=0.05): \n",
    "    solI= sol_I.subs([(kMM1,kMM1_v), (Er,Er_v), (KMM1,KMM1_v), (vMM2,vMM2_v), (KMM2,KMM2_v)]) \n",
    "    return solI "
   ]
  },
  {
   "cell_type": "markdown",
   "metadata": {},
   "source": [
    "Compute Otx and define a function ExprOtx that compute Otx as a function of all the parameters of the equation"
   ]
  },
  {
   "cell_type": "code",
   "execution_count": 11,
   "metadata": {},
   "outputs": [],
   "source": [
    "expr_Otx = vb+ vo*Ap/((Ka*(1+I/Ki))+Ap)-k*O\n",
    "sol_Otx= solve(expr_Otx, O)[0]  \n",
    "\n",
    "# Function to compute Otx as a function of the other parameters\n",
    "def exprOtx(Ap_v, I_v, vb_v=0.001,vo_v=1,Ka_v=0.1,Ki_v=0.1,k_v=0.2, Omax=1, Obas=0): \n",
    "    solOtx= [sol_Otx.subs([(Ap, Ap_v[i]), (I, I_v[i]), (vb,vb_v), (vo,vo_v), (Ka,Ka_v), (Ki,Ki_v), (k,k_v)])*Omax +Obas for i in range(len(Ap_v))] \n",
    "    return solOtx"
   ]
  },
  {
   "cell_type": "markdown",
   "metadata": {},
   "source": [
    "# Import the experimental data"
   ]
  },
  {
   "cell_type": "code",
   "execution_count": 12,
   "metadata": {},
   "outputs": [],
   "source": [
    "#read the excel file with the experimental data\n",
    "data_S1 = pd.read_excel('/Users/rossanabettoni/Desktop/PhD/Article_PLOS/ExpData.xlsx', sheet_name='Cell surface contacts')\n",
    "df_S1 = pd.DataFrame(data_S1)"
   ]
  },
  {
   "cell_type": "markdown",
   "metadata": {},
   "source": [
    "Area of cell surface in contact with FGF (S1)  "
   ]
  },
  {
   "cell_type": "code",
   "execution_count": 13,
   "metadata": {},
   "outputs": [],
   "source": [
    "a65_RelContactArea_A = np.array(df_S1['a6.5 S1'].values.tolist())[0:25] \n",
    "a66_RelContactArea_A = np.array(df_S1['a6.6 S1'].values.tolist())[0:25] \n",
    "a67_RelContactArea_A = np.array(df_S1['a6.7 S1'].values.tolist())[0:25] \n",
    "a68_RelContactArea_A = np.array(df_S1['a6.8 S1'].values.tolist())[0:25] \n",
    "\n",
    "a65_mean_S1= np.mean(a65_RelContactArea_A)\n",
    "a66_mean_S1= np.mean(a66_RelContactArea_A)\n",
    "a68_mean_S1= np.mean(a68_RelContactArea_A)\n",
    "a67_mean_S1= np.mean(a67_RelContactArea_A)"
   ]
  },
  {
   "cell_type": "markdown",
   "metadata": {},
   "source": [
    "# Results"
   ]
  },
  {
   "cell_type": "markdown",
   "metadata": {},
   "source": [
    "## Figure 3F\n"
   ]
  },
  {
   "cell_type": "code",
   "execution_count": 14,
   "metadata": {},
   "outputs": [
    {
     "name": "stderr",
     "output_type": "stream",
     "text": [
      "<ipython-input-2-7f4d0f6c8495>:2: RuntimeWarning: invalid value encountered in double_scalars\n",
      "  return c*x**a/(x**a+b**a)\n"
     ]
    }
   ],
   "source": [
    "E_temp = np.logspace(-3,0,200) \n",
    "\n",
    "Ap_E= [exprAp(Er_v = E_temp[i]) for i in range(len(E_temp))]\n",
    "I_E= [exprI(Er_v = E_temp[i]) for i in range(len(E_temp))]\n",
    "\n",
    "Otx_E= np.array(exprOtx(Ap_v=Ap_E,I_v=I_E))\n",
    "Otx_E_noIn=  np.array(exprOtx(Ap_v=Ap_E,I_v=0.0001*np.ones(len(E_temp))))\n",
    "\n",
    "# Compute Hill coefficients (fit) as a function of Erk\n",
    "n_Otx_fit_E = Hill(Otx_E, E_temp, params=[10,0.2,1])[0]\n",
    "n_Otx_noIn_fit_E = Hill(Otx_E_noIn, E_temp, params=[5,0.2,1])[0]\n",
    "\n",
    "# Compute Hill coefficients (fit) as a function of Erk\n",
    "n_Otx_log_E = Hill_log(Otx_E, E_temp)\n",
    "n_Otx_noIn_log_E = Hill_log(Otx_E_noIn, E_temp)\n",
    "\n",
    "# Values of Erk activity computed witht the model\n",
    "Erk_a= [0.17868266, 0.00776033, 0.05504878, 0.00204648]"
   ]
  },
  {
   "cell_type": "code",
   "execution_count": 15,
   "metadata": {},
   "outputs": [
    {
     "data": {
      "image/png": "[encoded data removed]",
      "text/plain": [
       "<Figure size 504x360 with 1 Axes>"
      ]
     },
     "metadata": {
      "needs_background": "light"
     },
     "output_type": "display_data"
    }
   ],
   "source": [
    "plt.figure(figsize=(7,5))\n",
    "\n",
    "plt.plot(E_temp, Otx_E,label=f'$Otx(Erk^*)$ \\nHill coeff={n_Otx_log_E}', color='tab:blue', linewidth=2)\n",
    "plt.plot(E_temp, Otx_E_noIn,label=f'$Otx(Erk^*)$ no inhibitor \\nHill={n_Otx_noIn_log_E}', color='darkorange', linewidth=2)\n",
    "plt.xlabel('Erk*')\n",
    "\n",
    "plt.axvline(x=Erk_a[0], color='orchid', linestyle='--')\n",
    "plt.axvline(x=Erk_a[1], color='tab:green', linestyle='--')\n",
    "plt.axvline(x=Erk_a[2], color='tab:blue', linestyle='--')\n",
    "plt.axvline(x=Erk_a[3], color='grey', linestyle='--')\n",
    "\n",
    "my_axsis(ax=plt.gca(), xlim=[0.001,1], ylim=[-0.2,5.1], bold=True, scale='log')\n",
    "plt.legend(loc=2, ncol=1, fontsize=16)\n",
    "plt.tight_layout()\n",
    "plt.show()"
   ]
  },
  {
   "cell_type": "markdown",
   "metadata": {},
   "source": [
    "## Figure 6E"
   ]
  },
  {
   "cell_type": "code",
   "execution_count": 16,
   "metadata": {},
   "outputs": [
    {
     "name": "stdout",
     "output_type": "stream",
     "text": [
      "S1*= 0.807101642254771\n"
     ]
    }
   ],
   "source": [
    "# Compute S1*: \n",
    "S1_star = np.array(solve(-1.1265*S1 +0.9092, S1))\n",
    "print('S1*=', S1_star[0])\n",
    "\n",
    "# Define S1_temp: (vector from 0 to S1*)\n",
    "LogS1star = np.log10(S1_star.astype(float))\n",
    "S1_temp= np.logspace(-2,LogS1star[0],200)"
   ]
  },
  {
   "cell_type": "code",
   "execution_count": 17,
   "metadata": {},
   "outputs": [],
   "source": [
    "T_temp = [exprT(S1_v=S1_temp[i]) for i in range(len(S1_temp))]\n",
    "Erk_temp = Erk(T_temp)\n",
    "\n",
    "Ap_E= [exprAp(Er_v = Erk_temp[i]) for i in range(len(Erk_temp))]\n",
    "I_E= [exprI(Er_v = Erk_temp[i]) for i in range(len(Erk_temp))]\n",
    "\n",
    "Otx_E_S1= np.array(exprOtx(Ap_v=Ap_E,I_v=I_E))\n",
    "Otx_E_S1_noIn= np.array(exprOtx(Ap_v=Ap_E,I_v=0.0001*np.ones(len(Erk_temp))))\n",
    "\n",
    "# Compute Hill coefficients (fit) as a function of S1\n",
    "n_Otx_fit_S1 = Hill(Otx_E_S1, S1_temp, params=[10,0.2,1])[0]\n",
    "n_Otx_noIn_fit_S1 = Hill(Otx_E_S1_noIn, S1_temp, params=[5,0.2,1])[0]\n",
    "\n",
    "# Compute Hill coefficients log definition\n",
    "n_Otx_log = Hill_log(Otx_E_S1, S1_temp) \n",
    "n_Otx_noIn_log = Hill_log(Otx_E_S1_noIn, S1_temp)"
   ]
  },
  {
   "cell_type": "code",
   "execution_count": 18,
   "metadata": {},
   "outputs": [
    {
     "data": {
      "image/png": "[encoded data removed]",
      "text/plain": [
       "<Figure size 504x360 with 1 Axes>"
      ]
     },
     "metadata": {
      "needs_background": "light"
     },
     "output_type": "display_data"
    }
   ],
   "source": [
    "plt.figure(figsize=(7,5))\n",
    "\n",
    "plt.plot(S1_temp, Otx_E_S1,label=f'$Otx(S_1)$ \\nHill coeff={n_Otx_log}', color='tab:blue', linewidth=2)\n",
    "plt.plot(S1_temp, Otx_E_S1_noIn,label=f'$Otx(S_1)$ no inhibitor \\nHill coeff={n_Otx_noIn_log}', color='darkorange', linewidth=2)\n",
    "plt.xlabel('$S_1$')\n",
    "\n",
    "plt.axvline(x=a65_mean_S1, color='orchid', linestyle='--')\n",
    "plt.axvline(x=a66_mean_S1, color='tab:green', linestyle='--')\n",
    "plt.axvline(x=a67_mean_S1, color='tab:blue', linestyle='--')\n",
    "plt.axvline(x=a68_mean_S1, color='grey', linestyle='--')\n",
    "\n",
    "my_axsis(ax=plt.gca(), xlim=[0.025,1], ylim=[-0.2,5.1], bold=True, scale='log')\n",
    "plt.ylabel('$Otx$ expression (O)')\n",
    "plt.legend(loc=2, ncol=1, fontsize=16)\n",
    "plt.tight_layout()\n",
    "plt.show()"
   ]
  },
  {
   "cell_type": "markdown",
   "metadata": {},
   "source": [
    "## Figure S2B"
   ]
  },
  {
   "cell_type": "code",
   "execution_count": 19,
   "metadata": {},
   "outputs": [
    {
     "data": {
      "image/png": "[encoded data removed]",
      "text/plain": [
       "<Figure size 504x360 with 1 Axes>"
      ]
     },
     "metadata": {
      "needs_background": "light"
     },
     "output_type": "display_data"
    }
   ],
   "source": [
    "E_temp = np.logspace(-3,0,200) \n",
    "\n",
    "plt.figure(figsize=(7,5))\n",
    "\n",
    "plt.plot(E_temp, Ap_E,'darkgreen',label=f'$A_p(Erk^*)$', linewidth=2)\n",
    "plt.plot(E_temp, I_E,'red',label=f'$I(Erk^*)$', linewidth=2) \n",
    "\n",
    "my_axsis(ax=plt.gca(), xlim=[0.001,1], ylim=[-0.05,1.1], bold=True, scale='log')\n",
    "plt.legend(loc='best', ncol=1, fontsize=16)\n",
    "plt.xlabel('Erk*')\n",
    "plt.tight_layout()\n",
    "plt.show()"
   ]
  }
 ],
 "metadata": {
  "kernelspec": {
   "display_name": "Python 3",
   "language": "python",
   "name": "python3"
  },
  "language_info": {
   "codemirror_mode": {
    "name": "ipython",
    "version": 3
   },
   "file_extension": ".py",
   "mimetype": "text/x-python",
   "name": "python",
   "nbconvert_exporter": "python",
   "pygments_lexer": "ipython3",
   "version": "3.8.5"
  }
 },
 "nbformat": 4,
 "nbformat_minor": 4
}
