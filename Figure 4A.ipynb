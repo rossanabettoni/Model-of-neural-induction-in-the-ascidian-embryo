{
 "cells": [
  {
   "cell_type": "markdown",
   "metadata": {},
   "source": [
    "# Import packages"
   ]
  },
  {
   "cell_type": "code",
   "execution_count": 1,
   "metadata": {},
   "outputs": [],
   "source": [
    "import numpy as np\n",
    "import matplotlib.pyplot as plt \n",
    "from sympy import symbols, solve, simplify\n",
    "import pandas as pd\n",
    "import sympy as sp\n",
    "import random \n",
    "plt.rcParams.update({'font.size': 20})"
   ]
  },
  {
   "cell_type": "markdown",
   "metadata": {},
   "source": [
    "# Definitions"
   ]
  },
  {
   "cell_type": "markdown",
   "metadata": {},
   "source": [
    "Function to define the properties of the axis of a plot"
   ]
  },
  {
   "cell_type": "code",
   "execution_count": 2,
   "metadata": {},
   "outputs": [],
   "source": [
    "def my_axsis(ax, xlim, ylim, xticks, title, xtickslabels, bold=True, scale='lin'):    \n",
    "    \n",
    "    ax.set_xlim(xlim)\n",
    "    ax.set_ylim(ylim)\n",
    "    ax.set_xticks(xticks)\n",
    "    ax.set_title(title)\n",
    "    ax.set_xticklabels(xtickslabels)\n",
    "    \n",
    "    if bold==True:\n",
    "        for axis in ['top','bottom','left','right']:\n",
    "            ax.spines[axis].set_linewidth(1.2)\n",
    "            \n",
    "    if scale=='log':\n",
    "        ax.set_yscale('log', base=2)"
   ]
  },
  {
   "cell_type": "markdown",
   "metadata": {},
   "source": [
    "Function to pick a random number in an interval centered around a standard value x_st "
   ]
  },
  {
   "cell_type": "code",
   "execution_count": 15,
   "metadata": {},
   "outputs": [],
   "source": [
    "def rand(x_st, length = a65_RelContactArea_A, perc=5): \n",
    "    x_rand = np.ones(len(length))\n",
    "    x_min = x_st- x_st*perc/100\n",
    "    x_max = x_st+ x_st*perc/100\n",
    "    \n",
    "    for i in range(len(length)): \n",
    "        x_rand[i] = np.round(random.uniform(x_min, x_max),4)\n",
    "    \n",
    "    return x_rand"
   ]
  },
  {
   "cell_type": "markdown",
   "metadata": {},
   "source": [
    "# Model "
   ]
  },
  {
   "cell_type": "markdown",
   "metadata": {},
   "source": [
    "Definition of the parameters of the model \n"
   ]
  },
  {
   "cell_type": "code",
   "execution_count": 4,
   "metadata": {},
   "outputs": [],
   "source": [
    "T, V1, V2, K1, K2, Kb = symbols('T V1 V2 K1 K2 Kb') \n",
    "Vs, Rb, Ks, Vrg, Qb, Krg = symbols('Vs Rb Ks Vrg Qb Krg')\n",
    "R, F, Kd, Q, E, Ke = symbols('R F Kd Q E Ke')\n",
    "S1, Qtot, S2, Rtot= symbols('S1 Qtot S2 Rtot')\n",
    "Ap,kMM3,Er,KMM3,vMM4,KMM4 = symbols('Ap kMM3 Er KMM3 vMM4 KMM4')\n",
    "I, kMM1, Er, KMM1, vMM2,KMM2 = symbols('I kMM1 Er KMM1 vMM2 KMM2')\n",
    "vb, vo, Ap, Ka, Ki, I, k, O = symbols('vb vo Ap Ka Ki I k O')"
   ]
  },
  {
   "cell_type": "markdown",
   "metadata": {},
   "source": [
    "Solve the evolution equation for T (fraction of Ras-GTP)"
   ]
  },
  {
   "cell_type": "code",
   "execution_count": 5,
   "metadata": {},
   "outputs": [
    {
     "name": "stdout",
     "output_type": "stream",
     "text": [
      "Evolution equation for T:\n",
      "-Kb*T - T*V2/(K2 + T) + V1*(1 - T)/(K1 - T + 1)\n",
      "Evolution equation for T (all parameters explicited):\n",
      "-E*Qtot*T*Vrg*(0.9092 - 1.1265*S1)*(K1 - T + 1)/((E + Ke)*(E*Qtot*(0.9092 - 1.1265*S1)/(E + Ke) + Krg)) + F*Rtot*S1*Vs*(1 - T)*(K2 + T)/((F + Kd)*(F*Rtot*S1/(F + Kd) + Ks)) - Kb*T*(K2 + T)*(K1 - T + 1)\n"
     ]
    }
   ],
   "source": [
    "# Evolution equation for T: \n",
    "expr = V1*(1-T)/(K1+(1-T))-V2*T/(K2+T)-Kb*T\n",
    "expr_simplified= V1*(1-T)*(K2+T) -V2*T*(K1+(1-T))-Kb*T*(K1+(1-T))*(K2+T)\n",
    "print('Evolution equation for T:')\n",
    "print(expr)\n",
    "\n",
    "# Substitute the expression for V1 and V2 in the evolution equation for T:  \n",
    "expr_RQ= expr_simplified.subs([(V1, Vs*(R*F/(Kd+F))/(Ks+(R*F/(Kd+F)))),(V2, Vrg*(Q*E/(Ke+E))/(Krg+(Q*E/(Ke+E))))])\n",
    "\n",
    "# Substitute the expressions for Q and R\n",
    "expr_S1S2 = expr_RQ.subs([(R, Rtot*S1),(Q, Qtot*S2)])\n",
    "\n",
    "# Expliciting the relation between S1 and S2 to obtain T(FGF, S1): \n",
    "expr_T = expr_S1S2.subs([(S2,-1.1265*S1 +0.9092)])\n",
    "\n",
    "print('Evolution equation for T (all parameters explicited):')\n",
    "print(expr_T)\n",
    "\n",
    "# Solve the equation \n",
    "sol = solve(expr_T, T)[2]"
   ]
  },
  {
   "cell_type": "markdown",
   "metadata": {},
   "source": [
    "Definition of the function ExprT that compute T as a function of all the parameters of the equation"
   ]
  },
  {
   "cell_type": "code",
   "execution_count": 6,
   "metadata": {},
   "outputs": [],
   "source": [
    "def exprT(Vs_v=1, Vrg_v=0.4, K1_v=0.5, K2_v=0.2, Krg_v=1200, Ks_v=1200, Kb_v=0.2, F_v=5, Kd_v=25, E_v=5, Ke_v=50, Rtot_v=2000, Qtot_v=2000, S1_v=0.5):\n",
    "    sol_T = sol.subs([(Vs,Vs_v),(Vrg,Vrg_v),(K1, K1_v),(K2,K2_v),(Krg, Krg_v), (Ks, Ks_v), (Kb, Kb_v),(F, F_v),(Kd, Kd_v),(E,E_v), (Ke, Ke_v),(Rtot, Rtot_v),(Qtot,Qtot_v),(S1,S1_v)])\n",
    "    sol_T = np.real(np.array(sol_T,complex))\n",
    "    return sol_T"
   ]
  },
  {
   "cell_type": "markdown",
   "metadata": {},
   "source": [
    " Definition of the function to compute Erk (as a function of T): "
   ]
  },
  {
   "cell_type": "code",
   "execution_count": 7,
   "metadata": {},
   "outputs": [],
   "source": [
    "def Erk(T,n=2, Kerk=0.5, Erk_max=1, Erk_bas=0): \n",
    "    Erk = [ Erk_max* T[i]**n/(T[i]**n +Kerk**n)+Erk_bas for i in range(len(T)) ]\n",
    "    return Erk\n",
    "\n",
    "def Erk_singlevalue(T,n, Kerk, Erk_max=1, Erk_bas=0): \n",
    "    Erk = Erk_max* T**n/(T**n +Kerk**n) + Erk_bas\n",
    "    return Erk"
   ]
  },
  {
   "cell_type": "markdown",
   "metadata": {},
   "source": [
    "Evolution equation for the activator Ap:"
   ]
  },
  {
   "cell_type": "code",
   "execution_count": 8,
   "metadata": {},
   "outputs": [],
   "source": [
    "expr_Ap = kMM3*Er*(1-Ap)/(KMM3+(1-Ap))-vMM4*Ap/(KMM4+Ap)\n",
    "sol_Ap= solve(expr_Ap, Ap)[1] \n",
    "\n",
    "# Function to compute Ap as a function of the other parameters:  \n",
    "def exprAp(kMM3_v=12,Er_v=0.5,KMM3_v=0.05,vMM4_v=1,KMM4_v=0.05):\n",
    "    solAp= sol_Ap.subs([(kMM3,kMM3_v), (Er,Er_v), (KMM4,KMM4_v), (vMM4,vMM4_v), (KMM3,KMM3_v)]) \n",
    "    return solAp"
   ]
  },
  {
   "cell_type": "markdown",
   "metadata": {},
   "source": [
    "Evolution equation for the inhibitor I:"
   ]
  },
  {
   "cell_type": "code",
   "execution_count": 9,
   "metadata": {},
   "outputs": [],
   "source": [
    "expr_I = -kMM1*Er*I/(KMM1+I)+vMM2*(1-I)/(KMM2+(1-I))\n",
    "sol_I= solve(expr_I, I)[0] \n",
    "\n",
    "# Function to compute I as a function of the other parameters: \n",
    "def exprI(kMM1_v=12,Er_v=0.5,KMM1_v=0.05,vMM2_v=1,KMM2_v=0.05): \n",
    "    solI= sol_I.subs([(kMM1,kMM1_v), (Er,Er_v), (KMM1,KMM1_v), (vMM2,vMM2_v), (KMM2,KMM2_v)]) \n",
    "    return solI "
   ]
  },
  {
   "cell_type": "markdown",
   "metadata": {},
   "source": [
    "Compute Otx and define a function ExprOtx that compute Otx as a function of all the parameters of the equation"
   ]
  },
  {
   "cell_type": "code",
   "execution_count": 10,
   "metadata": {},
   "outputs": [],
   "source": [
    "expr_Otx = vb+ vo*Ap/((Ka*(1+I/Ki))+Ap)-k*O\n",
    "sol_Otx= solve(expr_Otx, O)[0]  \n",
    "\n",
    "# Function to compute Otx as a function of the other parameters\n",
    "def exprOtx(Ap_v, I_v, vb_v=0.001,vo_v=1,Ka_v=0.1,Ki_v=0.1,k_v=0.2, Omax=1, Obas=0): \n",
    "    solOtx= [sol_Otx.subs([(Ap, Ap_v[i]), (I, I_v[i]), (vb,vb_v), (vo,vo_v), (Ka,Ka_v), (Ki,Ki_v), (k,k_v)])*Omax +Obas for i in range(len(Ap_v))] \n",
    "    return solOtx\n",
    "\n",
    "def exprOtx_singlevalue(Ap_v=0.5, I_v=0.5, vb_v=0.001,vo_v=1,Ka_v=0.1,Ki_v=0.1,k_v=0.2, Omax=1, Obas=0): \n",
    "    solOtx= sol_Otx.subs([(Ap, Ap_v), (I, I_v), (vb,vb_v), (vo,vo_v), (Ka,Ka_v), (Ki,Ki_v), (k,k_v)])*Omax +Obas \n",
    "    return solOtx"
   ]
  },
  {
   "cell_type": "markdown",
   "metadata": {},
   "source": [
    "# Import the experimental data "
   ]
  },
  {
   "cell_type": "code",
   "execution_count": 11,
   "metadata": {},
   "outputs": [],
   "source": [
    "#read the excel file with the experimental data\n",
    "data_S1 = pd.read_excel('/Users/rossanabettoni/Desktop/PhD/Article_PLOS/ExpData.xlsx', sheet_name='Cell surface contacts')\n",
    "df_S1 = pd.DataFrame(data_S1)"
   ]
  },
  {
   "cell_type": "markdown",
   "metadata": {},
   "source": [
    "Experimental data figure 1C  "
   ]
  },
  {
   "cell_type": "code",
   "execution_count": 12,
   "metadata": {},
   "outputs": [],
   "source": [
    "# Reltive area of cell surface contact with FGF expressing cells (divided by cell type)\n",
    "a65_RelContactArea_A = np.array(df_S1['a6.5 S1'].values.tolist())[0:25] \n",
    "a66_RelContactArea_A = np.array(df_S1['a6.6 S1'].values.tolist())[0:25] \n",
    "a67_RelContactArea_A = np.array(df_S1['a6.7 S1'].values.tolist())[0:25] \n",
    "a68_RelContactArea_A = np.array(df_S1['a6.8 S1'].values.tolist())[0:25] "
   ]
  },
  {
   "cell_type": "markdown",
   "metadata": {},
   "source": [
    "# Results"
   ]
  },
  {
   "cell_type": "markdown",
   "metadata": {},
   "source": [
    "## Figure 4A"
   ]
  },
  {
   "cell_type": "markdown",
   "metadata": {},
   "source": [
    "Definition of the random parameters"
   ]
  },
  {
   "cell_type": "code",
   "execution_count": 24,
   "metadata": {},
   "outputs": [],
   "source": [
    "p = 20\n",
    "\n",
    "FGF_rand_a65 = rand(5, perc=p)\n",
    "FGF_rand_a66 = rand(5, perc=p)\n",
    "FGF_rand_a67 = rand(5, perc=p)\n",
    "FGF_rand_a68 = rand(5, perc=p)\n",
    "\n",
    "E_rand_a65 = rand(5, perc=p)\n",
    "E_rand_a66 = rand(5, perc=p)\n",
    "E_rand_a67 = rand(5, perc=p)\n",
    "E_rand_a68 = rand(5, perc=p)\n",
    "\n",
    "Rt_rand_a65 = rand(2000, perc=p)\n",
    "Rt_rand_a66 = rand(2000, perc=p)\n",
    "Rt_rand_a67 = rand(2000, perc=p)\n",
    "Rt_rand_a68 = rand(2000, perc=p)\n",
    "\n",
    "Qt_rand_a65 = rand(2000, perc=p)\n",
    "Qt_rand_a66 = rand(2000, perc=p)\n",
    "Qt_rand_a67 = rand(2000, perc=p)\n",
    "Qt_rand_a68 = rand(2000, perc=p)\n",
    "\n",
    "Kd_rand_a65 = rand(25, perc=p)\n",
    "Kd_rand_a66 = rand(25, perc=p)\n",
    "Kd_rand_a67 = rand(25, perc=p)\n",
    "Kd_rand_a68 = rand(25, perc=p)\n",
    "\n",
    "Ke_rand_a65 = rand(50, perc=p)\n",
    "Ke_rand_a66 = rand(50, perc=p)\n",
    "Ke_rand_a67 = rand(50, perc=p)\n",
    "Ke_rand_a68 = rand(50, perc=p)\n",
    "\n",
    "Kb_rand_a65 = rand(0.2, perc=p)\n",
    "Kb_rand_a66 = rand(0.2, perc=p)\n",
    "Kb_rand_a67 = rand(0.2, perc=p)\n",
    "Kb_rand_a68 = rand(0.2, perc=p)\n",
    "\n",
    "K1_rand_a65 = rand(0.5, perc=p)\n",
    "K1_rand_a66 = rand(0.5, perc=p)\n",
    "K1_rand_a67 = rand(0.5, perc=p)\n",
    "K1_rand_a68 = rand(0.5, perc=p)\n",
    "\n",
    "K2_rand_a65 = rand(0.2, perc=p)\n",
    "K2_rand_a66 = rand(0.2, perc=p)\n",
    "K2_rand_a67 = rand(0.2, perc=p)\n",
    "K2_rand_a68 = rand(0.2, perc=p)\n",
    "\n",
    "Krg_rand_a65 = rand(1200, perc=p)\n",
    "Krg_rand_a66 = rand(1200, perc=p)\n",
    "Krg_rand_a67 = rand(1200, perc=p)\n",
    "Krg_rand_a68 = rand(1200, perc=p)\n",
    "\n",
    "Ks_rand_a65 = rand(1200, perc=p)\n",
    "Ks_rand_a66 = rand(1200, perc=p)\n",
    "Ks_rand_a67 = rand(1200, perc=p)\n",
    "Ks_rand_a68 = rand(1200, perc=p)\n",
    "\n",
    "Vrg_rand_a65 = rand(0.4, perc=p)\n",
    "Vrg_rand_a66 = rand(0.4, perc=p)\n",
    "Vrg_rand_a67 = rand(0.4, perc=p)\n",
    "Vrg_rand_a68 = rand(0.4, perc=p)\n",
    "\n",
    "Vs_rand_a65 = rand(1, perc=p)\n",
    "Vs_rand_a66 = rand(1, perc=p)\n",
    "Vs_rand_a67 = rand(1, perc=p)\n",
    "Vs_rand_a68 = rand(1, perc=p)\n",
    "\n",
    "Kerk_rand_a65 = rand(0.5, perc=p)\n",
    "Kerk_rand_a66 = rand(0.5, perc=p)\n",
    "Kerk_rand_a67 = rand(0.5, perc=p)\n",
    "Kerk_rand_a68 = rand(0.5, perc=p)\n",
    "\n",
    "KMM3_rand_a65 = rand(0.05, perc=p)\n",
    "KMM3_rand_a66 = rand(0.05, perc=p)\n",
    "KMM3_rand_a67 = rand(0.05, perc=p)\n",
    "KMM3_rand_a68 = rand(0.05, perc=p)\n",
    "\n",
    "KMM4_rand_a65 = rand(0.05, perc=p)\n",
    "KMM4_rand_a66 = rand(0.05, perc=p)\n",
    "KMM4_rand_a67 = rand(0.05, perc=p)\n",
    "KMM4_rand_a68 = rand(0.05, perc=p)\n",
    "\n",
    "KMM1_rand_a65 = rand(0.05, perc=p)\n",
    "KMM1_rand_a66 = rand(0.05, perc=p)\n",
    "KMM1_rand_a67 = rand(0.05, perc=p)\n",
    "KMM1_rand_a68 = rand(0.05, perc=p)\n",
    "\n",
    "KMM2_rand_a65 = rand(0.05, perc=p)\n",
    "KMM2_rand_a66 = rand(0.05, perc=p)\n",
    "KMM2_rand_a67 = rand(0.05, perc=p)\n",
    "KMM2_rand_a68 = rand(0.05, perc=p)\n",
    "\n",
    "kMM3_rand_a65 = rand(12, perc=p)\n",
    "kMM3_rand_a66 = rand(12, perc=p)\n",
    "kMM3_rand_a67 = rand(12, perc=p)\n",
    "kMM3_rand_a68 = rand(12, perc=p)\n",
    "\n",
    "kMM1_rand_a65 = rand(12, perc=p)\n",
    "kMM1_rand_a66 = rand(12, perc=p)\n",
    "kMM1_rand_a67 = rand(12, perc=p)\n",
    "kMM1_rand_a68 = rand(12, perc=p)\n",
    "\n",
    "vMM4_rand_a65 = rand(1, perc=p)\n",
    "vMM4_rand_a66 = rand(1, perc=p)\n",
    "vMM4_rand_a67 = rand(1, perc=p)\n",
    "vMM4_rand_a68 = rand(1, perc=p)\n",
    "\n",
    "vMM2_rand_a65 = rand(1, perc=p)\n",
    "vMM2_rand_a66 = rand(1, perc=p)\n",
    "vMM2_rand_a67 = rand(1, perc=p)\n",
    "vMM2_rand_a68 = rand(1, perc=p)\n",
    "\n",
    "k_rand_a65 = rand(0.2, perc=p)\n",
    "k_rand_a66 = rand(0.2, perc=p)\n",
    "k_rand_a67 = rand(0.2, perc=p)\n",
    "k_rand_a68 = rand(0.2, perc=p)\n",
    "\n",
    "Ki_rand_a65 = rand(0.1, perc=p)\n",
    "Ki_rand_a66 = rand(0.1, perc=p)\n",
    "Ki_rand_a67 = rand(0.1, perc=p)\n",
    "Ki_rand_a68 = rand(0.1, perc=p)\n",
    "\n",
    "Ka_rand_a65 = rand(0.1, perc=p)\n",
    "Ka_rand_a66 = rand(0.1, perc=p)\n",
    "Ka_rand_a67 = rand(0.1, perc=p)\n",
    "Ka_rand_a68 = rand(0.1, perc=p)\n",
    "\n",
    "vo_rand_a65 = rand(1, perc=p)\n",
    "vo_rand_a66 = rand(1, perc=p)\n",
    "vo_rand_a67 = rand(1, perc=p)\n",
    "vo_rand_a68 = rand(1, perc=p)\n",
    "\n",
    "vb_rand_a65 = rand(0.001, perc=p)\n",
    "vb_rand_a66 = rand(0.001, perc=p)\n",
    "vb_rand_a67 = rand(0.001, perc=p)\n",
    "vb_rand_a68 = rand(0.001, perc=p)"
   ]
  },
  {
   "cell_type": "markdown",
   "metadata": {},
   "source": [
    "### ERK - Parameters linked to the FGF pathway randomly choosen "
   ]
  },
  {
   "cell_type": "code",
   "execution_count": 25,
   "metadata": {},
   "outputs": [],
   "source": [
    "T_pred_a65 = [exprT(S1_v= a65_RelContactArea_A[i], F_v=FGF_rand_a65[i], Kd_v=Kd_rand_a65[i],Ks_v=Ks_rand_a65[i], Rtot_v=Rt_rand_a65[i],Vs_v=Vs_rand_a65[i],K1_v =K1_rand_a65[i]) for i in range(len(a65_RelContactArea_A))]\n",
    "T_pred_a66 = [exprT(S1_v= a66_RelContactArea_A[i], F_v=FGF_rand_a66[i], Kd_v=Kd_rand_a66[i],Ks_v=Ks_rand_a66[i], Rtot_v=Rt_rand_a66[i],Vs_v=Vs_rand_a65[i],K1_v =K1_rand_a66[i]) for i in range(len(a66_RelContactArea_A))]\n",
    "T_pred_a67 = [exprT(S1_v= a67_RelContactArea_A[i], F_v=FGF_rand_a67[i], Kd_v=Kd_rand_a67[i],Ks_v=Ks_rand_a67[i], Rtot_v=Rt_rand_a67[i],Vs_v=Vs_rand_a65[i],K1_v =K1_rand_a67[i]) for i in range(len(a67_RelContactArea_A))]\n",
    "T_pred_a68 = [exprT(S1_v= a68_RelContactArea_A[i], F_v=FGF_rand_a68[i], Kd_v=Kd_rand_a68[i],Ks_v=Ks_rand_a68[i], Rtot_v=Rt_rand_a68[i],Vs_v=Vs_rand_a65[i],K1_v =K1_rand_a68[i]) for i in range(len(a68_RelContactArea_A))]\n",
    "\n",
    "Erk_pred_a65_a = Erk(T_pred_a65)\n",
    "Erk_pred_a66_a = Erk(T_pred_a66)\n",
    "Erk_pred_a67_a = Erk(T_pred_a67)\n",
    "Erk_pred_a68_a = Erk(T_pred_a68)\n",
    "\n",
    "# Compute the mean Erk value for each cell type (with our model)\n",
    "mean_a65_Erk_model_a= np.mean(Erk_pred_a65_a) \n",
    "mean_a66_Erk_model_a= np.mean(Erk_pred_a66_a)\n",
    "mean_a67_Erk_model_a= np.mean(Erk_pred_a67_a)\n",
    "mean_a68_Erk_model_a= np.mean(Erk_pred_a68_a)\n",
    "Erk_mean_a = [mean_a65_Erk_model_a, mean_a66_Erk_model_a, mean_a67_Erk_model_a, mean_a68_Erk_model_a]\n",
    "\n",
    "# Compute the std\n",
    "sdev_a65_Erk_model_a = np.std(Erk_pred_a65_a)\n",
    "sdev_a66_Erk_model_a = np.std(Erk_pred_a66_a)\n",
    "sdev_a67_Erk_model_a = np.std(Erk_pred_a67_a)\n",
    "sdev_a68_Erk_model_a = np.std(Erk_pred_a68_a)\n",
    "sdev_a = [sdev_a65_Erk_model_a, sdev_a66_Erk_model_a, sdev_a67_Erk_model_a, sdev_a68_Erk_model_a]"
   ]
  },
  {
   "cell_type": "code",
   "execution_count": 26,
   "metadata": {},
   "outputs": [
    {
     "data": {
      "image/png": "[encoded data removed]",
      "text/plain": [
       "<Figure size 396x288 with 1 Axes>"
      ]
     },
     "metadata": {
      "needs_background": "light"
     },
     "output_type": "display_data"
    }
   ],
   "source": [
    "plt.figure(figsize=(5.5,4))\n",
    "\n",
    "x = np.random.normal(1, 0.08, size=len(Erk_pred_a68_a)) \n",
    "plt.plot(x,Erk_pred_a68_a,'.', color='grey', alpha=0.4,markersize=12, zorder=1)\n",
    "    \n",
    "x = np.random.normal(2, 0.08, size=len(Erk_pred_a66_a))\n",
    "plt.plot(x,Erk_pred_a66_a,'.', color='tab:green', alpha=0.4,markersize=12, zorder=1)\n",
    "    \n",
    "x = np.random.normal(3, 0.08, size=len(Erk_pred_a67_a))\n",
    "plt.plot(x,Erk_pred_a67_a,'.', color='tab:blue', alpha=0.4,markersize=12, zorder=1)\n",
    "\n",
    "x = np.random.normal(4, 0.08, size=len(Erk_pred_a65_a))\n",
    "plt.plot(x,Erk_pred_a65_a,'.', color='orchid', alpha=0.4,markersize=12, zorder=1)\n",
    "\n",
    "x = [4, 2, 3, 1]\n",
    "plt.errorbar(x, Erk_mean_a, sdev_a, marker='o',markersize=5,color='black', capsize=5,mfc='black', mec='black', ls='none',zorder=2)\n",
    "\n",
    "ax=plt.gca()\n",
    "my_axsis(ax, xlim=[0.5,4.5], ylim=[-0.03,0.36], xticks=[1,2,3,4], title='', xtickslabels=['a6.8', 'a6.6', 'a6.7','a6.5'], bold=True)\n",
    "plt.ylabel('Erk activity')\n",
    "plt.tight_layout()\n",
    "plt.show()"
   ]
  },
  {
   "cell_type": "markdown",
   "metadata": {},
   "source": [
    "### ERK - Parameters linked to the ephrin pathway randomly choosen"
   ]
  },
  {
   "cell_type": "code",
   "execution_count": 27,
   "metadata": {},
   "outputs": [],
   "source": [
    "T_pred_a65 = [exprT(S1_v= a65_RelContactArea_A[i], E_v=E_rand_a65[i], Ke_v=Ke_rand_a65[i],Krg_v=Krg_rand_a65[i], Qtot_v=Qt_rand_a65[i],Vrg_v=Vrg_rand_a65[i],K2_v =K2_rand_a65[i]) for i in range(len(a65_RelContactArea_A))]\n",
    "T_pred_a66 = [exprT(S1_v= a66_RelContactArea_A[i], E_v=E_rand_a66[i], Ke_v=Ke_rand_a66[i],Krg_v=Krg_rand_a66[i], Qtot_v=Qt_rand_a66[i],Vrg_v=Vrg_rand_a65[i],K2_v =K2_rand_a66[i]) for i in range(len(a66_RelContactArea_A))]\n",
    "T_pred_a67 = [exprT(S1_v= a67_RelContactArea_A[i], E_v=E_rand_a67[i], Ke_v=Ke_rand_a67[i],Krg_v=Krg_rand_a67[i], Qtot_v=Qt_rand_a67[i],Vrg_v=Vrg_rand_a65[i],K2_v =K2_rand_a67[i]) for i in range(len(a67_RelContactArea_A))]\n",
    "T_pred_a68 = [exprT(S1_v= a68_RelContactArea_A[i], E_v=E_rand_a68[i], Ke_v=Ke_rand_a68[i],Krg_v=Krg_rand_a68[i], Qtot_v=Qt_rand_a68[i],Vrg_v=Vrg_rand_a65[i],K2_v =K2_rand_a68[i]) for i in range(len(a68_RelContactArea_A))]\n",
    "\n",
    "Erk_pred_a65_a = Erk(T_pred_a65)\n",
    "Erk_pred_a66_a = Erk(T_pred_a66)\n",
    "Erk_pred_a67_a = Erk(T_pred_a67)\n",
    "Erk_pred_a68_a = Erk(T_pred_a68)\n",
    "\n",
    "# Compute the mean Erk value for each cell type (with our model)\n",
    "mean_a65_Erk_model_a= np.mean(Erk_pred_a65_a) \n",
    "mean_a66_Erk_model_a= np.mean(Erk_pred_a66_a)\n",
    "mean_a67_Erk_model_a= np.mean(Erk_pred_a67_a)\n",
    "mean_a68_Erk_model_a= np.mean(Erk_pred_a68_a)\n",
    "Erk_mean_a = [mean_a65_Erk_model_a, mean_a66_Erk_model_a, mean_a67_Erk_model_a, mean_a68_Erk_model_a]\n",
    "\n",
    "# Compute the std\n",
    "sdev_a65_Erk_model_a = np.std(Erk_pred_a65_a)\n",
    "sdev_a66_Erk_model_a = np.std(Erk_pred_a66_a)\n",
    "sdev_a67_Erk_model_a = np.std(Erk_pred_a67_a)\n",
    "sdev_a68_Erk_model_a = np.std(Erk_pred_a68_a)\n",
    "sdev_a = [sdev_a65_Erk_model_a, sdev_a66_Erk_model_a, sdev_a67_Erk_model_a, sdev_a68_Erk_model_a]"
   ]
  },
  {
   "cell_type": "code",
   "execution_count": 28,
   "metadata": {},
   "outputs": [
    {
     "data": {
      "image/png": "[encoded data removed]",
      "text/plain": [
       "<Figure size 396x288 with 1 Axes>"
      ]
     },
     "metadata": {
      "needs_background": "light"
     },
     "output_type": "display_data"
    }
   ],
   "source": [
    "plt.figure(figsize=(5.5,4))\n",
    "\n",
    "x = np.random.normal(1, 0.08, size=len(Erk_pred_a68_a))\n",
    "plt.plot(x,Erk_pred_a68_a,'.', color='grey', alpha=0.4,markersize=12, zorder=1)\n",
    "    \n",
    "x = np.random.normal(2, 0.08, size=len(Erk_pred_a66_a))\n",
    "plt.plot(x,Erk_pred_a66_a,'.', color='tab:green', alpha=0.4,markersize=12, zorder=1)\n",
    "    \n",
    "x = np.random.normal(3, 0.08, size=len(Erk_pred_a67_a))\n",
    "plt.plot(x,Erk_pred_a67_a,'.', color='tab:blue', alpha=0.4,markersize=12, zorder=1)\n",
    "\n",
    "x = np.random.normal(4, 0.08, size=len(Erk_pred_a65_a))\n",
    "plt.plot(x,Erk_pred_a65_a,'.', color='orchid', alpha=0.4,markersize=12, zorder=1)\n",
    "\n",
    "x = [4, 2, 3, 1]\n",
    "plt.errorbar(x, Erk_mean_a, sdev_a, marker='o',markersize=5,color='black', capsize=5,mfc='black', mec='black', ls='none',zorder=2)\n",
    "\n",
    "ax=plt.gca()\n",
    "my_axsis(ax, xlim=[0.5,4.5], ylim=[-0.03, 0.36], xticks=[1,2,3,4], title='', xtickslabels=['a6.8', 'a6.6', 'a6.7','a6.5'], bold=True)\n",
    "\n",
    "plt.ylabel('Erk activity')\n",
    "plt.tight_layout()\n",
    "plt.show()"
   ]
  },
  {
   "cell_type": "markdown",
   "metadata": {},
   "source": [
    "### Otx - All parameters"
   ]
  },
  {
   "cell_type": "markdown",
   "metadata": {},
   "source": [
    "Compute Erk activity"
   ]
  },
  {
   "cell_type": "code",
   "execution_count": 29,
   "metadata": {},
   "outputs": [],
   "source": [
    "Erk_max= 1    \n",
    "Erk_bas = 0 \n",
    "n_erk =2\n",
    "\n",
    "T_pred_a65 = [exprT(S1_v= a65_RelContactArea_A[i],Vs_v=Vs_rand_a65[i], Vrg_v=Vrg_rand_a65[i], K1_v=K1_rand_a65[i],K2_v=K2_rand_a65[i],Ks_v=Ks_rand_a65[i], Krg_v=Krg_rand_a65[i], F_v=FGF_rand_a65[i],E_v=E_rand_a65[i],Kd_v=Kd_rand_a65[i],Ke_v=Ke_rand_a65[i],Kb_v=Kb_rand_a65[i], Rtot_v=Rt_rand_a65[i],Qtot_v=Qt_rand_a65[i]) for i in range(len(a65_RelContactArea_A))]\n",
    "T_pred_a66 = [exprT(S1_v= a66_RelContactArea_A[i],Vs_v=Vs_rand_a66[i], Vrg_v=Vrg_rand_a66[i], K1_v=K1_rand_a66[i],K2_v=K2_rand_a66[i],Ks_v=Ks_rand_a66[i], Krg_v=Krg_rand_a66[i], F_v=FGF_rand_a66[i],E_v=E_rand_a66[i],Kd_v=Kd_rand_a66[i],Ke_v=Ke_rand_a66[i],Kb_v=Kb_rand_a66[i], Rtot_v=Rt_rand_a66[i],Qtot_v=Qt_rand_a66[i]) for i in range(len(a66_RelContactArea_A))]\n",
    "T_pred_a67 = [exprT(S1_v= a67_RelContactArea_A[i],Vs_v=Vs_rand_a67[i], Vrg_v=Vrg_rand_a67[i], K1_v=K1_rand_a67[i],K2_v=K2_rand_a67[i],Ks_v=Ks_rand_a67[i], Krg_v=Krg_rand_a67[i], F_v=FGF_rand_a67[i],E_v=E_rand_a67[i],Kd_v=Kd_rand_a67[i],Ke_v=Ke_rand_a67[i],Kb_v=Kb_rand_a67[i], Rtot_v=Rt_rand_a67[i],Qtot_v=Qt_rand_a67[i]) for i in range(len(a67_RelContactArea_A))]\n",
    "T_pred_a68 = [exprT(S1_v= a68_RelContactArea_A[i],Vs_v=Vs_rand_a68[i], Vrg_v=Vrg_rand_a68[i], K1_v=K1_rand_a68[i],K2_v=K2_rand_a68[i],Ks_v=Ks_rand_a68[i], Krg_v=Krg_rand_a68[i], F_v=FGF_rand_a68[i],E_v=E_rand_a68[i],Kd_v=Kd_rand_a68[i],Ke_v=Ke_rand_a68[i],Kb_v=Kb_rand_a68[i], Rtot_v=Rt_rand_a68[i],Qtot_v=Qt_rand_a68[i]) for i in range(len(a68_RelContactArea_A))]\n",
    "Erk_pred_a65_a = [Erk_singlevalue(T_pred_a65[i], n_erk, Kerk_rand_a65[i], Erk_max, Erk_bas) for i in range(len(a65_RelContactArea_A))]\n",
    "Erk_pred_a66_a = [Erk_singlevalue(T_pred_a66[i], n_erk, Kerk_rand_a66[i], Erk_max, Erk_bas) for i in range(len(a66_RelContactArea_A))]\n",
    "Erk_pred_a67_a = [Erk_singlevalue(T_pred_a67[i], n_erk, Kerk_rand_a67[i], Erk_max, Erk_bas) for i in range(len(a67_RelContactArea_A))]\n",
    "Erk_pred_a68_a = [Erk_singlevalue(T_pred_a68[i], n_erk, Kerk_rand_a68[i], Erk_max, Erk_bas) for i in range(len(a68_RelContactArea_A))]\n",
    "\n",
    "# Compute the mean Erk value for each cell type (with our model)\n",
    "mean_a65_Erk_model_a= np.mean(Erk_pred_a65_a) \n",
    "mean_a66_Erk_model_a= np.mean(Erk_pred_a66_a)\n",
    "mean_a67_Erk_model_a= np.mean(Erk_pred_a67_a)\n",
    "mean_a68_Erk_model_a= np.mean(Erk_pred_a68_a)\n",
    "Erk_mean_a = [mean_a65_Erk_model_a, mean_a66_Erk_model_a, mean_a67_Erk_model_a, mean_a68_Erk_model_a]\n",
    "\n",
    "# Compute the std\n",
    "sdev_a65_Erk_model_a = np.std(Erk_pred_a65_a)\n",
    "sdev_a66_Erk_model_a = np.std(Erk_pred_a66_a)\n",
    "sdev_a67_Erk_model_a = np.std(Erk_pred_a67_a)\n",
    "sdev_a68_Erk_model_a = np.std(Erk_pred_a68_a)\n",
    "sdev_a = [sdev_a65_Erk_model_a, sdev_a66_Erk_model_a, sdev_a67_Erk_model_a, sdev_a68_Erk_model_a]"
   ]
  },
  {
   "cell_type": "markdown",
   "metadata": {},
   "source": [
    "Compute Otx expression"
   ]
  },
  {
   "cell_type": "code",
   "execution_count": 30,
   "metadata": {},
   "outputs": [],
   "source": [
    "Omax_value =1 \n",
    "Obas_value =0\n",
    "\n",
    "Ap_pred_a65 = [exprAp(Er_v=Erk_pred_a65_a[i], KMM3_v=KMM3_rand_a65[i], KMM4_v=KMM4_rand_a65[i], kMM3_v= kMM3_rand_a65[i], vMM4_v=vMM4_rand_a65[i]) for i in range(len(Erk_pred_a65_a))]\n",
    "Ap_pred_a66 = [exprAp(Er_v=Erk_pred_a66_a[i], KMM3_v=KMM3_rand_a66[i], KMM4_v=KMM4_rand_a66[i], kMM3_v= kMM3_rand_a66[i], vMM4_v=vMM4_rand_a66[i]) for i in range(len(Erk_pred_a66_a))]\n",
    "Ap_pred_a67 = [exprAp(Er_v=Erk_pred_a67_a[i], KMM3_v=KMM3_rand_a67[i], KMM4_v=KMM4_rand_a67[i], kMM3_v= kMM3_rand_a67[i], vMM4_v=vMM4_rand_a67[i]) for i in range(len(Erk_pred_a67_a))]\n",
    "Ap_pred_a68 = [exprAp(Er_v=Erk_pred_a68_a[i], KMM3_v=KMM3_rand_a68[i], KMM4_v=KMM4_rand_a68[i], kMM3_v= kMM3_rand_a68[i], vMM4_v=vMM4_rand_a68[i]) for i in range(len(Erk_pred_a68_a))]\n",
    "\n",
    "I_pred_a65 = [exprI(Er_v=Erk_pred_a65_a[i], KMM1_v=KMM1_rand_a65[i], KMM2_v=KMM2_rand_a65[i], kMM1_v= kMM1_rand_a65[i], vMM2_v=vMM2_rand_a65[i]) for i in range(len(Erk_pred_a65_a))]\n",
    "I_pred_a66 = [exprI(Er_v=Erk_pred_a66_a[i], KMM1_v=KMM1_rand_a66[i], KMM2_v=KMM2_rand_a66[i], kMM1_v= kMM1_rand_a66[i], vMM2_v=vMM2_rand_a66[i]) for i in range(len(Erk_pred_a66_a))]\n",
    "I_pred_a67 = [exprI(Er_v=Erk_pred_a67_a[i], KMM1_v=KMM1_rand_a67[i], KMM2_v=KMM2_rand_a67[i], kMM1_v= kMM1_rand_a67[i], vMM2_v=vMM2_rand_a67[i]) for i in range(len(Erk_pred_a67_a))]\n",
    "I_pred_a68 = [exprI(Er_v=Erk_pred_a68_a[i], KMM1_v=KMM1_rand_a68[i], KMM2_v=KMM2_rand_a68[i], kMM1_v= kMM1_rand_a68[i], vMM2_v=vMM2_rand_a68[i]) for i in range(len(Erk_pred_a68_a))]\n",
    "\n",
    "# Compute Otx expression\n",
    "\n",
    "Otx_pred_a65_e = np.array([exprOtx_singlevalue(Ap_v=Ap_pred_a65[i],I_v=I_pred_a65[i], Omax = Omax_value, Obas = Obas_value, k_v=k_rand_a65[i], Ka_v=Ka_rand_a65[i], vb_v=vb_rand_a65[i], vo_v=vo_rand_a65[i]) for i in range(len(Ap_pred_a65))])\n",
    "Otx_pred_a66_e = np.array([exprOtx_singlevalue(Ap_v=Ap_pred_a66[i],I_v=I_pred_a66[i], Omax = Omax_value, Obas = Obas_value, k_v=k_rand_a66[i], Ka_v=Ka_rand_a66[i], vb_v=vb_rand_a66[i], vo_v=vo_rand_a66[i]) for i in range(len(Ap_pred_a66))])\n",
    "Otx_pred_a67_e = np.array([exprOtx_singlevalue(Ap_v=Ap_pred_a67[i],I_v=I_pred_a67[i], Omax = Omax_value, Obas = Obas_value, k_v=k_rand_a67[i], Ka_v=Ka_rand_a67[i], vb_v=vb_rand_a67[i], vo_v=vo_rand_a67[i]) for i in range(len(Ap_pred_a67))])\n",
    "Otx_pred_a68_e = np.array([exprOtx_singlevalue(Ap_v=Ap_pred_a68[i],I_v=I_pred_a68[i], Omax = Omax_value, Obas = Obas_value, k_v=k_rand_a68[i], Ka_v=Ka_rand_a68[i], vb_v=vb_rand_a68[i], vo_v=vo_rand_a68[i]) for i in range(len(Ap_pred_a68))])\n",
    "\n",
    "Otx_pred_a65_e = Otx_pred_a65_e.astype(float)\n",
    "Otx_pred_a66_e = Otx_pred_a66_e.astype(float)\n",
    "Otx_pred_a67_e = Otx_pred_a67_e.astype(float)\n",
    "Otx_pred_a68_e = Otx_pred_a68_e.astype(float)\n",
    "\n",
    "# Compute mean\n",
    "a65_Otx_mean_pred_e = np.mean(Otx_pred_a65_e)\n",
    "a66_Otx_mean_pred_e = np.mean(Otx_pred_a66_e)\n",
    "a67_Otx_mean_pred_e = np.mean(Otx_pred_a67_e)\n",
    "a68_Otx_mean_pred_e = np.mean(Otx_pred_a68_e)\n",
    "\n",
    "# Compute std\n",
    "a65_Otx_std_pred_e = np.std(Otx_pred_a65_e)\n",
    "a66_Otx_std_pred_e = np.std(Otx_pred_a66_e)\n",
    "a67_Otx_std_pred_e = np.std(Otx_pred_a67_e)\n",
    "a68_Otx_std_pred_e = np.std(Otx_pred_a68_e)\n",
    "\n",
    "mean_Otx_pred_e = [a65_Otx_mean_pred_e, a66_Otx_mean_pred_e, a67_Otx_mean_pred_e, a68_Otx_mean_pred_e]\n",
    "std_Otx_pred_e = [a65_Otx_std_pred_e, a66_Otx_std_pred_e, a67_Otx_std_pred_e, a68_Otx_std_pred_e]\n",
    "\n"
   ]
  },
  {
   "cell_type": "code",
   "execution_count": 32,
   "metadata": {},
   "outputs": [
    {
     "data": {
      "image/png": "[encoded data removed]",
      "text/plain": [
       "<Figure size 374.4x288 with 1 Axes>"
      ]
     },
     "metadata": {
      "needs_background": "light"
     },
     "output_type": "display_data"
    }
   ],
   "source": [
    "plt.figure(figsize=(5.2,4))\n",
    "\n",
    "x = np.random.normal(1, 0.08, size=len(Otx_pred_a68_e)) \n",
    "plt.plot(x,Otx_pred_a68_e,'.', color='grey', alpha=0.4,markersize=12, zorder=1)\n",
    "    \n",
    "x = np.random.normal(2, 0.08, size=len(Otx_pred_a66_e))\n",
    "plt.plot(x,Otx_pred_a66_e,'.', color='tab:green', alpha=0.4,markersize=12, zorder=1)\n",
    "    \n",
    "x = np.random.normal(3, 0.08, size=len(Otx_pred_a67_e))\n",
    "plt.plot(x,Otx_pred_a67_e,'.', color='tab:blue', alpha=0.4,markersize=12, zorder=1)\n",
    "\n",
    "x = np.random.normal(4, 0.08, size=len(Otx_pred_a65_e))\n",
    "plt.plot(x,Otx_pred_a65_e,'.', color='orchid', alpha=0.4,markersize=12, zorder=1)\n",
    "\n",
    "x = [4, 2, 3, 1]\n",
    "plt.errorbar(x, mean_Otx_pred_e, std_Otx_pred_e, marker='o',markersize=5,color='black', capsize=5,mfc='black', mec='black', ls='none',zorder=2)\n",
    "\n",
    "ax=plt.gca()\n",
    "my_axsis(ax, xlim=[0.5,4.5], ylim=[-0.8, 7], xticks=[1,2,3,4], title='', xtickslabels=['a6.8', 'a6.6', 'a6.7','a6.5'], bold=True)\n",
    "\n",
    "plt.ylabel('$Otx$ expression')\n",
    "plt.tight_layout()\n",
    "plt.show()"
   ]
  },
  {
   "cell_type": "code",
   "execution_count": null,
   "metadata": {},
   "outputs": [],
   "source": []
  }
 ],
 "metadata": {
  "kernelspec": {
   "display_name": "Python 3",
   "language": "python",
   "name": "python3"
  },
  "language_info": {
   "codemirror_mode": {
    "name": "ipython",
    "version": 3
   },
   "file_extension": ".py",
   "mimetype": "text/x-python",
   "name": "python",
   "nbconvert_exporter": "python",
   "pygments_lexer": "ipython3",
   "version": "3.8.5"
  }
 },
 "nbformat": 4,
 "nbformat_minor": 4
}
