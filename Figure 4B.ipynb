{
 "cells": [
  {
   "cell_type": "markdown",
   "metadata": {},
   "source": [
    "# Figure 4B "
   ]
  },
  {
   "cell_type": "markdown",
   "metadata": {},
   "source": [
    "# Import packages"
   ]
  },
  {
   "cell_type": "code",
   "execution_count": 1,
   "metadata": {},
   "outputs": [],
   "source": [
    "import numpy as np\n",
    "import matplotlib.pyplot as plt \n",
    "from sympy import symbols, solve, simplify\n",
    "import pandas as pd\n",
    "from scipy.optimize import curve_fit\n",
    "import sympy as sp\n",
    "plt.rcParams.update({'font.size': 20})"
   ]
  },
  {
   "cell_type": "markdown",
   "metadata": {},
   "source": [
    "# Definitions"
   ]
  },
  {
   "cell_type": "markdown",
   "metadata": {},
   "source": [
    "Function to define the properties of the axis of a plot"
   ]
  },
  {
   "cell_type": "code",
   "execution_count": 2,
   "metadata": {},
   "outputs": [],
   "source": [
    "def my_axsis(ax, xlim, ylim, xticks, title, xtickslabels, bold=True, scale='lin'):    \n",
    "    \n",
    "    ax.set_xlim(xlim)\n",
    "    ax.set_ylim(ylim)\n",
    "    ax.set_xticks(xticks)\n",
    "    ax.set_title(title)\n",
    "    ax.set_xticklabels(xtickslabels)\n",
    "    \n",
    "    if bold==True:\n",
    "        for axis in ['top','bottom','left','right']:\n",
    "            ax.spines[axis].set_linewidth(1.2)\n",
    "            \n",
    "    if scale=='log':\n",
    "        ax.set_yscale('log', base=2)"
   ]
  },
  {
   "cell_type": "markdown",
   "metadata": {},
   "source": [
    "# Model "
   ]
  },
  {
   "cell_type": "markdown",
   "metadata": {},
   "source": [
    "Definition of the parameters of the model"
   ]
  },
  {
   "cell_type": "code",
   "execution_count": 3,
   "metadata": {},
   "outputs": [],
   "source": [
    "T, V1, V2, K1, K2, Kb = symbols('T V1 V2 K1 K2 Kb') \n",
    "Vs, Rb, Ks, Vrg, Qb, Krg = symbols('Vs Rb Ks Vrg Qb Krg')\n",
    "R, F, Kd, Q, E, Ke = symbols('R F Kd Q E Ke')\n",
    "S1, Qtot, S2, Rtot= symbols('S1 Qtot S2 Rtot')"
   ]
  },
  {
   "cell_type": "markdown",
   "metadata": {},
   "source": [
    "The evolution equation for T"
   ]
  },
  {
   "cell_type": "code",
   "execution_count": 4,
   "metadata": {},
   "outputs": [
    {
     "name": "stdout",
     "output_type": "stream",
     "text": [
      "Evolution equation for T:\n",
      "-Kb*T - T*V2/(K2 + T) + V1*(1 - T)/(K1 - T + 1)\n",
      "Evolution equation for T (all parameters explicited):\n",
      "-E*Qtot*T*Vrg*(0.9092 - 1.1265*S1)*(K1 - T + 1)/((E + Ke)*(E*Qtot*(0.9092 - 1.1265*S1)/(E + Ke) + Krg)) + F*Rtot*S1*Vs*(1 - T)*(K2 + T)/((F + Kd)*(F*Rtot*S1/(F + Kd) + Ks)) - Kb*T*(K2 + T)*(K1 - T + 1)\n"
     ]
    }
   ],
   "source": [
    "# Evolution equation for T: \n",
    "expr = V1*(1-T)/(K1+(1-T))-V2*T/(K2+T)-Kb*T\n",
    "expr_simplified= V1*(1-T)*(K2+T) -V2*T*(K1+(1-T))-Kb*T*(K1+(1-T))*(K2+T)\n",
    "print('Evolution equation for T:')\n",
    "print(expr)\n",
    "\n",
    "# Substitute the expression for V1 and V2 in the evolution equation for T:  \n",
    "expr_RQ= expr_simplified.subs([(V1, Vs*(R*F/(Kd+F))/(Ks+(R*F/(Kd+F)))),(V2, Vrg*(Q*E/(Ke+E))/(Krg+(Q*E/(Ke+E))))])\n",
    "\n",
    "# Substitute the expressions for Q and R\n",
    "expr_S1S2 = expr_RQ.subs([(R, Rtot*S1),(Q, Qtot*S2)])\n",
    "\n",
    "# Expliciting the relation between S1 and S2 to obtain T(FGF, S1): \n",
    "expr_T = expr_S1S2.subs([(S2,-1.1265*S1 +0.9092)])\n",
    "\n",
    "print('Evolution equation for T (all parameters explicited):')\n",
    "print(expr_T)\n",
    "\n",
    "# Solve the equation \n",
    "sol = solve(expr_T, T)[2]"
   ]
  },
  {
   "cell_type": "markdown",
   "metadata": {},
   "source": [
    "Definition of the function ExprT that compute T as a function of all the parameters of the equation"
   ]
  },
  {
   "cell_type": "code",
   "execution_count": 5,
   "metadata": {},
   "outputs": [],
   "source": [
    "def exprT(Vs_v=1, Vrg_v=0.4, K1_v=0.5, K2_v=0.2, Krg_v=1200, Ks_v=1200, Kb_v=0.2, F_v=5, Kd_v=25, E_v=5, Ke_v=50, Rtot_v=2000, Qtot_v=2000, S1_v=0.5):\n",
    "    sol_T = sol.subs([(Vs,Vs_v),(Vrg,Vrg_v),(K1, K1_v),(K2,K2_v),(Krg, Krg_v), (Ks, Ks_v), (Kb, Kb_v),(F, F_v),(Kd, Kd_v),(E,E_v), (Ke, Ke_v),(Rtot, Rtot_v),(Qtot,Qtot_v),(S1,S1_v)])\n",
    "    sol_T = np.real(np.array(sol_T,complex))\n",
    "    return sol_T"
   ]
  },
  {
   "cell_type": "code",
   "execution_count": 6,
   "metadata": {},
   "outputs": [],
   "source": [
    "# Solve the equation \n",
    "sol_S1S2 = solve(expr_S1S2, T)[1]\n",
    "\n",
    "def exprT_S1S2(Vs_v=1, Vrg_v=0.4, K1_v=0.5, K2_v=0.2, Krg_v=1200, Ks_v=1200, Kb_v=0.2, F_v=5, Kd_v=25, E_v=5, Ke_v=50, Rtot_v=2000, Qtot_v=2000, S1_v=0.5, S2_v= 0.4):\n",
    "    sol_S= sol_S1S2.subs([(Vs,Vs_v),(Vrg,Vrg_v),(K1, K1_v),(K2,K2_v),(Krg, Krg_v), (Ks, Ks_v), (Kb, Kb_v),(F, F_v),(Kd, Kd_v),(E,E_v), (Ke, Ke_v),(Rtot, Rtot_v),(Qtot,Qtot_v),(S1,S1_v),(S2,S2_v)])\n",
    "    sol_S = np.real(np.array(sol_S,complex))\n",
    "    return sol_S"
   ]
  },
  {
   "cell_type": "markdown",
   "metadata": {},
   "source": [
    "Definition of the function to compute Erk (as a function of T):"
   ]
  },
  {
   "cell_type": "code",
   "execution_count": 7,
   "metadata": {},
   "outputs": [],
   "source": [
    "def Erk(T,n=2, Kerk=0.5, Erk_max=1, Erk_bas=0): \n",
    "    Erk = [ Erk_max* T[i]**n/(T[i]**n +Kerk**n)+Erk_bas for i in range(len(T)) ]\n",
    "    return Erk"
   ]
  },
  {
   "cell_type": "code",
   "execution_count": 8,
   "metadata": {},
   "outputs": [],
   "source": [
    "def Erk1D(T,n=2, Kerk=0.5, Erk_max=1, Erk_bas=0): \n",
    "    Erk = Erk_max* T**n/(T**n +Kerk**n) + Erk_bas\n",
    "    return Erk"
   ]
  },
  {
   "cell_type": "markdown",
   "metadata": {},
   "source": [
    "# Import the experimental data "
   ]
  },
  {
   "cell_type": "code",
   "execution_count": 9,
   "metadata": {},
   "outputs": [],
   "source": [
    "# Read the excel file with the experimental data\n",
    "data_S1 = pd.read_excel('/Users/rossanabettoni/Desktop/PhD/Article_PLOS/ExpData.xlsx', sheet_name='Cell surface contacts')\n",
    "df_S1 = pd.DataFrame(data_S1)"
   ]
  },
  {
   "cell_type": "markdown",
   "metadata": {},
   "source": [
    "Experimental data figure 1C"
   ]
  },
  {
   "cell_type": "code",
   "execution_count": 10,
   "metadata": {},
   "outputs": [],
   "source": [
    "# Reltive area of cell surface contact with FGF expressing cells (divided by cell type)\n",
    "a65_RelContactArea_A = np.array(df_S1['a6.5 S1'].values.tolist())[0:25] \n",
    "a66_RelContactArea_A = np.array(df_S1['a6.6 S1'].values.tolist())[0:25] \n",
    "a67_RelContactArea_A = np.array(df_S1['a6.7 S1'].values.tolist())[0:25] \n",
    "a68_RelContactArea_A = np.array(df_S1['a6.8 S1'].values.tolist())[0:25] "
   ]
  },
  {
   "cell_type": "markdown",
   "metadata": {},
   "source": [
    "# Results "
   ]
  },
  {
   "cell_type": "markdown",
   "metadata": {},
   "source": [
    "## Figure 4B"
   ]
  },
  {
   "cell_type": "markdown",
   "metadata": {},
   "source": [
    "Compute Erk activity and the mean values for each cell type (starting from S1 and S2 exp data)"
   ]
  },
  {
   "cell_type": "code",
   "execution_count": 11,
   "metadata": {},
   "outputs": [],
   "source": [
    "# Compute T starting from the exp values of S1 \n",
    "T_pred_a68 = [exprT(S1_v= a68_RelContactArea_A[i]) for i in range(len(a68_RelContactArea_A))]\n",
    "T_pred_a66 = [exprT(S1_v= a66_RelContactArea_A[i]) for i in range(len(a68_RelContactArea_A))]\n",
    "T_pred_a67 = [exprT(S1_v= a67_RelContactArea_A[i]) for i in range(len(a68_RelContactArea_A))]\n",
    "T_pred_a65 = [exprT(S1_v= a65_RelContactArea_A[i]) for i in range(len(a68_RelContactArea_A))]\n",
    "\n",
    "# Compute Erk*\n",
    "Erk_pred_a68 = Erk(T_pred_a68)\n",
    "Erk_pred_a66 = Erk(T_pred_a66)\n",
    "Erk_pred_a67 = Erk(T_pred_a67)\n",
    "Erk_pred_a65 = Erk(T_pred_a65)\n",
    "\n",
    "# Compute the mean Erk value for each cell type (with our model)\n",
    "mean_a65_Erk_model= np.mean(Erk_pred_a65) \n",
    "mean_a66_Erk_model= np.mean(Erk_pred_a66)\n",
    "mean_a67_Erk_model= np.mean(Erk_pred_a67)\n",
    "mean_a68_Erk_model= np.mean(Erk_pred_a68)\n",
    "Erk_mean = [mean_a65_Erk_model, mean_a66_Erk_model, mean_a67_Erk_model, mean_a68_Erk_model]"
   ]
  },
  {
   "cell_type": "markdown",
   "metadata": {},
   "source": [
    "Code to find the $S_1^*$ (and $S_2^*$) for which $Erk(S_1^*) = Erk_{mean}$ (for each cell type)"
   ]
  },
  {
   "cell_type": "code",
   "execution_count": 12,
   "metadata": {},
   "outputs": [],
   "source": [
    "RelContactArea_A = [a65_RelContactArea_A, a66_RelContactArea_A, a67_RelContactArea_A, a68_RelContactArea_A]\n",
    "S1_star = np.zeros(4)\n",
    "Erk_check = np.zeros(4)\n",
    "\n",
    "for j in range(4): \n",
    "\n",
    "    S1_min_exp = min(RelContactArea_A[j]) # Minimum exp value of S1\n",
    "    S1_max_exp = max(RelContactArea_A[j]) # Maximum exp value of S1\n",
    "\n",
    "    # Initialization of the variables\n",
    "    diff = 1  \n",
    "    S1_lim_min = S1_min_exp\n",
    "    S1_lim_max = S1_max_exp\n",
    "\n",
    "    while diff > 0.000001: \n",
    "\n",
    "        S1_test= np.linspace(S1_lim_min,S1_lim_max, 20)\n",
    "\n",
    "        # Compute Erk for the i-element of S1_temp\n",
    "        T_test = [exprT(S1_v= S1_test[i]) for i in range(len(S1_test))]\n",
    "        Erk_test = Erk(T_test)\n",
    "\n",
    "        # Compute the difference between the ith value of Erk_test and the mean mean_Erk_model\n",
    "        x = [abs(Erk_test[i]- Erk_mean[j]) for i in range(len(Erk_test))]\n",
    "\n",
    "        # Find the minimum \n",
    "        idx = x.index(min(x))\n",
    "        S1_star[j] = S1_test[idx]\n",
    "\n",
    "        diff = abs(Erk_mean[j] - Erk_test[idx])\n",
    "        Erk_check[j] = Erk_test[idx]\n",
    "\n",
    "        S1_lim_min = S1_test[idx - 3]\n",
    "        S1_lim_max = S1_test[idx + 3]\n",
    "        \n",
    "# Compute S2* \n",
    "S2_star = [-1.1265*S1_star[i]+0.9092 for i in range(len(S1_star))]"
   ]
  },
  {
   "cell_type": "code",
   "execution_count": null,
   "metadata": {},
   "outputs": [],
   "source": []
  },
  {
   "cell_type": "markdown",
   "metadata": {},
   "source": [
    " Define the dictionaries to link each parameter name to the corresponding parameter value"
   ]
  },
  {
   "cell_type": "code",
   "execution_count": 13,
   "metadata": {},
   "outputs": [
    {
     "name": "stdout",
     "output_type": "stream",
     "text": [
      "Standard values of the parameters:\n",
      "Vs_v 1\n",
      "Vrg_v 0.4\n",
      "Ks_v 1200\n",
      "Krg_v 1200\n",
      "K1_v 0.5\n",
      "K2_v 0.2\n",
      "F_v 5\n",
      "E_v 5\n",
      "Kd_v 25\n",
      "Ke_v 50\n",
      "Rtot_v 2000\n",
      "Qtot_v 2000\n",
      "S1_v 0.5\n",
      "S2_v 0.5\n",
      "Kb_v 0.2\n"
     ]
    }
   ],
   "source": [
    "6# Parameters linked to T\n",
    "parameter_names = ['Vs_v','Vrg_v','Ks_v','Krg_v','K1_v','K2_v','F_v','E_v','Kd_v','Ke_v','Rtot_v','Qtot_v','S1_v','S2_v','Kb_v']\n",
    "parameter_values_standard = [1,0.4,1200, 1200, 0.5,0.2,5,5,25,50,2000,2000,0.5,0.5,0.2]\n",
    "param = dict(zip(parameter_names,parameter_values_standard))\n",
    "parameter_values_minus = [np.round(parameter_values_standard[i]- parameter_values_standard[i]/5,2) for i in range(len(parameter_values_standard))]\n",
    "parameter_values_plus = [np.round(parameter_values_standard[i]+ parameter_values_standard[i]/5,2) for i in range(len(parameter_values_standard))]\n",
    "\n",
    "print('Standard values of the parameters:')\n",
    "for i in range(len(parameter_names)): \n",
    "    print(parameter_names[i], parameter_values_standard[i])\n",
    "\n",
    "# Parameters linked to Erk\n",
    "parameter_names_Erk = ['Kerk']\n",
    "parameter_values_standard_Erk = [0.5]\n",
    "param_Erk = dict(zip(parameter_names_Erk,parameter_values_standard_Erk))\n",
    "parameter_values_minus_Erk = [np.round(parameter_values_standard_Erk[i]- parameter_values_standard_Erk[i]/5,2) for i in range(len(parameter_values_standard_Erk))]\n",
    "parameter_values_plus_Erk = [np.round(parameter_values_standard_Erk[i]+ parameter_values_standard_Erk[i]/5,2) for i in range(len(parameter_values_standard_Erk))]\n",
    "\n",
    "# Define the standard values of the parameters for each cell type\n",
    "parameter_values_standard_a68 = [1,0.4,1200, 1200, 0.5,0.2,5,5,25,50,2000,2000,S1_star[3], S2_star[3], 0.2]\n",
    "parameter_values_standard_a66 = [1,0.4,1200, 1200, 0.5,0.2,5,5,25,50,2000,2000,S1_star[1], S2_star[1], 0.2]\n",
    "parameter_values_standard_a67 = [1,0.4,1200, 1200, 0.5,0.2,5,5,25,50,2000,2000,S1_star[2], S2_star[2], 0.2]\n",
    "parameter_values_standard_a65 = [1,0.4,1200, 1200, 0.5,0.2,5,5,25,50,2000,2000,S1_star[0], S2_star[0], 0.2]\n",
    "\n",
    "# Define the standard values of the parameters ± 20% for each cell type\n",
    "parameter_values_minus_a68 = [np.round(parameter_values_standard_a68[i]- parameter_values_standard_a68[i]/5,8) for i in range(len(parameter_values_standard))]\n",
    "parameter_values_minus_a66 = [np.round(parameter_values_standard_a66[i]- parameter_values_standard_a66[i]/5,8) for i in range(len(parameter_values_standard))]\n",
    "parameter_values_minus_a67 = [np.round(parameter_values_standard_a67[i]- parameter_values_standard_a67[i]/5,8) for i in range(len(parameter_values_standard))]\n",
    "parameter_values_minus_a65 = [np.round(parameter_values_standard_a65[i]- parameter_values_standard_a65[i]/5,8) for i in range(len(parameter_values_standard))]\n",
    "\n",
    "parameter_values_plus_a68 = [np.round(parameter_values_standard_a68[i]+ parameter_values_standard_a68[i]/5,8) for i in range(len(parameter_values_standard))]\n",
    "parameter_values_plus_a66 = [np.round(parameter_values_standard_a66[i]+ parameter_values_standard_a66[i]/5,8) for i in range(len(parameter_values_standard))]\n",
    "parameter_values_plus_a67 = [np.round(parameter_values_standard_a67[i]+ parameter_values_standard_a67[i]/5,8) for i in range(len(parameter_values_standard))]\n",
    "parameter_values_plus_a65 = [np.round(parameter_values_standard_a65[i]+ parameter_values_standard_a65[i]/5,8) for i in range(len(parameter_values_standard))]"
   ]
  },
  {
   "cell_type": "markdown",
   "metadata": {},
   "source": [
    "### Effect of changing the value of the parameters by ± 20%"
   ]
  },
  {
   "cell_type": "markdown",
   "metadata": {},
   "source": [
    "Compute level of Erk when parameter values = standard values - 20%"
   ]
  },
  {
   "cell_type": "code",
   "execution_count": 14,
   "metadata": {},
   "outputs": [],
   "source": [
    "Erk_output_a68_minus = np.zeros(len(parameter_names)+len(parameter_names_Erk)+1)\n",
    "Erk_output_a66_minus = np.zeros(len(parameter_names)+len(parameter_names_Erk)+1)\n",
    "Erk_output_a67_minus = np.zeros(len(parameter_names)+len(parameter_names_Erk)+1)\n",
    "Erk_output_a65_minus = np.zeros(len(parameter_names)+len(parameter_names_Erk)+1)\n",
    "\n",
    "# Cell a68\n",
    "for i in range(len(parameter_names)): \n",
    "    param_temp = dict(zip(parameter_names,parameter_values_standard_a68))\n",
    "    param_temp[parameter_names[i]] = parameter_values_minus_a68[i]\n",
    "    T_pred_S1star = exprT_S1S2(**param_temp)\n",
    "    Erk_output_a68_minus[i] = Erk1D(T_pred_S1star)\n",
    "    \n",
    "for i in range(len(parameter_names_Erk)): \n",
    "    param_temp = dict(zip(parameter_names,parameter_values_standard_a68))\n",
    "    T_pred_S1star = exprT_S1S2(**param_temp)\n",
    "    \n",
    "    param_temp_Erk = dict(zip(parameter_names_Erk,parameter_values_standard_Erk))\n",
    "    param_temp_Erk[parameter_names_Erk[i]] = parameter_values_minus_Erk[i]   \n",
    "    Erk_output_a68_minus[i+len(parameter_names)] = Erk1D(T=T_pred_S1star,**param_temp_Erk)\n",
    "    \n",
    "# Cell a66  \n",
    "for i in range(len(parameter_names)): \n",
    "    param_temp = dict(zip(parameter_names,parameter_values_standard_a66))\n",
    "    param_temp[parameter_names[i]] = parameter_values_minus_a66[i]\n",
    "    T_pred_S1star = exprT_S1S2(**param_temp)\n",
    "    Erk_output_a66_minus[i] = Erk1D(T_pred_S1star)\n",
    "    \n",
    "for i in range(len(parameter_names_Erk)): \n",
    "    param_temp = dict(zip(parameter_names,parameter_values_standard_a66))\n",
    "    T_pred_S1star = exprT_S1S2(**param_temp)\n",
    "    \n",
    "    param_temp_Erk = dict(zip(parameter_names_Erk,parameter_values_standard_Erk))\n",
    "    param_temp_Erk[parameter_names_Erk[i]] = parameter_values_minus_Erk[i]   \n",
    "    Erk_output_a66_minus[i+len(parameter_names)] = Erk1D(T=T_pred_S1star,**param_temp_Erk)\n",
    "\n",
    "# Cell a67\n",
    "for i in range(len(parameter_names)): \n",
    "    param_temp = dict(zip(parameter_names,parameter_values_standard_a67))\n",
    "    param_temp[parameter_names[i]] = parameter_values_minus_a67[i]\n",
    "    T_pred_S1star = exprT_S1S2(**param_temp)\n",
    "    Erk_output_a67_minus[i] = Erk1D(T_pred_S1star)\n",
    "\n",
    "for i in range(len(parameter_names_Erk)): \n",
    "    param_temp = dict(zip(parameter_names,parameter_values_standard_a67))\n",
    "    T_pred_S1star = exprT_S1S2(**param_temp)\n",
    "    \n",
    "    param_temp_Erk = dict(zip(parameter_names_Erk,parameter_values_standard_Erk))\n",
    "    param_temp_Erk[parameter_names_Erk[i]] = parameter_values_minus_Erk[i]   \n",
    "    Erk_output_a67_minus[i+len(parameter_names)] = Erk1D(T=T_pred_S1star,**param_temp_Erk)\n",
    "\n",
    "# Cell a65\n",
    "for i in range(len(parameter_names)): \n",
    "    param_temp = dict(zip(parameter_names,parameter_values_standard_a65))\n",
    "    param_temp[parameter_names[i]] = parameter_values_minus_a65[i]\n",
    "    T_pred_S1star = exprT_S1S2(**param_temp)\n",
    "    Erk_output_a65_minus[i] = Erk1D(T_pred_S1star)\n",
    "    \n",
    "for i in range(len(parameter_names_Erk)): \n",
    "    param_temp = dict(zip(parameter_names,parameter_values_standard_a65))\n",
    "    T_pred_S1star = exprT_S1S2(**param_temp)\n",
    "    \n",
    "    param_temp_Erk = dict(zip(parameter_names_Erk,parameter_values_standard_Erk))\n",
    "    param_temp_Erk[parameter_names_Erk[i]] = parameter_values_minus_Erk[i]   \n",
    "    Erk_output_a65_minus[i+len(parameter_names)] = Erk1D(T=T_pred_S1star,**param_temp_Erk)"
   ]
  },
  {
   "cell_type": "markdown",
   "metadata": {},
   "source": [
    "Compute level of Erk when parameter values = standard values + 20%"
   ]
  },
  {
   "cell_type": "code",
   "execution_count": 15,
   "metadata": {},
   "outputs": [],
   "source": [
    "Erk_output_a68_plus = np.zeros(len(parameter_names)+len(parameter_names_Erk)+1)\n",
    "Erk_output_a66_plus = np.zeros(len(parameter_names)+len(parameter_names_Erk)+1)\n",
    "Erk_output_a67_plus = np.zeros(len(parameter_names)+len(parameter_names_Erk)+1)\n",
    "Erk_output_a65_plus = np.zeros(len(parameter_names)+len(parameter_names_Erk)+1)\n",
    "\n",
    "# Cell a68\n",
    "for i in range(len(parameter_names)): \n",
    "    param_temp = dict(zip(parameter_names,parameter_values_standard_a68))\n",
    "    param_temp[parameter_names[i]] = parameter_values_plus_a68[i]\n",
    "    T_pred_S1star = exprT_S1S2(**param_temp)\n",
    "    Erk_output_a68_plus[i] = Erk1D(T_pred_S1star)\n",
    "    \n",
    "for i in range(len(parameter_names_Erk)): \n",
    "    param_temp = dict(zip(parameter_names,parameter_values_standard_a68))\n",
    "    T_pred_S1star = exprT_S1S2(**param_temp)\n",
    "    \n",
    "    param_temp_Erk = dict(zip(parameter_names_Erk,parameter_values_standard_Erk))\n",
    "    param_temp_Erk[parameter_names_Erk[i]] = parameter_values_plus_Erk[i]   \n",
    "    Erk_output_a68_plus[i+len(parameter_names)] = Erk1D(T=T_pred_S1star,**param_temp_Erk)\n",
    "\n",
    "# Cell a66  \n",
    "for i in range(len(parameter_names)): \n",
    "    param_temp = dict(zip(parameter_names,parameter_values_standard_a66))\n",
    "    param_temp[parameter_names[i]] = parameter_values_plus_a66[i]\n",
    "    T_pred_S1star = exprT_S1S2(**param_temp)\n",
    "    Erk_output_a66_plus[i] = Erk1D(T_pred_S1star)\n",
    "    \n",
    "for i in range(len(parameter_names_Erk)): \n",
    "    param_temp = dict(zip(parameter_names,parameter_values_standard_a66))\n",
    "    T_pred_S1star = exprT_S1S2(**param_temp)\n",
    "    \n",
    "    param_temp_Erk = dict(zip(parameter_names_Erk,parameter_values_standard_Erk))\n",
    "    param_temp_Erk[parameter_names_Erk[i]] = parameter_values_plus_Erk[i]   \n",
    "    Erk_output_a66_plus[i+len(parameter_names)] = Erk1D(T=T_pred_S1star,**param_temp_Erk)\n",
    "\n",
    "# Cell a67\n",
    "for i in range(len(parameter_names)): \n",
    "    param_temp = dict(zip(parameter_names,parameter_values_standard_a67))\n",
    "    param_temp[parameter_names[i]] = parameter_values_plus_a67[i]\n",
    "    T_pred_S1star = exprT_S1S2(**param_temp)\n",
    "    Erk_output_a67_plus[i] = Erk1D(T_pred_S1star)\n",
    "    \n",
    "for i in range(len(parameter_names_Erk)): \n",
    "    param_temp = dict(zip(parameter_names,parameter_values_standard_a67))\n",
    "    T_pred_S1star = exprT_S1S2(**param_temp)\n",
    "    \n",
    "    param_temp_Erk = dict(zip(parameter_names_Erk,parameter_values_standard_Erk))\n",
    "    param_temp_Erk[parameter_names_Erk[i]] = parameter_values_plus_Erk[i]   \n",
    "    Erk_output_a67_plus[i+len(parameter_names)] = Erk1D(T=T_pred_S1star,**param_temp_Erk)\n",
    "\n",
    "# Cell a65\n",
    "for i in range(len(parameter_names)): \n",
    "    param_temp = dict(zip(parameter_names,parameter_values_standard_a65))\n",
    "    param_temp[parameter_names[i]] = parameter_values_plus_a65[i]\n",
    "    T_pred_S1star = exprT_S1S2(**param_temp)\n",
    "    Erk_output_a65_plus[i] = Erk1D(T_pred_S1star)\n",
    "\n",
    "for i in range(len(parameter_names_Erk)): \n",
    "    param_temp = dict(zip(parameter_names,parameter_values_standard_a65))\n",
    "    T_pred_S1star = exprT_S1S2(**param_temp)\n",
    "    \n",
    "    param_temp_Erk = dict(zip(parameter_names_Erk,parameter_values_standard_Erk))\n",
    "    param_temp_Erk[parameter_names_Erk[i]] = parameter_values_plus_Erk[i]   \n",
    "    Erk_output_a65_plus[i+len(parameter_names)] = Erk1D(T=T_pred_S1star,**param_temp_Erk)"
   ]
  },
  {
   "cell_type": "markdown",
   "metadata": {},
   "source": [
    "### Effect of varying the relation between $S_1$ and $S_2$ ($S_2=-a*S_1+b $) on the level of Erk: \n",
    "we changed the value of $a$ by $\\pm 20 \\%$ ($a'=a\\pm 20 \\%$) and fit the experimental data with the relation $S_2=-a'*S_1+b$ to find the best value for $b$"
   ]
  },
  {
   "cell_type": "code",
   "execution_count": 16,
   "metadata": {},
   "outputs": [],
   "source": [
    "Erk_output_a68_plus[ len(Erk_output_a68_plus)-1] = 0.00197901520436955\n",
    "Erk_output_a66_plus[ len(Erk_output_a66_plus)-1] = 0.007583069185105231\n",
    "Erk_output_a67_plus[ len(Erk_output_a67_plus)-1] = 0.055531136182824695 \n",
    "Erk_output_a65_plus[ len(Erk_output_a65_plus)-1] = 0.18549250276434295 \n",
    "\n",
    "Erk_output_a68_minus[ len(Erk_output_a68_minus)-1] = 0.0021160662369115826\n",
    "Erk_output_a66_minus[ len(Erk_output_a66_minus)-1] = 0.007939732744713136\n",
    "Erk_output_a67_minus[ len(Erk_output_a67_minus)-1] = 0.05459426472807974\n",
    "Erk_output_a65_minus[ len(Erk_output_a65_minus)-1] = 0.17236376225632333"
   ]
  },
  {
   "cell_type": "markdown",
   "metadata": {},
   "source": [
    "### Figure"
   ]
  },
  {
   "cell_type": "code",
   "execution_count": 17,
   "metadata": {},
   "outputs": [],
   "source": [
    "parameter_names_fig = ['$V_s$','$V_{rg}$','$K_s$','$K_{rg}$','$K_1$','$K_2$','[FGF]','[eph]','$K_d$','$K_e$','$R_{tot}$','$Q_{tot}$','$S_1$', '$S_2$','$K_b$', '$K_{erk}$', '$S_2(S_1)$']\n",
    "x = np.array([0,1,2,3,4,5,6,7,8,9,10,11,12,13,14,15,16])"
   ]
  },
  {
   "cell_type": "code",
   "execution_count": 18,
   "metadata": {},
   "outputs": [],
   "source": [
    "# Normalization\n",
    "Erk_output_a68_plus_n = [Erk_output_a68_plus[i]/Erk_mean[3] for i in range(len(Erk_output_a68_plus))]\n",
    "Erk_output_a68_minus_n = [Erk_output_a68_minus[i]/Erk_mean[3] for i in range(len(Erk_output_a68_minus))]\n",
    "\n",
    "Erk_output_a66_plus_n = [Erk_output_a66_plus[i]/Erk_mean[1] for i in range(len(Erk_output_a66_plus))]\n",
    "Erk_output_a66_minus_n = [Erk_output_a66_minus[i]/Erk_mean[1] for i in range(len(Erk_output_a66_minus))]\n",
    "\n",
    "Erk_output_a67_plus_n = [Erk_output_a67_plus[i]/Erk_mean[2] for i in range(len(Erk_output_a67_plus))]\n",
    "Erk_output_a67_minus_n = [Erk_output_a67_minus[i]/Erk_mean[2] for i in range(len(Erk_output_a67_minus))]\n",
    "\n",
    "Erk_output_a65_plus_n = [Erk_output_a65_plus[i]/Erk_mean[0] for i in range(len(Erk_output_a65_plus))]\n",
    "Erk_output_a65_minus_n = [Erk_output_a65_minus[i]/Erk_mean[0] for i in range(len(Erk_output_a65_minus))]"
   ]
  },
  {
   "cell_type": "code",
   "execution_count": 19,
   "metadata": {},
   "outputs": [
    {
     "data": {
      "image/png": "[encoded data removed]",
      "text/plain": [
       "<Figure size 1008x360 with 1 Axes>"
      ]
     },
     "metadata": {
      "needs_background": "light"
     },
     "output_type": "display_data"
    }
   ],
   "source": [
    "Erk_min_a65_fig = np.zeros(len(Erk_output_a65_minus))\n",
    "Erk_min_a66_fig = np.zeros(len(Erk_output_a66_minus))\n",
    "Erk_min_a67_fig = np.zeros(len(Erk_output_a67_minus))\n",
    "Erk_min_a68_fig = np.zeros(len(Erk_output_a68_minus))\n",
    "\n",
    "Erk_max_a65_fig = np.zeros(len(Erk_output_a65_minus))\n",
    "Erk_max_a66_fig = np.zeros(len(Erk_output_a66_minus))\n",
    "Erk_max_a67_fig = np.zeros(len(Erk_output_a67_minus))\n",
    "Erk_max_a68_fig = np.zeros(len(Erk_output_a68_minus))\n",
    "\n",
    "for i in range(len(Erk_output_a68_minus_n)): \n",
    "    if  Erk_output_a68_minus_n[i] > Erk_output_a68_plus_n[i]: \n",
    "        Erk_max_a68_fig[i] = Erk_output_a68_minus_n[i]\n",
    "        Erk_min_a68_fig[i] = Erk_output_a68_plus_n[i]\n",
    "    else:\n",
    "        Erk_max_a68_fig[i] = Erk_output_a68_plus_n[i]\n",
    "        Erk_min_a68_fig[i] = Erk_output_a68_minus_n[i]\n",
    "\n",
    "for i in range(len(Erk_output_a66_minus_n)): \n",
    "    if  Erk_output_a66_minus_n[i] > Erk_output_a66_plus_n[i]: \n",
    "        Erk_max_a66_fig[i] = Erk_output_a66_minus_n[i]\n",
    "        Erk_min_a66_fig[i] = Erk_output_a66_plus_n[i]\n",
    "    else:\n",
    "        Erk_max_a66_fig[i] = Erk_output_a66_plus_n[i]\n",
    "        Erk_min_a66_fig[i] = Erk_output_a66_minus_n[i]\n",
    "\n",
    "for i in range(len(Erk_output_a67_minus_n)): \n",
    "    if  Erk_output_a67_minus_n[i] > Erk_output_a67_plus_n[i]: \n",
    "        Erk_max_a67_fig[i] = Erk_output_a67_minus_n[i]\n",
    "        Erk_min_a67_fig[i] = Erk_output_a67_plus_n[i]\n",
    "    else:\n",
    "        Erk_max_a67_fig[i] = Erk_output_a67_plus_n[i]\n",
    "        Erk_min_a67_fig[i] = Erk_output_a67_minus_n[i]\n",
    "        \n",
    "for i in range(len(Erk_output_a65_minus_n)): \n",
    "    if  Erk_output_a65_minus_n[i] > Erk_output_a65_plus_n[i]: \n",
    "        Erk_max_a65_fig[i] = Erk_output_a65_minus_n[i]\n",
    "        Erk_min_a65_fig[i] = Erk_output_a65_plus_n[i]\n",
    "    else:\n",
    "        Erk_max_a65_fig[i] = Erk_output_a65_plus_n[i]\n",
    "        Erk_min_a65_fig[i] = Erk_output_a65_minus_n[i]\n",
    "        \n",
    "\n",
    "# Figure\n",
    "height_fig_a68 = [Erk_max_a68_fig[i]-Erk_min_a68_fig[i] for i in range(len(Erk_max_a68_fig))]\n",
    "bottom_fig_a68 = [Erk_min_a68_fig[i] for i in range(len(Erk_min_a68_fig))]\n",
    "\n",
    "height_fig_a66 = [Erk_max_a66_fig[i]-Erk_min_a66_fig[i] for i in range(len(Erk_max_a66_fig))]\n",
    "bottom_fig_a66 = [Erk_min_a66_fig[i] for i in range(len(Erk_min_a66_fig))]\n",
    "\n",
    "height_fig_a67 = [Erk_max_a67_fig[i]-Erk_min_a67_fig[i] for i in range(len(Erk_max_a67_fig))]\n",
    "bottom_fig_a67 = [Erk_min_a67_fig[i] for i in range(len(Erk_min_a67_fig))]\n",
    "\n",
    "height_fig_a65 = [Erk_max_a65_fig[i]-Erk_min_a65_fig[i] for i in range(len(Erk_max_a65_fig))]\n",
    "bottom_fig_a65 = [Erk_min_a65_fig[i] for i in range(len(Erk_min_a65_fig))]\n",
    "\n",
    "x_new = 2.5*x\n",
    "\n",
    "plt.figure(figsize=(14,5))\n",
    "\n",
    "plt.bar(x_new-0.75,height_fig_a68, width=0.5, bottom=bottom_fig_a68, color='tab:grey' , alpha=0.8, zorder=2)\n",
    "plt.bar(x_new-0.25,height_fig_a66, width=0.5, bottom=bottom_fig_a66, color='tab:green', alpha=0.8, zorder=2 )\n",
    "plt.bar(x_new+0.25,height_fig_a67, width=0.5, bottom=bottom_fig_a67, color='tab:blue', alpha=0.8, zorder=2 )\n",
    "plt.bar(x_new+0.75,height_fig_a65, width=0.5, bottom=bottom_fig_a65, color='orchid', alpha=0.8, zorder=2 )\n",
    "\n",
    "plt.axhline(y=1,linestyle='--',linewidth=1.5, color='0.3', label='Erk* standard')\n",
    "plt.ylim([0.5, 2.1])\n",
    "plt.ylabel('Relative Erk activity (Erk*)')\n",
    "plt.xticks(x_new, parameter_names_fig, color='tab:red', rotation=30)\n",
    "plt.yticks(rotation=0)\n",
    "\n",
    "x_temp= np.linspace(-4,44)\n",
    "plt.fill_between(x_temp, 0.8, 1.2,facecolor='tab:grey', alpha=0.15, zorder=1)\n",
    "plt.xlim([-2.5, 42.5])\n",
    "\n",
    "plt.fill_between(x_temp, 0.6, 1.4,facecolor='tab:grey', alpha=0.10, zorder=1)\n",
    "plt.xlim([-2.5, 42.5])\n",
    "\n",
    "\n",
    "for i in [0,2,4,6,8,10,12]:\n",
    "    plt.gca().get_xticklabels()[i].set_color('tab:blue') \n",
    "    \n",
    "for i in [14,15,16]:\n",
    "    plt.gca().get_xticklabels()[i].set_color('0.1') \n",
    "\n",
    "plt.yscale('log', base=2)\n",
    "plt.legend()\n",
    "plt.tight_layout()\n",
    "plt.gca().xaxis.grid(True, linestyle='dashed')\n",
    "plt.show()"
   ]
  },
  {
   "cell_type": "code",
   "execution_count": null,
   "metadata": {},
   "outputs": [],
   "source": []
  }
 ],
 "metadata": {
  "kernelspec": {
   "display_name": "Python 3",
   "language": "python",
   "name": "python3"
  },
  "language_info": {
   "codemirror_mode": {
    "name": "ipython",
    "version": 3
   },
   "file_extension": ".py",
   "mimetype": "text/x-python",
   "name": "python",
   "nbconvert_exporter": "python",
   "pygments_lexer": "ipython3",
   "version": "3.8.5"
  }
 },
 "nbformat": 4,
 "nbformat_minor": 4
}
