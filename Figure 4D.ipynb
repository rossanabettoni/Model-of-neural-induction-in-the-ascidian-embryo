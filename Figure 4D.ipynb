{
 "cells": [
  {
   "cell_type": "markdown",
   "metadata": {},
   "source": [
    "# Figure 4D "
   ]
  },
  {
   "cell_type": "markdown",
   "metadata": {},
   "source": [
    "# Import packages"
   ]
  },
  {
   "cell_type": "code",
   "execution_count": 1,
   "metadata": {},
   "outputs": [],
   "source": [
    "import numpy as np\n",
    "import matplotlib.pyplot as plt \n",
    "from sympy import symbols, solve, simplify\n",
    "import seaborn as sb\n",
    "import pandas as pd\n",
    "import sympy as sp\n",
    "plt.rcParams.update({'font.size': 20})"
   ]
  },
  {
   "cell_type": "markdown",
   "metadata": {},
   "source": [
    "# Model "
   ]
  },
  {
   "cell_type": "markdown",
   "metadata": {},
   "source": [
    "Definition of the parameters of the model"
   ]
  },
  {
   "cell_type": "code",
   "execution_count": 2,
   "metadata": {},
   "outputs": [],
   "source": [
    "T, V1, V2, K1, K2, Kb = symbols('T V1 V2 K1 K2 Kb') \n",
    "Vs, Rb, Ks, Vrg, Qb, Krg = symbols('Vs Rb Ks Vrg Qb Krg')\n",
    "R, F, Kd, Q, E, Ke = symbols('R F Kd Q E Ke')\n",
    "S1, Qtot, S2, Rtot= symbols('S1 Qtot S2 Rtot')\n",
    "Ap,kMM3,Er,KMM3,vMM4,KMM4 = symbols('Ap kMM3 Er KMM3 vMM4 KMM4')\n",
    "I, kMM1, Er, KMM1, vMM2,KMM2 = symbols('I kMM1 Er KMM1 vMM2 KMM2')\n",
    "vb, vo, Ap, Ka, Ki, I, k, O = symbols('vb vo Ap Ka Ki I k O')"
   ]
  },
  {
   "cell_type": "markdown",
   "metadata": {},
   "source": [
    "Evolution equation for T"
   ]
  },
  {
   "cell_type": "code",
   "execution_count": 3,
   "metadata": {},
   "outputs": [
    {
     "name": "stdout",
     "output_type": "stream",
     "text": [
      "Evolution equation for T:\n",
      "-Kb*T - T*V2/(K2 + T) + V1*(1 - T)/(K1 - T + 1)\n",
      "Evolution equation for T (all parameters explicited):\n",
      "-E*Qtot*T*Vrg*(0.9092 - 1.1265*S1)*(K1 - T + 1)/((E + Ke)*(E*Qtot*(0.9092 - 1.1265*S1)/(E + Ke) + Krg)) + F*Rtot*S1*Vs*(1 - T)*(K2 + T)/((F + Kd)*(F*Rtot*S1/(F + Kd) + Ks)) - Kb*T*(K2 + T)*(K1 - T + 1)\n"
     ]
    }
   ],
   "source": [
    "# Evolution equation for T: \n",
    "expr = V1*(1-T)/(K1+(1-T))-V2*T/(K2+T)-Kb*T\n",
    "expr_simplified= V1*(1-T)*(K2+T) -V2*T*(K1+(1-T))-Kb*T*(K1+(1-T))*(K2+T)\n",
    "print('Evolution equation for T:')\n",
    "print(expr)\n",
    "\n",
    "# Substitute the expression for V1 and V2 in the evolution equation for T:  \n",
    "expr_RQ= expr_simplified.subs([(V1, Vs*(R*F/(Kd+F))/(Ks+(R*F/(Kd+F)))),(V2, Vrg*(Q*E/(Ke+E))/(Krg+(Q*E/(Ke+E))))])\n",
    "\n",
    "# Substitute the expressions for Q and R\n",
    "expr_S1S2 = expr_RQ.subs([(R, Rtot*S1),(Q, Qtot*S2)])\n",
    "\n",
    "# Expliciting the relation between S1 and S2 to obtain T(FGF, S1): \n",
    "expr_T = expr_S1S2.subs([(S2,-1.1265*S1 +0.9092)])\n",
    "\n",
    "print('Evolution equation for T (all parameters explicited):')\n",
    "print(expr_T)\n",
    "\n",
    "# Solve the equation \n",
    "sol = solve(expr_T, T)[2]"
   ]
  },
  {
   "cell_type": "markdown",
   "metadata": {},
   "source": [
    "Definition of the function ExprT that compute T as a function of all the parameters of the equation"
   ]
  },
  {
   "cell_type": "code",
   "execution_count": 4,
   "metadata": {},
   "outputs": [],
   "source": [
    "def exprT(Vs_v=1, Vrg_v=0.4, K1_v=0.5, K2_v=0.2, Krg_v=1200, Ks_v=1200, Kb_v=0.2, F_v=5, Kd_v=25, E_v=5, Ke_v=50, Rtot_v=2000, Qtot_v=2000, S1_v=0.5):\n",
    "    sol_T = sol.subs([(Vs,Vs_v),(Vrg,Vrg_v),(K1, K1_v),(K2,K2_v),(Krg, Krg_v), (Ks, Ks_v), (Kb, Kb_v),(F, F_v),(Kd, Kd_v),(E,E_v), (Ke, Ke_v),(Rtot, Rtot_v),(Qtot,Qtot_v),(S1,S1_v)])\n",
    "    sol_T = np.real(np.array(sol_T,complex))\n",
    "    return sol_T"
   ]
  },
  {
   "cell_type": "code",
   "execution_count": 5,
   "metadata": {},
   "outputs": [],
   "source": [
    "# Solve the equation \n",
    "sol_S1S2 = solve(expr_S1S2, T)[1]\n",
    "\n",
    "def exprT_S1S2(Vs_v=1, Vrg_v=0.4, K1_v=0.5, K2_v=0.2, Krg_v=1200, Ks_v=1200, Kb_v=0.2, F_v=5, Kd_v=25, E_v=5, Ke_v=50, Rtot_v=2000, Qtot_v=2000, S1_v=0.5, S2_v= 0.4):\n",
    "    sol_S= sol_S1S2.subs([(Vs,Vs_v),(Vrg,Vrg_v),(K1, K1_v),(K2,K2_v),(Krg, Krg_v), (Ks, Ks_v), (Kb, Kb_v),(F, F_v),(Kd, Kd_v),(E,E_v), (Ke, Ke_v),(Rtot, Rtot_v),(Qtot,Qtot_v),(S1,S1_v),(S2,S2_v)])\n",
    "    sol_S = np.real(np.array(sol_S,complex))\n",
    "    return sol_S"
   ]
  },
  {
   "cell_type": "markdown",
   "metadata": {},
   "source": [
    "Definition of the function to compute Erk (as a function of T)"
   ]
  },
  {
   "cell_type": "code",
   "execution_count": 6,
   "metadata": {},
   "outputs": [],
   "source": [
    "def Erk(T,n=2, Kerk=0.5, Erk_max=1, Erk_bas=0): \n",
    "    Erk = [ Erk_max* T[i]**n/(T[i]**n +Kerk**n)+Erk_bas for i in range(len(T)) ]\n",
    "    return Erk"
   ]
  },
  {
   "cell_type": "code",
   "execution_count": 7,
   "metadata": {},
   "outputs": [],
   "source": [
    "def Erk1D(T,n=2, Kerk=0.5, Erk_max=1, Erk_bas=0): \n",
    "    Erk = Erk_max* T**n/(T**n +Kerk**n) + Erk_bas\n",
    "    return Erk"
   ]
  },
  {
   "cell_type": "markdown",
   "metadata": {},
   "source": [
    "Evolution equation for the activator Ap"
   ]
  },
  {
   "cell_type": "code",
   "execution_count": 8,
   "metadata": {},
   "outputs": [],
   "source": [
    "expr_Ap = kMM3*Er*(1-Ap)/(KMM3+(1-Ap))-vMM4*Ap/(KMM4+Ap)\n",
    "sol_Ap= solve(expr_Ap, Ap)[1] \n",
    "\n",
    "# Function to compute Ap as a function of the other parameters:  \n",
    "def exprAp(kMM3_v=12,Er_v=0.5,KMM3_v=0.05,vMM4_v=1,KMM4_v=0.05):\n",
    "    solAp= sol_Ap.subs([(kMM3,kMM3_v), (Er,Er_v), (KMM4,KMM4_v), (vMM4,vMM4_v), (KMM3,KMM3_v)]) \n",
    "    return solAp"
   ]
  },
  {
   "cell_type": "markdown",
   "metadata": {},
   "source": [
    "Evolution equation for the inhibitor I"
   ]
  },
  {
   "cell_type": "code",
   "execution_count": 9,
   "metadata": {},
   "outputs": [],
   "source": [
    "expr_I = -kMM1*Er*I/(KMM1+I)+vMM2*(1-I)/(KMM2+(1-I))\n",
    "sol_I= solve(expr_I, I)[0] \n",
    "\n",
    "# Function to compute I as a function of the other parameters: \n",
    "def exprI(kMM1_v=12,Er_v=0.5,KMM1_v=0.05,vMM2_v=1,KMM2_v=0.05): \n",
    "    solI= sol_I.subs([(kMM1,kMM1_v), (Er,Er_v), (KMM1,KMM1_v), (vMM2,vMM2_v), (KMM2,KMM2_v)]) \n",
    "    return solI "
   ]
  },
  {
   "cell_type": "markdown",
   "metadata": {},
   "source": [
    "Compute Otx and define a function ExprOtx that compute Otx as a function of all the parameters of the equation"
   ]
  },
  {
   "cell_type": "code",
   "execution_count": 10,
   "metadata": {},
   "outputs": [],
   "source": [
    "expr_Otx = vb+ vo*Ap/((Ka*(1+I/Ki))+Ap)-k*O\n",
    "sol_Otx= solve(expr_Otx, O)[0]  \n",
    "\n",
    "# Function to compute Otx as a function of the other parameters\n",
    "def exprOtx(Ap_v, I_v, vb_v=0.001,vo_v=1,Ka_v=0.1,Ki_v=0.1,k_v=0.2, Omax=1, Obas=0): \n",
    "    solOtx= [sol_Otx.subs([(Ap, Ap_v[i]), (I, I_v[i]), (vb,vb_v), (vo,vo_v), (Ka,Ka_v), (Ki,Ki_v), (k,k_v)])*Omax +Obas for i in range(len(Ap_v))] \n",
    "    return solOtx"
   ]
  },
  {
   "cell_type": "markdown",
   "metadata": {},
   "source": [
    "# Import the experimental data"
   ]
  },
  {
   "cell_type": "code",
   "execution_count": 11,
   "metadata": {},
   "outputs": [],
   "source": [
    "#read the excel file with the experimental data\n",
    "data_S1 = pd.read_excel('/Users/rossanabettoni/Desktop/PhD/Article_PLOS/ExpData.xlsx', sheet_name='Cell surface contacts')\n",
    "df_S1 = pd.DataFrame(data_S1)"
   ]
  },
  {
   "cell_type": "markdown",
   "metadata": {},
   "source": [
    "Cell surface contacts with FGF (S1)"
   ]
  },
  {
   "cell_type": "code",
   "execution_count": 12,
   "metadata": {},
   "outputs": [],
   "source": [
    "a65_RelContactArea_A = np.array(df_S1['a6.5 S1'].values.tolist())[0:25] \n",
    "a66_RelContactArea_A = np.array(df_S1['a6.6 S1'].values.tolist())[0:25] \n",
    "a67_RelContactArea_A = np.array(df_S1['a6.7 S1'].values.tolist())[0:25] \n",
    "a68_RelContactArea_A = np.array(df_S1['a6.8 S1'].values.tolist())[0:25] "
   ]
  },
  {
   "cell_type": "markdown",
   "metadata": {},
   "source": [
    "# Results"
   ]
  },
  {
   "cell_type": "markdown",
   "metadata": {},
   "source": [
    "## Figure 4D"
   ]
  },
  {
   "cell_type": "code",
   "execution_count": 13,
   "metadata": {},
   "outputs": [],
   "source": [
    "# Compute T\n",
    "T_pred_a65 = [exprT(S1_v= a65_RelContactArea_A[i]) for i in range(len(a65_RelContactArea_A))]\n",
    "T_pred_a66 = [exprT(S1_v= a66_RelContactArea_A[i]) for i in range(len(a66_RelContactArea_A))]\n",
    "T_pred_a67 = [exprT(S1_v= a67_RelContactArea_A[i]) for i in range(len(a67_RelContactArea_A))]\n",
    "T_pred_a68 = [exprT(S1_v= a68_RelContactArea_A[i]) for i in range(len(a68_RelContactArea_A))]\n",
    "\n",
    "# Compute Erk \n",
    "Erk_pred_a65 = Erk(T_pred_a65)\n",
    "Erk_pred_a66 = Erk(T_pred_a66)\n",
    "Erk_pred_a67 = Erk(T_pred_a67)\n",
    "Erk_pred_a68 = Erk(T_pred_a68)\n",
    "\n",
    "# Compute Ap\n",
    "Ap_pred_a65 = [exprAp(Er_v=Erk_pred_a65[i]) for i in range(len(Erk_pred_a65))]\n",
    "Ap_pred_a66 = [exprAp(Er_v=Erk_pred_a66[i]) for i in range(len(Erk_pred_a66))]\n",
    "Ap_pred_a67 = [exprAp(Er_v=Erk_pred_a67[i]) for i in range(len(Erk_pred_a67))]\n",
    "Ap_pred_a68 = [exprAp(Er_v=Erk_pred_a68[i]) for i in range(len(Erk_pred_a68))]\n",
    "\n",
    "# Compute I \n",
    "I_pred_a65 = [exprI(Er_v=Erk_pred_a65[i]) for i in range(len(Erk_pred_a65))]\n",
    "I_pred_a66 = [exprI(Er_v=Erk_pred_a66[i]) for i in range(len(Erk_pred_a66))]\n",
    "I_pred_a67 = [exprI(Er_v=Erk_pred_a67[i]) for i in range(len(Erk_pred_a67))]\n",
    "I_pred_a68 = [exprI(Er_v=Erk_pred_a68[i]) for i in range(len(Erk_pred_a68))]\n",
    "\n",
    "# Compute Otx expression\n",
    "Otx_pred_a65 = np.array(exprOtx(Ap_v=Ap_pred_a65,I_v=I_pred_a65)).astype(float)\n",
    "Otx_pred_a66 = np.array(exprOtx(Ap_v=Ap_pred_a66,I_v=I_pred_a66)).astype(float)\n",
    "Otx_pred_a67 = np.array(exprOtx(Ap_v=Ap_pred_a67,I_v=I_pred_a67)).astype(float)\n",
    "Otx_pred_a68 = np.array(exprOtx(Ap_v=Ap_pred_a68,I_v=I_pred_a68)).astype(float)\n",
    "\n",
    "# Compute mean\n",
    "a65_Otx_mean_pred = np.mean(Otx_pred_a65)\n",
    "a66_Otx_mean_pred = np.mean(Otx_pred_a66)\n",
    "a67_Otx_mean_pred = np.mean(Otx_pred_a67)\n",
    "a68_Otx_mean_pred = np.mean(Otx_pred_a68)\n",
    "\n",
    "# Compute std\n",
    "a65_Otx_std_pred = np.std(Otx_pred_a65)\n",
    "a66_Otx_std_pred = np.std(Otx_pred_a66)\n",
    "a67_Otx_std_pred = np.std(Otx_pred_a67)\n",
    "a68_Otx_std_pred = np.std(Otx_pred_a68)\n",
    "\n",
    "mean_Otx_pred = [a65_Otx_mean_pred, a66_Otx_mean_pred, a67_Otx_mean_pred, a68_Otx_mean_pred]\n",
    "std_Otx_pred = [a65_Otx_std_pred, a66_Otx_std_pred, a67_Otx_std_pred, a68_Otx_std_pred]"
   ]
  },
  {
   "cell_type": "markdown",
   "metadata": {},
   "source": [
    " Code to find $Erk^*$ for which $Otx(Erk^*) = Otx_{mean}[j]$"
   ]
  },
  {
   "cell_type": "code",
   "execution_count": 14,
   "metadata": {},
   "outputs": [
    {
     "name": "stdout",
     "output_type": "stream",
     "text": [
      "Otx_pred_Erkstar = [4.36159108 0.02776033 0.4673794  0.01049749]\n",
      "mean_Otx_model = [4.361591282958469, 0.02776017734234903, 0.46738004326530025, 0.010496651443184474]\n",
      "Erk*= [0.17451043 0.00796697 0.058981   0.00206666]\n"
     ]
    }
   ],
   "source": [
    "Erk_pred_model = [Erk_pred_a65, Erk_pred_a66, Erk_pred_a67, Erk_pred_a68]\n",
    "\n",
    "Erk_star = np.zeros(4)\n",
    "Otx_check = np.zeros(4)\n",
    "\n",
    "for j in range(4): \n",
    "\n",
    "    Erk_min_exp = min(Erk_pred_model[j]) # Minimum value of Erk\n",
    "    Erk_max_exp = max(Erk_pred_model[j]) # Maximum exp value of Erk\n",
    "\n",
    "    # Initialization of the variables\n",
    "    diff = 1  \n",
    "    Erk_lim_min = Erk_min_exp\n",
    "    Erk_lim_max = Erk_max_exp\n",
    "\n",
    "    while diff > 0.000001: \n",
    "\n",
    "        Erk_test= np.linspace(Erk_lim_min,Erk_lim_max, 20)\n",
    "\n",
    "        # Compute Otx for the i-element of Erk_temp\n",
    "        Ap_test = [exprAp(Er_v=Erk_test[i]) for i in range(len(Erk_test))]\n",
    "        I_test = [exprI(Er_v=Erk_test[i]) for i in range(len(Erk_test))]        \n",
    "       \n",
    "        Otx_test = exprOtx(Ap_v=Ap_test,I_v=I_test)\n",
    "\n",
    "        # Compute the difference between the ith value of Otx_test and the mean mean_Otx_model\n",
    "        x = [abs(Otx_test[i]- mean_Otx_pred[j]) for i in range(len(Otx_test))]\n",
    "\n",
    "        # Find the minimum \n",
    "        idx = x.index(min(x))\n",
    "        Erk_star[j] = Erk_test[idx]\n",
    "\n",
    "        diff = abs(mean_Otx_pred[j] - Otx_test[idx])\n",
    "        Otx_check[j] = Otx_test[idx]\n",
    "\n",
    "        Erk_lim_min = Erk_test[idx - 3]\n",
    "        Erk_lim_max = Erk_test[idx + 3]\n",
    "\n",
    "print('Otx_pred_Erkstar =',Otx_check)\n",
    "print('mean_Otx_model =',mean_Otx_pred)\n",
    "print('Erk*=', Erk_star)"
   ]
  },
  {
   "cell_type": "markdown",
   "metadata": {},
   "source": [
    "Define the dictionaries to link each parameter name to the corresponding parameter value"
   ]
  },
  {
   "cell_type": "code",
   "execution_count": 15,
   "metadata": {},
   "outputs": [],
   "source": [
    "# Parameters linked to Ap and I\n",
    "parameter_names_Ap = ['KMM3_v','KMM4_v','kMM3_v','vMM4_v','Er_v']\n",
    "parameter_values_standard_Ap = [0.05,0.05,12, 1, 0.5]\n",
    "\n",
    "parameter_names_I = ['KMM1_v','KMM2_v','kMM1_v','vMM2_v','Er_v']\n",
    "parameter_values_standard_I = [0.05,0.05,12, 1, 0.5]\n",
    "\n",
    "param_Ap = dict(zip(parameter_names_Ap,parameter_values_standard_Ap))\n",
    "param_I = dict(zip(parameter_names_I,parameter_values_standard_I))\n",
    "\n",
    "parameter_values_minus_Ap = [parameter_values_standard_Ap[i]- parameter_values_standard_Ap[i]/5 for i in range(len(parameter_values_standard_Ap))]\n",
    "parameter_values_plus_Ap = [parameter_values_standard_Ap[i]+ parameter_values_standard_Ap[i]/5 for i in range(len(parameter_values_standard_Ap))]\n",
    "\n",
    "parameter_values_minus_I = [parameter_values_standard_I[i]- parameter_values_standard_I[i]/5 for i in range(len(parameter_values_standard_I))]\n",
    "parameter_values_plus_I = [parameter_values_standard_I[i]+ parameter_values_standard_I[i]/5 for i in range(len(parameter_values_standard_I))]\n",
    "\n",
    "# Parameters linked to Otx\n",
    "parameter_names_Otx = ['k_v','Ka_v', 'Ki_v', 'vo_v', 'vb_v']\n",
    "parameter_values_standard_Otx = [0.2, 0.1,0.1, 1, 0.001]\n",
    "param_Otx = dict(zip(parameter_names_Otx,parameter_values_standard_Otx))\n",
    "parameter_values_minus_Otx = [parameter_values_standard_Otx[i]- parameter_values_standard_Otx[i]/5 for i in range(len(parameter_values_standard_Otx))]\n",
    "parameter_values_plus_Otx = [parameter_values_standard_Otx[i]+ parameter_values_standard_Otx[i]/5 for i in range(len(parameter_values_standard_Otx))]\n",
    "\n",
    "# Define the standard values of the parameters for each cell type\n",
    "parameter_values_standard_Ap_a68 = [0.05,0.05,12, 1, Erk_star[3]]\n",
    "parameter_values_standard_Ap_a66 = [0.05,0.05,12, 1, Erk_star[1]]\n",
    "parameter_values_standard_Ap_a67 = [0.05,0.05,12, 1, Erk_star[2]]\n",
    "parameter_values_standard_Ap_a65 = [0.05,0.05,12, 1, Erk_star[0]]\n",
    "\n",
    "param_standard_Ap_a68 = dict(zip(parameter_names_Ap,parameter_values_standard_Ap_a68))\n",
    "param_standard_Ap_a66 = dict(zip(parameter_names_Ap,parameter_values_standard_Ap_a66))\n",
    "param_standard_Ap_a67 = dict(zip(parameter_names_Ap,parameter_values_standard_Ap_a67))\n",
    "param_standard_Ap_a65 = dict(zip(parameter_names_Ap,parameter_values_standard_Ap_a65))\n",
    "\n",
    "parameter_values_standard_I_a68 = [0.05,0.05,12, 1, Erk_star[3]]\n",
    "parameter_values_standard_I_a66 = [0.05,0.05,12, 1, Erk_star[1]]\n",
    "parameter_values_standard_I_a67 = [0.05,0.05,12, 1, Erk_star[2]]\n",
    "parameter_values_standard_I_a65 = [0.05,0.05,12, 1, Erk_star[0]]\n",
    "\n",
    "param_standard_I_a68 = dict(zip(parameter_names_I,parameter_values_standard_I_a68))\n",
    "param_standard_I_a66 = dict(zip(parameter_names_I,parameter_values_standard_I_a66))\n",
    "param_standard_I_a67 = dict(zip(parameter_names_I,parameter_values_standard_I_a67))\n",
    "param_standard_I_a65 = dict(zip(parameter_names_I,parameter_values_standard_I_a65))\n",
    "\n",
    "# Define the standard values of the parameters ± 20% for each cell type\n",
    "parameter_values_Ap_minus_a68 = [parameter_values_standard_Ap_a68[i]- parameter_values_standard_Ap_a68[i]/5 for i in range(len(parameter_values_standard_Ap))]\n",
    "parameter_values_Ap_minus_a66 = [parameter_values_standard_Ap_a66[i]- parameter_values_standard_Ap_a66[i]/5 for i in range(len(parameter_values_standard_Ap))]\n",
    "parameter_values_Ap_minus_a67 = [parameter_values_standard_Ap_a67[i]- parameter_values_standard_Ap_a67[i]/5 for i in range(len(parameter_values_standard_Ap))]\n",
    "parameter_values_Ap_minus_a65 = [parameter_values_standard_Ap_a65[i]- parameter_values_standard_Ap_a65[i]/5 for i in range(len(parameter_values_standard_Ap))]\n",
    "\n",
    "parameter_values_Ap_plus_a68 = [parameter_values_standard_Ap_a68[i]+ parameter_values_standard_Ap_a68[i]/5 for i in range(len(parameter_values_standard_Ap))]\n",
    "parameter_values_Ap_plus_a66 = [parameter_values_standard_Ap_a66[i]+ parameter_values_standard_Ap_a66[i]/5 for i in range(len(parameter_values_standard_Ap))]\n",
    "parameter_values_Ap_plus_a67 = [parameter_values_standard_Ap_a67[i]+ parameter_values_standard_Ap_a67[i]/5 for i in range(len(parameter_values_standard_Ap))]\n",
    "parameter_values_Ap_plus_a65 = [parameter_values_standard_Ap_a65[i]+ parameter_values_standard_Ap_a65[i]/5 for i in range(len(parameter_values_standard_Ap))]\n",
    "\n",
    "parameter_values_I_minus_a68 = [parameter_values_standard_I_a68[i]- parameter_values_standard_I_a68[i]/5 for i in range(len(parameter_values_standard_I))]\n",
    "parameter_values_I_minus_a66 = [parameter_values_standard_I_a66[i]- parameter_values_standard_I_a66[i]/5 for i in range(len(parameter_values_standard_I))]\n",
    "parameter_values_I_minus_a67 = [parameter_values_standard_I_a67[i]- parameter_values_standard_I_a67[i]/5 for i in range(len(parameter_values_standard_I))]\n",
    "parameter_values_I_minus_a65 = [parameter_values_standard_I_a65[i]- parameter_values_standard_I_a65[i]/5 for i in range(len(parameter_values_standard_I))]\n",
    "\n",
    "parameter_values_I_plus_a68 = [parameter_values_standard_I_a68[i]+ parameter_values_standard_I_a68[i]/5 for i in range(len(parameter_values_standard_I))]\n",
    "parameter_values_I_plus_a66 = [parameter_values_standard_I_a66[i]+ parameter_values_standard_I_a66[i]/5 for i in range(len(parameter_values_standard_I))]\n",
    "parameter_values_I_plus_a67 = [parameter_values_standard_I_a67[i]+ parameter_values_standard_I_a67[i]/5 for i in range(len(parameter_values_standard_I))]\n",
    "parameter_values_I_plus_a65 = [parameter_values_standard_I_a65[i]+ parameter_values_standard_I_a65[i]/5 for i in range(len(parameter_values_standard_I))]"
   ]
  },
  {
   "cell_type": "markdown",
   "metadata": {},
   "source": [
    "### Effect of changing the value of the parameters by ± 20%"
   ]
  },
  {
   "cell_type": "markdown",
   "metadata": {},
   "source": [
    "Compute level of Otx when parameter values = standard values - 20%"
   ]
  },
  {
   "cell_type": "code",
   "execution_count": 16,
   "metadata": {},
   "outputs": [],
   "source": [
    "Otx_output_a68_minus = np.zeros(len(parameter_names_Ap)+len(parameter_names_I)+len(parameter_names_Otx)-2)\n",
    "Otx_output_a66_minus = np.zeros(len(parameter_names_Ap)+len(parameter_names_I)+len(parameter_names_Otx)-2)\n",
    "Otx_output_a67_minus = np.zeros(len(parameter_names_Ap)+len(parameter_names_I)+len(parameter_names_Otx)-2)\n",
    "Otx_output_a65_minus = np.zeros(len(parameter_names_Ap)+len(parameter_names_I)+len(parameter_names_Otx)-2)\n",
    "\n",
    "# Cell a68\n",
    "for i in range(len(parameter_names_Ap)-1): \n",
    "    param_temp = dict(zip(parameter_names_Ap,parameter_values_standard_Ap_a68))\n",
    "    param_temp[parameter_names_Ap[i]] = parameter_values_Ap_minus_a68[i]\n",
    "    \n",
    "    Ap_pred_Erkstar = [exprAp(**param_temp)]\n",
    "    I_pred_Erkstar = [exprI(**param_standard_I_a68)]\n",
    "    Otx_output_a68_minus[i] = exprOtx(Ap_v=Ap_pred_Erkstar,I_v=I_pred_Erkstar, **param_Otx)[0]\n",
    "\n",
    "for i in range(len(parameter_names_I)-1): \n",
    "    param_temp = dict(zip(parameter_names_I,parameter_values_standard_I_a68))\n",
    "    param_temp[parameter_names_I[i]] = parameter_values_I_minus_a68[i]\n",
    "    \n",
    "    I_pred_Erkstar = [exprI(**param_temp)]\n",
    "    Ap_pred_Erkstar = [exprAp(**param_standard_Ap_a68)]\n",
    "    Otx_output_a68_minus[len(parameter_names_Ap)-1+i] = exprOtx(Ap_v=Ap_pred_Erkstar,I_v=I_pred_Erkstar,**param_Otx)[0] \n",
    "    \n",
    "for i in range(len(parameter_names_Otx)): \n",
    "    param_temp = dict(zip(parameter_names_Otx,parameter_values_standard_Otx))\n",
    "    param_temp[parameter_names_Otx[i]] = parameter_values_minus_Otx[i]\n",
    "    \n",
    "    I_pred_Erkstar = [exprI(**param_standard_I_a68)]\n",
    "    Ap_pred_Erkstar = [exprAp(**param_standard_Ap_a68)]\n",
    "    \n",
    "    Otx_output_a68_minus[2*len(parameter_names_Ap)-2+i] = exprOtx(Ap_v=Ap_pred_Erkstar,I_v=I_pred_Erkstar,**param_temp)[0]\n",
    "\n",
    "    \n",
    "# Cell a66\n",
    "for i in range(len(parameter_names_Ap)-1): \n",
    "    param_temp = dict(zip(parameter_names_Ap,parameter_values_standard_Ap_a66))\n",
    "    param_temp[parameter_names_Ap[i]] = parameter_values_Ap_minus_a66[i]\n",
    "    \n",
    "    Ap_pred_Erkstar = [exprAp(**param_temp)]\n",
    "    I_pred_Erkstar = [exprI(**param_standard_I_a66)]\n",
    "    Otx_output_a66_minus[i] = exprOtx(Ap_v=Ap_pred_Erkstar,I_v=I_pred_Erkstar,**param_Otx)[0]\n",
    "\n",
    "for i in range(len(parameter_names_I)-1): \n",
    "    param_temp = dict(zip(parameter_names_I,parameter_values_standard_I_a66))\n",
    "    param_temp[parameter_names_I[i]] = parameter_values_I_minus_a66[i]\n",
    "    \n",
    "    I_pred_Erkstar = [exprI(**param_temp)]\n",
    "    Ap_pred_Erkstar = [exprAp(**param_standard_Ap_a66)]\n",
    "    Otx_output_a66_minus[len(parameter_names_Ap)-1+i] = exprOtx(Ap_v=Ap_pred_Erkstar,I_v=I_pred_Erkstar,**param_Otx)[0]\n",
    "    \n",
    "for i in range(len(parameter_names_Otx)): \n",
    "    param_temp = dict(zip(parameter_names_Otx,parameter_values_standard_Otx))\n",
    "    param_temp[parameter_names_Otx[i]] = parameter_values_minus_Otx[i]\n",
    "    \n",
    "    I_pred_Erkstar = [exprI(**param_standard_I_a66)]\n",
    "    Ap_pred_Erkstar = [exprAp(**param_standard_Ap_a66)]\n",
    "    \n",
    "    Otx_output_a66_minus[2*len(parameter_names_Ap)-2+i] = exprOtx(Ap_v=Ap_pred_Erkstar,I_v=I_pred_Erkstar,**param_temp)[0]\n",
    "\n",
    "    \n",
    "# Cell a67\n",
    "for i in range(len(parameter_names_Ap)-1): \n",
    "    param_temp = dict(zip(parameter_names_Ap,parameter_values_standard_Ap_a67))\n",
    "    param_temp[parameter_names_Ap[i]] = parameter_values_Ap_minus_a67[i]\n",
    "    \n",
    "    Ap_pred_Erkstar = [exprAp(**param_temp)]\n",
    "    I_pred_Erkstar = [exprI(**param_standard_I_a67)]\n",
    "    Otx_output_a67_minus[i] = exprOtx(Ap_v=Ap_pred_Erkstar,I_v=I_pred_Erkstar,**param_Otx)[0]\n",
    "\n",
    "for i in range(len(parameter_names_I)-1): \n",
    "    param_temp = dict(zip(parameter_names_I,parameter_values_standard_I_a67))\n",
    "    param_temp[parameter_names_I[i]] = parameter_values_I_minus_a67[i]\n",
    "    \n",
    "    I_pred_Erkstar = [exprI(**param_temp)]\n",
    "    Ap_pred_Erkstar = [exprAp(**param_standard_Ap_a67)]\n",
    "    Otx_output_a67_minus[len(parameter_names_Ap)-1+i] = exprOtx(Ap_v=Ap_pred_Erkstar,I_v=I_pred_Erkstar,**param_Otx)[0]\n",
    "    \n",
    "for i in range(len(parameter_names_Otx)): \n",
    "    param_temp = dict(zip(parameter_names_Otx,parameter_values_standard_Otx))\n",
    "    param_temp[parameter_names_Otx[i]] = parameter_values_minus_Otx[i]\n",
    "    \n",
    "    I_pred_Erkstar = [exprI(**param_standard_I_a67)]\n",
    "    Ap_pred_Erkstar = [exprAp(**param_standard_Ap_a67)]\n",
    "    \n",
    "    Otx_output_a67_minus[2*len(parameter_names_Ap)-2+i] = exprOtx(Ap_v=Ap_pred_Erkstar,I_v=I_pred_Erkstar,**param_temp)[0]\n",
    "\n",
    "    \n",
    "# Cell a65\n",
    "for i in range(len(parameter_names_Ap)-1): \n",
    "    param_temp = dict(zip(parameter_names_Ap,parameter_values_standard_Ap_a65))\n",
    "    param_temp[parameter_names_Ap[i]] = parameter_values_Ap_minus_a65[i]\n",
    "    \n",
    "    Ap_pred_Erkstar = [exprAp(**param_temp)]\n",
    "    I_pred_Erkstar = [exprI(**param_standard_I_a65)]\n",
    "    Otx_output_a65_minus[i] = exprOtx(Ap_v=Ap_pred_Erkstar,I_v=I_pred_Erkstar,**param_Otx)[0]\n",
    "\n",
    "for i in range(len(parameter_names_I)-1): \n",
    "    param_temp = dict(zip(parameter_names_I,parameter_values_standard_I_a65))\n",
    "    param_temp[parameter_names_I[i]] = parameter_values_I_minus_a65[i]\n",
    "    \n",
    "    I_pred_Erkstar = [exprI(**param_temp)]\n",
    "    Ap_pred_Erkstar = [exprAp(**param_standard_Ap_a65)]\n",
    "    Otx_output_a65_minus[len(parameter_names_Ap)-1+i] = exprOtx(Ap_v=Ap_pred_Erkstar,I_v=I_pred_Erkstar,**param_Otx)[0]\n",
    "    \n",
    "for i in range(len(parameter_names_Otx)): \n",
    "    param_temp = dict(zip(parameter_names_Otx,parameter_values_standard_Otx))\n",
    "    param_temp[parameter_names_Otx[i]] = parameter_values_minus_Otx[i]\n",
    "    \n",
    "    I_pred_Erkstar = [exprI(**param_standard_I_a65)]\n",
    "    Ap_pred_Erkstar = [exprAp(**param_standard_Ap_a65)]\n",
    "    \n",
    "    Otx_output_a65_minus[2*len(parameter_names_Ap)-2+i] = exprOtx(Ap_v=Ap_pred_Erkstar,I_v=I_pred_Erkstar,**param_temp)[0]"
   ]
  },
  {
   "cell_type": "markdown",
   "metadata": {},
   "source": [
    "Compute level of Otx when parameter values = standard values + 20%"
   ]
  },
  {
   "cell_type": "code",
   "execution_count": 17,
   "metadata": {},
   "outputs": [],
   "source": [
    "# Compute the output plus \n",
    "Otx_output_a68_plus = np.zeros(len(parameter_names_Ap)+len(parameter_names_I)+len(parameter_names_Otx)-2)\n",
    "Otx_output_a66_plus = np.zeros(len(parameter_names_Ap)+len(parameter_names_I)+len(parameter_names_Otx)-2)\n",
    "Otx_output_a67_plus = np.zeros(len(parameter_names_Ap)+len(parameter_names_I)+len(parameter_names_Otx)-2)\n",
    "Otx_output_a65_plus = np.zeros(len(parameter_names_Ap)+len(parameter_names_I)+len(parameter_names_Otx)-2)\n",
    "\n",
    "# Cell a68\n",
    "for i in range(len(parameter_names_Ap)-1): \n",
    "    param_temp = dict(zip(parameter_names_Ap,parameter_values_standard_Ap_a68))\n",
    "    param_temp[parameter_names_Ap[i]] = parameter_values_Ap_plus_a68[i]\n",
    "    \n",
    "    Ap_pred_Erkstar = [exprAp(**param_temp)]\n",
    "    I_pred_Erkstar = [exprI(**param_standard_I_a68)]\n",
    "    Otx_output_a68_plus[i] = exprOtx(Ap_v=Ap_pred_Erkstar,I_v=I_pred_Erkstar,**param_Otx)[0]\n",
    "\n",
    "for i in range(len(parameter_names_I)-1): \n",
    "    param_temp = dict(zip(parameter_names_I,parameter_values_standard_I_a68))\n",
    "    param_temp[parameter_names_I[i]] = parameter_values_I_plus_a68[i]\n",
    "    \n",
    "    I_pred_Erkstar = [exprI(**param_temp)]\n",
    "    Ap_pred_Erkstar = [exprAp(**param_standard_Ap_a68)]\n",
    "    Otx_output_a68_plus[len(parameter_names_Ap)-1+i] = exprOtx(Ap_v=Ap_pred_Erkstar,I_v=I_pred_Erkstar,**param_Otx)[0]\n",
    "    \n",
    "for i in range(len(parameter_names_Otx)): \n",
    "    param_temp = dict(zip(parameter_names_Otx,parameter_values_standard_Otx))\n",
    "    param_temp[parameter_names_Otx[i]] = parameter_values_plus_Otx[i]\n",
    "    \n",
    "    I_pred_Erkstar = [exprI(**param_standard_I_a68)]\n",
    "    Ap_pred_Erkstar = [exprAp(**param_standard_Ap_a68)]\n",
    "    \n",
    "    Otx_output_a68_plus[2*len(parameter_names_Ap)-2+i] = exprOtx(Ap_v=Ap_pred_Erkstar,I_v=I_pred_Erkstar,**param_temp)[0]\n",
    "\n",
    "\n",
    "# Cell a66\n",
    "for i in range(len(parameter_names_Ap)-1): \n",
    "    param_temp = dict(zip(parameter_names_Ap,parameter_values_standard_Ap_a66))\n",
    "    param_temp[parameter_names_Ap[i]] = parameter_values_Ap_plus_a66[i]\n",
    "    \n",
    "    Ap_pred_Erkstar = [exprAp(**param_temp)]\n",
    "    I_pred_Erkstar = [exprI(**param_standard_I_a66)]\n",
    "    Otx_output_a66_plus[i] = exprOtx(Ap_v=Ap_pred_Erkstar,I_v=I_pred_Erkstar,**param_Otx)[0]\n",
    "\n",
    "for i in range(len(parameter_names_I)-1): \n",
    "    param_temp = dict(zip(parameter_names_I,parameter_values_standard_I_a66))\n",
    "    param_temp[parameter_names_I[i]] = parameter_values_I_plus_a66[i]\n",
    "    \n",
    "    I_pred_Erkstar = [exprI(**param_temp)]\n",
    "    Ap_pred_Erkstar = [exprAp(**param_standard_Ap_a66)]\n",
    "    Otx_output_a66_plus[len(parameter_names_Ap)-1+i] = exprOtx(Ap_v=Ap_pred_Erkstar,I_v=I_pred_Erkstar,**param_Otx)[0]\n",
    "    \n",
    "for i in range(len(parameter_names_Otx)): \n",
    "    param_temp = dict(zip(parameter_names_Otx,parameter_values_standard_Otx))\n",
    "    param_temp[parameter_names_Otx[i]] = parameter_values_plus_Otx[i]\n",
    "    \n",
    "    I_pred_Erkstar = [exprI(**param_standard_I_a66)]\n",
    "    Ap_pred_Erkstar = [exprAp(**param_standard_Ap_a66)]\n",
    "    \n",
    "    Otx_output_a66_plus[2*len(parameter_names_Ap)-2+i] = exprOtx(Ap_v=Ap_pred_Erkstar,I_v=I_pred_Erkstar,**param_temp)[0]\n",
    "\n",
    "    \n",
    "# Cell a67\n",
    "for i in range(len(parameter_names_Ap)-1): \n",
    "    param_temp = dict(zip(parameter_names_Ap,parameter_values_standard_Ap_a67))\n",
    "    param_temp[parameter_names_Ap[i]] = parameter_values_Ap_plus_a67[i]\n",
    "    \n",
    "    Ap_pred_Erkstar = [exprAp(**param_temp)]\n",
    "    I_pred_Erkstar = [exprI(**param_standard_I_a67)]\n",
    "    Otx_output_a67_plus[i] = exprOtx(Ap_v=Ap_pred_Erkstar,I_v=I_pred_Erkstar,**param_Otx)[0]\n",
    "\n",
    "for i in range(len(parameter_names_I)-1): \n",
    "    param_temp = dict(zip(parameter_names_I,parameter_values_standard_I_a67))\n",
    "    param_temp[parameter_names_I[i]] = parameter_values_I_plus_a67[i]\n",
    "    \n",
    "    I_pred_Erkstar = [exprI(**param_temp)]\n",
    "    Ap_pred_Erkstar = [exprAp(**param_standard_Ap_a67)]\n",
    "    Otx_output_a67_plus[len(parameter_names_Ap)-1+i] = exprOtx(Ap_v=Ap_pred_Erkstar,I_v=I_pred_Erkstar,**param_Otx)[0]\n",
    "    \n",
    "for i in range(len(parameter_names_Otx)): \n",
    "    param_temp = dict(zip(parameter_names_Otx,parameter_values_standard_Otx))\n",
    "    param_temp[parameter_names_Otx[i]] = parameter_values_plus_Otx[i]\n",
    "    \n",
    "    I_pred_Erkstar = [exprI(**param_standard_I_a67)]\n",
    "    Ap_pred_Erkstar = [exprAp(**param_standard_Ap_a67)]\n",
    "    \n",
    "    Otx_output_a67_plus[2*len(parameter_names_Ap)-2+i] = exprOtx(Ap_v=Ap_pred_Erkstar,I_v=I_pred_Erkstar,**param_temp)[0]\n",
    "\n",
    "    \n",
    "# Cell a65\n",
    "for i in range(len(parameter_names_Ap)-1): \n",
    "    param_temp = dict(zip(parameter_names_Ap,parameter_values_standard_Ap_a65))\n",
    "    param_temp[parameter_names_Ap[i]] = parameter_values_Ap_plus_a65[i]\n",
    "    \n",
    "    Ap_pred_Erkstar = [exprAp(**param_temp)]\n",
    "    I_pred_Erkstar = [exprI(**param_standard_I_a65)]\n",
    "    Otx_output_a65_plus[i] = exprOtx(Ap_v=Ap_pred_Erkstar,I_v=I_pred_Erkstar,**param_Otx)[0]\n",
    "\n",
    "for i in range(len(parameter_names_I)-1): \n",
    "    param_temp = dict(zip(parameter_names_I,parameter_values_standard_I_a65))\n",
    "    param_temp[parameter_names_I[i]] = parameter_values_I_plus_a65[i]\n",
    "    \n",
    "    I_pred_Erkstar = [exprI(**param_temp)]\n",
    "    Ap_pred_Erkstar = [exprAp(**param_standard_Ap_a65)]\n",
    "    Otx_output_a65_plus[len(parameter_names_Ap)-1+i] = exprOtx(Ap_v=Ap_pred_Erkstar,I_v=I_pred_Erkstar,**param_Otx)[0]\n",
    "    \n",
    "for i in range(len(parameter_names_Otx)): \n",
    "    param_temp = dict(zip(parameter_names_Otx,parameter_values_standard_Otx))\n",
    "    param_temp[parameter_names_Otx[i]] = parameter_values_plus_Otx[i]\n",
    "    \n",
    "    I_pred_Erkstar = [exprI(**param_standard_I_a65)]\n",
    "    Ap_pred_Erkstar = [exprAp(**param_standard_Ap_a65)]\n",
    "    \n",
    "    Otx_output_a65_plus[2*len(parameter_names_Ap)-2+i] = exprOtx(Ap_v=Ap_pred_Erkstar,I_v=I_pred_Erkstar,**param_temp)[0]\n"
   ]
  },
  {
   "cell_type": "markdown",
   "metadata": {},
   "source": [
    "### Figure"
   ]
  },
  {
   "cell_type": "code",
   "execution_count": 18,
   "metadata": {},
   "outputs": [],
   "source": [
    "parameter_names_fig = ['$K_{MM3}$','$K_{MM4}$','$k_{MM3}$','$v_{MM4}$','$K_{MM1}$','$K_{MM2}$','$k_{MM1}$','$v_{MM2}$','$k$','$K_a$','$K_i$','$v_o$','$v_b$']\n",
    "x = np.array([0,1,2,3,4,5,6,7,8,9,10,11,12])"
   ]
  },
  {
   "cell_type": "code",
   "execution_count": 19,
   "metadata": {},
   "outputs": [],
   "source": [
    "# Normalization \n",
    "Otx_output_a68_plus_n = [Otx_output_a68_plus[i]/mean_Otx_pred[3] for i in range(len(Otx_output_a68_plus))]\n",
    "Otx_output_a68_minus_n = [Otx_output_a68_minus[i]/mean_Otx_pred[3] for i in range(len(Otx_output_a68_minus))]\n",
    "\n",
    "Otx_output_a66_plus_n = [Otx_output_a66_plus[i]/mean_Otx_pred[1] for i in range(len(Otx_output_a66_plus))]\n",
    "Otx_output_a66_minus_n = [Otx_output_a66_minus[i]/mean_Otx_pred[1] for i in range(len(Otx_output_a66_minus))]\n",
    "\n",
    "Otx_output_a67_plus_n = [Otx_output_a67_plus[i]/mean_Otx_pred[2] for i in range(len(Otx_output_a67_plus))]\n",
    "Otx_output_a67_minus_n = [Otx_output_a67_minus[i]/mean_Otx_pred[2] for i in range(len(Otx_output_a67_minus))]\n",
    "\n",
    "Otx_output_a65_plus_n = [Otx_output_a65_plus[i]/mean_Otx_pred[0] for i in range(len(Otx_output_a65_plus))]\n",
    "Otx_output_a65_minus_n = [Otx_output_a65_minus[i]/mean_Otx_pred[0] for i in range(len(Otx_output_a65_minus))]"
   ]
  },
  {
   "cell_type": "code",
   "execution_count": 20,
   "metadata": {},
   "outputs": [
    {
     "data": {
      "image/png": "[encoded data removed]",
      "text/plain": [
       "<Figure size 1008x360 with 1 Axes>"
      ]
     },
     "metadata": {
      "needs_background": "light"
     },
     "output_type": "display_data"
    }
   ],
   "source": [
    "Otx_min_a65_fig = np.zeros(len(Otx_output_a65_minus))\n",
    "Otx_min_a66_fig = np.zeros(len(Otx_output_a66_minus))\n",
    "Otx_min_a67_fig = np.zeros(len(Otx_output_a67_minus))\n",
    "Otx_min_a68_fig = np.zeros(len(Otx_output_a68_minus))\n",
    "\n",
    "Otx_max_a65_fig = np.zeros(len(Otx_output_a65_minus))\n",
    "Otx_max_a66_fig = np.zeros(len(Otx_output_a66_minus))\n",
    "Otx_max_a67_fig = np.zeros(len(Otx_output_a67_minus))\n",
    "Otx_max_a68_fig = np.zeros(len(Otx_output_a68_minus))\n",
    "\n",
    "for i in range(len(Otx_output_a68_minus_n)): \n",
    "    if  Otx_output_a68_minus_n[i] > Otx_output_a68_plus_n[i]: \n",
    "        Otx_max_a68_fig[i] = Otx_output_a68_minus_n[i]\n",
    "        Otx_min_a68_fig[i] = Otx_output_a68_plus_n[i]\n",
    "    else:\n",
    "        Otx_max_a68_fig[i] = Otx_output_a68_plus_n[i]\n",
    "        Otx_min_a68_fig[i] = Otx_output_a68_minus_n[i]\n",
    "\n",
    "for i in range(len(Otx_output_a66_minus_n)): \n",
    "    if  Otx_output_a66_minus_n[i] > Otx_output_a66_plus_n[i]: \n",
    "        Otx_max_a66_fig[i] = Otx_output_a66_minus_n[i]\n",
    "        Otx_min_a66_fig[i] = Otx_output_a66_plus_n[i]\n",
    "    else:\n",
    "        Otx_max_a66_fig[i] = Otx_output_a66_plus_n[i]\n",
    "        Otx_min_a66_fig[i] = Otx_output_a66_minus_n[i]\n",
    "\n",
    "for i in range(len(Otx_output_a67_minus_n)): \n",
    "    if  Otx_output_a67_minus_n[i] > Otx_output_a67_plus_n[i]: \n",
    "        Otx_max_a67_fig[i] = Otx_output_a67_minus_n[i]\n",
    "        Otx_min_a67_fig[i] = Otx_output_a67_plus_n[i]\n",
    "    else:\n",
    "        Otx_max_a67_fig[i] = Otx_output_a67_plus_n[i]\n",
    "        Otx_min_a67_fig[i] = Otx_output_a67_minus_n[i]\n",
    "        \n",
    "for i in range(len(Otx_output_a65_minus_n)): \n",
    "    if  Otx_output_a65_minus_n[i] > Otx_output_a65_plus_n[i]: \n",
    "        Otx_max_a65_fig[i] = Otx_output_a65_minus_n[i]\n",
    "        Otx_min_a65_fig[i] = Otx_output_a65_plus_n[i]\n",
    "    else:\n",
    "        Otx_max_a65_fig[i] = Otx_output_a65_plus_n[i]\n",
    "        Otx_min_a65_fig[i] = Otx_output_a65_minus_n[i]\n",
    "        \n",
    "\n",
    "# Figure\n",
    "height_fig_a68 = [Otx_max_a68_fig[i]-Otx_min_a68_fig[i] for i in range(len(Otx_max_a68_fig))]\n",
    "bottom_fig_a68 = [Otx_min_a68_fig[i] for i in range(len(Otx_min_a68_fig))]\n",
    "\n",
    "height_fig_a66 = [Otx_max_a66_fig[i]-Otx_min_a66_fig[i] for i in range(len(Otx_max_a66_fig))]\n",
    "bottom_fig_a66 = [Otx_min_a66_fig[i] for i in range(len(Otx_min_a66_fig))]\n",
    "\n",
    "height_fig_a67 = [Otx_max_a67_fig[i]-Otx_min_a67_fig[i] for i in range(len(Otx_max_a67_fig))]\n",
    "bottom_fig_a67 = [Otx_min_a67_fig[i] for i in range(len(Otx_min_a67_fig))]\n",
    "\n",
    "height_fig_a65 = [Otx_max_a65_fig[i]-Otx_min_a65_fig[i] for i in range(len(Otx_max_a65_fig))]\n",
    "bottom_fig_a65 = [Otx_min_a65_fig[i] for i in range(len(Otx_min_a65_fig))]\n",
    "\n",
    "x_new = 2.5*x\n",
    "\n",
    "plt.figure(figsize=(14,5))\n",
    "\n",
    "plt.bar(x_new-0.75,height_fig_a68, width=0.5, bottom=bottom_fig_a68, color='tab:grey' , alpha=0.8)\n",
    "plt.bar(x_new-0.25,height_fig_a66, width=0.5, bottom=bottom_fig_a66, color='tab:green', alpha=0.8 )\n",
    "plt.bar(x_new+0.25,height_fig_a67, width=0.5, bottom=bottom_fig_a67, color='tab:blue', alpha=0.8 )\n",
    "plt.bar(x_new+0.75,height_fig_a65, width=0.5, bottom=bottom_fig_a65, color='orchid', alpha=0.8 )\n",
    "\n",
    "plt.axhline(y=1,linestyle='--',linewidth=1.5, color='0.3', label='$Otx$ expression standard')\n",
    "plt.ylabel('Relative $Otx$ expression (O)')\n",
    "plt.xticks(x_new, parameter_names_fig)\n",
    "\n",
    "x_temp= np.linspace(-4,44)\n",
    "plt.fill_between(x_temp, 0.8, 1.2,facecolor='tab:grey', alpha=0.15, zorder=1)\n",
    "plt.xlim([-2, 32])\n",
    "\n",
    "plt.fill_between(x_temp, 0.6, 1.4,facecolor='tab:grey', alpha=0.10, zorder=1)\n",
    "plt.xlim([-2, 32])\n",
    "\n",
    "plt.legend()\n",
    "plt.yscale('log', base=2)\n",
    "plt.ylim([0.5, 2.5])\n",
    "plt.tight_layout()\n",
    "plt.gca().xaxis.grid(True, linestyle='dashed')\n",
    "plt.show()"
   ]
  },
  {
   "cell_type": "code",
   "execution_count": null,
   "metadata": {},
   "outputs": [],
   "source": []
  }
 ],
 "metadata": {
  "kernelspec": {
   "display_name": "Python 3",
   "language": "python",
   "name": "python3"
  },
  "language_info": {
   "codemirror_mode": {
    "name": "ipython",
    "version": 3
   },
   "file_extension": ".py",
   "mimetype": "text/x-python",
   "name": "python",
   "nbconvert_exporter": "python",
   "pygments_lexer": "ipython3",
   "version": "3.8.5"
  }
 },
 "nbformat": 4,
 "nbformat_minor": 4
}
