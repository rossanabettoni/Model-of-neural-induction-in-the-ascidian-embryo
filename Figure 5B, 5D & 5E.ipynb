{
 "cells": [
  {
   "cell_type": "markdown",
   "metadata": {},
   "source": [
    "# Figure 5B, 5D and 5E"
   ]
  },
  {
   "cell_type": "markdown",
   "metadata": {},
   "source": [
    "The code takes a long time to run. To reproduce the figures (without re-running all the code) is sufficient to run the section 'Heat maps'"
   ]
  },
  {
   "cell_type": "markdown",
   "metadata": {},
   "source": [
    "## Import packages "
   ]
  },
  {
   "cell_type": "code",
   "execution_count": 2,
   "metadata": {},
   "outputs": [],
   "source": [
    "import numpy as np\n",
    "import matplotlib.pyplot as plt \n",
    "from sympy import symbols, solve, simplify\n",
    "import seaborn as sb\n",
    "import pandas as pd\n",
    "from scipy.optimize import curve_fit\n",
    "from matplotlib.patches import Rectangle\n",
    "plt.rcParams.update({'font.size': 20})\n",
    "import multiprocess as mp\n",
    "import time"
   ]
  },
  {
   "cell_type": "markdown",
   "metadata": {},
   "source": [
    "# Definitions"
   ]
  },
  {
   "cell_type": "markdown",
   "metadata": {},
   "source": [
    "Function to plot the heatmap"
   ]
  },
  {
   "cell_type": "code",
   "execution_count": 7,
   "metadata": {},
   "outputs": [],
   "source": [
    "# My Heatmap\n",
    "def myHeatmap(data, Min, Max, axs, label): \n",
    "    sb.heatmap(data,cmap=mymap,fmt=\".4f\",vmin=Min, vmax=Max, cbar=True, ax=axs, xticklabels=False, yticklabels=10, cbar_kws={'label': label,\"orientation\": \"horizontal\"}, center=-0.01)\n",
    "    \n",
    "# Find min and max values of the matrix\n",
    "def min_array(data):\n",
    "    min_temp = np.zeros(len(data))\n",
    "    for i in range(len(data)): \n",
    "        min_temp[i]= min(data[i,:])\n",
    "        \n",
    "    min_final= min(min_temp)\n",
    "    return min_final\n",
    "\n",
    "def max_array(data):\n",
    "    max_temp = np.zeros(len(data))\n",
    "    for i in range(len(data)): \n",
    "        max_temp[i]= max(data[i,:])\n",
    "        \n",
    "    max_final= max(max_temp)\n",
    "    return max_final"
   ]
  },
  {
   "cell_type": "markdown",
   "metadata": {},
   "source": [
    "# Model "
   ]
  },
  {
   "cell_type": "markdown",
   "metadata": {},
   "source": [
    "Definition of the parameters of the model"
   ]
  },
  {
   "cell_type": "code",
   "execution_count": 4,
   "metadata": {},
   "outputs": [],
   "source": [
    "T, V1, V2, K1, K2, Kb = symbols('T V1 V2 K1 K2 Kb') \n",
    "Vs, Rb, Ks, Vrg, Qb, Krg = symbols('Vs Rb Ks Vrg Qb Krg')\n",
    "R, F, Kd, Q, E, Ke = symbols('R F Kd Q E Ke')\n",
    "S1, Qtot, S2, Rtot= symbols('S1 Qtot S2 Rtot')"
   ]
  },
  {
   "cell_type": "markdown",
   "metadata": {},
   "source": [
    "The evolution equation for T"
   ]
  },
  {
   "cell_type": "code",
   "execution_count": 13,
   "metadata": {},
   "outputs": [
    {
     "name": "stdout",
     "output_type": "stream",
     "text": [
      "Evolution equation for T:\n",
      "-Kb*T - T*V2/(K2 + T) + V1*(1 - T)/(K1 - T + 1)\n",
      "Evolution equation for T (all parameters explicited):\n",
      "-E*Qtot*T*Vrg*(0.9092 - 1.1265*S1)*(K1 - T + 1)/((E + Ke)*(E*Qtot*(0.9092 - 1.1265*S1)/(E + Ke) + Krg)) + F*Rtot*S1*Vs*(1 - T)*(K2 + T)/((F + Kd)*(F*Rtot*S1/(F + Kd) + Ks)) - Kb*T*(K2 + T)*(K1 - T + 1)\n"
     ]
    }
   ],
   "source": [
    "# Evolution equation for T: \n",
    "expr = V1*(1-T)/(K1+(1-T))-V2*T/(K2+T)-Kb*T\n",
    "expr_simplified= V1*(1-T)*(K2+T) -V2*T*(K1+(1-T))-Kb*T*(K1+(1-T))*(K2+T)\n",
    "print('Evolution equation for T:')\n",
    "print(expr)\n",
    "\n",
    "# Substitute the expression for V1 and V2 in the evolution equation for T:  \n",
    "expr_RQ= expr_simplified.subs([(V1, Vs*(R*F/(Kd+F))/(Ks+(R*F/(Kd+F)))),(V2, Vrg*(Q*E/(Ke+E))/(Krg+(Q*E/(Ke+E))))])\n",
    "\n",
    "# Substitute the expressions for Q and R\n",
    "expr_S1S2 = expr_RQ.subs([(R, Rtot*S1),(Q, Qtot*S2)])\n",
    "\n",
    "# Expliciting the relation between S1 and S2 to obtain T(FGF, S1): \n",
    "expr_T = expr_S1S2.subs([(S2,-1.1265*S1 +0.9092)])\n",
    "\n",
    "print('Evolution equation for T (all parameters explicited):')\n",
    "print(expr_T)\n",
    "\n",
    "# Solve the equation \n",
    "sol = solve(expr_T, T)[2]"
   ]
  },
  {
   "cell_type": "markdown",
   "metadata": {},
   "source": [
    "Definition of the function ExprT that compute T as a function of all the parameters of the equation"
   ]
  },
  {
   "cell_type": "code",
   "execution_count": 14,
   "metadata": {},
   "outputs": [],
   "source": [
    "def exprT(Vs_v=1, Vrg_v=0.4, K1_v=0.5, K2_v=0.2, Krg_v=1200, Ks_v=1200, Kb_v=0.2, F_v=5, Kd_v=25, E_v=5, Ke_v=50, Rtot_v=2000, Qtot_v=2000, S1_v=0.3):\n",
    "    sol_T = sol.subs([(Vs,Vs_v),(Vrg,Vrg_v),(K1, K1_v),(K2,K2_v),(Krg, Krg_v), (Ks, Ks_v), (Kb, Kb_v),(F, F_v),(Kd, Kd_v),(E,E_v), (Ke, Ke_v),(Rtot, Rtot_v),(Qtot,Qtot_v),(S1,S1_v)])\n",
    "    sol_T = np.real(np.array(sol_T,complex))\n",
    "    return sol_T"
   ]
  },
  {
   "cell_type": "markdown",
   "metadata": {},
   "source": [
    "Definition of the function to compute Erk (as a function of T):"
   ]
  },
  {
   "cell_type": "code",
   "execution_count": 15,
   "metadata": {},
   "outputs": [],
   "source": [
    "def Erk(T,n=2, Kerk=0.5, Erk_max=1, Erk_bas=0): \n",
    "    Erk = [ Erk_max* T[i]**n/(T[i]**n +Kerk**n)+Erk_bas for i in range(len(T)) ]\n",
    "    return Erk"
   ]
  },
  {
   "cell_type": "markdown",
   "metadata": {},
   "source": [
    "# Results"
   ]
  },
  {
   "cell_type": "code",
   "execution_count": 16,
   "metadata": {},
   "outputs": [
    {
     "name": "stdout",
     "output_type": "stream",
     "text": [
      "S1*= 0.807101642254771\n"
     ]
    }
   ],
   "source": [
    "# Definition of the parameters  \n",
    "Kb_temp= np.linspace(0.01,1,50)\n",
    "Kd_temp=  np.linspace(1,2000,50)\n",
    "Ke_temp=  np.linspace(1,2000,50)\n",
    "Ks_temp=  np.linspace(1,2000,50)\n",
    "Krg_temp= np.linspace(1,2000,50)\n",
    "K2_temp= np.linspace(0.01,1,50)\n",
    "K1_temp= np.linspace(0.01,1,50)\n",
    "Vrg_temp= np.linspace(0.01,1,50)\n",
    "Vs_temp= np.linspace(0.01,1,50)\n",
    "n_Ftemp = 50\n",
    "n_Stemp = 50\n",
    "\n",
    "# Compute S1*: \n",
    "S1_star = np.array(solve(-1.1265*S1 +0.9092, S1))\n",
    "print('S1*=', S1_star[0])\n",
    "\n",
    "# Define S1_temp: (vector from 0 to S1*)\n",
    "LogS1star = np.log10(S1_star.astype(float))"
   ]
  },
  {
   "cell_type": "code",
   "execution_count": 26,
   "metadata": {},
   "outputs": [],
   "source": [
    "parameter_names = ['Vs_v','Vrg_v','Ks_v','Krg_v','K1_v','K2_v','Kd_v','Ke_v','Rtot_v','Qtot_v','Kb_v']\n",
    "parameter_values_standard = [1,0.4,1200, 1200, 0.5,0.2,25,50,2000,2000,0.2]\n",
    "param = dict(zip(parameter_names,parameter_values_standard))\n",
    "\n",
    "# Define the functions \n",
    "def T_F(x_param):\n",
    "    x, param_name, param_value= x_param\n",
    "    param_temp = dict(zip(parameter_names,parameter_values_standard))\n",
    "    param_temp[param_name] = param_value\n",
    "    T_temp_F_mp = np.array([exprT(F_v =x[i], S1_v = 0.3, E_v =5, **param_temp) for i in range(len(x))])\n",
    "    return T_temp_F_mp\n",
    "\n",
    "def T_S1(x_param):\n",
    "    x, param_name, param_value= x_param\n",
    "    param_temp = dict(zip(parameter_names,parameter_values_standard))\n",
    "    param_temp[param_name] = param_value\n",
    "    T_temp_S1_mp = np.array([exprT(F_v =5, S1_v = x[i], E_v =5, **param_temp) for i in range(len(x))])\n",
    "    return T_temp_S1_mp\n",
    "\n",
    "def T_F_noEph(x_param):\n",
    "    x, param_name, param_value= x_param\n",
    "    param_temp = dict(zip(parameter_names,parameter_values_standard))\n",
    "    param_temp[param_name] = param_value\n",
    "    T_temp_F_mp = np.array([exprT(F_v =x[i], S1_v = 0.3, E_v=0.001, **param_temp) for i in range(len(x))])\n",
    "    return T_temp_F_mp\n",
    "\n",
    "def T_S1_noEph(x_param):\n",
    "    x, param_name, param_value= x_param\n",
    "    param_temp = dict(zip(parameter_names,parameter_values_standard))\n",
    "    param_temp[param_name] = param_value\n",
    "    T_temp_S1_mp = np.array([exprT(F_v =5, S1_v = x[i], E_v=0.001, **param_temp) for i in range(len(x))])\n",
    "    return T_temp_S1_mp\n",
    "\n",
    "def Erk_mp(T_temp):\n",
    "    Erk_v = Erk(T_temp)\n",
    "    return Erk_v\n",
    "\n",
    "def model(x, a, b, c):\n",
    "    return c*x**a/(x**a+b**a) \n",
    "\n",
    "def Hill_F_mp(y): \n",
    "    x = F_temp\n",
    "    z= y-min(y)\n",
    "    zR= z/max(z)\n",
    "    popt, _ = curve_fit(model, x, zR, bounds=((0,0,0),(10,5000,10)))\n",
    "    a,b,c = popt  \n",
    "    return round(a,2)\n",
    "\n",
    "def Hill_S1_mp(y): \n",
    "    x = S1_temp\n",
    "    z= y-min(y)\n",
    "    zR= z/max(z)\n",
    "    popt, _ = curve_fit(model, x, zR, bounds=((0,0,0),(10,10,10)))\n",
    "    a,b,c = popt  \n",
    "    return round(a,2)"
   ]
  },
  {
   "cell_type": "markdown",
   "metadata": {},
   "source": [
    "Erk as a function of [FGF], S1 for different values of Vrg¶"
   ]
  },
  {
   "cell_type": "code",
   "execution_count": 10,
   "metadata": {},
   "outputs": [],
   "source": [
    "F_temp = np.logspace(-3,6,n_Ftemp) \n",
    "params= []\n",
    "for i in range(len(Vrg_temp)): \n",
    "    params.append((F_temp, 'Vrg_v', Vrg_temp[i]))\n",
    "\n",
    "if __name__ == '__main__': \n",
    "    p = mp.Pool()\n",
    "    # Compute T\n",
    "    result_T = p.map(T_F, params)\n",
    "    result_T_noEph = p.map(T_F_noEph, params)\n",
    "    # Compute Erk\n",
    "    result_Erk = p.map(Erk_mp, result_T)\n",
    "    result_Erk_noEph = p.map(Erk_mp, result_T_noEph)\n",
    "    # Compute the Hill coefficients\n",
    "    n_Vrg_F = p.map(Hill_F_mp,result_Erk)\n",
    "    n_Vrg_F_noEph = p.map(Hill_F_mp,result_Erk_noEph)"
   ]
  },
  {
   "cell_type": "code",
   "execution_count": 11,
   "metadata": {},
   "outputs": [],
   "source": [
    "S1_temp= np.logspace(-3,LogS1star[0],n_Stemp)\n",
    "params= []\n",
    "for i in range(len(Vrg_temp)): \n",
    "    params.append((S1_temp, 'Vrg_v', Vrg_temp[i]))\n",
    "\n",
    "if __name__ == '__main__': \n",
    "    p = mp.Pool()\n",
    "    # Compute T\n",
    "    result_T = p.map(T_S1, params)\n",
    "    result_T_noEph = p.map(T_S1_noEph, params)\n",
    "    # Compute Erk\n",
    "    result_Erk = p.map(Erk_mp, result_T)\n",
    "    result_Erk_noEph = p.map(Erk_mp, result_T_noEph)\n",
    "    # Compute the Hill coefficients\n",
    "    n_Vrg_S1 = p.map(Hill_S1_mp,result_Erk)\n",
    "    n_Vrg_S1_noEph = p.map(Hill_S1_mp,result_Erk_noEph)"
   ]
  },
  {
   "cell_type": "markdown",
   "metadata": {},
   "source": [
    "Erk as a function of [FGF], S1 for different values of Kb"
   ]
  },
  {
   "cell_type": "code",
   "execution_count": 13,
   "metadata": {},
   "outputs": [],
   "source": [
    "F_temp = np.logspace(-4,5,n_Ftemp) \n",
    "params= []\n",
    "for i in range(len(Vrg_temp)): \n",
    "    params.append((F_temp, 'Kb_v', Kb_temp[i]))\n",
    "\n",
    "if __name__ == '__main__': \n",
    "    p = mp.Pool()\n",
    "    # Compute T\n",
    "    result_T = p.map(T_F, params)\n",
    "    result_T_noEph = p.map(T_F_noEph, params)\n",
    "    # Compute Erk\n",
    "    result_Erk = p.map(Erk_mp, result_T)\n",
    "    result_Erk_noEph = p.map(Erk_mp, result_T_noEph)\n",
    "    # Compute the Hill coefficients\n",
    "    n_Kb_F = p.map(Hill_F_mp,result_Erk)\n",
    "    n_Kb_F_noEph = p.map(Hill_F_mp,result_Erk_noEph)"
   ]
  },
  {
   "cell_type": "code",
   "execution_count": 14,
   "metadata": {},
   "outputs": [],
   "source": [
    "S1_temp= np.logspace(-4,LogS1star[0],n_Stemp)\n",
    "params= []\n",
    "for i in range(len(Kb_temp)): \n",
    "    params.append((S1_temp, 'Kb_v', Kb_temp[i]))\n",
    "\n",
    "if __name__ == '__main__': \n",
    "    p = mp.Pool()\n",
    "    # Compute T\n",
    "    result_T = p.map(T_S1, params)\n",
    "    result_T_noEph = p.map(T_S1_noEph, params)\n",
    "    # Compute Erk\n",
    "    result_Erk = p.map(Erk_mp, result_T)\n",
    "    result_Erk_noEph = p.map(Erk_mp, result_T_noEph)\n",
    "    # Compute the Hill coefficients\n",
    "    n_Kb_S1 = p.map(Hill_S1_mp,result_Erk)\n",
    "    n_Kb_S1_noEph = p.map(Hill_S1_mp,result_Erk_noEph)"
   ]
  },
  {
   "cell_type": "markdown",
   "metadata": {},
   "source": [
    "Erk as a function of [FGF], S1 for different values of Kd"
   ]
  },
  {
   "cell_type": "code",
   "execution_count": 77,
   "metadata": {},
   "outputs": [],
   "source": [
    "F_temp = np.logspace(-4,7,n_Ftemp)\n",
    "params= []\n",
    "for i in range(len(Kd_temp)): \n",
    "    params.append((F_temp, 'Kd_v', Kd_temp[i]))\n",
    "\n",
    "if __name__ == '__main__': \n",
    "    p = mp.Pool()\n",
    "    # Compute T\n",
    "    result_T = p.map(T_F, params)\n",
    "    result_T_noEph = p.map(T_F_noEph, params)\n",
    "    # Compute Erk\n",
    "    result_Erk = p.map(Erk_mp, result_T)\n",
    "    result_Erk_noEph = p.map(Erk_mp, result_T_noEph)\n",
    "    # Compute the Hill coefficients\n",
    "    n_Kd_F = p.map(Hill_F_mp,result_Erk)\n",
    "    n_Kd_F_noEph = p.map(Hill_F_mp,result_Erk_noEph)"
   ]
  },
  {
   "cell_type": "code",
   "execution_count": 78,
   "metadata": {},
   "outputs": [],
   "source": [
    "S1_temp= np.logspace(-3,LogS1star[0],n_Stemp)\n",
    "params= []\n",
    "for i in range(len(Kd_temp)): \n",
    "    params.append((S1_temp, 'Kd_v', Kd_temp[i]))\n",
    "\n",
    "if __name__ == '__main__': \n",
    "    p = mp.Pool()\n",
    "    # Compute T\n",
    "    result_T = p.map(T_S1, params)\n",
    "    result_T_noEph = p.map(T_S1_noEph, params)\n",
    "    # Compute Erk\n",
    "    result_Erk = p.map(Erk_mp, result_T)\n",
    "    result_Erk_noEph = p.map(Erk_mp, result_T_noEph)\n",
    "    # Compute the Hill coefficients\n",
    "    n_Kd_S1 = p.map(Hill_S1_mp,result_Erk)\n",
    "    n_Kd_S1_noEph = p.map(Hill_S1_mp,result_Erk_noEph)"
   ]
  },
  {
   "cell_type": "markdown",
   "metadata": {},
   "source": [
    "Erk as a function of [FGF], S1 for different values of Ke"
   ]
  },
  {
   "cell_type": "code",
   "execution_count": 19,
   "metadata": {},
   "outputs": [],
   "source": [
    "F_temp = np.logspace(-3,5,n_Ftemp) \n",
    "params= []\n",
    "for i in range(len(Ke_temp)): \n",
    "    params.append((F_temp, 'Ke_v', Ke_temp[i]))\n",
    "\n",
    "if __name__ == '__main__': \n",
    "    p = mp.Pool()\n",
    "    # Compute T\n",
    "    result_T = p.map(T_F, params)\n",
    "    result_T_noEph = p.map(T_F_noEph, params)\n",
    "    # Compute Erk\n",
    "    result_Erk = p.map(Erk_mp, result_T)\n",
    "    result_Erk_noEph = p.map(Erk_mp, result_T_noEph)\n",
    "    # Compute the Hill coefficients\n",
    "    n_Ke_F = p.map(Hill_F_mp,result_Erk)\n",
    "    n_Ke_F_noEph = p.map(Hill_F_mp,result_Erk_noEph)"
   ]
  },
  {
   "cell_type": "code",
   "execution_count": 20,
   "metadata": {},
   "outputs": [],
   "source": [
    "S1_temp= np.logspace(-3,LogS1star[0],n_Stemp)\n",
    "params= []\n",
    "for i in range(len(Ke_temp)): \n",
    "    params.append((S1_temp, 'Ke_v', Ke_temp[i]))\n",
    "\n",
    "if __name__ == '__main__': \n",
    "    p = mp.Pool()\n",
    "    # Compute T\n",
    "    result_T = p.map(T_S1, params)\n",
    "    result_T_noEph = p.map(T_S1_noEph, params)\n",
    "    # Compute Erk\n",
    "    result_Erk = p.map(Erk_mp, result_T)\n",
    "    result_Erk_noEph = p.map(Erk_mp, result_T_noEph)\n",
    "    # Compute the Hill coefficients\n",
    "    n_Ke_S1 = p.map(Hill_S1_mp,result_Erk)\n",
    "    n_Ke_S1_noEph = p.map(Hill_S1_mp,result_Erk_noEph)\n"
   ]
  },
  {
   "cell_type": "markdown",
   "metadata": {},
   "source": [
    "Erk as a function of [FGF], S1 for different values of K1"
   ]
  },
  {
   "cell_type": "code",
   "execution_count": 22,
   "metadata": {},
   "outputs": [],
   "source": [
    "F_temp = np.logspace(-3,4,n_Ftemp)\n",
    "params= []\n",
    "for i in range(len(K1_temp)): \n",
    "    params.append((F_temp, 'K1_v', K1_temp[i]))\n",
    "\n",
    "if __name__ == '__main__': \n",
    "    p = mp.Pool()\n",
    "    # Compute T\n",
    "    result_T = p.map(T_F, params)\n",
    "    result_T_noEph = p.map(T_F_noEph, params)\n",
    "    # Compute Erk\n",
    "    result_Erk = p.map(Erk_mp, result_T)\n",
    "    result_Erk_noEph = p.map(Erk_mp, result_T_noEph)\n",
    "    # Compute the Hill coefficients\n",
    "    n_K1_F = p.map(Hill_F_mp,result_Erk)\n",
    "    n_K1_F_noEph = p.map(Hill_F_mp,result_Erk_noEph)"
   ]
  },
  {
   "cell_type": "code",
   "execution_count": 23,
   "metadata": {},
   "outputs": [],
   "source": [
    "S1_temp= np.logspace(-3,LogS1star[0],n_Stemp)\n",
    "params= []\n",
    "for i in range(len(K1_temp)): \n",
    "    params.append((S1_temp, 'K1_v', K1_temp[i]))\n",
    "\n",
    "if __name__ == '__main__': \n",
    "    p = mp.Pool()\n",
    "    # Compute T\n",
    "    result_T = p.map(T_S1, params)\n",
    "    result_T_noEph = p.map(T_S1_noEph, params)\n",
    "    # Compute Erk\n",
    "    result_Erk = p.map(Erk_mp, result_T)\n",
    "    result_Erk_noEph = p.map(Erk_mp, result_T_noEph)\n",
    "    # Compute the Hill coefficients\n",
    "    n_K1_S1 = p.map(Hill_S1_mp,result_Erk)\n",
    "    n_K1_S1_noEph = p.map(Hill_S1_mp,result_Erk_noEph)"
   ]
  },
  {
   "cell_type": "markdown",
   "metadata": {},
   "source": [
    "Erk as a function of [FGF], S1 for different values of K2"
   ]
  },
  {
   "cell_type": "code",
   "execution_count": 25,
   "metadata": {},
   "outputs": [],
   "source": [
    "F_temp = np.logspace(-3,4,n_Ftemp)\n",
    "params= []\n",
    "for i in range(len(K2_temp)): \n",
    "    params.append((F_temp, 'K2_v', K2_temp[i]))\n",
    "\n",
    "if __name__ == '__main__': \n",
    "    p = mp.Pool()\n",
    "    # Compute T\n",
    "    result_T = p.map(T_F, params)\n",
    "    result_T_noEph = p.map(T_F_noEph, params)\n",
    "    # Compute Erk\n",
    "    result_Erk = p.map(Erk_mp, result_T)\n",
    "    result_Erk_noEph = p.map(Erk_mp, result_T_noEph)\n",
    "    # Compute the Hill coefficients\n",
    "    n_K2_F = p.map(Hill_F_mp,result_Erk)\n",
    "    n_K2_F_noEph = p.map(Hill_F_mp,result_Erk_noEph)"
   ]
  },
  {
   "cell_type": "code",
   "execution_count": 26,
   "metadata": {},
   "outputs": [],
   "source": [
    "S1_temp= np.logspace(-3,LogS1star[0],n_Stemp)\n",
    "params= []\n",
    "for i in range(len(K2_temp)): \n",
    "    params.append((S1_temp, 'K2_v', K2_temp[i]))\n",
    "\n",
    "if __name__ == '__main__': \n",
    "    p = mp.Pool()\n",
    "    # Compute T\n",
    "    result_T = p.map(T_S1, params)\n",
    "    result_T_noEph = p.map(T_S1_noEph, params)\n",
    "    # Compute Erk\n",
    "    result_Erk = p.map(Erk_mp, result_T)\n",
    "    result_Erk_noEph = p.map(Erk_mp, result_T_noEph)\n",
    "    # Compute the Hill coefficients\n",
    "    n_K2_S1 = p.map(Hill_S1_mp,result_Erk)\n",
    "    n_K2_S1_noEph = p.map(Hill_S1_mp,result_Erk_noEph)\n"
   ]
  },
  {
   "cell_type": "markdown",
   "metadata": {},
   "source": [
    "Erk as a function of [FGF], S1 for different values of Vs"
   ]
  },
  {
   "cell_type": "code",
   "execution_count": 28,
   "metadata": {},
   "outputs": [],
   "source": [
    "F_temp = np.logspace(-3,6,n_Ftemp)\n",
    "params= []\n",
    "for i in range(len(Vs_temp)): \n",
    "    params.append((F_temp, 'Vs_v', Vs_temp[i]))\n",
    "\n",
    "if __name__ == '__main__': \n",
    "    p = mp.Pool()\n",
    "    # Compute T\n",
    "    result_T = p.map(T_F, params)\n",
    "    result_T_noEph = p.map(T_F_noEph, params)\n",
    "    # Compute Erk\n",
    "    result_Erk = p.map(Erk_mp, result_T)\n",
    "    result_Erk_noEph = p.map(Erk_mp, result_T_noEph)\n",
    "    # Compute the Hill coefficients\n",
    "    n_Vs_F = p.map(Hill_F_mp,result_Erk)\n",
    "    n_Vs_F_noEph = p.map(Hill_F_mp,result_Erk_noEph)"
   ]
  },
  {
   "cell_type": "code",
   "execution_count": 29,
   "metadata": {},
   "outputs": [],
   "source": [
    "S1_temp= np.logspace(-3,LogS1star[0],n_Stemp)\n",
    "params= []\n",
    "for i in range(len(Vs_temp)): \n",
    "    params.append((S1_temp, 'Vs_v', Vs_temp[i]))\n",
    "\n",
    "if __name__ == '__main__': \n",
    "    p = mp.Pool()\n",
    "    # Compute T\n",
    "    result_T = p.map(T_S1, params)\n",
    "    result_T_noEph = p.map(T_S1_noEph, params)\n",
    "    # Compute Erk\n",
    "    result_Erk = p.map(Erk_mp, result_T)\n",
    "    result_Erk_noEph = p.map(Erk_mp, result_T_noEph)\n",
    "    # Compute the Hill coefficients\n",
    "    n_Vs_S1 = p.map(Hill_S1_mp,result_Erk)\n",
    "    n_Vs_S1_noEph = p.map(Hill_S1_mp,result_Erk_noEph)\n"
   ]
  },
  {
   "cell_type": "markdown",
   "metadata": {},
   "source": [
    "Erk as a function of [FGF], S1 for different values of Ks"
   ]
  },
  {
   "cell_type": "code",
   "execution_count": 31,
   "metadata": {},
   "outputs": [],
   "source": [
    "F_temp = np.logspace(-6,5,n_Ftemp)\n",
    "params= []\n",
    "for i in range(len(Ks_temp)): \n",
    "    params.append((F_temp, 'Ks_v', Ks_temp[i]))\n",
    "\n",
    "if __name__ == '__main__': \n",
    "    p = mp.Pool()\n",
    "    # Compute T\n",
    "    result_T = p.map(T_F, params)\n",
    "    result_T_noEph = p.map(T_F_noEph, params)\n",
    "    # Compute Erk\n",
    "    result_Erk = p.map(Erk_mp, result_T)\n",
    "    result_Erk_noEph = p.map(Erk_mp, result_T_noEph)\n",
    "    # Compute the Hill coefficients\n",
    "    n_Ks_F = p.map(Hill_F_mp,result_Erk)\n",
    "    n_Ks_F_noEph = p.map(Hill_F_mp,result_Erk_noEph)"
   ]
  },
  {
   "cell_type": "code",
   "execution_count": 32,
   "metadata": {},
   "outputs": [],
   "source": [
    "S1_temp= np.logspace(-6,LogS1star[0],n_Stemp)\n",
    "params= []\n",
    "for i in range(len(Ks_temp)): \n",
    "    params.append((S1_temp, 'Ks_v', Ks_temp[i]))\n",
    "\n",
    "if __name__ == '__main__': \n",
    "    p = mp.Pool()\n",
    "    # Compute T\n",
    "    result_T = p.map(T_S1, params)\n",
    "    result_T_noEph = p.map(T_S1_noEph, params)\n",
    "    # Compute Erk\n",
    "    result_Erk = p.map(Erk_mp, result_T)\n",
    "    result_Erk_noEph = p.map(Erk_mp, result_T_noEph)\n",
    "    # Compute the Hill coefficients\n",
    "    n_Ks_S1 = p.map(Hill_S1_mp,result_Erk)\n",
    "    n_Ks_S1_noEph = p.map(Hill_S1_mp,result_Erk_noEph)"
   ]
  },
  {
   "cell_type": "markdown",
   "metadata": {},
   "source": [
    "Erk as a function of [FGF], S1 for different values of Krg"
   ]
  },
  {
   "cell_type": "code",
   "execution_count": 34,
   "metadata": {},
   "outputs": [],
   "source": [
    "F_temp = np.logspace(-3,5,n_Ftemp)\n",
    "params= []\n",
    "for i in range(len(Krg_temp)): \n",
    "    params.append((F_temp, 'Krg_v', Krg_temp[i]))\n",
    "\n",
    "if __name__ == '__main__': \n",
    "    p = mp.Pool()\n",
    "    # Compute T\n",
    "    result_T = p.map(T_F, params)\n",
    "    result_T_noEph = p.map(T_F_noEph, params)\n",
    "    # Compute Erk\n",
    "    result_Erk = p.map(Erk_mp, result_T)\n",
    "    result_Erk_noEph = p.map(Erk_mp, result_T_noEph)\n",
    "    # Compute the Hill coefficients\n",
    "    n_Krg_F = p.map(Hill_F_mp,result_Erk)\n",
    "    n_Krg_F_noEph = p.map(Hill_F_mp,result_Erk_noEph)"
   ]
  },
  {
   "cell_type": "code",
   "execution_count": 35,
   "metadata": {},
   "outputs": [],
   "source": [
    "S1_temp= np.logspace(-3,LogS1star[0],n_Stemp)\n",
    "params= []\n",
    "for i in range(len(Krg_temp)): \n",
    "    params.append((S1_temp, 'Krg_v', Krg_temp[i]))\n",
    "\n",
    "if __name__ == '__main__': \n",
    "    p = mp.Pool()\n",
    "    # Compute T\n",
    "    result_T = p.map(T_S1, params)\n",
    "    result_T_noEph = p.map(T_S1_noEph, params)\n",
    "    # Compute Erk\n",
    "    result_Erk = p.map(Erk_mp, result_T)\n",
    "    result_Erk_noEph = p.map(Erk_mp, result_T_noEph)\n",
    "    # Compute the Hill coefficients\n",
    "    n_Krg_S1 = p.map(Hill_S1_mp,result_Erk)\n",
    "    n_Krg_S1_noEph = p.map(Hill_S1_mp,result_Erk_noEph)"
   ]
  },
  {
   "cell_type": "code",
   "execution_count": 80,
   "metadata": {},
   "outputs": [],
   "source": [
    "# Compute the difference: n[Erk(S1)] - n[Erk(FGF)]  \n",
    "diff_Kb = np.array(n_Kb_S1) - np.array(n_Kb_F)\n",
    "diff_Kd = np.array(n_Kd_S1) - np.array(n_Kd_F)\n",
    "diff_Ke = np.array(n_Ke_S1) - np.array(n_Ke_F)\n",
    "diff_Ks = np.array(n_Ks_S1) - np.array(n_Ks_F)\n",
    "diff_Krg = np.array(n_Krg_S1) - np.array(n_Krg_F)\n",
    "diff_K1 = np.array(n_K1_S1) - np.array(n_K1_F)\n",
    "diff_K2 = np.array(n_K2_S1) - np.array(n_K2_F)\n",
    "diff_Vs = np.array(n_Vs_S1) - np.array(n_Vs_F)\n",
    "diff_Vrg = np.array(n_Vrg_S1) - np.array(n_Vrg_F)\n",
    "\n",
    "# Combine all the data in a single array \n",
    "data_01_5B= np.stack((diff_Kb, diff_K1, diff_K2, diff_Vs, diff_Vrg) , axis=-1)\n",
    "data_02000_5B= np.stack((diff_Ks, diff_Krg, diff_Kd, diff_Ke) , axis=-1)\n",
    "\n",
    "# Save the data in a .txt file \n",
    "np.savetxt('results_01_5B.txt', data_01_5B)\n",
    "np.savetxt('results_02000_5B.txt', data_02000_5B)"
   ]
  },
  {
   "cell_type": "code",
   "execution_count": 81,
   "metadata": {},
   "outputs": [],
   "source": [
    "# Compute the difference: n[Erk]eph - n[Erk]noEph  (Erk[S1])\n",
    "diff_Kb_S1 = np.array(n_Kb_S1) - np.array(n_Kb_S1_noEph)\n",
    "diff_Kd_S1 = np.array(n_Kd_S1) - np.array(n_Kd_S1_noEph)\n",
    "diff_Ke_S1 = np.array(n_Ke_S1) - np.array(n_Ke_S1_noEph)\n",
    "diff_Ks_S1 = np.array(n_Ks_S1) - np.array(n_Ks_S1_noEph)\n",
    "diff_Krg_S1 = np.array(n_Krg_S1) - np.array(n_Krg_S1_noEph)\n",
    "diff_K1_S1 = np.array(n_K1_S1) - np.array(n_K1_S1_noEph)\n",
    "diff_K2_S1 = np.array(n_K2_S1) - np.array(n_K2_S1_noEph)\n",
    "diff_Vs_S1 = np.array(n_Vs_S1) - np.array(n_Vs_S1_noEph)\n",
    "diff_Vrg_S1 = np.array(n_Vrg_S1) - np.array(n_Vrg_S1_noEph)\n",
    "\n",
    "# Combine all the data in a single array \n",
    "data_01_5D= np.stack((diff_Kb_S1, diff_K1_S1, diff_K2_S1, diff_Vs_S1, diff_Vrg_S1) , axis=-1)\n",
    "data_02000_5D= np.stack((diff_Ks_S1, diff_Krg_S1, diff_Kd_S1, diff_Ke_S1) , axis=-1)\n",
    "\n",
    "# Save the data in a .txt file \n",
    "np.savetxt('results_01_5D.txt', data_01_5D)\n",
    "np.savetxt('results_02000_5D.txt', data_02000_5D)"
   ]
  },
  {
   "cell_type": "code",
   "execution_count": 83,
   "metadata": {},
   "outputs": [],
   "source": [
    "# Compute the difference: n[Erk]eph - n[Erk]noEph  (Erk[FGF])\n",
    "diff_Kb_F = np.array(n_Kb_F) - np.array(n_Kb_F_noEph)\n",
    "diff_Kd_F = np.array(n_Kd_F) - np.array(n_Kd_F_noEph)\n",
    "diff_Ke_F = np.array(n_Ke_F) - np.array(n_Ke_F_noEph)\n",
    "diff_Ks_F = np.array(n_Ks_F) - np.array(n_Ks_F_noEph)\n",
    "diff_Krg_F = np.array(n_Krg_F) -np.array(n_Krg_F_noEph)\n",
    "diff_K1_F = np.array(n_K1_F) - np.array(n_K1_F_noEph)\n",
    "diff_K2_F = np.array(n_K2_F) - np.array(n_K2_F_noEph)\n",
    "diff_Vs_F = np.array(n_Vs_F) - np.array(n_Vs_F_noEph)\n",
    "diff_Vrg_F = np.array(n_Vrg_F) -np.array(n_Vrg_F_noEph)\n",
    "\n",
    "# Combine all the data in a single array \n",
    "data_01_5E= np.stack((diff_Kb_F, diff_K1_F, diff_K2_F, diff_Vs_F, diff_Vrg_F), axis=-1)\n",
    "data_02000_5E= np.stack((diff_Ks_F, diff_Krg_F, diff_Kd_F, diff_Ke_F), axis=-1)\n",
    "\n",
    "# Save the data in a .txt file \n",
    "np.savetxt('results_01_5E.txt', data_01_5E)\n",
    "np.savetxt('results_02000_5E.txt', data_02000_5E)"
   ]
  },
  {
   "cell_type": "markdown",
   "metadata": {},
   "source": [
    "## Heat maps"
   ]
  },
  {
   "cell_type": "code",
   "execution_count": 8,
   "metadata": {},
   "outputs": [],
   "source": [
    "# Define the colormap\n",
    "import matplotlib.colors as mcolors\n",
    "\n",
    "# sample the colormaps that you want to use. Use 128 from each so we get 256 colors in total\n",
    "colors1 = plt.cm.Blues_r(np.linspace(0., 0.8, 128))\n",
    "colors2 = plt.cm.Reds(np.linspace(0,1,128))\n",
    "\n",
    "# combine them and build a new colormap\n",
    "colors = np.vstack((colors1, colors2))\n",
    "mymap = mcolors.LinearSegmentedColormap.from_list('my_colormap', colors)"
   ]
  },
  {
   "cell_type": "markdown",
   "metadata": {},
   "source": [
    "### Figure 5B"
   ]
  },
  {
   "cell_type": "code",
   "execution_count": 12,
   "metadata": {},
   "outputs": [
    {
     "data": {
      "image/png": "[encoded data removed]",
      "text/plain": [
       "<Figure size 576x288 with 2 Axes>"
      ]
     },
     "metadata": {
      "needs_background": "light"
     },
     "output_type": "display_data"
    },
    {
     "data": {
      "image/png": "[encoded data removed]",
      "text/plain": [
       "<Figure size 576x288 with 2 Axes>"
      ]
     },
     "metadata": {
      "needs_background": "light"
     },
     "output_type": "display_data"
    }
   ],
   "source": [
    "# Load the data \n",
    "data_01_5B_load = np.loadtxt('results_01_5B.txt')\n",
    "data_02000_5B_load = np.loadtxt('results_02000_5B.txt')\n",
    "\n",
    "# Create the heatmap\n",
    "\n",
    "# Left panel: Parameters from 0 to 1\n",
    "Min= -0.4 \n",
    "Max= max_array(data_02000_5B_load)\n",
    "\n",
    "fig = plt.figure(figsize=(8,4))\n",
    "axs = fig.gca()\n",
    "myHeatmap(data_01_5B_load,Min,Max, axs, label='$n_H[Erk(S_1)]-n_H[Erk([FGF])]$')\n",
    "\n",
    "axs.add_patch(Rectangle((0, 9), 1, 2, fill=False, edgecolor='black', lw=1))\n",
    "axs.add_patch(Rectangle((1, 24), 1, 2, fill=False, edgecolor='black', lw=1))\n",
    "axs.add_patch(Rectangle((2, 9), 1, 2, fill=False, edgecolor='black', lw=1))\n",
    "axs.add_patch(Rectangle((3, 48), 1, 2, fill=False, edgecolor='black', lw=1))\n",
    "axs.add_patch(Rectangle((4, 19), 1, 2, fill=False, edgecolor='black', lw=1,clip_on=False))\n",
    "\n",
    "axs.set_ylabel('Parameter range')\n",
    "axs.set_xticks([0.5,1.5,2.5,3.5, 4.5])\n",
    "axs.set_xticklabels(['Kb','K1','K2','Vs', 'Vrg'])\n",
    "axs.set_yticks([0,10,20, 30, 40, 50])\n",
    "axs.set_yticklabels(['0','0.2','0.4', '0.6', '0.8', '1'],rotation = 0)\n",
    "axs.invert_yaxis()\n",
    "plt.tight_layout()\n",
    "plt.show()\n",
    "\n",
    "# Right panel: Parameters from 0 to 2000\n",
    "Min= -0.4 \n",
    "Max= max_array(data_02000_5B_load)\n",
    "\n",
    "fig = plt.figure(figsize=(8,4))\n",
    "axs = fig.gca()\n",
    "myHeatmap(data_02000_5B_load,Min,Max, axs,label='$n_H[Erk(S_1)]-n_H[Erk([FGF])]$')\n",
    "\n",
    "axs.add_patch(Rectangle((0, 29), 1, 2, fill=False, edgecolor='black', lw=1))\n",
    "axs.add_patch(Rectangle((1, 29), 1, 2, fill=False, edgecolor='black', lw=1))\n",
    "axs.add_patch(Rectangle((2, 0), 1, 2, fill=False, edgecolor='black', lw=1, clip_on=False))\n",
    "axs.add_patch(Rectangle((3, 1), 1, 2, fill=False, edgecolor='black', lw=1, clip_on=False))\n",
    "\n",
    "axs.set_ylabel('Parameter range')\n",
    "axs.set_xticks([0.5,1.5,2.5,3.5])\n",
    "axs.set_xticklabels(['Ks','Krg','Kd','Ke'])\n",
    "axs.set_yticks([0,10,20, 30, 40, 50])\n",
    "axs.set_yticklabels(['0','400','800', '1200', '1600', '2000'],rotation = 0)\n",
    "axs.invert_yaxis()\n",
    "plt.tight_layout()\n",
    "plt.show()"
   ]
  },
  {
   "cell_type": "markdown",
   "metadata": {},
   "source": [
    "### Figure 5D"
   ]
  },
  {
   "cell_type": "code",
   "execution_count": 13,
   "metadata": {
    "scrolled": false
   },
   "outputs": [
    {
     "data": {
      "image/png": "[encoded data removed]",
      "text/plain": [
       "<Figure size 576x288 with 2 Axes>"
      ]
     },
     "metadata": {
      "needs_background": "light"
     },
     "output_type": "display_data"
    },
    {
     "data": {
      "image/png": "[encoded data removed]",
      "text/plain": [
       "<Figure size 576x288 with 2 Axes>"
      ]
     },
     "metadata": {
      "needs_background": "light"
     },
     "output_type": "display_data"
    }
   ],
   "source": [
    "# Load the data \n",
    "data_01_5D_load = np.loadtxt('results_01_5D.txt')\n",
    "data_02000_5D_load = np.loadtxt('results_02000_5D.txt')\n",
    "\n",
    "# Create the heatmap\n",
    "\n",
    "# Left panel: Parameters from 0 to 1\n",
    "Min= - 1 \n",
    "Max= max_array(data_02000_5D_load)\n",
    "\n",
    "fig = plt.figure(figsize=(8,4))\n",
    "axs = fig.gca()\n",
    "myHeatmap(data_01_5D_load,Min,Max, axs, label='$n_H[Erk(S_1)]_{eph}-n_H[Erk(S_1)]_{no eph}$')\n",
    "\n",
    "axs.add_patch(Rectangle((0, 9), 1, 2, fill=False, edgecolor='black', lw=1))\n",
    "axs.add_patch(Rectangle((1, 24), 1, 2, fill=False, edgecolor='black', lw=1))\n",
    "axs.add_patch(Rectangle((2, 9), 1, 2, fill=False, edgecolor='black', lw=1))\n",
    "axs.add_patch(Rectangle((3, 48), 1, 2, fill=False, edgecolor='black', lw=1))\n",
    "axs.add_patch(Rectangle((4, 19), 1, 2, fill=False, edgecolor='black', lw=1,clip_on=False))\n",
    "\n",
    "axs.set_ylabel('Parameter range')\n",
    "axs.set_xticks([0.5,1.5,2.5,3.5, 4.5])\n",
    "axs.set_xticklabels(['Kb','K1','K2','Vs', 'Vrg'])\n",
    "axs.set_yticks([0,10,20, 30, 40, 50])\n",
    "axs.set_yticklabels(['0','0.2','0.4', '0.6', '0.8', '1'],rotation = 0)\n",
    "axs.invert_yaxis()\n",
    "plt.tight_layout()\n",
    "plt.show()\n",
    "\n",
    "# Rigth panel: Parameters from 0 to 2000\n",
    "Min= - 1 \n",
    "Max= max_array(data_02000_5D_load)\n",
    "\n",
    "fig = plt.figure(figsize=(8,4))\n",
    "axs = fig.gca()\n",
    "myHeatmap(data_02000_5D_load,Min,Max, axs,label='$n_H[Erk(S_1)]_{eph}-n_H[Erk(S_1)]_{no eph}$')\n",
    "\n",
    "axs.add_patch(Rectangle((0, 29), 1, 2, fill=False, edgecolor='black', lw=1))\n",
    "axs.add_patch(Rectangle((1, 29), 1, 2, fill=False, edgecolor='black', lw=1))\n",
    "axs.add_patch(Rectangle((2, 0), 1, 2, fill=False, edgecolor='black', lw=1, clip_on=False))\n",
    "axs.add_patch(Rectangle((3, 1), 1, 2, fill=False, edgecolor='black', lw=1, clip_on=False))\n",
    "\n",
    "axs.set_ylabel('Parameter range')\n",
    "axs.set_xticks([0.5,1.5,2.5,3.5])\n",
    "axs.set_xticklabels(['Ks','Krg','Kd','Ke'])\n",
    "axs.set_yticks([0,10,20, 30, 40, 50])\n",
    "axs.set_yticklabels(['0','400','800', '1200', '1600', '2000'],rotation = 0)\n",
    "axs.invert_yaxis()\n",
    "plt.tight_layout()\n",
    "plt.show()"
   ]
  },
  {
   "cell_type": "markdown",
   "metadata": {},
   "source": [
    "### Figure 5E"
   ]
  },
  {
   "cell_type": "code",
   "execution_count": 14,
   "metadata": {},
   "outputs": [
    {
     "data": {
      "image/png": "[encoded data removed]",
      "text/plain": [
       "<Figure size 576x288 with 2 Axes>"
      ]
     },
     "metadata": {
      "needs_background": "light"
     },
     "output_type": "display_data"
    },
    {
     "data": {
      "image/png": "[encoded data removed]",
      "text/plain": [
       "<Figure size 576x288 with 2 Axes>"
      ]
     },
     "metadata": {
      "needs_background": "light"
     },
     "output_type": "display_data"
    }
   ],
   "source": [
    "# Load the data \n",
    "data_01_5E_load = np.loadtxt('results_01_5E.txt')\n",
    "data_02000_5E_load = np.loadtxt('results_02000_5E.txt')\n",
    "\n",
    "# Create the heatmap\n",
    "\n",
    "# Left panel: Parameters from 0 to 1\n",
    "Min= - 0.3\n",
    "Max= 2 \n",
    "\n",
    "fig = plt.figure(figsize=(8,4))\n",
    "axs = fig.gca()\n",
    "myHeatmap(data_01_5E_load,Min,Max, axs, label='$n_H[Erk([FGF])]_{eph}-n_H[Erk([FGF])]_{no eph}$')\n",
    "\n",
    "axs.add_patch(Rectangle((0, 9), 1, 2, fill=False, edgecolor='black', lw=1))\n",
    "axs.add_patch(Rectangle((1, 24), 1, 2, fill=False, edgecolor='black', lw=1))\n",
    "axs.add_patch(Rectangle((2, 9), 1, 2, fill=False, edgecolor='black', lw=1))\n",
    "axs.add_patch(Rectangle((3, 48), 1, 2, fill=False, edgecolor='black', lw=1))\n",
    "axs.add_patch(Rectangle((4, 19), 1, 2, fill=False, edgecolor='black', lw=1,clip_on=False))\n",
    "\n",
    "axs.set_ylabel('Parameter range')\n",
    "axs.set_xticks([0.5,1.5,2.5,3.5, 4.5])\n",
    "axs.set_xticklabels(['Kb','K1','K2','Vs', 'Vrg'])\n",
    "axs.set_yticks([0,10,20, 30, 40, 50])\n",
    "axs.set_yticklabels(['0','0.2','0.4', '0.6', '0.8', '1'],rotation = 0)\n",
    "axs.invert_yaxis()\n",
    "plt.tight_layout()\n",
    "plt.show()\n",
    "\n",
    "# Rigth panel: Parameters from 0 to 2000\n",
    "Min= -0.3\n",
    "Max= 2 \n",
    "\n",
    "fig = plt.figure(figsize=(8,4))\n",
    "axs = fig.gca()\n",
    "myHeatmap(data_02000_5E_load,Min,Max, axs,label='$n_H[Erk([FGF])]_{eph}-n_H[Erk([FGF])]_{no eph}$')\n",
    "\n",
    "axs.add_patch(Rectangle((0, 29), 1, 2, fill=False, edgecolor='black', lw=1))\n",
    "axs.add_patch(Rectangle((1, 29), 1, 2, fill=False, edgecolor='black', lw=1))\n",
    "axs.add_patch(Rectangle((2, 0), 1, 2, fill=False, edgecolor='black', lw=1, clip_on=False))\n",
    "axs.add_patch(Rectangle((3, 1), 1, 2, fill=False, edgecolor='black', lw=1, clip_on=False))\n",
    "\n",
    "axs.set_ylabel('Parameter range')\n",
    "axs.set_xticks([0.5,1.5,2.5,3.5])\n",
    "axs.set_xticklabels(['Ks','Krg','Kd','Ke'])\n",
    "axs.set_yticks([0,10,20, 30, 40, 50])\n",
    "axs.set_yticklabels(['0','400','800', '1200', '1600', '2000'],rotation = 0)\n",
    "axs.invert_yaxis()\n",
    "plt.tight_layout()\n",
    "plt.show()"
   ]
  },
  {
   "cell_type": "code",
   "execution_count": null,
   "metadata": {},
   "outputs": [],
   "source": []
  }
 ],
 "metadata": {
  "kernelspec": {
   "display_name": "Python 3",
   "language": "python",
   "name": "python3"
  },
  "language_info": {
   "codemirror_mode": {
    "name": "ipython",
    "version": 3
   },
   "file_extension": ".py",
   "mimetype": "text/x-python",
   "name": "python",
   "nbconvert_exporter": "python",
   "pygments_lexer": "ipython3",
   "version": "3.8.5"
  }
 },
 "nbformat": 4,
 "nbformat_minor": 4
}
