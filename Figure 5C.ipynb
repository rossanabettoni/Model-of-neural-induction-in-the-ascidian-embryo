{
 "cells": [
  {
   "cell_type": "markdown",
   "metadata": {},
   "source": [
    "# Figure 5C"
   ]
  },
  {
   "cell_type": "markdown",
   "metadata": {},
   "source": [
    "The code takes a long time to run. To reproduce the figures (without re-running all the code) is sufficient to run the section 'Figure 5C: Heat maps'"
   ]
  },
  {
   "cell_type": "markdown",
   "metadata": {},
   "source": [
    "# Import packages "
   ]
  },
  {
   "cell_type": "code",
   "execution_count": 2,
   "metadata": {},
   "outputs": [],
   "source": [
    "import numpy as np\n",
    "import matplotlib\n",
    "import matplotlib.pyplot as plt \n",
    "from scipy.integrate import odeint\n",
    "from sympy import symbols, solve, simplify\n",
    "import seaborn as sb\n",
    "import pandas as pd\n",
    "from scipy.optimize import curve_fit\n",
    "plt.rcParams.update({'font.size': 20})\n",
    "from matplotlib.patches import Rectangle\n",
    "import multiprocess as mp"
   ]
  },
  {
   "cell_type": "markdown",
   "metadata": {},
   "source": [
    "# Definitions"
   ]
  },
  {
   "cell_type": "markdown",
   "metadata": {},
   "source": [
    "Function to plot the heatmap"
   ]
  },
  {
   "cell_type": "code",
   "execution_count": 4,
   "metadata": {},
   "outputs": [],
   "source": [
    "# My Heatmap\n",
    "def myHeatmap(data, Min, Max, axs, label): \n",
    "    sb.heatmap(data,cmap=mymap,fmt=\".4f\",vmin=Min, vmax=Max, cbar=True, ax=axs, xticklabels=False, yticklabels=10, cbar_kws={'label': label,\"orientation\": \"horizontal\"}, center=0)\n",
    "    \n",
    "# Find min and max values of the matrix\n",
    "def min_array(data):\n",
    "    min_temp = np.zeros(len(data))\n",
    "    for i in range(len(data)): \n",
    "        min_temp[i]= min(data[i,:])\n",
    "        \n",
    "    min_final= min(min_temp)\n",
    "    return min_final\n",
    "\n",
    "def max_array(data):\n",
    "    max_temp = np.zeros(len(data))\n",
    "    for i in range(len(data)): \n",
    "        max_temp[i]= max(data[i,:])\n",
    "        \n",
    "    max_final= max(max_temp)\n",
    "    return max_final"
   ]
  },
  {
   "cell_type": "markdown",
   "metadata": {},
   "source": [
    "# Model "
   ]
  },
  {
   "cell_type": "markdown",
   "metadata": {},
   "source": [
    "Definition of the parameters of the model"
   ]
  },
  {
   "cell_type": "code",
   "execution_count": 5,
   "metadata": {},
   "outputs": [],
   "source": [
    "T, V1, V2, K1, K2, Kb = symbols('T V1 V2 K1 K2 Kb') \n",
    "Vs, Rb, Ks, Vrg, Qb, Krg = symbols('Vs Rb Ks Vrg Qb Krg')\n",
    "R, F, Kd, Q, E, Ke = symbols('R F Kd Q E Ke')\n",
    "S1, Qtot, S2, Rtot= symbols('S1 Qtot S2 Rtot')"
   ]
  },
  {
   "cell_type": "markdown",
   "metadata": {},
   "source": [
    "The evolution equation for T"
   ]
  },
  {
   "cell_type": "code",
   "execution_count": 6,
   "metadata": {},
   "outputs": [
    {
     "name": "stdout",
     "output_type": "stream",
     "text": [
      "Evolution equation for T:\n",
      "-Kb*T - T*V2/(K2 + T) + V1*(1 - T)/(K1 - T + 1)\n"
     ]
    }
   ],
   "source": [
    "# Evolution equation for T: \n",
    "expr = V1*(1-T)/(K1+(1-T))-V2*T/(K2+T)-Kb*T\n",
    "expr_simplified= V1*(1-T)*(K2+T) -V2*T*(K1+(1-T))-Kb*T*(K1+(1-T))*(K2+T)\n",
    "print('Evolution equation for T:')\n",
    "print(expr)\n",
    "\n",
    "# Substitute the expression for V1 and V2 in the evolution equation for T:  \n",
    "expr_RQ= expr_simplified.subs([(V1, Vs*(R*F/(Kd+F))/(Ks+(R*F/(Kd+F)))),(V2, Vrg*(Q*E/(Ke+E))/(Krg+(Q*E/(Ke+E))))])\n",
    "\n",
    "# Substitute the expressions for Q and R\n",
    "expr_S1S2 = expr_RQ.subs([(R, Rtot*S1),(Q, Qtot*S2)])\n",
    "\n",
    "# Expliciting the relation between S1 and S2 so that I obtain T(FGF, S1): \n",
    "expr_T = expr_S1S2.subs([(S1,-0.8877*S2 +0.8071)])\n",
    "\n",
    "# Solve the equation \n",
    "sol = solve(expr_T, T)[2]"
   ]
  },
  {
   "cell_type": "markdown",
   "metadata": {},
   "source": [
    "Definition of the function ExprT that compute T as a function of all the parameters of the equation"
   ]
  },
  {
   "cell_type": "code",
   "execution_count": 7,
   "metadata": {},
   "outputs": [],
   "source": [
    "# The value of S2 corresponding to S1=0.3\n",
    "#S2 = -1.1265*0.3 +0.9092"
   ]
  },
  {
   "cell_type": "code",
   "execution_count": 8,
   "metadata": {},
   "outputs": [],
   "source": [
    "def exprT(Vs_v=1, Vrg_v=0.4, K1_v=0.5, K2_v=0.2, Krg_v=1200, Ks_v=1200, Kb_v=0.2, F_v=5, Kd_v=25, E_v=5, Ke_v=50, Rtot_v=2000, Qtot_v=2000, S2_v= 0.57125):\n",
    "    sol_T = sol.subs([(Vs,Vs_v),(Vrg,Vrg_v),(K1, K1_v),(K2,K2_v),(Krg, Krg_v), (Ks, Ks_v), (Kb, Kb_v),(F, F_v),(Kd, Kd_v),(E,E_v), (Ke, Ke_v),(Rtot, Rtot_v),(Qtot,Qtot_v),(S2,S2_v)])\n",
    "    sol_T = np.real(np.array(sol_T,complex))\n",
    "    return sol_T"
   ]
  },
  {
   "cell_type": "markdown",
   "metadata": {},
   "source": [
    "Definition of the function to compute Erk (as a function of T):"
   ]
  },
  {
   "cell_type": "code",
   "execution_count": 9,
   "metadata": {},
   "outputs": [],
   "source": [
    "def Erk(T,n=2, Kerk=0.5, Erk_max=1, Erk_bas=0): \n",
    "    Erk = [ Erk_max* T[i]**n/(T[i]**n +Kerk**n)+Erk_bas for i in range(len(T)) ]\n",
    "    return Erk"
   ]
  },
  {
   "cell_type": "markdown",
   "metadata": {},
   "source": [
    "# Results"
   ]
  },
  {
   "cell_type": "code",
   "execution_count": 10,
   "metadata": {},
   "outputs": [
    {
     "name": "stdout",
     "output_type": "stream",
     "text": [
      "S2*= 0.909203559761181\n"
     ]
    }
   ],
   "source": [
    "# Definition of the parameters \n",
    "Kb_temp= np.linspace(0.01,1,50)\n",
    "Kd_temp=  np.linspace(1,2000,50)\n",
    "Ke_temp=  np.linspace(1,2000,50)\n",
    "Ks_temp=  np.linspace(1,2000,50)\n",
    "Krg_temp= np.linspace(1,2000,50)\n",
    "K2_temp= np.linspace(0.01,1,50)\n",
    "K1_temp= np.linspace(0.01,1,50)\n",
    "Vrg_temp= np.linspace(0.01,1,50)\n",
    "Vs_temp= np.linspace(0.01,1,50)\n",
    "\n",
    "n_Etemp = 50\n",
    "n_Stemp = 50\n",
    "\n",
    "# Compute S2*: \n",
    "S2_star = np.array(solve(-0.8877*S2 +0.8071, S2))\n",
    "print('S2*=', S2_star[0])\n",
    "LogS2star = np.log10(S2_star.astype(float))\n",
    "\n",
    "E_temp = np.logspace(-2,5,n_Etemp ) \n",
    "S2_temp= np.logspace(-3,0,n_Stemp) "
   ]
  },
  {
   "cell_type": "code",
   "execution_count": 11,
   "metadata": {},
   "outputs": [],
   "source": [
    "parameter_names = ['Vs_v','Vrg_v','Ks_v','Krg_v','K1_v','K2_v','Kd_v','Ke_v','Rtot_v','Qtot_v','Kb_v']\n",
    "parameter_values_standard = [1,0.4,1200, 1200, 0.5,0.2,25,50,2000,2000,0.2]\n",
    "param = dict(zip(parameter_names,parameter_values_standard))\n",
    "\n",
    "# Define the functions \n",
    "def T_E(x_param):\n",
    "    x, param_name, param_value= x_param\n",
    "    param_temp = dict(zip(parameter_names,parameter_values_standard))\n",
    "    param_temp[param_name] = param_value\n",
    "    T_temp_E_mp = np.array([exprT(F_v =5, S2_v= 0.57125,E_v =x[i], **param_temp) for i in range(len(x))])\n",
    "    return T_temp_E_mp\n",
    "\n",
    "def T_S2(x_param):\n",
    "    x, param_name, param_value= x_param\n",
    "    param_temp = dict(zip(parameter_names,parameter_values_standard))\n",
    "    param_temp[param_name] = param_value\n",
    "    T_temp_S1_mp = np.array([exprT(F_v =5, S2_v= x[i], E_v =5, **param_temp) for i in range(len(x))])\n",
    "    return T_temp_S1_mp\n",
    "\n",
    "def Erk_mp(T_temp):\n",
    "    Erk_v = Erk(T_temp)\n",
    "    return Erk_v\n",
    "\n",
    "def model_meno(x, a, b,c):\n",
    "    return - c*x**a/(x**a+b**a) \n",
    "\n",
    "def Hill_E_mp(y): \n",
    "    x = E_temp\n",
    "    z= y-min(y)\n",
    "    zR= z/max(z)-1\n",
    "    popt, _ = curve_fit(model_meno, x, zR, bounds=((0,0,0),(10,5000,10)))\n",
    "    a,b,c = popt  \n",
    "    return round(a,2)\n",
    "\n",
    "def Hill_S2_mp(y): \n",
    "    x = S2_temp\n",
    "    z= y-min(y)\n",
    "    zR= z/max(z)-1\n",
    "    popt, _ = curve_fit(model_meno, x, zR, bounds=((0,0,0),(10,10,10)))\n",
    "    a,b,c = popt  \n",
    "    return round(a,2)"
   ]
  },
  {
   "cell_type": "markdown",
   "metadata": {},
   "source": [
    "Erk as a function of [ephrin], S2 for different values of Vrg¶"
   ]
  },
  {
   "cell_type": "code",
   "execution_count": 11,
   "metadata": {},
   "outputs": [],
   "source": [
    "E_temp = np.logspace(-3,5,n_Etemp ) \n",
    "params= []\n",
    "for i in range(len(Vrg_temp)): \n",
    "    params.append((E_temp, 'Vrg_v', Vrg_temp[i]))\n",
    "\n",
    "if __name__ == '__main__': \n",
    "    p = mp.Pool()\n",
    "    # Compute T\n",
    "    result_T = p.map(T_E, params)\n",
    "    # Compute Erk\n",
    "    result_Erk = p.map(Erk_mp, result_T)\n",
    "    # Compute the Hill coefficient\n",
    "    n_Vrg_E = p.map(Hill_E_mp,result_Erk)"
   ]
  },
  {
   "cell_type": "code",
   "execution_count": 12,
   "metadata": {},
   "outputs": [],
   "source": [
    "S2_temp= np.logspace(-3,0,n_Stemp)\n",
    "params= []\n",
    "for i in range(len(Vrg_temp)): \n",
    "    params.append((S2_temp, 'Vrg_v', Vrg_temp[i]))\n",
    "\n",
    "if __name__ == '__main__': \n",
    "    p = mp.Pool()\n",
    "    # Compute T\n",
    "    result_T = p.map(T_S2, params)\n",
    "    # Compute Erk\n",
    "    result_Erk = p.map(Erk_mp, result_T)\n",
    "    # Compute the Hill coefficient\n",
    "    n_Vrg_S2 = p.map(Hill_S2_mp,result_Erk)"
   ]
  },
  {
   "cell_type": "markdown",
   "metadata": {},
   "source": [
    "Erk as a function of [ephrin], S2 for different values of Kb"
   ]
  },
  {
   "cell_type": "code",
   "execution_count": 66,
   "metadata": {},
   "outputs": [],
   "source": [
    "E_temp = np.logspace(-2,5,n_Etemp ) \n",
    "params= []\n",
    "for i in range(len(Kb_temp)): \n",
    "    params.append((E_temp, 'Kb_v', Kb_temp[i]))\n",
    "\n",
    "if __name__ == '__main__': \n",
    "    p = mp.Pool()\n",
    "    # Compute T\n",
    "    result_T = p.map(T_E, params)\n",
    "    # Compute Erk\n",
    "    result_Erk = p.map(Erk_mp, result_T)\n",
    "    # Compute the Hill coefficient\n",
    "    n_Kb_E = p.map(Hill_E_mp,result_Erk)"
   ]
  },
  {
   "cell_type": "code",
   "execution_count": 67,
   "metadata": {},
   "outputs": [],
   "source": [
    "S2_temp= np.logspace(-3,0,n_Stemp) \n",
    "params= []\n",
    "for i in range(len(Kb_temp)): \n",
    "    params.append((S2_temp, 'Kb_v', Kb_temp[i]))\n",
    "\n",
    "if __name__ == '__main__': \n",
    "    p = mp.Pool()\n",
    "    # Compute T\n",
    "    result_T = p.map(T_S2, params)\n",
    "    # Compute Erk\n",
    "    result_Erk = p.map(Erk_mp, result_T)\n",
    "    # Compute the Hill coefficient\n",
    "    n_Kb_S2 = p.map(Hill_S2_mp,result_Erk)"
   ]
  },
  {
   "cell_type": "markdown",
   "metadata": {},
   "source": [
    "Erk as a function of [ephrin], S2 for different values of Kd"
   ]
  },
  {
   "cell_type": "code",
   "execution_count": 17,
   "metadata": {},
   "outputs": [],
   "source": [
    "E_temp = np.logspace(-2,5,n_Etemp ) \n",
    "params= []\n",
    "for i in range(len(Kd_temp)): \n",
    "    params.append((E_temp, 'Kd_v', Kd_temp[i]))\n",
    "\n",
    "if __name__ == '__main__': \n",
    "    p = mp.Pool()\n",
    "    # Compute T\n",
    "    result_T = p.map(T_E, params)\n",
    "    # Compute Erk\n",
    "    result_Erk = p.map(Erk_mp, result_T)\n",
    "    # Compute the Hill coefficient\n",
    "    n_Kd_E = p.map(Hill_E_mp,result_Erk)"
   ]
  },
  {
   "cell_type": "code",
   "execution_count": 18,
   "metadata": {},
   "outputs": [],
   "source": [
    "S2_temp= np.logspace(-3,0,n_Stemp) \n",
    "params= []\n",
    "for i in range(len(Kd_temp)): \n",
    "    params.append((S2_temp, 'Kd_v', Kd_temp[i]))\n",
    "\n",
    "if __name__ == '__main__': \n",
    "    p = mp.Pool()\n",
    "    # Compute T\n",
    "    result_T = p.map(T_S2, params)\n",
    "    # Compute Erk\n",
    "    result_Erk = p.map(Erk_mp, result_T)\n",
    "    # Compute the Hill coefficient\n",
    "    n_Kd_S2 = p.map(Hill_S2_mp,result_Erk)"
   ]
  },
  {
   "cell_type": "markdown",
   "metadata": {},
   "source": [
    "Erk as a function of [ephrin], S2 for different values of Ke"
   ]
  },
  {
   "cell_type": "code",
   "execution_count": 20,
   "metadata": {},
   "outputs": [],
   "source": [
    "E_temp = np.logspace(-4,5,n_Etemp ) \n",
    "params= []\n",
    "for i in range(len(Ke_temp)): \n",
    "    params.append((E_temp, 'Ke_v', Ke_temp[i]))\n",
    "\n",
    "if __name__ == '__main__': \n",
    "    p = mp.Pool()\n",
    "    # Compute T\n",
    "    result_T = p.map(T_E, params)\n",
    "    # Compute Erk\n",
    "    result_Erk = p.map(Erk_mp, result_T)\n",
    "    # Compute the Hill coefficient\n",
    "    n_Ke_E = p.map(Hill_E_mp,result_Erk)"
   ]
  },
  {
   "cell_type": "code",
   "execution_count": 21,
   "metadata": {},
   "outputs": [],
   "source": [
    "S2_temp= np.logspace(-3,0,n_Stemp)\n",
    "params= []\n",
    "for i in range(len(Ke_temp)): \n",
    "    params.append((S2_temp, 'Ke_v', Ke_temp[i]))\n",
    "\n",
    "if __name__ == '__main__': \n",
    "    p = mp.Pool()\n",
    "    # Compute T\n",
    "    result_T = p.map(T_S2, params)\n",
    "    # Compute Erk\n",
    "    result_Erk = p.map(Erk_mp, result_T)\n",
    "    # Compute the Hill coefficient\n",
    "    n_Ke_S2 = p.map(Hill_S2_mp,result_Erk)"
   ]
  },
  {
   "cell_type": "markdown",
   "metadata": {},
   "source": [
    "Erk as a function of [ephrin], S2 for different values of K1"
   ]
  },
  {
   "cell_type": "code",
   "execution_count": 23,
   "metadata": {},
   "outputs": [],
   "source": [
    "E_temp = np.logspace(-2,5,n_Etemp ) \n",
    "params= []\n",
    "for i in range(len(K1_temp)): \n",
    "    params.append((E_temp, 'K1_v', K1_temp[i]))\n",
    "\n",
    "if __name__ == '__main__': \n",
    "    p = mp.Pool()\n",
    "    # Compute T\n",
    "    result_T = p.map(T_E, params)\n",
    "    # Compute Erk\n",
    "    result_Erk = p.map(Erk_mp, result_T)\n",
    "    # Compute the Hill coefficient\n",
    "    n_K1_E = p.map(Hill_E_mp,result_Erk)"
   ]
  },
  {
   "cell_type": "code",
   "execution_count": 24,
   "metadata": {},
   "outputs": [],
   "source": [
    "S2_temp= np.logspace(-3,0,n_Stemp) \n",
    "params= []\n",
    "for i in range(len(K1_temp)): \n",
    "    params.append((S2_temp, 'K1_v', K1_temp[i]))\n",
    "\n",
    "if __name__ == '__main__': \n",
    "    p = mp.Pool()\n",
    "    # Compute T\n",
    "    result_T = p.map(T_S2, params)\n",
    "    # Compute Erk\n",
    "    result_Erk = p.map(Erk_mp, result_T)\n",
    "    # Compute the Hill coefficient\n",
    "    n_K1_S2 = p.map(Hill_S2_mp,result_Erk)"
   ]
  },
  {
   "cell_type": "markdown",
   "metadata": {},
   "source": [
    "Erk as a function of [ephrin], S2 for different values of K2"
   ]
  },
  {
   "cell_type": "code",
   "execution_count": 26,
   "metadata": {},
   "outputs": [],
   "source": [
    "E_temp = np.logspace(-4,5,n_Etemp ) \n",
    "params= []\n",
    "for i in range(len(K2_temp)): \n",
    "    params.append((E_temp, 'K2_v', K2_temp[i]))\n",
    "\n",
    "if __name__ == '__main__': \n",
    "    p = mp.Pool()\n",
    "    # Compute T\n",
    "    result_T = p.map(T_E, params)\n",
    "    # Compute Erk\n",
    "    result_Erk = p.map(Erk_mp, result_T)\n",
    "    # Compute the Hill coefficient\n",
    "    n_K2_E = p.map(Hill_E_mp,result_Erk)"
   ]
  },
  {
   "cell_type": "code",
   "execution_count": 27,
   "metadata": {},
   "outputs": [],
   "source": [
    "S2_temp= np.logspace(-3,0,n_Stemp)\n",
    "params= []\n",
    "for i in range(len(K2_temp)): \n",
    "    params.append((S2_temp, 'K2_v', K2_temp[i]))\n",
    "\n",
    "if __name__ == '__main__': \n",
    "    p = mp.Pool()\n",
    "    # Compute T\n",
    "    result_T = p.map(T_S2, params)\n",
    "    # Compute Erk\n",
    "    result_Erk = p.map(Erk_mp, result_T)\n",
    "    # Compute the Hill coefficient\n",
    "    n_K2_S2 = p.map(Hill_S2_mp,result_Erk)"
   ]
  },
  {
   "cell_type": "markdown",
   "metadata": {},
   "source": [
    "Erk as a function of [ephrin], S2 for different values of Vs"
   ]
  },
  {
   "cell_type": "code",
   "execution_count": 29,
   "metadata": {},
   "outputs": [],
   "source": [
    "E_temp = np.logspace(-3,5,n_Etemp ) \n",
    "params= []\n",
    "for i in range(len(Vs_temp)): \n",
    "    params.append((E_temp, 'Vs_v', Vs_temp[i]))\n",
    "\n",
    "if __name__ == '__main__': \n",
    "    p = mp.Pool()\n",
    "    # Compute T\n",
    "    result_T = p.map(T_E, params)\n",
    "    # Compute Erk\n",
    "    result_Erk = p.map(Erk_mp, result_T)\n",
    "    # Compute the Hill coefficient\n",
    "    n_Vs_E = p.map(Hill_E_mp,result_Erk)"
   ]
  },
  {
   "cell_type": "code",
   "execution_count": 30,
   "metadata": {},
   "outputs": [],
   "source": [
    "S2_temp= np.logspace(-3,0,n_Stemp) \n",
    "params= []\n",
    "for i in range(len(Vs_temp)): \n",
    "    params.append((S2_temp, 'Vs_v', Vs_temp[i]))\n",
    "\n",
    "if __name__ == '__main__': \n",
    "    p = mp.Pool()\n",
    "    # Compute T\n",
    "    result_T = p.map(T_S2, params)\n",
    "    # Compute Erk\n",
    "    result_Erk = p.map(Erk_mp, result_T)\n",
    "    # Compute the Hill coefficient\n",
    "    n_Vs_S2 = p.map(Hill_S2_mp,result_Erk)"
   ]
  },
  {
   "cell_type": "markdown",
   "metadata": {},
   "source": [
    "Erk as a function of [ephrin], S2 for different values of Ks"
   ]
  },
  {
   "cell_type": "code",
   "execution_count": 32,
   "metadata": {},
   "outputs": [],
   "source": [
    "E_temp = np.logspace(-2,5,n_Etemp ) \n",
    "params= []\n",
    "for i in range(len(Ks_temp)): \n",
    "    params.append((E_temp, 'Ks_v', Ks_temp[i]))\n",
    "\n",
    "if __name__ == '__main__': \n",
    "    p = mp.Pool()\n",
    "    # Compute T\n",
    "    result_T = p.map(T_E, params)\n",
    "    # Compute Erk\n",
    "    result_Erk = p.map(Erk_mp, result_T)\n",
    "    # Compute the Hill coefficient\n",
    "    n_Ks_E = p.map(Hill_E_mp,result_Erk)"
   ]
  },
  {
   "cell_type": "code",
   "execution_count": 33,
   "metadata": {},
   "outputs": [],
   "source": [
    "S2_temp= np.logspace(-3,0,n_Stemp)\n",
    "params= []\n",
    "for i in range(len(Ks_temp)): \n",
    "    params.append((S2_temp, 'Ks_v', Ks_temp[i]))\n",
    "\n",
    "if __name__ == '__main__': \n",
    "    p = mp.Pool()\n",
    "    # Compute T\n",
    "    result_T = p.map(T_S2, params)\n",
    "    # Compute Erk\n",
    "    result_Erk = p.map(Erk_mp, result_T)\n",
    "    # Compute the Hill coefficient\n",
    "    n_Ks_S2 = p.map(Hill_S2_mp,result_Erk)"
   ]
  },
  {
   "cell_type": "markdown",
   "metadata": {},
   "source": [
    "Erk as a function of [ephrin], S2 for different values of Krg"
   ]
  },
  {
   "cell_type": "code",
   "execution_count": 35,
   "metadata": {},
   "outputs": [],
   "source": [
    "E_temp = np.logspace(-7,5,n_Etemp ) \n",
    "params= []\n",
    "for i in range(len(Krg_temp)): \n",
    "    params.append((E_temp, 'Krg_v', Krg_temp[i]))\n",
    "\n",
    "if __name__ == '__main__': \n",
    "    p = mp.Pool()\n",
    "    # Compute T\n",
    "    result_T = p.map(T_E, params)\n",
    "    # Compute Erk\n",
    "    result_Erk = p.map(Erk_mp, result_T)\n",
    "    # Compute the Hill coefficient\n",
    "    n_Krg_E = p.map(Hill_E_mp,result_Erk)"
   ]
  },
  {
   "cell_type": "code",
   "execution_count": 36,
   "metadata": {},
   "outputs": [],
   "source": [
    "S2_temp= np.logspace(-5,0,n_Stemp) \n",
    "params= []\n",
    "for i in range(len(Krg_temp)): \n",
    "    params.append((S2_temp, 'Krg_v', Krg_temp[i]))\n",
    "\n",
    "if __name__ == '__main__': \n",
    "    p = mp.Pool()\n",
    "    # Compute T\n",
    "    result_T = p.map(T_S2, params)\n",
    "    # Compute Erk\n",
    "    result_Erk = p.map(Erk_mp, result_T)\n",
    "    # Compute the Hill coefficient\n",
    "    n_Krg_S2 = p.map(Hill_S2_mp,result_Erk)"
   ]
  },
  {
   "cell_type": "code",
   "execution_count": 39,
   "metadata": {},
   "outputs": [],
   "source": [
    "# Compute the difference: n[Erk(S1)] - n[Erk(FGF)]  \n",
    "diff_Kb = np.array(n_Kb_S2) - np.array(n_Kb_E)\n",
    "diff_Kd = np.array(n_Kd_S2) - np.array(n_Kd_E)\n",
    "diff_Ke = np.array(n_Ke_S2) - np.array(n_Ke_E)\n",
    "diff_Ks = np.array(n_Ks_S2) - np.array(n_Ks_E)\n",
    "diff_Krg = np.array(n_Krg_S2) - np.array(n_Krg_E)\n",
    "diff_K1 = np.array(n_K1_S2) - np.array(n_K1_E)\n",
    "diff_K2 = np.array(n_K2_S2) - np.array(n_K2_E)\n",
    "diff_Vs = np.array(n_Vs_S2) - np.array(n_Vs_E)\n",
    "diff_Vrg = np.array(n_Vrg_S2) - np.array(n_Vrg_E)\n",
    "\n",
    "# Combine all the data in a single array \n",
    "data_01_5C= np.stack((diff_Kb, diff_K1, diff_K2, diff_Vs, diff_Vrg) , axis=-1)\n",
    "data_02000_5C= np.stack((diff_Ks, diff_Krg, diff_Kd, diff_Ke) , axis=-1)\n",
    "\n",
    "# Save the data in a .txt file \n",
    "np.savetxt('results_01.txt', data_01_5C)\n",
    "np.savetxt('results_02000.txt', data_02000_5C)"
   ]
  },
  {
   "cell_type": "markdown",
   "metadata": {},
   "source": [
    "## Figure 5C: Heat maps"
   ]
  },
  {
   "cell_type": "code",
   "execution_count": 12,
   "metadata": {},
   "outputs": [],
   "source": [
    "# Define the colormap\n",
    "import matplotlib.colors as mcolors\n",
    "\n",
    "# sample the colormaps that you want to use. Use 128 from each so we get 256 colors in total\n",
    "colors1 = plt.cm.Blues_r(np.linspace(0., 0.8, 128))\n",
    "colors2 = plt.cm.Reds(np.linspace(0,1,128))\n",
    "\n",
    "# combine them and build a new colormap\n",
    "colors = np.vstack((colors1, colors2))\n",
    "mymap = mcolors.LinearSegmentedColormap.from_list('my_colormap', colors)"
   ]
  },
  {
   "cell_type": "code",
   "execution_count": 18,
   "metadata": {},
   "outputs": [
    {
     "data": {
      "image/png": "[encoded data removed]",
      "text/plain": [
       "<Figure size 576x288 with 2 Axes>"
      ]
     },
     "metadata": {
      "needs_background": "light"
     },
     "output_type": "display_data"
    },
    {
     "data": {
      "image/png": "[encoded data removed]",
      "text/plain": [
       "<Figure size 576x288 with 2 Axes>"
      ]
     },
     "metadata": {
      "needs_background": "light"
     },
     "output_type": "display_data"
    }
   ],
   "source": [
    "# Load the data \n",
    "data_01_5C_load = np.loadtxt('results_01_5C.txt')\n",
    "data_02000_5C_load = np.loadtxt('results_02000_5C.txt')\n",
    "\n",
    "# Create the heatmap\n",
    "\n",
    "# Left panel: Parameters from 0 to 1\n",
    "Min= -0.4 \n",
    "Max= max_array(data_02000_5C_load)\n",
    "\n",
    "fig = plt.figure(figsize=(8,4))\n",
    "axs = fig.gca()\n",
    "myHeatmap(data_01_5C_load,Min,Max, axs, label='$n_H[Erk(S_2)]-n_H[Erk([ephrin])]$')\n",
    "\n",
    "axs.add_patch(Rectangle((0, 9), 1, 2, fill=False, edgecolor='black', lw=1))\n",
    "axs.add_patch(Rectangle((1, 24), 1, 2, fill=False, edgecolor='black', lw=1))\n",
    "axs.add_patch(Rectangle((2, 9), 1, 2, fill=False, edgecolor='black', lw=1))\n",
    "axs.add_patch(Rectangle((3, 48), 1, 2, fill=False, edgecolor='black', lw=1))\n",
    "axs.add_patch(Rectangle((4, 19), 1, 2, fill=False, edgecolor='black', lw=1,clip_on=False))\n",
    "\n",
    "axs.set_ylabel('Parameter range')\n",
    "axs.set_xticks([0.5,1.5,2.5,3.5, 4.5])\n",
    "axs.set_xticklabels(['Kb','K1','K2','Vs', 'Vrg'])\n",
    "axs.set_yticks([0,10,20, 30, 40, 50])\n",
    "axs.set_yticklabels(['0','0.2','0.4', '0.6', '0.8', '1'],rotation = 0)\n",
    "axs.invert_yaxis()\n",
    "plt.tight_layout()\n",
    "plt.show()\n",
    "\n",
    "# Right panel: Parameters from 0 to 2000\n",
    "Min= -0.4 \n",
    "Max= max_array(data_02000_5C_load)\n",
    "\n",
    "fig = plt.figure(figsize=(8,4))\n",
    "axs = fig.gca()\n",
    "myHeatmap(data_02000_5C_load,Min,Max, axs,label='$n_H[Erk(S_2)]-n_H[Erk([ephrin])]$')\n",
    "\n",
    "axs.add_patch(Rectangle((0, 29), 1, 2, fill=False, edgecolor='black', lw=1))\n",
    "axs.add_patch(Rectangle((1, 29), 1, 2, fill=False, edgecolor='black', lw=1))\n",
    "axs.add_patch(Rectangle((2, 0), 1, 2, fill=False, edgecolor='black', lw=1, clip_on=False))\n",
    "axs.add_patch(Rectangle((3, 1), 1, 2, fill=False, edgecolor='black', lw=1, clip_on=False))\n",
    "\n",
    "axs.set_ylabel('Parameter range')\n",
    "axs.set_xticks([0.5,1.5,2.5,3.5])\n",
    "axs.set_xticklabels(['Ks','Krg','Kd','Ke'])\n",
    "axs.set_yticks([0,10,20, 30, 40, 50])\n",
    "axs.set_yticklabels(['0','400','800', '1200', '1600', '2000'],rotation = 0)\n",
    "axs.invert_yaxis()\n",
    "plt.tight_layout()\n",
    "plt.show()"
   ]
  },
  {
   "cell_type": "code",
   "execution_count": null,
   "metadata": {},
   "outputs": [],
   "source": []
  }
 ],
 "metadata": {
  "kernelspec": {
   "display_name": "Python 3",
   "language": "python",
   "name": "python3"
  },
  "language_info": {
   "codemirror_mode": {
    "name": "ipython",
    "version": 3
   },
   "file_extension": ".py",
   "mimetype": "text/x-python",
   "name": "python",
   "nbconvert_exporter": "python",
   "pygments_lexer": "ipython3",
   "version": "3.8.5"
  }
 },
 "nbformat": 4,
 "nbformat_minor": 4
}
