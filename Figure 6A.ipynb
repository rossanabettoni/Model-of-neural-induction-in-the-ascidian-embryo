{
 "cells": [
  {
   "cell_type": "markdown",
   "metadata": {},
   "source": [
    "# Figure 6A"
   ]
  },
  {
   "cell_type": "markdown",
   "metadata": {},
   "source": [
    "# Import packages "
   ]
  },
  {
   "cell_type": "code",
   "execution_count": 1,
   "metadata": {},
   "outputs": [],
   "source": [
    "import numpy as np\n",
    "import matplotlib.pyplot as plt \n",
    "from sympy import symbols, solve, simplify\n",
    "import seaborn as sb\n",
    "import pandas as pd\n",
    "from scipy.optimize import curve_fit\n",
    "from matplotlib.patches import Rectangle\n",
    "import matplotlib.colors\n",
    "plt.rcParams.update({'font.size': 20})"
   ]
  },
  {
   "cell_type": "markdown",
   "metadata": {},
   "source": [
    "# Definitions"
   ]
  },
  {
   "cell_type": "markdown",
   "metadata": {},
   "source": [
    "Function to compute the Hill coefficient of a curve z(x) fitting the curve with an Hill function"
   ]
  },
  {
   "cell_type": "code",
   "execution_count": 2,
   "metadata": {},
   "outputs": [],
   "source": [
    "def model_piu(x, a, b, c):\n",
    "    return c*x**a/(x**a+b**a) \n",
    "\n",
    "def model_meno(x, a, b,c):\n",
    "    return - c*x**a/(x**a+b**a) \n",
    "\n",
    "def Hill_fit_piu(z,x,model, bo):\n",
    "    y= z-min(z)\n",
    "    yR= y/max(y)\n",
    "    popt, _ = curve_fit(model, x, yR, bounds=bo)\n",
    "    a,b,c = popt  \n",
    "    return [round(a,8), round(b,8), round(c,8)]\n",
    "\n",
    "def Hill_fit_meno(z,x,model, bo):\n",
    "    y= z-min(z)\n",
    "    yR= y/max(y) - 1\n",
    "    popt, _ = curve_fit(model, x, yR, bounds=bo)\n",
    "    a,b,c = popt\n",
    "    return [round(a,8), round(b,8), round(c,8)]"
   ]
  },
  {
   "cell_type": "markdown",
   "metadata": {},
   "source": [
    "Function to plot the heatmap"
   ]
  },
  {
   "cell_type": "code",
   "execution_count": 3,
   "metadata": {},
   "outputs": [],
   "source": [
    "# My Heatmap\n",
    "def myHeatmap(data, Min, Max, axs, label): \n",
    "    sb.heatmap(data,cmap=cmap,fmt=\".4f\",vmin=Min, vmax=Max, cbar=True, ax=axs, xticklabels=False, yticklabels=10, cbar_kws={'label': label,\"orientation\": \"horizontal\"}, center=0)\n",
    "    \n",
    "# Find min and max values of the matrix\n",
    "def min_array(data):\n",
    "    min_temp = np.zeros(len(data))\n",
    "    for i in range(len(data)): \n",
    "        min_temp[i]= min(data[i,:])\n",
    "        \n",
    "    min_final= min(min_temp)\n",
    "    return min_final\n",
    "\n",
    "def max_array(data):\n",
    "    max_temp = np.zeros(len(data))\n",
    "    for i in range(len(data)): \n",
    "        max_temp[i]= max(data[i,:])\n",
    "        \n",
    "    max_final= max(max_temp)\n",
    "    return max_final"
   ]
  },
  {
   "cell_type": "markdown",
   "metadata": {},
   "source": [
    "# Model "
   ]
  },
  {
   "cell_type": "markdown",
   "metadata": {},
   "source": [
    "Definition of the parameters of the model"
   ]
  },
  {
   "cell_type": "code",
   "execution_count": 4,
   "metadata": {},
   "outputs": [],
   "source": [
    "T, V1, V2, K1, K2, Kb = symbols('T V1 V2 K1 K2 Kb') \n",
    "Vs, Rb, Ks, Vrg, Qb, Krg = symbols('Vs Rb Ks Vrg Qb Krg')\n",
    "R, F, Kd, Q, E, Ke = symbols('R F Kd Q E Ke')\n",
    "S1, Qtot, S2, Rtot= symbols('S1 Qtot S2 Rtot')"
   ]
  },
  {
   "cell_type": "markdown",
   "metadata": {},
   "source": [
    "The evolution equation for T"
   ]
  },
  {
   "cell_type": "code",
   "execution_count": 5,
   "metadata": {},
   "outputs": [
    {
     "name": "stdout",
     "output_type": "stream",
     "text": [
      "Evolution equation for T:\n",
      "-Kb*T - T*V2/(K2 + T) + V1*(1 - T)/(K1 - T + 1)\n"
     ]
    }
   ],
   "source": [
    "# Evolution equation for T: \n",
    "expr = V1*(1-T)/(K1+(1-T))-V2*T/(K2+T)-Kb*T\n",
    "expr_simplified= V1*(1-T)*(K2+T) -V2*T*(K1+(1-T))-Kb*T*(K1+(1-T))*(K2+T)\n",
    "print('Evolution equation for T:')\n",
    "print(expr)\n",
    "\n",
    "# Substitute the expression for V1 and V2 in the evolution equation for T:  \n",
    "expr_RQ= expr_simplified.subs([(V1, Vs*(R*F/(Kd+F))/(Ks+(R*F/(Kd+F)))),(V2, Vrg*(Q*E/(Ke+E))/(Krg+(Q*E/(Ke+E))))])\n",
    "\n",
    "# Substitute the expressions for Q and R\n",
    "expr_S1S2 = expr_RQ.subs([(R, Rtot*S1),(Q, Qtot*S2)])\n",
    "\n",
    "# Solve the equation \n",
    "sol = solve(expr_S1S2, T)[1]"
   ]
  },
  {
   "cell_type": "markdown",
   "metadata": {},
   "source": [
    "Definition of the function ExprT that compute T as a function of all the parameters of the equation"
   ]
  },
  {
   "cell_type": "code",
   "execution_count": 6,
   "metadata": {},
   "outputs": [],
   "source": [
    "def exprT(Vs_v=1, Vrg_v=0.4, K1_v=0.5, K2_v=0.2, Krg_v=1200, Ks_v=1200, Kb_v=0.2, F_v=5, Kd_v=25, E_v=5, Ke_v=50, Rtot_v=2000, Qtot_v=2000, S1_v=0.5, S2_v=0.5):\n",
    "    sol_T = sol.subs([(Vs,Vs_v),(Vrg,Vrg_v),(K1, K1_v),(K2,K2_v),(Krg, Krg_v), (Ks, Ks_v), (Kb, Kb_v),(F, F_v),(Kd, Kd_v),(E,E_v), (Ke, Ke_v),(Rtot, Rtot_v),(Qtot,Qtot_v),(S1,S1_v),(S2,S2_v)])\n",
    "    sol_T = np.real(np.array(sol_T,complex))\n",
    "    return sol_T"
   ]
  },
  {
   "cell_type": "markdown",
   "metadata": {},
   "source": [
    "Definition of the function to compute Erk (as a function of T):"
   ]
  },
  {
   "cell_type": "code",
   "execution_count": 7,
   "metadata": {},
   "outputs": [],
   "source": [
    "def Erk(T,n=2, Kerk=0.5, Erk_max=1, Erk_bas=0): \n",
    "    Erk = [ Erk_max* T[i]**n/(T[i]**n +Kerk**n)+Erk_bas for i in range(len(T)) ]\n",
    "    return Erk"
   ]
  },
  {
   "cell_type": "markdown",
   "metadata": {},
   "source": [
    "# Results "
   ]
  },
  {
   "cell_type": "markdown",
   "metadata": {},
   "source": [
    "## Figure 6A"
   ]
  },
  {
   "cell_type": "code",
   "execution_count": 34,
   "metadata": {},
   "outputs": [],
   "source": [
    "# Definition of the parameters \n",
    "Kb_temp= np.linspace(0.01,1,50)\n",
    "Kd_temp=  np.linspace(1,2000,50)\n",
    "Ke_temp=  np.linspace(1,2000,50)\n",
    "Ks_temp=  np.linspace(1,2000,50)\n",
    "Krg_temp= np.linspace(1,2000,50)\n",
    "K2_temp= np.linspace(0.01,1,50)\n",
    "K1_temp= np.linspace(0.01,1,50)\n",
    "Vrg_temp= np.linspace(0.01,1,50)\n",
    "Vs_temp= np.linspace(0.01,1,50)\n",
    "Kerk_temp= np.linspace(0.01,1,50)\n",
    "\n",
    "# Fix S2 = 0.2 and vary S1 from 0 to 0.8 \n",
    "S_fix = 0.2\n",
    "S_max = 1-S_fix\n",
    "LogS_max = np.log10(S_max)\n",
    "\n",
    "E_temp = np.logspace(-6,5,50) \n",
    "S2_temp= np.logspace(-2,LogS_max,50)\n",
    "\n",
    "n_Stemp = 50"
   ]
  },
  {
   "cell_type": "markdown",
   "metadata": {},
   "source": [
    "Erk as a function of S1, S2 for different values of Kb"
   ]
  },
  {
   "cell_type": "code",
   "execution_count": 10,
   "metadata": {},
   "outputs": [],
   "source": [
    "S1_temp= np.logspace(-3,LogS_max,n_Stemp)\n",
    "n_Kb_S1_fit = np.ones(len(Kb_temp))\n",
    "\n",
    "for kk in range(len(Kb_temp)): \n",
    "    \n",
    "    T_temp_S1 = [exprT(S1_v =S1_temp[i], S2_v= S_fix, Kb_v = Kb_temp[kk]) for i in range(len(S1_temp))]\n",
    "    Erk_S1 = Erk(T_temp_S1)\n",
    "      \n",
    "    # Find the Hill coefficient of the curve\n",
    "    n_Kb_S1_fit[kk]= Hill_fit_piu(Erk_S1, S1_temp,model_piu, bo=((0,0,0),(10,10,10)))[0] # fit"
   ]
  },
  {
   "cell_type": "code",
   "execution_count": 11,
   "metadata": {},
   "outputs": [],
   "source": [
    "S2_temp= np.logspace(-3,LogS_max,n_Stemp) \n",
    "n_Kb_S2_fit = np.ones(len(Kb_temp))\n",
    "\n",
    "for kk in range(len(Kb_temp)): \n",
    "    \n",
    "    T_temp_S2 = [exprT(S2_v =S2_temp[i], S1_v=S_fix, Kb_v = Kb_temp[kk]) for i in range(len(S2_temp))]\n",
    "    Erk_S2 = Erk(T_temp_S2)\n",
    "       \n",
    "    # Find the Hill coefficient of the curve \n",
    "    n_Kb_S2_fit[kk] = Hill_fit_meno(Erk_S2, S2_temp, model_meno, bo=((0,0,0),(10,10,10)))[0] # fit"
   ]
  },
  {
   "cell_type": "markdown",
   "metadata": {},
   "source": [
    "Erk as a function of S1, S2 for different values of Kd"
   ]
  },
  {
   "cell_type": "code",
   "execution_count": 12,
   "metadata": {},
   "outputs": [],
   "source": [
    "S1_temp= np.logspace(-3,LogS_max,n_Stemp)\n",
    "n_Kd_S1_fit = np.ones(len(Kd_temp))\n",
    "\n",
    "for kk in range(len(Kd_temp)): \n",
    "    \n",
    "    T_temp_S1 = [exprT(S1_v =S1_temp[i], S2_v=S_fix, Kd_v = Kd_temp[kk]) for i in range(len(S1_temp))]\n",
    "    Erk_S1 = Erk(T_temp_S1)\n",
    "      \n",
    "    # Find the Hill coefficient of the curve \n",
    "    n_Kd_S1_fit[kk]= Hill_fit_piu(Erk_S1, S1_temp,model_piu, bo=((0,0,0),(10,10,10)))[0] # fit"
   ]
  },
  {
   "cell_type": "code",
   "execution_count": 13,
   "metadata": {},
   "outputs": [],
   "source": [
    "S2_temp= np.logspace(-3,LogS_max,n_Stemp) \n",
    "n_Kd_S2_fit = np.ones(len(Kd_temp))\n",
    "\n",
    "for kk in range(len(Kd_temp)): \n",
    "    \n",
    "    T_temp_S2 = [exprT(S2_v =S2_temp[i],S1_v= S_fix, Kd_v = Kd_temp[kk]) for i in range(len(S2_temp))]\n",
    "    Erk_S2 = Erk(T_temp_S2)\n",
    "       \n",
    "    # Find the Hill coefficient of the curve\n",
    "    n_Kd_S2_fit[kk]= Hill_fit_meno(Erk_S2, S2_temp, model_meno, bo=((0,0,0),(10,10,10)))[0] # fit"
   ]
  },
  {
   "cell_type": "markdown",
   "metadata": {},
   "source": [
    "Erk as a function of S1, S2 for different values of Ke"
   ]
  },
  {
   "cell_type": "code",
   "execution_count": 14,
   "metadata": {
    "scrolled": false
   },
   "outputs": [],
   "source": [
    "S1_temp= np.logspace(-3,LogS_max,n_Stemp)\n",
    "n_Ke_S1_fit = np.ones(len(Ke_temp))\n",
    "\n",
    "for kk in range(len(Ke_temp)): \n",
    "    \n",
    "    T_temp_S1 = [exprT(S1_v =S1_temp[i],S2_v=S_fix, Ke_v = Ke_temp[kk]) for i in range(len(S1_temp))]\n",
    "    Erk_S1 = Erk(T_temp_S1)\n",
    "      \n",
    "    # Find the Hill coefficient of the curve \n",
    "    n_Ke_S1_fit[kk]= Hill_fit_piu(Erk_S1, S1_temp,model_piu, bo=((0,0,0),(10,10,10)))[0] # fit"
   ]
  },
  {
   "cell_type": "code",
   "execution_count": 15,
   "metadata": {},
   "outputs": [],
   "source": [
    "S2_temp= np.logspace(-3,LogS_max,n_Stemp) \n",
    "n_Ke_S2_fit = np.ones(len(Ke_temp))\n",
    "\n",
    "for kk in range(len(Ke_temp)): \n",
    "    \n",
    "    T_temp_S2 = [exprT(S2_v =S2_temp[i], S1_v=S_fix, Ke_v = Ke_temp[kk]) for i in range(len(S2_temp))]\n",
    "    Erk_S2 = Erk(T_temp_S2)\n",
    "       \n",
    "    # Find the Hill coefficient of the curve \n",
    "    n_Ke_S2_fit[kk]= Hill_fit_meno(Erk_S2, S2_temp, model_meno, bo=((0,0,0),(10,10,10)))[0] # fit"
   ]
  },
  {
   "cell_type": "markdown",
   "metadata": {},
   "source": [
    "Erk as a function of S1, S2 for different values of K1"
   ]
  },
  {
   "cell_type": "code",
   "execution_count": 16,
   "metadata": {},
   "outputs": [],
   "source": [
    "S1_temp= np.logspace(-3,LogS_max,n_Stemp)\n",
    "n_K1_S1_fit = np.ones(len(K1_temp))\n",
    "par = [0.4, 3, 1]\n",
    "\n",
    "for kk in range(len(K1_temp)): \n",
    "    \n",
    "    T_temp_S1 = [exprT(S1_v =S1_temp[i],S2_v=S_fix, K1_v = K1_temp[kk]) for i in range(len(S1_temp))]\n",
    "    Erk_S1 = Erk(T_temp_S1)\n",
    "      \n",
    "    # Find the Hill coefficient of the curve\n",
    "    n_K1_S1_fit[kk]= Hill_fit_piu(Erk_S1, S1_temp,model_piu, bo=((0,0,0),(10,100,100)))[0] # fit"
   ]
  },
  {
   "cell_type": "code",
   "execution_count": 17,
   "metadata": {},
   "outputs": [],
   "source": [
    "S2_temp= np.logspace(-3,LogS_max,n_Stemp) \n",
    "n_K1_S2_fit = np.ones(len(K1_temp))\n",
    "\n",
    "for kk in range(len(K1_temp)): \n",
    "    \n",
    "    T_temp_S2 = [exprT(S2_v =S2_temp[i],S1_v=S_fix,  K1_v = K1_temp[kk]) for i in range(len(S2_temp))]\n",
    "    Erk_S2 = Erk(T_temp_S2)\n",
    "       \n",
    "    # Find the Hill coefficient of the curve\n",
    "    n_K1_S2_fit[kk]= Hill_fit_meno(Erk_S2, S2_temp, model_meno, bo=((0,0,0),(10,10,10)))[0] # fit"
   ]
  },
  {
   "cell_type": "markdown",
   "metadata": {},
   "source": [
    "Erk as a function of S1, S2 for different values of K2"
   ]
  },
  {
   "cell_type": "code",
   "execution_count": 18,
   "metadata": {},
   "outputs": [],
   "source": [
    "S1_temp= np.logspace(-3,LogS_max,n_Stemp)\n",
    "n_K2_S1_fit = np.ones(len(K2_temp))\n",
    "\n",
    "for kk in range(len(K2_temp)): \n",
    "    \n",
    "    T_temp_S1 = [exprT(S1_v =S1_temp[i], S2_v=S_fix, K2_v = K2_temp[kk]) for i in range(len(S1_temp))]\n",
    "    Erk_S1 = Erk(T_temp_S1)\n",
    "      \n",
    "    # Find the Hill coefficient of the curve \n",
    "    n_K2_S1_fit[kk]= Hill_fit_piu(Erk_S1, S1_temp,model_piu, bo=((0,0,0),(10,10,10)))[0] # fit"
   ]
  },
  {
   "cell_type": "code",
   "execution_count": 19,
   "metadata": {},
   "outputs": [],
   "source": [
    "S2_temp= np.logspace(-3,LogS_max,n_Stemp) \n",
    "n_K2_S2_fit = np.ones(len(K2_temp))\n",
    "\n",
    "for kk in range(len(K2_temp)): \n",
    "    \n",
    "    T_temp_S2 = [exprT(S2_v =S2_temp[i], S1_v=S_fix, K2_v = K2_temp[kk]) for i in range(len(S2_temp))]\n",
    "    Erk_S2 = Erk(T_temp_S2)\n",
    "       \n",
    "    # Find the Hill coefficient of the curve\n",
    "    n_K2_S2_fit[kk]= Hill_fit_meno(Erk_S2, S2_temp, model_meno, bo=((0,0,0),(10,10,10)))[0] # fit"
   ]
  },
  {
   "cell_type": "markdown",
   "metadata": {},
   "source": [
    "Erk as a function of S1,S2 for different values of Vs"
   ]
  },
  {
   "cell_type": "code",
   "execution_count": 20,
   "metadata": {},
   "outputs": [],
   "source": [
    "S1_temp= np.logspace(-3,LogS_max,n_Stemp)\n",
    "n_Vs_S1_fit = np.ones(len(Vs_temp))\n",
    "\n",
    "for kk in range(len(Vs_temp)): \n",
    "    \n",
    "    T_temp_S1 = [exprT(S1_v =S1_temp[i], S2_v=S_fix, Vs_v = Vs_temp[kk]) for i in range(len(S1_temp))]\n",
    "    Erk_S1 = Erk(T_temp_S1)\n",
    "      \n",
    "    # Find the Hill coefficient of the curve\n",
    "    n_Vs_S1_fit[kk]= Hill_fit_piu(Erk_S1, S1_temp,model_piu, bo=((0,0,0),(10,10,10)))[0] # fit"
   ]
  },
  {
   "cell_type": "code",
   "execution_count": 21,
   "metadata": {},
   "outputs": [],
   "source": [
    "S2_temp= np.logspace(-3,LogS_max,n_Stemp) \n",
    "n_Vs_S2_fit = np.ones(len(Vs_temp))\n",
    "\n",
    "for kk in range(len(Vs_temp)): \n",
    "    \n",
    "    T_temp_S2 = [exprT(S2_v =S2_temp[i],S1_v=S_fix, Vs_v = Vs_temp[kk]) for i in range(len(S2_temp))]\n",
    "    Erk_S2 = Erk(T_temp_S2)\n",
    "       \n",
    "    # Find the Hill coefficient of the curve\n",
    "    n_Vs_S2_fit[kk]= Hill_fit_meno(Erk_S2, S2_temp, model_meno, bo=((0,0,0),(10,10,10)))[0] # fit"
   ]
  },
  {
   "cell_type": "markdown",
   "metadata": {},
   "source": [
    "Erk as a function of S1, S2 for different values of Vrg"
   ]
  },
  {
   "cell_type": "code",
   "execution_count": 22,
   "metadata": {},
   "outputs": [],
   "source": [
    "S1_temp= np.logspace(-3,LogS_max,n_Stemp)\n",
    "n_Vrg_S1_fit = np.ones(len(Vrg_temp))\n",
    "\n",
    "for kk in range(len(Vrg_temp)): \n",
    "    \n",
    "    T_temp_S1 = [exprT(S1_v =S1_temp[i],S2_v=S_fix, Vrg_v = Vrg_temp[kk]) for i in range(len(S1_temp))]\n",
    "    Erk_S1 = Erk(T_temp_S1)\n",
    "      \n",
    "    # Find the Hill coefficient of the curve \n",
    "    n_Vrg_S1_fit[kk]= Hill_fit_piu(Erk_S1, S1_temp,model_piu, bo=((0,0,0),(10,10,10)))[0] # fit"
   ]
  },
  {
   "cell_type": "code",
   "execution_count": 23,
   "metadata": {},
   "outputs": [],
   "source": [
    "S2_temp= np.logspace(-3,LogS_max,n_Stemp) \n",
    "n_Vrg_S2_fit = np.ones(len(Vrg_temp))\n",
    "\n",
    "for kk in range(len(Vrg_temp)): \n",
    "    \n",
    "    T_temp_S2 = [exprT(S2_v =S2_temp[i],S1_v=S_fix, Vrg_v = Vrg_temp[kk]) for i in range(len(S2_temp))]\n",
    "    Erk_S2 = Erk(T_temp_S2)\n",
    "       \n",
    "    # Find the Hill coefficient of the curve\n",
    "    n_Vrg_S2_fit[kk]= Hill_fit_meno(Erk_S2, S2_temp, model_meno, bo=((0,0,0),(10,10,10)))[0] # fit "
   ]
  },
  {
   "cell_type": "markdown",
   "metadata": {},
   "source": [
    "Erk as a function of S1, S2 for different values of Ks"
   ]
  },
  {
   "cell_type": "code",
   "execution_count": 24,
   "metadata": {},
   "outputs": [],
   "source": [
    "S1_temp= np.logspace(-6,LogS_max,n_Stemp)\n",
    "n_Ks_S1_fit = np.ones(len(Ks_temp))\n",
    "\n",
    "for kk in range(len(Ks_temp)): \n",
    "    \n",
    "    T_temp_S1 = [exprT(S1_v =S1_temp[i],S2_v=S_fix, Ks_v = Ks_temp[kk]) for i in range(len(S1_temp))]\n",
    "    Erk_S1 = Erk(T_temp_S1)\n",
    "      \n",
    "    # Find the Hill coefficient of the curve\n",
    "    n_Ks_S1_fit[kk]= Hill_fit_piu(Erk_S1, S1_temp,model_piu, bo=((0,0,0),(10,10,10)))[0] # fit"
   ]
  },
  {
   "cell_type": "code",
   "execution_count": 25,
   "metadata": {},
   "outputs": [],
   "source": [
    "S2_temp= np.logspace(-3,LogS_max,n_Stemp) \n",
    "n_Ks_S2_fit = np.ones(len(Ks_temp))\n",
    "\n",
    "for kk in range(len(Ks_temp)): \n",
    "    \n",
    "    T_temp_S2 = [exprT(S2_v =S2_temp[i],S1_v=S_fix, Ks_v = Ks_temp[kk]) for i in range(len(S2_temp))]\n",
    "    Erk_S2 = Erk(T_temp_S2)\n",
    "       \n",
    "    # Find the Hill coefficient of the curve\n",
    "    n_Ks_S2_fit[kk]= Hill_fit_meno(Erk_S2, S2_temp, model_meno, bo=((0,0,0),(10,10,10)))[0]"
   ]
  },
  {
   "cell_type": "markdown",
   "metadata": {},
   "source": [
    "Erk as a function of S1, S2 for different values of Krg"
   ]
  },
  {
   "cell_type": "code",
   "execution_count": 35,
   "metadata": {},
   "outputs": [],
   "source": [
    "S1_temp= np.logspace(-3,LogS_max,n_Stemp)\n",
    "n_Krg_S1_fit = np.ones(len(Krg_temp))\n",
    "par = [0.4, 3, 1]\n",
    "\n",
    "for kk in range(len(Krg_temp)): \n",
    "    \n",
    "    T_temp_S1 = [exprT(S1_v =S1_temp[i], S2_v=S_fix, Krg_v = Krg_temp[kk]) for i in range(len(S1_temp))]\n",
    "    Erk_S1 = Erk(T_temp_S1)\n",
    "      \n",
    "    # Find the Hill coefficient of the curve \n",
    "    n_Krg_S1_fit[kk]= Hill_fit_piu(Erk_S1, S1_temp,model_piu, bo=((0,0,0),(10,10,10)))[0] # fit"
   ]
  },
  {
   "cell_type": "code",
   "execution_count": 36,
   "metadata": {},
   "outputs": [],
   "source": [
    "S2_temp= np.logspace(-6,LogS_max,n_Stemp) \n",
    "n_Krg_S2_fit = np.ones(len(Krg_temp))\n",
    "\n",
    "for kk in range(len(Krg_temp)): \n",
    "    \n",
    "    T_temp_S2 = [exprT(S2_v =S2_temp[i],S1_v=S_fix, Krg_v = Krg_temp[kk]) for i in range(len(S2_temp))]\n",
    "    Erk_S2 = Erk(T_temp_S2)\n",
    "       \n",
    "    # Find the Hill coefficient of the curve \n",
    "    n_Krg_S2_fit[kk]= Hill_fit_meno(Erk_S2, S2_temp, model_meno, bo=((0,0,0),(10,10,10)))[0] # fit"
   ]
  },
  {
   "cell_type": "markdown",
   "metadata": {},
   "source": [
    "### Heat maps"
   ]
  },
  {
   "cell_type": "markdown",
   "metadata": {},
   "source": [
    "Define heatmap color scale"
   ]
  },
  {
   "cell_type": "code",
   "execution_count": 45,
   "metadata": {},
   "outputs": [],
   "source": [
    "norm = matplotlib.colors.Normalize(-1,1)\n",
    "colors = [[norm(-1), \"tab:blue\"],\n",
    "          [norm(0.1), \"lightyellow\"],\n",
    "          [norm(0.6), \"gold\"],\n",
    "          [norm(0.65), \"coral\"],\n",
    "          [norm(0.85), \"crimson\"],\n",
    "          [norm(1.0), \"maroon\"]]\n",
    "\n",
    "cmap = matplotlib.colors.LinearSegmentedColormap.from_list(\"\", colors)"
   ]
  },
  {
   "cell_type": "code",
   "execution_count": 41,
   "metadata": {},
   "outputs": [],
   "source": [
    "# Compute the difference: n[Erk(S1)] - n[Erk(S2)]\n",
    "diff_Kb_fit = n_Kb_S1_fit - n_Kb_S2_fit\n",
    "diff_Kd_fit = n_Kd_S1_fit - n_Kd_S2_fit\n",
    "diff_Ke_fit = n_Ke_S1_fit - n_Ke_S2_fit\n",
    "diff_Ks_fit = n_Ks_S1_fit - n_Ks_S2_fit\n",
    "diff_Krg_fit = n_Krg_S1_fit - n_Krg_S2_fit\n",
    "diff_K1_fit = n_K1_S1_fit - n_K1_S2_fit\n",
    "diff_K2_fit = n_K2_S1_fit - n_K2_S2_fit\n",
    "diff_Vs_fit = n_Vs_S1_fit - n_Vs_S2_fit\n",
    "diff_Vrg_fit = n_Vrg_S1_fit - n_Vrg_S2_fit"
   ]
  },
  {
   "cell_type": "code",
   "execution_count": 46,
   "metadata": {},
   "outputs": [
    {
     "data": {
      "image/png": "[encoded data removed]",
      "text/plain": [
       "<Figure size 576x360 with 2 Axes>"
      ]
     },
     "metadata": {
      "needs_background": "light"
     },
     "output_type": "display_data"
    },
    {
     "data": {
      "image/png": "[encoded data removed]",
      "text/plain": [
       "<Figure size 576x360 with 2 Axes>"
      ]
     },
     "metadata": {
      "needs_background": "light"
     },
     "output_type": "display_data"
    }
   ],
   "source": [
    "# Create the heatmap\n",
    "data_01= np.stack((diff_Kb_fit, diff_K1_fit, diff_K2_fit, diff_Vs_fit, diff_Vrg_fit) , axis=-1)\n",
    "data_02000= np.stack((diff_Ks_fit, diff_Krg_fit, diff_Kd_fit, diff_Ke_fit) , axis=-1)\n",
    "\n",
    "# Figure Parameters from 0 to 1\n",
    "Min= min_array(data_01)\n",
    "Max= max_array(data_01)\n",
    "\n",
    "fig = plt.figure(figsize=(8,5))\n",
    "axs = fig.gca()\n",
    "myHeatmap(data_01,Min,Max, axs, label='$n_H[Erk(S_1)]-n_H[Erk(S_2)]$')\n",
    "\n",
    "axs.add_patch(Rectangle((0, 9), 1, 2, fill=False, edgecolor='black', lw=1))\n",
    "axs.add_patch(Rectangle((1, 24), 1, 2, fill=False, edgecolor='black', lw=1))\n",
    "axs.add_patch(Rectangle((2, 9), 1, 2, fill=False, edgecolor='black', lw=1))\n",
    "axs.add_patch(Rectangle((3, 48), 1, 2, fill=False, edgecolor='black', lw=1))\n",
    "axs.add_patch(Rectangle((4, 19), 1, 2, fill=False, edgecolor='black', lw=1,clip_on=False))\n",
    "\n",
    "axs.set_ylabel('Parameter range')\n",
    "axs.set_xticks([0.5,1.5,2.5,3.5, 4.5])\n",
    "axs.set_xticklabels(['Kb','K1','K2','Vs', 'Vrg'])\n",
    "axs.set_yticks([0,10,20, 30, 40, 50])\n",
    "axs.set_yticklabels(['0','0.2','0.4', '0.6', '0.8', '1'],rotation = 0)\n",
    "axs.invert_yaxis()\n",
    "plt.tight_layout()\n",
    "plt.show()\n",
    "\n",
    "# Figure Parameters from 0 to 2000\n",
    "Min= min_array(data_02000)\n",
    "Max= max_array(data_02000)\n",
    "\n",
    "fig = plt.figure(figsize=(8,5))\n",
    "axs = fig.gca()\n",
    "myHeatmap(data_02000,Min,Max, axs,label='$n_H[Erk(S_1)]-n_H[Erk(S_2)]$')\n",
    "\n",
    "axs.add_patch(Rectangle((0, 29), 1, 2, fill=False, edgecolor='black', lw=1))\n",
    "axs.add_patch(Rectangle((1, 29), 1, 2, fill=False, edgecolor='black', lw=1))\n",
    "axs.add_patch(Rectangle((2, 0), 1, 2, fill=False, edgecolor='black', lw=1, clip_on=False))\n",
    "axs.add_patch(Rectangle((3, 1), 1, 2, fill=False, edgecolor='black', lw=1, clip_on=False))\n",
    "\n",
    "axs.set_ylabel('Parameter range')\n",
    "axs.set_xticks([0.5,1.5,2.5,3.5])\n",
    "axs.set_xticklabels(['Ks','Krg','Kd','Ke'])\n",
    "axs.set_yticks([0,10,20, 30, 40, 50])\n",
    "axs.set_yticklabels(['0','400','800', '1200', '1600', '2000'],rotation = 0)\n",
    "axs.invert_yaxis()\n",
    "plt.tight_layout()\n",
    "plt.show()"
   ]
  }
 ],
 "metadata": {
  "kernelspec": {
   "display_name": "Python 3",
   "language": "python",
   "name": "python3"
  },
  "language_info": {
   "codemirror_mode": {
    "name": "ipython",
    "version": 3
   },
   "file_extension": ".py",
   "mimetype": "text/x-python",
   "name": "python",
   "nbconvert_exporter": "python",
   "pygments_lexer": "ipython3",
   "version": "3.8.5"
  }
 },
 "nbformat": 4,
 "nbformat_minor": 4
}
