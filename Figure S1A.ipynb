{
 "cells": [
  {
   "cell_type": "markdown",
   "metadata": {},
   "source": [
    "# Figure S1A "
   ]
  },
  {
   "cell_type": "markdown",
   "metadata": {},
   "source": [
    "# Import packages"
   ]
  },
  {
   "cell_type": "code",
   "execution_count": 1,
   "metadata": {},
   "outputs": [],
   "source": [
    "import numpy as np\n",
    "import matplotlib.pyplot as plt \n",
    "from sympy import symbols, solve, simplify\n",
    "import pandas as pd\n",
    "import sympy as sp\n",
    "plt.rcParams.update({'font.size': 20})"
   ]
  },
  {
   "cell_type": "markdown",
   "metadata": {},
   "source": [
    "# Model "
   ]
  },
  {
   "cell_type": "markdown",
   "metadata": {},
   "source": [
    "Definition of the parameters of the model \n"
   ]
  },
  {
   "cell_type": "code",
   "execution_count": 2,
   "metadata": {},
   "outputs": [],
   "source": [
    "T, V1, V2, K1, K2, Kb = symbols('T V1 V2 K1 K2 Kb') \n",
    "Vs, Rb, Ks, Vrg, Qb, Krg = symbols('Vs Rb Ks Vrg Qb Krg')\n",
    "R, F, Kd, Q, E, Ke = symbols('R F Kd Q E Ke')\n",
    "S1, Qtot, S2, Rtot= symbols('S1 Qtot S2 Rtot')"
   ]
  },
  {
   "cell_type": "markdown",
   "metadata": {},
   "source": [
    "Solve the evolution equation for T"
   ]
  },
  {
   "cell_type": "code",
   "execution_count": 3,
   "metadata": {},
   "outputs": [
    {
     "name": "stdout",
     "output_type": "stream",
     "text": [
      "Evolution equation for T:\n",
      "-Kb*T - T*V2/(K2 + T) + V1*(1 - T)/(K1 - T + 1)\n",
      "Evolution equation for T (all parameters explicited):\n",
      "-E*Qtot*T*Vrg*(0.9092 - 1.1265*S1)*(K1 - T + 1)/((E + Ke)*(E*Qtot*(0.9092 - 1.1265*S1)/(E + Ke) + Krg)) + F*Rtot*S1*Vs*(1 - T)*(K2 + T)/((F + Kd)*(F*Rtot*S1/(F + Kd) + Ks)) - Kb*T*(K2 + T)*(K1 - T + 1)\n"
     ]
    }
   ],
   "source": [
    "# Evolution equation for T: \n",
    "expr = V1*(1-T)/(K1+(1-T))-V2*T/(K2+T)-Kb*T\n",
    "expr_simplified= V1*(1-T)*(K2+T) -V2*T*(K1+(1-T))-Kb*T*(K1+(1-T))*(K2+T)\n",
    "print('Evolution equation for T:')\n",
    "print(expr)\n",
    "\n",
    "# Substitute the expression for V1 and V2 in the evolution equation for T:  \n",
    "expr_RQ= expr_simplified.subs([(V1, Vs*(R*F/(Kd+F))/(Ks+(R*F/(Kd+F)))),(V2, Vrg*(Q*E/(Ke+E))/(Krg+(Q*E/(Ke+E))))])\n",
    "\n",
    "# Substitute the expressions for Q and R\n",
    "expr_S1S2 = expr_RQ.subs([(R, Rtot*S1),(Q, Qtot*S2)])\n",
    "\n",
    "# Expliciting the relation between S1 and S2 to obtain T(FGF, S1): \n",
    "expr_T = expr_S1S2.subs([(S2,-1.1265*S1 +0.9092)])\n",
    "\n",
    "print('Evolution equation for T (all parameters explicited):')\n",
    "print(expr_T)\n",
    "\n",
    "# Solve the equation \n",
    "sol = solve(expr_T, T)[2]"
   ]
  },
  {
   "cell_type": "markdown",
   "metadata": {},
   "source": [
    "Definition of the function ExprT that compute T as a function of all the parameters of the equation"
   ]
  },
  {
   "cell_type": "code",
   "execution_count": 4,
   "metadata": {},
   "outputs": [],
   "source": [
    "def exprT(Vs_v=1, Vrg_v=0.4, K1_v=0.5, K2_v=0.2, Krg_v=1200, Ks_v=1200, Kb_v=0.2, F_v=5, Kd_v=25, E_v=5, Ke_v=50, Rtot_v=2000, Qtot_v=2000, S1_v=0.5):\n",
    "    sol_T = sol.subs([(Vs,Vs_v),(Vrg,Vrg_v),(K1, K1_v),(K2,K2_v),(Krg, Krg_v), (Ks, Ks_v), (Kb, Kb_v),(F, F_v),(Kd, Kd_v),(E,E_v), (Ke, Ke_v),(Rtot, Rtot_v),(Qtot,Qtot_v),(S1,S1_v)])\n",
    "    sol_T = np.real(np.array(sol_T,complex))\n",
    "    return sol_T"
   ]
  },
  {
   "cell_type": "markdown",
   "metadata": {},
   "source": [
    " Definition of the function to compute Erk (as a function of T): "
   ]
  },
  {
   "cell_type": "code",
   "execution_count": 5,
   "metadata": {},
   "outputs": [],
   "source": [
    "def Erk(T,n=2, Kerk=0.5, Erk_max=1, Erk_bas=0): \n",
    "    Erk = [Erk_max* T[i]**n/(T[i]**n +Kerk**n) + Erk_bas for i in range(len(T))]\n",
    "    return Erk"
   ]
  },
  {
   "cell_type": "markdown",
   "metadata": {},
   "source": [
    "# Import the experimental data "
   ]
  },
  {
   "cell_type": "code",
   "execution_count": 6,
   "metadata": {},
   "outputs": [],
   "source": [
    "#read the excel file with the experimental data\n",
    "data_S1 = pd.read_excel('/Users/rossanabettoni/Desktop/PhD/Article_PLOS/ExpData.xlsx', sheet_name='Cell surface contacts')\n",
    "df_S1 = pd.DataFrame(data_S1)\n",
    "\n",
    "data_Fig2A = pd.read_excel('/Users/rossanabettoni/Desktop/PhD/Article_PLOS/ExpData.xlsx', sheet_name='Fig 2A')\n",
    "df_Fig2A = pd.DataFrame(data_Fig2A)"
   ]
  },
  {
   "cell_type": "markdown",
   "metadata": {},
   "source": [
    "Cell surface contacts with FGF (S1)"
   ]
  },
  {
   "cell_type": "code",
   "execution_count": 7,
   "metadata": {},
   "outputs": [],
   "source": [
    "a65_RelContactArea_A = np.array(df_S1['a6.5 S1'].values.tolist())[0:25] \n",
    "a66_RelContactArea_A = np.array(df_S1['a6.6 S1'].values.tolist())[0:25] \n",
    "a67_RelContactArea_A = np.array(df_S1['a6.7 S1'].values.tolist())[0:25] \n",
    "a68_RelContactArea_A = np.array(df_S1['a6.8 S1'].values.tolist())[0:25] \n",
    "\n",
    "# Compute the mean value of S1 for each cell type (averaging the exp data)\n",
    "mean_S1_a65 = np.mean(a65_RelContactArea_A)\n",
    "mean_S1_a66 = np.mean(a66_RelContactArea_A)\n",
    "mean_S1_a67 = np.mean(a67_RelContactArea_A)\n",
    "mean_S1_a68 = np.mean(a68_RelContactArea_A)\n",
    "\n",
    "mean_area = [mean_S1_a65,mean_S1_a66,mean_S1_a67,mean_S1_a68]"
   ]
  },
  {
   "cell_type": "markdown",
   "metadata": {},
   "source": [
    "Experimental data figure 2A"
   ]
  },
  {
   "cell_type": "code",
   "execution_count": 8,
   "metadata": {},
   "outputs": [],
   "source": [
    "# Convert the databases into lists \n",
    "a65_Erk = np.array(df_Fig2A['a6.5'].values.tolist())\n",
    "a66_Erk = np.array(df_Fig2A['a6.6'].values.tolist())\n",
    "a67_Erk = np.array(df_Fig2A['a6.7'].values.tolist())\n",
    "a68_Erk = np.array(df_Fig2A['a6.8'].values.tolist())\n",
    "\n",
    "# Compute the mean of the experimental data\n",
    "mean_a65_Erk = np.mean(a65_Erk)\n",
    "mean_a66_Erk = np.mean(a66_Erk)\n",
    "mean_a67_Erk = np.mean(a67_Erk)\n",
    "mean_a68_Erk = np.mean(a68_Erk)\n",
    "\n",
    "mean_Erk_exp = [mean_a68_Erk,mean_a66_Erk,mean_a67_Erk,mean_a65_Erk]\n",
    "\n",
    "# Compute the std of exp data\n",
    "sdev_a65_Erk_exp = np.std(a65_Erk)\n",
    "sdev_a66_Erk_exp = np.std(a66_Erk)\n",
    "sdev_a67_Erk_exp = np.std(a67_Erk)\n",
    "sdev_a68_Erk_exp = np.std(a68_Erk)\n",
    "\n",
    "Std_exp = [sdev_a68_Erk_exp,sdev_a66_Erk_exp,sdev_a67_Erk_exp,sdev_a65_Erk_exp]"
   ]
  },
  {
   "cell_type": "markdown",
   "metadata": {},
   "source": [
    "# Results"
   ]
  },
  {
   "cell_type": "markdown",
   "metadata": {},
   "source": [
    "## Figure S1A"
   ]
  },
  {
   "cell_type": "markdown",
   "metadata": {},
   "source": [
    "Compute Erk activity "
   ]
  },
  {
   "cell_type": "code",
   "execution_count": 9,
   "metadata": {},
   "outputs": [],
   "source": [
    "Erk_max= 1 \n",
    "Erk_bas = 0  \n",
    "\n",
    "T_pred_a65 = [exprT(S1_v= a65_RelContactArea_A[i]) for i in range(len(a65_RelContactArea_A))]\n",
    "T_pred_a66 = [exprT(S1_v= a66_RelContactArea_A[i]) for i in range(len(a66_RelContactArea_A))]\n",
    "T_pred_a67 = [exprT(S1_v= a67_RelContactArea_A[i]) for i in range(len(a67_RelContactArea_A))]\n",
    "T_pred_a68 = [exprT(S1_v= a68_RelContactArea_A[i]) for i in range(len(a68_RelContactArea_A))]\n",
    "\n",
    "Erk_pred_a65_a = Erk(T_pred_a65)\n",
    "Erk_pred_a66_a = Erk(T_pred_a66)\n",
    "Erk_pred_a67_a = Erk(T_pred_a67)\n",
    "Erk_pred_a68_a = Erk(T_pred_a68)\n",
    "\n",
    "# Compute the mean Erk value for each cell type (with our model)\n",
    "mean_a65_Erk_model_a= np.mean(Erk_pred_a65_a) \n",
    "mean_a66_Erk_model_a= np.mean(Erk_pred_a66_a)\n",
    "mean_a67_Erk_model_a= np.mean(Erk_pred_a67_a)\n",
    "mean_a68_Erk_model_a= np.mean(Erk_pred_a68_a)\n",
    "Erk_mean_a = [mean_a65_Erk_model_a, mean_a66_Erk_model_a, mean_a67_Erk_model_a, mean_a68_Erk_model_a]\n",
    "\n",
    "# Compute the std\n",
    "sdev_a65_Erk_model_a = np.std(Erk_pred_a65_a)\n",
    "sdev_a66_Erk_model_a = np.std(Erk_pred_a66_a)\n",
    "sdev_a67_Erk_model_a = np.std(Erk_pred_a67_a)\n",
    "sdev_a68_Erk_model_a = np.std(Erk_pred_a68_a)\n",
    "\n",
    "sdev_mean_a = [sdev_a65_Erk_model_a, sdev_a66_Erk_model_a, sdev_a67_Erk_model_a, sdev_a68_Erk_model_a]"
   ]
  },
  {
   "cell_type": "markdown",
   "metadata": {},
   "source": [
    "Compute Erk fluorescence"
   ]
  },
  {
   "cell_type": "code",
   "execution_count": 10,
   "metadata": {},
   "outputs": [],
   "source": [
    "Erk_m= 1850 \n",
    "Erk_b = np.mean(a68_Erk)  \n",
    "\n",
    "Erk_pred_a65_f = Erk(T_pred_a65, Erk_max=Erk_m, Erk_bas=Erk_b)\n",
    "Erk_pred_a66_f = Erk(T_pred_a66, Erk_max=Erk_m, Erk_bas=Erk_b)\n",
    "Erk_pred_a67_f = Erk(T_pred_a67, Erk_max=Erk_m, Erk_bas=Erk_b)\n",
    "Erk_pred_a68_f = Erk(T_pred_a68, Erk_max=Erk_m, Erk_bas=Erk_b)\n",
    "\n",
    "# Compute the mean Erk value for each cell type (with our model)\n",
    "mean_a65_Erk_model_f= np.mean(Erk_pred_a65_f) \n",
    "mean_a66_Erk_model_f= np.mean(Erk_pred_a66_f)\n",
    "mean_a67_Erk_model_f= np.mean(Erk_pred_a67_f)\n",
    "mean_a68_Erk_model_f= np.mean(Erk_pred_a68_f)\n",
    "Erk_mean_f = [mean_a65_Erk_model_f, mean_a66_Erk_model_f, mean_a67_Erk_model_f, mean_a68_Erk_model_f]\n",
    "\n",
    "# Compute the std\n",
    "sdev_a65_Erk_model_f = np.sqrt(Erk_max**2*sdev_a65_Erk_model_a**2+sdev_a68_Erk_exp**2)\n",
    "sdev_a66_Erk_model_f = np.sqrt(Erk_max**2*sdev_a66_Erk_model_a**2+sdev_a68_Erk_exp**2)\n",
    "sdev_a67_Erk_model_f = np.sqrt(Erk_max**2*sdev_a67_Erk_model_a**2+sdev_a68_Erk_exp**2)\n",
    "sdev_a68_Erk_model_f = np.sqrt(Erk_max**2*sdev_a68_Erk_model_a**2+sdev_a68_Erk_exp**2)\n",
    "sdev_mean_f = [sdev_a65_Erk_model_f, sdev_a66_Erk_model_f, sdev_a67_Erk_model_f, sdev_a68_Erk_model_f]\n"
   ]
  },
  {
   "cell_type": "code",
   "execution_count": 11,
   "metadata": {},
   "outputs": [
    {
     "data": {
      "image/png": "[encoded data removed]",
      "text/plain": [
       "<Figure size 648x259.2 with 2 Axes>"
      ]
     },
     "metadata": {
      "needs_background": "light"
     },
     "output_type": "display_data"
    }
   ],
   "source": [
    "plt.figure(figsize=(9,3.6))\n",
    "\n",
    "axs= plt.subplot(121)\n",
    "\n",
    "x = np.random.normal(1, 0.08, size=len(Erk_pred_a68_a))\n",
    "axs.plot(x,Erk_pred_a68_a,'.', markersize=12, color='grey', alpha=0.5, zorder=1)\n",
    "\n",
    "x = np.random.normal(2, 0.08, size=len(Erk_pred_a66_a))\n",
    "axs.plot(x,Erk_pred_a66_a,'.', markersize=12, color='tab:green', alpha=0.5, zorder=1)\n",
    "\n",
    "x = np.random.normal(3, 0.08, size=len(Erk_pred_a67_a))\n",
    "axs.plot(x,Erk_pred_a67_a,'.', markersize=12, color='tab:blue', alpha=0.5, zorder=1)\n",
    "\n",
    "x = np.random.normal(4, 0.08, size=len(Erk_pred_a65_a))\n",
    "axs.plot(x,Erk_pred_a65_a,'.', markersize=12, color='orchid', alpha=0.5, zorder=1)\n",
    "\n",
    "for axis in ['top','bottom','left','right']:\n",
    "    axs.spines[axis].set_linewidth(1.2)\n",
    "\n",
    "axs.set_xlim([0.5,4.5])\n",
    "axs.set_ylabel('Erk activity (Erk*)')\n",
    "axs.set_xticks([1,2,3,4])\n",
    "axs.set_xticklabels(['a6.8', 'a6.6', 'a6.7','a6.5'])\n",
    "\n",
    "axs= plt.subplot(122)\n",
    "\n",
    "x = np.random.normal(1, 0.08, size=len(Erk_pred_a68_f))\n",
    "axs.plot(x,Erk_pred_a68_f,'.', markersize=12, color='grey', alpha=0.5, zorder=1)\n",
    "\n",
    "x = np.random.normal(2, 0.08, size=len(Erk_pred_a66_f))\n",
    "axs.plot(x,Erk_pred_a66_f,'.', markersize=12, color='tab:green', alpha=0.5, zorder=1)\n",
    "\n",
    "x = np.random.normal(3, 0.08, size=len(Erk_pred_a67_f))\n",
    "axs.plot(x,Erk_pred_a67_f,'.', markersize=12, color='tab:blue', alpha=0.5, zorder=1)\n",
    "\n",
    "x = np.random.normal(4, 0.08, size=len(Erk_pred_a65_f))\n",
    "axs.plot(x,Erk_pred_a65_f,'.', markersize=12, color='orchid', alpha=0.5, zorder=1)\n",
    "\n",
    "for axis in ['top','bottom','left','right']:\n",
    "    axs.spines[axis].set_linewidth(1.2)\n",
    "    \n",
    "axs.set_xlim([0.5,4.5])\n",
    "axs.set_ylabel('Erk fluorescence (Erk$^f$)')\n",
    "axs.set_xticks([1,2,3,4])\n",
    "axs.set_xticklabels(['a6.8', 'a6.6', 'a6.7','a6.5'])\n",
    "\n",
    "plt.tight_layout()\n",
    "plt.show()"
   ]
  }
 ],
 "metadata": {
  "kernelspec": {
   "display_name": "Python 3",
   "language": "python",
   "name": "python3"
  },
  "language_info": {
   "codemirror_mode": {
    "name": "ipython",
    "version": 3
   },
   "file_extension": ".py",
   "mimetype": "text/x-python",
   "name": "python",
   "nbconvert_exporter": "python",
   "pygments_lexer": "ipython3",
   "version": "3.8.5"
  }
 },
 "nbformat": 4,
 "nbformat_minor": 4
}
