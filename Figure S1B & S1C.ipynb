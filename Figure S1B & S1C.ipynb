{
 "cells": [
  {
   "cell_type": "markdown",
   "metadata": {
    "heading_collapsed": true
   },
   "source": [
    "# Figure S1B & S1C"
   ]
  },
  {
   "cell_type": "markdown",
   "metadata": {},
   "source": [
    "# Import packages"
   ]
  },
  {
   "cell_type": "code",
   "execution_count": 1,
   "metadata": {},
   "outputs": [],
   "source": [
    "import numpy as np\n",
    "import matplotlib.pyplot as plt \n",
    "from sympy import symbols, solve, simplify\n",
    "import pandas as pd\n",
    "import sympy as sp\n",
    "plt.rcParams.update({'font.size': 20})"
   ]
  },
  {
   "cell_type": "markdown",
   "metadata": {},
   "source": [
    "# Definitions"
   ]
  },
  {
   "cell_type": "code",
   "execution_count": 2,
   "metadata": {},
   "outputs": [],
   "source": [
    "def my_axsis(ax, xlim, ylim, xticks, title, xtickslabels, bold=True, scale='lin'):    \n",
    "    \n",
    "    ax.set_xlim(xlim)\n",
    "    ax.set_ylim(ylim)\n",
    "    ax.set_xticks(xticks)\n",
    "    ax.set_title(title)\n",
    "    ax.set_xticklabels(xtickslabels)\n",
    "    \n",
    "    if bold==True:\n",
    "        for axis in ['top','bottom','left','right']:\n",
    "            ax.spines[axis].set_linewidth(1.2)\n",
    "            \n",
    "    if scale=='log':\n",
    "        ax.set_yscale('log', base=2)"
   ]
  },
  {
   "cell_type": "markdown",
   "metadata": {},
   "source": [
    "# Model "
   ]
  },
  {
   "cell_type": "markdown",
   "metadata": {},
   "source": [
    "Definition of the parameters of the model"
   ]
  },
  {
   "cell_type": "code",
   "execution_count": 3,
   "metadata": {},
   "outputs": [],
   "source": [
    "T, V1, V2, K1, K2, Kb = symbols('T V1 V2 K1 K2 Kb') \n",
    "Vs, Rb, Ks, Vrg, Qb, Krg = symbols('Vs Rb Ks Vrg Qb Krg')\n",
    "R, F, Kd, Q, E, Ke = symbols('R F Kd Q E Ke')\n",
    "S1, Qtot, S2, Rtot= symbols('S1 Qtot S2 Rtot')"
   ]
  },
  {
   "cell_type": "markdown",
   "metadata": {},
   "source": [
    "The evolution equation for T"
   ]
  },
  {
   "cell_type": "code",
   "execution_count": 4,
   "metadata": {},
   "outputs": [
    {
     "name": "stdout",
     "output_type": "stream",
     "text": [
      "Evolution equation for T:\n",
      "-Kb*T - T*V2/(K2 + T) + V1*(1 - T)/(K1 - T + 1)\n",
      "Evolution equation for T (all parameters explicited):\n",
      "-E*Qtot*T*Vrg*(0.9092 - 1.1265*S1)*(K1 - T + 1)/((E + Ke)*(E*Qtot*(0.9092 - 1.1265*S1)/(E + Ke) + Krg)) + F*Rtot*S1*Vs*(1 - T)*(K2 + T)/((F + Kd)*(F*Rtot*S1/(F + Kd) + Ks)) - Kb*T*(K2 + T)*(K1 - T + 1)\n"
     ]
    }
   ],
   "source": [
    "# Evolution equation for T: \n",
    "expr = V1*(1-T)/(K1+(1-T))-V2*T/(K2+T)-Kb*T\n",
    "expr_simplified= V1*(1-T)*(K2+T) -V2*T*(K1+(1-T))-Kb*T*(K1+(1-T))*(K2+T)\n",
    "print('Evolution equation for T:')\n",
    "print(expr)\n",
    "\n",
    "# Substitute the expression for V1 and V2 in the evolution equation for T:  \n",
    "expr_RQ= expr_simplified.subs([(V1, Vs*(R*F/(Kd+F))/(Ks+(R*F/(Kd+F)))),(V2, Vrg*(Q*E/(Ke+E))/(Krg+(Q*E/(Ke+E))))])\n",
    "\n",
    "# Substitute the expressions for Q and R\n",
    "expr_S1S2 = expr_RQ.subs([(R, Rtot*S1),(Q, Qtot*S2)])\n",
    "\n",
    "# Expliciting the relation between S1 and S2 to obtain T(FGF, S1): \n",
    "expr_T = expr_S1S2.subs([(S2,-1.1265*S1 +0.9092)])\n",
    "\n",
    "print('Evolution equation for T (all parameters explicited):')\n",
    "print(expr_T)\n",
    "\n",
    "# Solve the equation \n",
    "sol = solve(expr_T, T)[2]"
   ]
  },
  {
   "cell_type": "markdown",
   "metadata": {},
   "source": [
    "Definition of the function ExprT that compute T as a function of all the parameters of the equation"
   ]
  },
  {
   "cell_type": "code",
   "execution_count": 5,
   "metadata": {},
   "outputs": [],
   "source": [
    "def exprT(Vs_v=1, Vrg_v=0.4, K1_v=0.5, K2_v=0.2, Krg_v=1200, Ks_v=1200, Kb_v=0.2, F_v=5, Kd_v=25, E_v=0.001, Ke_v=50, Rtot_v=2000, Qtot_v=2000, S1_v=0.5):\n",
    "    sol_T = sol.subs([(Vs,Vs_v),(Vrg,Vrg_v),(K1, K1_v),(K2,K2_v),(Krg, Krg_v), (Ks, Ks_v), (Kb, Kb_v),(F, F_v),(Kd, Kd_v),(E,E_v), (Ke, Ke_v),(Rtot, Rtot_v),(Qtot,Qtot_v),(S1,S1_v)])\n",
    "    sol_T = np.real(np.array(sol_T,complex))\n",
    "    return sol_T"
   ]
  },
  {
   "cell_type": "markdown",
   "metadata": {},
   "source": [
    "Definition of the function to compute Erk (as a function of T):"
   ]
  },
  {
   "cell_type": "code",
   "execution_count": 6,
   "metadata": {},
   "outputs": [],
   "source": [
    "def Erk(T,n=2, Kerk=0.5, Erk_max=1, Erk_bas=0): \n",
    "    Erk = [ Erk_max* T[i]**n/(T[i]**n +Kerk**n)+Erk_bas for i in range(len(T)) ]\n",
    "    return Erk"
   ]
  },
  {
   "cell_type": "markdown",
   "metadata": {},
   "source": [
    "# Import the experimental data "
   ]
  },
  {
   "cell_type": "code",
   "execution_count": 7,
   "metadata": {},
   "outputs": [],
   "source": [
    "#read the excel file with the experimental data\n",
    "data_S1 = pd.read_excel('/Users/rossanabettoni/Desktop/PhD/Article_PLOS/ExpData.xlsx', sheet_name='Cell surface contacts')\n",
    "df_S1 = pd.DataFrame(data_S1)\n",
    "\n",
    "data_FigS1B = pd.read_excel('/Users/rossanabettoni/Desktop/PhD/Article_PLOS/ExpData.xlsx', sheet_name='Fig S1B')\n",
    "df_FigS1B = pd.DataFrame(data_FigS1B)\n",
    "\n",
    "data_FigS1C = pd.read_excel('/Users/rossanabettoni/Desktop/PhD/Article_PLOS/ExpData.xlsx', sheet_name='Fig S1C')\n",
    "df_FigS1C = pd.DataFrame(data_FigS1C)"
   ]
  },
  {
   "cell_type": "markdown",
   "metadata": {},
   "source": [
    "Cell surface contacts with FGF (S1)"
   ]
  },
  {
   "cell_type": "code",
   "execution_count": 8,
   "metadata": {},
   "outputs": [],
   "source": [
    "a65_RelContactArea_A = np.array(df_S1['a6.5 S1'].values.tolist())[0:25] \n",
    "a66_RelContactArea_A = np.array(df_S1['a6.6 S1'].values.tolist())[0:25] \n",
    "a67_RelContactArea_A = np.array(df_S1['a6.7 S1'].values.tolist())[0:25] \n",
    "a68_RelContactArea_A = np.array(df_S1['a6.8 S1'].values.tolist())[0:25] "
   ]
  },
  {
   "cell_type": "markdown",
   "metadata": {},
   "source": [
    "Experimental data figure S1B"
   ]
  },
  {
   "cell_type": "code",
   "execution_count": 9,
   "metadata": {},
   "outputs": [],
   "source": [
    "# Convert the databases into lists \n",
    "a65_Erk_noEph = np.array(df_FigS1B['a6.5'].values.tolist())\n",
    "a66_Erk_noEph = np.array(df_FigS1B['a6.6'].values.tolist())\n",
    "a67_Erk_noEph = np.array(df_FigS1B['a6.7'].values.tolist())\n",
    "a68_Erk_noEph = np.array(df_FigS1B['a6.8'].values.tolist())\n",
    "\n",
    "# Compute means of exp data\n",
    "mean_a65_Erk_noEph = np.mean(a65_Erk_noEph)\n",
    "mean_a66_Erk_noEph = np.mean(a66_Erk_noEph)\n",
    "mean_a67_Erk_noEph = np.mean(a67_Erk_noEph)\n",
    "mean_a68_Erk_noEph = np.mean(a68_Erk_noEph)\n",
    "\n",
    "mean_Erk_exp_noEph = [mean_a65_Erk_noEph, mean_a66_Erk_noEph, mean_a67_Erk_noEph, mean_a68_Erk_noEph]\n",
    "\n",
    "# Compute std of exp data\n",
    "sdev_a65_Erk_exp = np.std(a65_Erk_noEph)\n",
    "sdev_a66_Erk_exp = np.std(a66_Erk_noEph)\n",
    "sdev_a67_Erk_exp = np.std(a67_Erk_noEph)\n",
    "sdev_a68_Erk_exp = np.std(a68_Erk_noEph)"
   ]
  },
  {
   "cell_type": "markdown",
   "metadata": {},
   "source": [
    "Experimental data figure S1C   "
   ]
  },
  {
   "cell_type": "code",
   "execution_count": 10,
   "metadata": {},
   "outputs": [],
   "source": [
    "RelContactArea_FGF_noEph = np.array(df_FigS1C['fgf relatif'].values.tolist())\n",
    "Erk_noEph = np.array(df_FigS1C['dpERK'].values.tolist())\n",
    "\n",
    "# Convert the databases into lists \n",
    "a65_S1 = np.array(df_FigS1C['a65 fgf relatif'].values.tolist())\n",
    "a66_S1 = np.array(df_FigS1C['a66 fgf relatif'].values.tolist())\n",
    "a67_S1 = np.array(df_FigS1C['a67 fgf relatif'].values.tolist())\n",
    "a68_S1 = np.array(df_FigS1C['a68 fgf relatif'].values.tolist())\n",
    "\n",
    "a65_Erk_2D = np.array(df_FigS1C['a65 dpERK'].values.tolist())\n",
    "a66_Erk_2D = np.array(df_FigS1C['a66 dpERK'].values.tolist())\n",
    "a67_Erk_2D = np.array(df_FigS1C['a67 dpERK'].values.tolist())\n",
    "a68_Erk_2D = np.array(df_FigS1C['a68 dpERK'].values.tolist())"
   ]
  },
  {
   "cell_type": "markdown",
   "metadata": {},
   "source": [
    "# Results\n"
   ]
  },
  {
   "cell_type": "markdown",
   "metadata": {},
   "source": [
    "## Figure S1B: model predictions"
   ]
  },
  {
   "cell_type": "markdown",
   "metadata": {},
   "source": [
    "Compute Erk activity"
   ]
  },
  {
   "cell_type": "code",
   "execution_count": 11,
   "metadata": {},
   "outputs": [],
   "source": [
    "T_pred_a65_noEph = [exprT(S1_v= a65_RelContactArea_A[i]) for i in range(len(a65_RelContactArea_A))]\n",
    "T_pred_a66_noEph = [exprT(S1_v= a66_RelContactArea_A[i]) for i in range(len(a66_RelContactArea_A))]\n",
    "T_pred_a67_noEph = [exprT(S1_v= a67_RelContactArea_A[i]) for i in range(len(a67_RelContactArea_A))]\n",
    "T_pred_a68_noEph = [exprT(S1_v= a68_RelContactArea_A[i]) for i in range(len(a68_RelContactArea_A))]\n",
    "\n",
    "Erk_pred_a65_noEph_a = Erk(T_pred_a65_noEph)\n",
    "Erk_pred_a66_noEph_a = Erk(T_pred_a66_noEph)\n",
    "Erk_pred_a67_noEph_a = Erk(T_pred_a67_noEph)\n",
    "Erk_pred_a68_noEph_a = Erk(T_pred_a68_noEph)\n",
    "\n",
    "# Compute the mean of Erk levels\n",
    "mean_a65_Erk_model_noEph_a= np.mean(Erk_pred_a65_noEph_a) \n",
    "mean_a66_Erk_model_noEph_a= np.mean(Erk_pred_a66_noEph_a)\n",
    "mean_a67_Erk_model_noEph_a= np.mean(Erk_pred_a67_noEph_a)\n",
    "mean_a68_Erk_model_noEph_a= np.mean(Erk_pred_a68_noEph_a)\n",
    "\n",
    "Erk_mean_noEph_a = [mean_a65_Erk_model_noEph_a, mean_a66_Erk_model_noEph_a, mean_a67_Erk_model_noEph_a, mean_a68_Erk_model_noEph_a]\n",
    "\n",
    "# Compute std\n",
    "sdev_a65_Erk_model_a = np.std(Erk_pred_a65_noEph_a)\n",
    "sdev_a66_Erk_model_a = np.std(Erk_pred_a66_noEph_a)\n",
    "sdev_a67_Erk_model_a = np.std(Erk_pred_a67_noEph_a)\n",
    "sdev_a68_Erk_model_a = np.std(Erk_pred_a68_noEph_a)\n",
    "\n",
    "Erk_std_noEph_a = [sdev_a65_Erk_model_a, sdev_a66_Erk_model_a, sdev_a67_Erk_model_a, sdev_a68_Erk_model_a]"
   ]
  },
  {
   "cell_type": "markdown",
   "metadata": {},
   "source": [
    "Compute Erk fluorescence \n"
   ]
  },
  {
   "cell_type": "code",
   "execution_count": 12,
   "metadata": {},
   "outputs": [],
   "source": [
    "Erk_m= 2280   \n",
    "Erk_b = np.mean(a68_Erk_noEph)\n",
    "\n",
    "Erk_pred_a65_noEph_f = Erk(T_pred_a65_noEph, Erk_max=Erk_m, Erk_bas=Erk_b)\n",
    "Erk_pred_a66_noEph_f = Erk(T_pred_a66_noEph, Erk_max=Erk_m, Erk_bas=Erk_b)\n",
    "Erk_pred_a67_noEph_f = Erk(T_pred_a67_noEph, Erk_max=Erk_m, Erk_bas=Erk_b)\n",
    "Erk_pred_a68_noEph_f = Erk(T_pred_a68_noEph, Erk_max=Erk_m, Erk_bas=Erk_b)\n",
    "\n",
    "# Compute the mean of Erk levels\n",
    "mean_a65_Erk_model_noEph_f= np.mean(Erk_pred_a65_noEph_f) \n",
    "mean_a66_Erk_model_noEph_f= np.mean(Erk_pred_a66_noEph_f)\n",
    "mean_a67_Erk_model_noEph_f= np.mean(Erk_pred_a67_noEph_f)\n",
    "mean_a68_Erk_model_noEph_f= np.mean(Erk_pred_a68_noEph_f)\n",
    "\n",
    "Erk_mean_noEph_f = [mean_a65_Erk_model_noEph_f, mean_a66_Erk_model_noEph_f, mean_a67_Erk_model_noEph_f, mean_a68_Erk_model_noEph_f]\n",
    "\n",
    "# Compute std\n",
    "sdev_a65_Erk_model_f = np.sqrt(Erk_m**2*sdev_a65_Erk_model_a**2+sdev_a68_Erk_exp**2)\n",
    "sdev_a66_Erk_model_f = np.sqrt(Erk_m**2*sdev_a66_Erk_model_a**2+sdev_a68_Erk_exp**2)\n",
    "sdev_a67_Erk_model_f = np.sqrt(Erk_m**2*sdev_a67_Erk_model_a**2+sdev_a68_Erk_exp**2)\n",
    "sdev_a68_Erk_model_f = np.sqrt(Erk_m**2*sdev_a68_Erk_model_a**2+sdev_a68_Erk_exp**2)\n",
    "\n",
    "Erk_std_noEph_f = [sdev_a65_Erk_model_f, sdev_a66_Erk_model_f, sdev_a67_Erk_model_f, sdev_a68_Erk_model_f]"
   ]
  },
  {
   "cell_type": "markdown",
   "metadata": {},
   "source": [
    "## Figure S1B: comparison with experimental data "
   ]
  },
  {
   "cell_type": "code",
   "execution_count": 13,
   "metadata": {},
   "outputs": [
    {
     "data": {
      "image/png": "[encoded data removed]",
      "text/plain": [
       "<Figure size 648x432 with 4 Axes>"
      ]
     },
     "metadata": {
      "needs_background": "light"
     },
     "output_type": "display_data"
    }
   ],
   "source": [
    "fig = plt.figure(figsize=(9,6))\n",
    "gs = fig.add_gridspec(1,4, hspace=0,wspace=0)\n",
    "axs = gs.subplots(sharey=True)\n",
    "\n",
    "# a6.8 \n",
    "x = np.random.normal(1, 0.08, size=len(a68_Erk_noEph))\n",
    "axs[0].plot(x,a68_Erk_noEph,'.', markersize=10, color='grey', alpha=0.3, zorder=1)\n",
    "\n",
    "x = 1 \n",
    "axs[0].errorbar(x,mean_a68_Erk_noEph ,sdev_a68_Erk_exp, marker='o',markersize=5,color='black', capsize=5,mfc='black', mec='black', ls='none', zorder=2)\n",
    "\n",
    "x = np.random.normal(2, 0.08, size=len(Erk_pred_a68_noEph_f))\n",
    "axs[0].plot(x,Erk_pred_a68_noEph_f,'.', markersize=10, color='grey', alpha=0.3, zorder=1)\n",
    "\n",
    "x = 2 \n",
    "axs[0].errorbar(x,mean_a68_Erk_model_noEph_f ,sdev_a68_Erk_model_f, marker='o',markersize=5,color='black', capsize=5,mfc='black', mec='black', ls='none', zorder=2)\n",
    "\n",
    "axs[0].set_ylabel('nuclear dpERK signal')\n",
    "my_axsis(axs[0], xlim=[0.5,2.5], ylim=[2**6,2**(11)], xticks=[1,2], title='a6.8', xtickslabels=['Exp', 'Model'], bold=True, scale='log')\n",
    "\n",
    "# a6.6 \n",
    "x = np.random.normal(1, 0.08, size=len(a66_Erk_noEph))\n",
    "axs[1].plot(x,a66_Erk_noEph,'.', markersize=10, color='tab:green', alpha=0.3, zorder=1)\n",
    "\n",
    "x = 1 \n",
    "axs[1].errorbar(x,mean_a66_Erk_noEph ,sdev_a66_Erk_exp, marker='o',markersize=5,color='black', capsize=5,mfc='black', mec='black', ls='none', zorder=2)\n",
    "\n",
    "x = np.random.normal(2, 0.08, size=len(Erk_pred_a66_noEph_f))\n",
    "axs[1].plot(x,Erk_pred_a66_noEph_f,'.', markersize=10, color='tab:green', alpha=0.3, zorder=1)\n",
    "\n",
    "x = 2 \n",
    "axs[1].errorbar(x,mean_a66_Erk_model_noEph_f ,sdev_a66_Erk_model_f, marker='o',markersize=5,color='black', capsize=5,mfc='black', mec='black', ls='none', zorder=2)\n",
    "\n",
    "my_axsis(axs[1], xlim=[0.5,2.5], ylim=[2**6,2**(11)], xticks=[1,2], title='a6.6', xtickslabels=['Exp', 'Model'], bold=True, scale='log')\n",
    "\n",
    "\n",
    "# a6.7 \n",
    "x = np.random.normal(1, 0.08, size=len(a67_Erk_noEph))\n",
    "axs[2].plot(x,a67_Erk_noEph,'.', markersize=10, color='tab:blue', alpha=0.3, zorder=1)\n",
    "\n",
    "x = 1 \n",
    "axs[2].errorbar(x,mean_a67_Erk_noEph ,sdev_a67_Erk_exp, marker='o',markersize=5,color='black', capsize=5,mfc='black', mec='black', ls='none', zorder=2)\n",
    "\n",
    "x = np.random.normal(2, 0.08, size=len(Erk_pred_a67_noEph_f))\n",
    "axs[2].plot(x,Erk_pred_a67_noEph_f,'.', markersize=10, color='tab:blue', alpha=0.3, zorder=1)\n",
    "\n",
    "x = 2 \n",
    "axs[2].errorbar(x,mean_a67_Erk_model_noEph_f ,sdev_a67_Erk_model_f, marker='o',markersize=5,color='black', capsize=5,mfc='black', mec='black', ls='none', zorder=2)\n",
    "\n",
    "my_axsis(axs[2], xlim=[0.5,2.5], ylim=[2**6,2**(11)], xticks=[1,2], title='a6.7', xtickslabels=['Exp', 'Model'], bold=True, scale='log')\n",
    "\n",
    "# a6.5\n",
    "x = np.random.normal(1, 0.08, size=len(a65_Erk_noEph))\n",
    "axs[3].plot(x,a65_Erk_noEph,'.', markersize=10, color='orchid', alpha=0.3, zorder=1)\n",
    "\n",
    "x = 1 \n",
    "axs[3].errorbar(x,mean_a65_Erk_noEph ,sdev_a65_Erk_exp, marker='o',markersize=5,color='black', capsize=5,mfc='black', mec='black', ls='none', zorder=2)\n",
    "\n",
    "x = np.random.normal(2, 0.08, size=len(Erk_pred_a65_noEph_f))\n",
    "axs[3].plot(x,Erk_pred_a65_noEph_f,'.', markersize=10, color='orchid', alpha=0.3, zorder=1)\n",
    "\n",
    "x = 2 \n",
    "axs[3].errorbar(x,mean_a65_Erk_model_noEph_f ,sdev_a65_Erk_model_f, marker='o',markersize=5,color='black', capsize=5,mfc='black', mec='black', ls='none', zorder=2)\n",
    "\n",
    "my_axsis(axs[3], xlim=[0.5,2.5], ylim=[2**6,2**(11)], xticks=[1,2], title='a6.5', xtickslabels=['Exp', 'Model'], bold=True, scale='log')\n",
    "\n",
    "plt.tight_layout()\n",
    "plt.show()"
   ]
  },
  {
   "cell_type": "markdown",
   "metadata": {},
   "source": [
    "## Figure S1C: model predictions"
   ]
  },
  {
   "cell_type": "markdown",
   "metadata": {},
   "source": [
    "Compute Erk activity and Erk fluorescence"
   ]
  },
  {
   "cell_type": "code",
   "execution_count": 14,
   "metadata": {},
   "outputs": [],
   "source": [
    "S1_temp = np.linspace(0.02, 0.36, 100)\n",
    "\n",
    "# Compute Erk activity \n",
    "T_pred_model2D = [exprT(S1_v= S1_temp[i]) for i in range(len(S1_temp))]\n",
    "Erk_pred_model2D_a =  Erk(T_pred_model2D)\n",
    "\n",
    "# Compute Erk fluorescence \n",
    "Erk_m = 2500  \n",
    "Erk_b = np.nanmean(a68_Erk_2D)  \n",
    "\n",
    "Erk_pred_model2D_f = Erk(T_pred_model2D, Erk_max=Erk_m, Erk_bas=Erk_b)\n",
    "\n",
    "Error_Erk_f = np.nanstd(a68_Erk_2D)*np.ones(len(Erk_pred_model2D_f))  \n",
    "Error_piu = Erk_pred_model2D_f + Error_Erk_f\n",
    "Error_meno = Erk_pred_model2D_f - Error_Erk_f"
   ]
  },
  {
   "cell_type": "markdown",
   "metadata": {},
   "source": [
    "Compute Erk activity and Erk fluorescence starting from the exp data of S1 of figure 1E"
   ]
  },
  {
   "cell_type": "code",
   "execution_count": 15,
   "metadata": {},
   "outputs": [],
   "source": [
    "# Compute Erk activity \n",
    "T_pred_2D = [exprT(S1_v= RelContactArea_FGF_noEph[i]) for i in range(len(RelContactArea_FGF_noEph))]\n",
    "Erk_pred_2D =  Erk(T_pred_2D)\n",
    "\n",
    "# Compute Erk fluorescence\n",
    "Erk_m = 2500  \n",
    "Erk_b = np.nanmean(a68_Erk_2D)  \n",
    "\n",
    "Erk_pred_2D =  Erk(T_pred_2D, Erk_max=Erk_m, Erk_bas=Erk_b)"
   ]
  },
  {
   "cell_type": "markdown",
   "metadata": {},
   "source": [
    "## Figure S1C: comparison with experimental data "
   ]
  },
  {
   "cell_type": "code",
   "execution_count": 16,
   "metadata": {},
   "outputs": [
    {
     "data": {
      "image/png": "[encoded data removed]",
      "text/plain": [
       "<Figure size 576x432 with 1 Axes>"
      ]
     },
     "metadata": {
      "needs_background": "light"
     },
     "output_type": "display_data"
    }
   ],
   "source": [
    "fig= plt.figure(figsize=(8,6))\n",
    "plt.plot(RelContactArea_FGF_noEph, Erk_pred_2D,'o',markersize=6,alpha=1, color= '0.2', label='Model predictions')\n",
    "\n",
    "plt.plot(a65_S1, a65_Erk_2D,'.', markersize=12, color='orchid')\n",
    "plt.plot(a66_S1, a66_Erk_2D,'.', markersize=12, color='tab:green')\n",
    "plt.plot(a67_S1, a67_Erk_2D,'.', markersize=12, color='tab:blue')\n",
    "plt.plot(a68_S1, a68_Erk_2D,'.', markersize=12, color='grey')\n",
    "\n",
    "plt.plot(S1_temp, Erk_pred_model2D_f,'--', color='0.2')\n",
    "plt.fill_between(S1_temp, Error_meno, Error_piu, color='grey', alpha=0.2)\n",
    "\n",
    "plt.title('')\n",
    "plt.xlabel('relative contact area with \\n A-line mesendoderm cells ($S_1$)')\n",
    "plt.ylabel('nuclear dpERK signal')\n",
    "\n",
    "ax = fig.gca()\n",
    "for axis in ['top','bottom','left','right']:\n",
    "    ax.spines[axis].set_linewidth(1.2)\n",
    "\n",
    "plt.ylim([150,1300])\n",
    "plt.xlim([0.005,0.38])\n",
    "#plt.legend()\n",
    "\n",
    "plt.tight_layout()\n",
    "plt.savefig('2D_reprod.png')\n",
    "plt.show()\n",
    "\n"
   ]
  },
  {
   "cell_type": "code",
   "execution_count": null,
   "metadata": {},
   "outputs": [],
   "source": []
  }
 ],
 "metadata": {
  "kernelspec": {
   "display_name": "Python 3",
   "language": "python",
   "name": "python3"
  },
  "language_info": {
   "codemirror_mode": {
    "name": "ipython",
    "version": 3
   },
   "file_extension": ".py",
   "mimetype": "text/x-python",
   "name": "python",
   "nbconvert_exporter": "python",
   "pygments_lexer": "ipython3",
   "version": "3.8.5"
  }
 },
 "nbformat": 4,
 "nbformat_minor": 4
}
