{
 "cells": [
  {
   "cell_type": "markdown",
   "metadata": {},
   "source": [
    "# Figure S1D"
   ]
  },
  {
   "cell_type": "markdown",
   "metadata": {},
   "source": [
    "# Import packages"
   ]
  },
  {
   "cell_type": "code",
   "execution_count": 1,
   "metadata": {},
   "outputs": [],
   "source": [
    "import numpy as np\n",
    "import matplotlib.pyplot as plt \n",
    "from sympy import symbols, solve, simplify\n",
    "import pandas as pd\n",
    "from scipy.optimize import curve_fit\n",
    "import sympy as sp\n",
    "plt.rcParams.update({'font.size': 20})"
   ]
  },
  {
   "cell_type": "markdown",
   "metadata": {},
   "source": [
    "# Definitions"
   ]
  },
  {
   "cell_type": "markdown",
   "metadata": {},
   "source": [
    "Function to define the properties of the axis of a plot"
   ]
  },
  {
   "cell_type": "code",
   "execution_count": 2,
   "metadata": {},
   "outputs": [],
   "source": [
    "def my_axsis(ax, xlim, ylim, xticks, title, xtickslabels, bold=True, scale='lin'):    \n",
    "    \n",
    "    ax.set_xlim(xlim)\n",
    "    ax.set_ylim(ylim)\n",
    "    ax.set_xticks(xticks)\n",
    "    ax.set_title(title)\n",
    "    ax.set_xticklabels(xtickslabels)\n",
    "    \n",
    "    if bold==True:\n",
    "        for axis in ['top','bottom','left','right']:\n",
    "            ax.spines[axis].set_linewidth(1.2)\n",
    "            \n",
    "    if scale=='log':\n",
    "        ax.set_yscale('log', base=2)"
   ]
  },
  {
   "cell_type": "markdown",
   "metadata": {},
   "source": [
    "# Model "
   ]
  },
  {
   "cell_type": "markdown",
   "metadata": {},
   "source": [
    "Definition of the parameters of the model"
   ]
  },
  {
   "cell_type": "code",
   "execution_count": 3,
   "metadata": {},
   "outputs": [],
   "source": [
    "T, V1, V2, K1, K2, Kb = symbols('T V1 V2 K1 K2 Kb') \n",
    "Vs, Rb, Ks, Vrg, Qb, Krg = symbols('Vs Rb Ks Vrg Qb Krg')\n",
    "R, F, Kd, Q, E, Ke = symbols('R F Kd Q E Ke')\n",
    "S1, Qtot, S2, Rtot= symbols('S1 Qtot S2 Rtot')"
   ]
  },
  {
   "cell_type": "markdown",
   "metadata": {},
   "source": [
    "Solve the evolution equation for T"
   ]
  },
  {
   "cell_type": "code",
   "execution_count": 4,
   "metadata": {},
   "outputs": [
    {
     "name": "stdout",
     "output_type": "stream",
     "text": [
      "Evolution equation for T:\n",
      "-Kb*T - T*V2/(K2 + T) + V1*(1 - T)/(K1 - T + 1)\n",
      "Evolution equation for T (all parameters explicited):\n",
      "-E*Qtot*T*Vrg*(0.9092 - 1.1265*S1)*(K1 - T + 1)/((E + Ke)*(E*Qtot*(0.9092 - 1.1265*S1)/(E + Ke) + Krg)) + F*Rtot*S1*Vs*(1 - T)*(K2 + T)/((F + Kd)*(F*Rtot*S1/(F + Kd) + Ks)) - Kb*T*(K2 + T)*(K1 - T + 1)\n"
     ]
    }
   ],
   "source": [
    "# Evolution equation for T: \n",
    "expr = V1*(1-T)/(K1+(1-T))-V2*T/(K2+T)-Kb*T\n",
    "expr_simplified= V1*(1-T)*(K2+T) -V2*T*(K1+(1-T))-Kb*T*(K1+(1-T))*(K2+T)\n",
    "print('Evolution equation for T:')\n",
    "print(expr)\n",
    "\n",
    "# Substitute the expression for V1 and V2 in the evolution equation for T:  \n",
    "expr_RQ= expr_simplified.subs([(V1, Vs*(R*F/(Kd+F))/(Ks+(R*F/(Kd+F)))),(V2, Vrg*(Q*E/(Ke+E))/(Krg+(Q*E/(Ke+E))))])\n",
    "\n",
    "# Substitute the expressions for Q and R\n",
    "expr_S1S2 = expr_RQ.subs([(R, Rtot*S1),(Q, Qtot*S2)])\n",
    "\n",
    "# Expliciting the relation between S1 and S2 to obtain T(FGF, S1): \n",
    "expr_T = expr_S1S2.subs([(S2,-1.1265*S1 +0.9092)])\n",
    "\n",
    "print('Evolution equation for T (all parameters explicited):')\n",
    "print(expr_T)\n",
    "\n",
    "# Solve the equation \n",
    "sol = solve(expr_T, T)[2]"
   ]
  },
  {
   "cell_type": "markdown",
   "metadata": {},
   "source": [
    "Definition of the function ExprT that compute T as a function of all the parameters of the equation"
   ]
  },
  {
   "cell_type": "code",
   "execution_count": 5,
   "metadata": {},
   "outputs": [],
   "source": [
    "def exprT(Vs_v=1, Vrg_v=0.4, K1_v=0.5, K2_v=0.2, Krg_v=1200, Ks_v=1200, Kb_v=0.2, F_v=5, Kd_v=25, E_v=5, Ke_v=50, Rtot_v=2000, Qtot_v=2000, S1_v=0.5):\n",
    "    sol_T = sol.subs([(Vs,Vs_v),(Vrg,Vrg_v),(K1, K1_v),(K2,K2_v),(Krg, Krg_v), (Ks, Ks_v), (Kb, Kb_v),(F, F_v),(Kd, Kd_v),(E,E_v), (Ke, Ke_v),(Rtot, Rtot_v),(Qtot,Qtot_v),(S1,S1_v)])\n",
    "    sol_T = np.real(np.array(sol_T,complex))\n",
    "    return sol_T"
   ]
  },
  {
   "cell_type": "markdown",
   "metadata": {},
   "source": [
    "Definition of the function to compute Erk (as a function of T):"
   ]
  },
  {
   "cell_type": "code",
   "execution_count": 6,
   "metadata": {},
   "outputs": [],
   "source": [
    "def Erk(T,n=2, Kerk=0.5, Erk_max=1, Erk_bas=0): \n",
    "    Erk = [ Erk_max* T[i]**n/(T[i]**n +Kerk**n)+Erk_bas for i in range(len(T)) ]\n",
    "    return Erk"
   ]
  },
  {
   "cell_type": "markdown",
   "metadata": {},
   "source": [
    "# Import the experimental data and reproduce the figures of the paper"
   ]
  },
  {
   "cell_type": "code",
   "execution_count": 7,
   "metadata": {},
   "outputs": [],
   "source": [
    "#read the excel file with the experimental data\n",
    "data_S1 = pd.read_excel('/Users/rossanabettoni/Desktop/PhD/Article_PLOS/ExpData.xlsx', sheet_name='Cell surface contacts')\n",
    "df_S1 = pd.DataFrame(data_S1)\n",
    "\n",
    "data_Fig2A = pd.read_excel('/Users/rossanabettoni/Desktop/PhD/Article_PLOS/ExpData.xlsx', sheet_name='Fig 2A & S1A')\n",
    "df_Fig2A = pd.DataFrame(data_Fig2A)\n",
    "\n",
    "data_Fig2C = pd.read_excel('/Users/rossanabettoni/Desktop/PhD/Article_PLOS/ExpData.xlsx', sheet_name='Fig 2C & S1D')\n",
    "df_Fig2C = pd.DataFrame(data_Fig2C)"
   ]
  },
  {
   "cell_type": "markdown",
   "metadata": {},
   "source": [
    "Cell surface contacts with FGF (S1)"
   ]
  },
  {
   "cell_type": "code",
   "execution_count": 8,
   "metadata": {},
   "outputs": [],
   "source": [
    "a65_RelContactArea_A = np.array(df_S1['a6.5 S1'].values.tolist())[0:25] \n",
    "a66_RelContactArea_A = np.array(df_S1['a6.6 S1'].values.tolist())[0:25] \n",
    "a67_RelContactArea_A = np.array(df_S1['a6.7 S1'].values.tolist())[0:25] \n",
    "a68_RelContactArea_A = np.array(df_S1['a6.8 S1'].values.tolist())[0:25] "
   ]
  },
  {
   "cell_type": "markdown",
   "metadata": {},
   "source": [
    "Erk levels"
   ]
  },
  {
   "cell_type": "code",
   "execution_count": 9,
   "metadata": {},
   "outputs": [],
   "source": [
    "a65_Erk = np.array(df_Fig2A['a6.5'].values.tolist())\n",
    "a66_Erk = np.array(df_Fig2A['a6.6'].values.tolist())\n",
    "a67_Erk = np.array(df_Fig2A['a6.7'].values.tolist())\n",
    "a68_Erk = np.array(df_Fig2A['a6.8'].values.tolist())"
   ]
  },
  {
   "cell_type": "markdown",
   "metadata": {},
   "source": [
    "Experimental data figure 2C"
   ]
  },
  {
   "cell_type": "code",
   "execution_count": 10,
   "metadata": {},
   "outputs": [],
   "source": [
    "a65_ratio_PHGFP = np.array(df_Fig2C['a6.5'].values.tolist())\n",
    "a66_ratio_PHGFP = np.array(df_Fig2C['a6.6'].values.tolist())\n",
    "a67_ratio_PHGFP = np.array(df_Fig2C['a6.7'].values.tolist())\n",
    "a68_ratio_PHGFP = np.array(df_Fig2C['a6.8'].values.tolist())\n",
    "\n",
    "a65_ratio_dnRG = np.array(df_Fig2C['a6.5.2'].values.tolist())\n",
    "a66_ratio_dnRG = np.array(df_Fig2C['a6.6.2'].values.tolist())\n",
    "a67_ratio_dnRG = np.array(df_Fig2C['a6.7.2'].values.tolist())\n",
    "a68_ratio_dnRG = np.array(df_Fig2C['a6.8.2'].values.tolist())\n",
    "\n",
    "# Compute the mean values of exp data \n",
    "a65_mean_PHGFP = np.nanmean(a65_ratio_PHGFP)\n",
    "a66_mean_PHGFP = np.nanmean(a66_ratio_PHGFP)\n",
    "a67_mean_PHGFP = np.nanmean(a67_ratio_PHGFP)\n",
    "a68_mean_PHGFP = np.nanmean(a68_ratio_PHGFP)\n",
    "\n",
    "mean_PHGFP = [a65_mean_PHGFP, a66_mean_PHGFP, a67_mean_PHGFP, a68_mean_PHGFP]\n",
    "\n",
    "a65_mean_dnRG = np.nanmean(a65_ratio_dnRG)\n",
    "a66_mean_dnRG = np.nanmean(a66_ratio_dnRG)\n",
    "a67_mean_dnRG = np.nanmean(a67_ratio_dnRG)\n",
    "a68_mean_dnRG = np.nanmean(a68_ratio_dnRG)\n",
    "\n",
    "mean_dnRG = [a65_mean_dnRG, a66_mean_dnRG, a67_mean_dnRG, a68_mean_dnRG]\n",
    "\n",
    "# Compute the std \n",
    "a65_std_PHGFP = np.nanstd(a65_ratio_PHGFP)\n",
    "a66_std_PHGFP = np.nanstd(a66_ratio_PHGFP)\n",
    "a67_std_PHGFP = np.nanstd(a67_ratio_PHGFP)\n",
    "a68_std_PHGFP = np.nanstd(a68_ratio_PHGFP)\n",
    "\n",
    "std_PHGFP = [a65_std_PHGFP, a66_std_PHGFP, a67_std_PHGFP, a68_std_PHGFP]\n",
    "\n",
    "a65_std_dnRG = np.nanstd(a65_ratio_dnRG)\n",
    "a66_std_dnRG = np.nanstd(a66_ratio_dnRG)\n",
    "a67_std_dnRG = np.nanstd(a67_ratio_dnRG)\n",
    "a68_std_dnRG = np.nanstd(a68_ratio_dnRG)\n",
    "\n",
    "std_dnRG = [a65_std_dnRG, a66_std_dnRG, a67_std_dnRG, a68_std_dnRG]"
   ]
  },
  {
   "cell_type": "markdown",
   "metadata": {},
   "source": [
    "# Results"
   ]
  },
  {
   "cell_type": "markdown",
   "metadata": {},
   "source": [
    "## Figure S1D"
   ]
  },
  {
   "cell_type": "markdown",
   "metadata": {},
   "source": [
    "### Model predictions"
   ]
  },
  {
   "cell_type": "markdown",
   "metadata": {},
   "source": [
    "Control"
   ]
  },
  {
   "cell_type": "code",
   "execution_count": 11,
   "metadata": {},
   "outputs": [],
   "source": [
    "# Compute Erk activity \n",
    "T_pred_a65_c = [exprT(S1_v= a65_RelContactArea_A[i]) for i in range(len(a65_RelContactArea_A))]\n",
    "T_pred_a66_c = [exprT(S1_v= a66_RelContactArea_A[i]) for i in range(len(a66_RelContactArea_A))]\n",
    "T_pred_a67_c = [exprT(S1_v= a67_RelContactArea_A[i]) for i in range(len(a67_RelContactArea_A))]\n",
    "T_pred_a68_c = [exprT(S1_v= a68_RelContactArea_A[i]) for i in range(len(a68_RelContactArea_A))]\n",
    "\n",
    "Erk_pred_a65_c_a = Erk(T_pred_a65_c)\n",
    "Erk_pred_a66_c_a = Erk(T_pred_a66_c)\n",
    "Erk_pred_a67_c_a = Erk(T_pred_a67_c)\n",
    "Erk_pred_a68_c_a = Erk(T_pred_a68_c)\n",
    "\n",
    "# Compute the mean Erk activity value for each cell type (with our model)\n",
    "mean_a65_Erk_model_c_a= np.mean(Erk_pred_a65_c_a) \n",
    "mean_a66_Erk_model_c_a= np.mean(Erk_pred_a66_c_a)\n",
    "mean_a67_Erk_model_c_a= np.mean(Erk_pred_a67_c_a)\n",
    "mean_a68_Erk_model_c_a= np.mean(Erk_pred_a68_c_a)\n",
    "Erk_mean_c_a = [mean_a65_Erk_model_c_a, mean_a66_Erk_model_c_a, mean_a67_Erk_model_c_a, mean_a68_Erk_model_c_a]\n",
    "\n",
    "# Compute the std\n",
    "sdev_a65_Erk_model_c_a = np.std(Erk_pred_a65_c_a)\n",
    "sdev_a66_Erk_model_c_a = np.std(Erk_pred_a66_c_a)\n",
    "sdev_a67_Erk_model_c_a = np.std(Erk_pred_a67_c_a)\n",
    "sdev_a68_Erk_model_c_a = np.std(Erk_pred_a68_c_a)"
   ]
  },
  {
   "cell_type": "code",
   "execution_count": 12,
   "metadata": {},
   "outputs": [],
   "source": [
    "# Compute Erk fluorescence \n",
    "\n",
    "Erk_m= 1850 \n",
    "Erk_b = np.mean(a68_Erk) \n",
    "\n",
    "Erk_pred_a65_c_f = Erk(T_pred_a65_c, Erk_max=Erk_m, Erk_bas=Erk_b)\n",
    "Erk_pred_a66_c_f = Erk(T_pred_a66_c, Erk_max=Erk_m, Erk_bas=Erk_b)\n",
    "Erk_pred_a67_c_f = Erk(T_pred_a67_c, Erk_max=Erk_m, Erk_bas=Erk_b)\n",
    "Erk_pred_a68_c_f = Erk(T_pred_a68_c, Erk_max=Erk_m, Erk_bas=Erk_b)\n",
    "\n",
    "# Compute the mean Erk fluorescence value for each cell type (with our model)\n",
    "mean_a65_Erk_model_c_f= np.mean(Erk_pred_a65_c_f) \n",
    "mean_a66_Erk_model_c_f= np.mean(Erk_pred_a66_c_f)\n",
    "mean_a67_Erk_model_c_f= np.mean(Erk_pred_a67_c_f)\n",
    "mean_a68_Erk_model_c_f= np.mean(Erk_pred_a68_c_f)\n",
    "Erk_mean_c_f = [mean_a65_Erk_model_c_f, mean_a66_Erk_model_c_f, mean_a67_Erk_model_c_f, mean_a68_Erk_model_c_f]\n",
    "\n",
    "# Compute the error on the mean\n",
    "std_Erk_pred_a65_c_f = np.sqrt(Erk_m**2*sdev_a65_Erk_model_c_a**2+np.std(a68_Erk)**2)\n",
    "std_Erk_pred_a66_c_f = np.sqrt(Erk_m**2*sdev_a66_Erk_model_c_a**2+np.std(a68_Erk)**2)\n",
    "std_Erk_pred_a67_c_f = np.sqrt(Erk_m**2*sdev_a67_Erk_model_c_a**2+np.std(a68_Erk)**2)\n",
    "std_Erk_pred_a68_c_f = np.sqrt(Erk_m**2*sdev_a68_Erk_model_c_a**2+np.std(a68_Erk)**2)"
   ]
  },
  {
   "cell_type": "code",
   "execution_count": 13,
   "metadata": {},
   "outputs": [],
   "source": [
    "# Compute the ratios \n",
    "Ratio_a65_c = [Erk_pred_a65_c_f[i]/Erk_pred_a65_c_f[i] for i in range(len(Erk_pred_a65_c_f))]\n",
    "Ratio_a66_c = [Erk_pred_a66_c_f[i]/Erk_pred_a66_c_f[i] for i in range(len(Erk_pred_a66_c_f))]\n",
    "Ratio_a67_c = [Erk_pred_a67_c_f[i]/Erk_pred_a67_c_f[i] for i in range(len(Erk_pred_a67_c_f))]\n",
    "Ratio_a68_c = [Erk_pred_a68_c_f[i]/Erk_pred_a68_c_f[i] for i in range(len(Erk_pred_a68_c_f))]\n",
    "\n",
    "# Compute the std of the ratios\n",
    "std_ratio_pred_a65_c = np.std(Ratio_a65_c)\n",
    "std_ratio_pred_a66_c = np.std(Ratio_a66_c)\n",
    "std_ratio_pred_a67_c = np.std(Ratio_a67_c)\n",
    "std_ratio_pred_a68_c = np.std(Ratio_a68_c)\n",
    "\n",
    "std_pred_c = [std_ratio_pred_a65_c,std_ratio_pred_a66_c,std_ratio_pred_a67_c,std_ratio_pred_a68_c]"
   ]
  },
  {
   "cell_type": "markdown",
   "metadata": {},
   "source": [
    "RG$\\Delta$GAP"
   ]
  },
  {
   "cell_type": "code",
   "execution_count": 14,
   "metadata": {},
   "outputs": [],
   "source": [
    "# Compute Erk activity \n",
    "T_pred_a65_RG = [exprT(S1_v= a65_RelContactArea_A[i],Vrg_v= 0.01) for i in range(len(a65_RelContactArea_A))]\n",
    "T_pred_a66_RG = [exprT(S1_v= a66_RelContactArea_A[i],Vrg_v= 0.01) for i in range(len(a66_RelContactArea_A))]\n",
    "T_pred_a67_RG = [exprT(S1_v= a67_RelContactArea_A[i],Vrg_v= 0.01) for i in range(len(a67_RelContactArea_A))]\n",
    "T_pred_a68_RG = [exprT(S1_v= a68_RelContactArea_A[i],Vrg_v= 0.01) for i in range(len(a68_RelContactArea_A))]\n",
    "\n",
    "Erk_pred_a65_RG_a = Erk(T_pred_a65_RG)\n",
    "Erk_pred_a66_RG_a = Erk(T_pred_a66_RG)\n",
    "Erk_pred_a67_RG_a = Erk(T_pred_a67_RG)\n",
    "Erk_pred_a68_RG_a = Erk(T_pred_a68_RG)\n",
    "\n",
    "# Compute the mean Erk activity value for each cell type (with our model)\n",
    "mean_a65_Erk_model_RG_a= np.mean(Erk_pred_a65_RG_a) \n",
    "mean_a66_Erk_model_RG_a= np.mean(Erk_pred_a66_RG_a)\n",
    "mean_a67_Erk_model_RG_a= np.mean(Erk_pred_a67_RG_a)\n",
    "mean_a68_Erk_model_RG_a= np.mean(Erk_pred_a68_RG_a)\n",
    "Erk_mean_RG_a = [mean_a65_Erk_model_RG_a, mean_a66_Erk_model_RG_a, mean_a67_Erk_model_RG_a, mean_a68_Erk_model_RG_a]\n",
    "\n",
    "# Compute the std\n",
    "sdev_a65_Erk_model_RG_a = np.std(Erk_pred_a65_RG_a)\n",
    "sdev_a66_Erk_model_RG_a = np.std(Erk_pred_a66_RG_a)\n",
    "sdev_a67_Erk_model_RG_a = np.std(Erk_pred_a67_RG_a)\n",
    "sdev_a68_Erk_model_RG_a = np.std(Erk_pred_a68_RG_a)"
   ]
  },
  {
   "cell_type": "code",
   "execution_count": 15,
   "metadata": {},
   "outputs": [],
   "source": [
    "# Compute Erk fluorescence \n",
    "Erk_m= 1850 \n",
    "Erk_b = np.mean(a68_Erk) \n",
    "\n",
    "Erk_pred_a65_RG_f = Erk(T_pred_a65_RG, Erk_max=Erk_m, Erk_bas=Erk_b)\n",
    "Erk_pred_a66_RG_f = Erk(T_pred_a66_RG, Erk_max=Erk_m, Erk_bas=Erk_b)\n",
    "Erk_pred_a67_RG_f = Erk(T_pred_a67_RG, Erk_max=Erk_m, Erk_bas=Erk_b)\n",
    "Erk_pred_a68_RG_f = Erk(T_pred_a68_RG, Erk_max=Erk_m, Erk_bas=Erk_b)\n",
    "\n",
    "# Compute the mean Erk fluorescence value for each cell type (with our model)\n",
    "mean_a65_Erk_model_RG_f= np.mean(Erk_pred_a65_RG_f) \n",
    "mean_a66_Erk_model_RG_f= np.mean(Erk_pred_a66_RG_f)\n",
    "mean_a67_Erk_model_RG_f= np.mean(Erk_pred_a67_RG_f)\n",
    "mean_a68_Erk_model_RG_f= np.mean(Erk_pred_a68_RG_f)\n",
    "Erk_mean_RG_f = [mean_a65_Erk_model_RG_f, mean_a66_Erk_model_RG_f, mean_a67_Erk_model_RG_f, mean_a68_Erk_model_RG_f]\n",
    "\n",
    "# Compute the error on the mean\n",
    "std_Erk_pred_a65_RG_f = np.sqrt(Erk_m**2*sdev_a65_Erk_model_RG_a**2+np.std(a68_Erk)**2)\n",
    "std_Erk_pred_a66_RG_f = np.sqrt(Erk_m**2*sdev_a66_Erk_model_RG_a**2+np.std(a68_Erk)**2)\n",
    "std_Erk_pred_a67_RG_f = np.sqrt(Erk_m**2*sdev_a67_Erk_model_RG_a**2+np.std(a68_Erk)**2)\n",
    "std_Erk_pred_a68_RG_f = np.sqrt(Erk_m**2*sdev_a68_Erk_model_RG_a**2+np.std(a68_Erk)**2)"
   ]
  },
  {
   "cell_type": "code",
   "execution_count": 16,
   "metadata": {},
   "outputs": [],
   "source": [
    "# Compute the ratios \n",
    "Ratio_a65_RG = [Erk_pred_a65_RG_f[i]/Erk_pred_a65_c_f[i] for i in range(len(Erk_pred_a65_RG_f))]\n",
    "Ratio_a66_RG = [Erk_pred_a66_RG_f[i]/Erk_pred_a66_c_f[i] for i in range(len(Erk_pred_a66_RG_f))]\n",
    "Ratio_a67_RG = [Erk_pred_a67_RG_f[i]/Erk_pred_a67_c_f[i] for i in range(len(Erk_pred_a67_RG_f))]\n",
    "Ratio_a68_RG = [Erk_pred_a68_RG_f[i]/Erk_pred_a68_c_f[i] for i in range(len(Erk_pred_a68_RG_f))]\n",
    "\n",
    "# Compute the mean of the ratios\n",
    "mean_ratio_RG = [Erk_mean_RG_f[i]/Erk_mean_c_f[i] for i in range(4)]\n",
    "\n",
    "# Compute the errors on the ratios\n",
    "std_ratio_pred_a65_RG = mean_ratio_RG[0]*np.sqrt(std_Erk_pred_a65_c_f**2/mean_a65_Erk_model_c_f**2+std_Erk_pred_a65_RG_f**2/mean_a65_Erk_model_RG_f**2)\n",
    "std_ratio_pred_a66_RG = mean_ratio_RG[1]*np.sqrt(std_Erk_pred_a66_c_f**2/mean_a66_Erk_model_c_f**2+std_Erk_pred_a66_RG_f**2/mean_a66_Erk_model_RG_f**2)\n",
    "std_ratio_pred_a67_RG = mean_ratio_RG[2]*np.sqrt(std_Erk_pred_a67_c_f**2/mean_a67_Erk_model_c_f**2+std_Erk_pred_a67_RG_f**2/mean_a67_Erk_model_RG_f**2)\n",
    "std_ratio_pred_a68_RG = mean_ratio_RG[3]*np.sqrt(std_Erk_pred_a68_c_f**2/mean_a68_Erk_model_c_f**2+std_Erk_pred_a68_RG_f**2/mean_a68_Erk_model_RG_f**2)\n",
    "\n",
    "std_pred_RG = [std_ratio_pred_a65_RG,std_ratio_pred_a66_RG,std_ratio_pred_a67_RG,std_ratio_pred_a68_RG]\n"
   ]
  },
  {
   "cell_type": "markdown",
   "metadata": {},
   "source": [
    "### Comparison with experimental data "
   ]
  },
  {
   "cell_type": "markdown",
   "metadata": {},
   "source": [
    "RasGAP"
   ]
  },
  {
   "cell_type": "code",
   "execution_count": 17,
   "metadata": {},
   "outputs": [
    {
     "data": {
      "image/png": "[encoded data removed]",
      "text/plain": [
       "<Figure size 648x432 with 4 Axes>"
      ]
     },
     "metadata": {
      "needs_background": "light"
     },
     "output_type": "display_data"
    }
   ],
   "source": [
    "y= np.linspace(0,5)\n",
    "z= np.ones(len(y))\n",
    "\n",
    "fig = plt.figure(figsize=(9,6))\n",
    "gs = fig.add_gridspec(1,4, hspace=0,wspace=0)\n",
    "axs = gs.subplots(sharey=True)\n",
    "\n",
    "# a6.8\n",
    "\n",
    "axs[0].plot(y,z,'--',color='black', linewidth=0.5)\n",
    "\n",
    "x = np.random.normal(1, 0.08, size=len(a68_ratio_dnRG ))\n",
    "axs[0].plot(x,a68_ratio_dnRG,'.', color='grey', alpha=0.3, markersize=10, zorder=1)\n",
    "\n",
    "x = 1 \n",
    "axs[0].errorbar(x,a68_mean_dnRG ,a68_std_dnRG, marker='o',markersize=5,color='black', capsize=5,mfc='black', mec='black', ls='none',zorder=2)\n",
    "\n",
    "x = np.random.normal(2, 0.08, size=len(Ratio_a68_RG))\n",
    "axs[0].plot(x,Ratio_a68_RG,'.', color='grey', alpha=0.3, markersize=10, zorder=1)\n",
    "\n",
    "x = 2 \n",
    "axs[0].errorbar(x,mean_ratio_RG[3] ,std_ratio_pred_a68_RG, marker='o',markersize=5,color='black', capsize=5,mfc='black', mec='black', ls='none',zorder=2)\n",
    "\n",
    "my_axsis(axs[0], xlim= [0.5,2.5], ylim=[2**(-3),2**(3)], xticks=[1,2], title='a6.8', xtickslabels=['Exp', 'Model'], bold=True, scale='log')\n",
    "axs[0].set_ylabel('nuclear dpERK signal ratio injected/control')\n",
    "\n",
    "\n",
    "# a6.6 \n",
    "axs[1].plot(y,z,'--',color='black', linewidth=0.5)\n",
    "\n",
    "x = np.random.normal(1, 0.08, size=len(a66_ratio_dnRG ))\n",
    "axs[1].plot(x,a66_ratio_dnRG,'.', color='tab:green', alpha=0.3, markersize=10, zorder=1)\n",
    "\n",
    "x = 1 \n",
    "axs[1].errorbar(x,a66_mean_dnRG ,a66_std_dnRG, marker='o',markersize=5,color='black', capsize=5,mfc='black', mec='black', ls='none', zorder=2)\n",
    "\n",
    "x = np.random.normal(2, 0.08, size=len(Ratio_a66_RG))\n",
    "axs[1].plot(x,Ratio_a66_RG,'.', color='tab:green', alpha=0.3, markersize=10, zorder=1)\n",
    "\n",
    "x = 2 \n",
    "axs[1].errorbar(x,mean_ratio_RG[1],std_ratio_pred_a66_RG, marker='o',markersize=5,color='black', capsize=5,mfc='black', mec='black', ls='none', zorder=2)\n",
    "\n",
    "my_axsis(axs[1], xlim= [0.5,2.5], ylim=[2**(-3),2**(3)], xticks=[1,2], title='a6.6', xtickslabels=['Exp', 'Model'], bold=True, scale='log')\n",
    "\n",
    "\n",
    "# a6.7 \n",
    "axs[2].plot(y,z,'--',color='black', linewidth=0.5)\n",
    "\n",
    "x = np.random.normal(1, 0.08, size=len(a67_ratio_dnRG ))\n",
    "axs[2].plot(x,a67_ratio_dnRG,'.', color='tab:blue', alpha=0.3, markersize=10, zorder=1)\n",
    "\n",
    "x = 1 \n",
    "axs[2].errorbar(x,a67_mean_dnRG ,a67_std_dnRG, marker='o',markersize=5,color='black', capsize=5,mfc='black', mec='black', ls='none', zorder=2)\n",
    "\n",
    "x = np.random.normal(2, 0.08, size=len(Ratio_a67_RG))\n",
    "axs[2].plot(x,Ratio_a67_RG,'.', color='tab:blue', alpha=0.3, markersize=10, zorder=1)\n",
    "\n",
    "x = 2 \n",
    "axs[2].errorbar(x,mean_ratio_RG[2] ,std_ratio_pred_a67_RG, marker='o',markersize=5,color='black', capsize=5,mfc='black', mec='black', ls='none', zorder=2)\n",
    "\n",
    "my_axsis(axs[2], xlim= [0.5,2.5], ylim=[2**(-3),2**(3)], xticks=[1,2], title='a6.7', xtickslabels=['Exp', 'Model'], bold=True, scale='log')\n",
    "\n",
    "\n",
    "# a6.5\n",
    "axs[3].plot(y,z,'--',color='black', linewidth=0.5)\n",
    "\n",
    "x = np.random.normal(1, 0.08, size=len(a65_ratio_dnRG ))\n",
    "axs[3].plot(x,a65_ratio_dnRG,'.', color='orchid', alpha=0.3, markersize=10, zorder=1)\n",
    "\n",
    "x = 1 \n",
    "axs[3].errorbar(x,a65_mean_dnRG ,a65_std_dnRG, marker='o',markersize=5,color='black', capsize=5,mfc='black', mec='black', ls='none', zorder=2)\n",
    "\n",
    "x = np.random.normal(2, 0.08, size=len(Ratio_a65_RG))\n",
    "axs[3].plot(x,Ratio_a65_RG,'.', color='orchid', alpha=0.3, markersize=10, zorder=1)\n",
    "\n",
    "x = 2 \n",
    "axs[3].errorbar(x,mean_ratio_RG[0] ,std_ratio_pred_a65_RG, marker='o',markersize=5,color='black', capsize=5,mfc='black', mec='black', ls='none', zorder=2)\n",
    "\n",
    "my_axsis(axs[3], xlim= [0.5,2.5], ylim=[2**(-3),2**(3)], xticks=[1,2], title='a6.5', xtickslabels=['Exp', 'Model'], bold=True, scale='log')\n",
    "plt.tight_layout()\n",
    "plt.show()"
   ]
  }
 ],
 "metadata": {
  "kernelspec": {
   "display_name": "Python 3",
   "language": "python",
   "name": "python3"
  },
  "language_info": {
   "codemirror_mode": {
    "name": "ipython",
    "version": 3
   },
   "file_extension": ".py",
   "mimetype": "text/x-python",
   "name": "python",
   "nbconvert_exporter": "python",
   "pygments_lexer": "ipython3",
   "version": "3.8.5"
  }
 },
 "nbformat": 4,
 "nbformat_minor": 4
}
