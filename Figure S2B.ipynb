{
 "cells": [
  {
   "cell_type": "markdown",
   "metadata": {},
   "source": [
    "# Figure S2B"
   ]
  },
  {
   "cell_type": "markdown",
   "metadata": {},
   "source": [
    "# Import packages"
   ]
  },
  {
   "cell_type": "code",
   "execution_count": 1,
   "metadata": {},
   "outputs": [],
   "source": [
    "import numpy as np\n",
    "import matplotlib.pyplot as plt \n",
    "from sympy import symbols, solve, simplify\n",
    "import pandas as pd\n",
    "import sympy as sp\n",
    "plt.rcParams.update({'font.size': 20})"
   ]
  },
  {
   "cell_type": "markdown",
   "metadata": {},
   "source": [
    "# Definitions"
   ]
  },
  {
   "cell_type": "markdown",
   "metadata": {},
   "source": [
    "Function to define the properties of the axis of a plot"
   ]
  },
  {
   "cell_type": "code",
   "execution_count": 2,
   "metadata": {},
   "outputs": [],
   "source": [
    "def my_axsis(ax, xlim, ylim, xticks, title, xtickslabels, bold=True, scale='lin'):    \n",
    "    \n",
    "    ax.set_xlim(xlim)\n",
    "    ax.set_ylim(ylim)\n",
    "    ax.set_xticks(xticks)\n",
    "    ax.set_title(title)\n",
    "    ax.set_xticklabels(xtickslabels)\n",
    "    \n",
    "    if bold==True:\n",
    "        for axis in ['top','bottom','left','right']:\n",
    "            ax.spines[axis].set_linewidth(1.2)\n",
    "            \n",
    "    if scale=='log':\n",
    "        ax.set_yscale('log', base=2)"
   ]
  },
  {
   "cell_type": "markdown",
   "metadata": {},
   "source": [
    "# Model "
   ]
  },
  {
   "cell_type": "markdown",
   "metadata": {},
   "source": [
    "Definition of the parameters of the model \n"
   ]
  },
  {
   "cell_type": "code",
   "execution_count": 3,
   "metadata": {},
   "outputs": [],
   "source": [
    "T, V1, V2, K1, K2, Kb = symbols('T V1 V2 K1 K2 Kb') \n",
    "Vs, Rb, Ks, Vrg, Qb, Krg = symbols('Vs Rb Ks Vrg Qb Krg')\n",
    "R, F_A, Kd, Q, E, Ke = symbols('R F Kd Q E Ke')\n",
    "S1_A, Qtot, S2, Rtot= symbols('S1 Qtot S2 Rtot')\n",
    "F_B61, F_B62, F_B63, F_B64 = symbols('F_B61 F_B62 F_B63 F_B64')\n",
    "S1_B61, S1_B62, S1_B63, S1_B64 = symbols('S1_B61 S1_B62 S1_B63 S1_B64')"
   ]
  },
  {
   "cell_type": "markdown",
   "metadata": {},
   "source": [
    "Solve the evolution equation for T"
   ]
  },
  {
   "cell_type": "code",
   "execution_count": 4,
   "metadata": {},
   "outputs": [
    {
     "name": "stdout",
     "output_type": "stream",
     "text": [
      "Evolution equation for T:\n",
      "-Kb*T - T*V2/(K2 + T) + V1*(1 - T)/(K1 - T + 1)\n"
     ]
    }
   ],
   "source": [
    "# Evolution equation for T: \n",
    "expr = V1*(1-T)/(K1+(1-T))-V2*T/(K2+T)-Kb*T\n",
    "expr_simplified= V1*(1-T)*(K2+T) -V2*T*(K1+(1-T))-Kb*T*(K1+(1-T))*(K2+T)\n",
    "print('Evolution equation for T:')\n",
    "print(expr)\n",
    "\n",
    "# Solve the equation \n",
    "sol = solve(expr_simplified, T)[1]\n",
    "\n",
    "# Compute the number of bound receptors \n",
    "Rb_A = Rtot*S1_A*F_A/(F_A+Kd)\n",
    "Rb_B61 = Rtot*S1_B61*F_B61/(F_B61+Kd)\n",
    "Rb_B62 = Rtot*S1_B62*F_B62/(F_B62+Kd)\n",
    "Rb_B63 = Rtot*S1_B63*F_B63/(F_B63+Kd)\n",
    "Rb_B64 = Rtot*S1_B64*F_B64/(F_B64+Kd)\n",
    "\n",
    "Rb = Rb_A + Rb_B61 + Rb_B62 + Rb_B63 + Rb_B64\n",
    "Qb = Qtot*S2*E/(E+Ke)\n",
    "\n",
    "# Substitute the expression for V1 and V2 in the expression for T:  \n",
    "sol_T= sol.subs([(V1, Vs*Rb/(Ks+Rb)),(V2, Vrg*Qb/(Krg+Qb))])"
   ]
  },
  {
   "cell_type": "markdown",
   "metadata": {},
   "source": [
    "Definition of the function ExprT that compute T as a function of all the parameters of the equation"
   ]
  },
  {
   "cell_type": "code",
   "execution_count": 5,
   "metadata": {},
   "outputs": [],
   "source": [
    "def exprT(Vs_v=1, Vrg_v=0.4, K1_v=0.5, K2_v=0.2, Krg_v=1200, Ks_v=1200, Kb_v=0.2, F_Av=5, F_B61v = 5, F_B62v= 0.7, F_B63v = 0.01, F_B64v=0.7, Kd_v=25, E_v=5, Ke_v=50, Rtot_v=2000, Qtot_v=2000, S1_Av=0.5, S1_B61v=0.2, S1_B62v=0, S1_B63v=0, S1_B64v =0, S2_v=0.4):\n",
    "    sol_T_temp = sol_T.subs([(Vs,Vs_v),(Vrg,Vrg_v),(K1, K1_v),(K2,K2_v),(Krg, Krg_v), (Ks, Ks_v), (Kb, Kb_v),(F_A, F_Av),(F_B61, F_B61v),(F_B62, F_B62v),(F_B63, F_B63v),(F_B64, F_B64v),(Kd, Kd_v),(E,E_v),(Ke, Ke_v),(Rtot, Rtot_v),(Qtot,Qtot_v),(S1_A,S1_Av),(S1_B61,S1_B61v),(S1_B62,S1_B62v),(S1_B63,S1_B63v),(S1_B64,S1_B64v),(S2,S2_v)])\n",
    "    sol_T_temp = np.real(np.array(sol_T_temp,complex))\n",
    "    return sol_T_temp"
   ]
  },
  {
   "cell_type": "markdown",
   "metadata": {},
   "source": [
    " Definition of the function to compute Erk (as a function of T): "
   ]
  },
  {
   "cell_type": "code",
   "execution_count": 6,
   "metadata": {},
   "outputs": [],
   "source": [
    "def Erk(T,n=2, Kerk=0.5, Erk_max=1, Erk_bas=0): \n",
    "    Erk = [Erk_max* T[i]**n/(T[i]**n +Kerk**n) + Erk_bas for i in range(len(T))]\n",
    "    return Erk"
   ]
  },
  {
   "cell_type": "markdown",
   "metadata": {},
   "source": [
    "# Import the experimental data "
   ]
  },
  {
   "cell_type": "code",
   "execution_count": 7,
   "metadata": {},
   "outputs": [],
   "source": [
    "#read the excel file with the experimental data\n",
    "data_cellContact_bline = pd.read_excel('/Users/rossanabettoni/Desktop/PhD/Article_PLOS/ExpData.xlsx', sheet_name='Cell surface contacts b-line')\n",
    "df_cellContact_bline = pd.DataFrame(data_cellContact_bline)\n",
    "\n",
    "data_FigS2 = pd.read_excel('/Users/rossanabettoni/Desktop/PhD/Article_PLOS/ExpData.xlsx', sheet_name='Fig S2')\n",
    "df_FigS2 = pd.DataFrame(data_FigS2)"
   ]
  },
  {
   "cell_type": "markdown",
   "metadata": {},
   "source": [
    "Data cell surface contact "
   ]
  },
  {
   "cell_type": "code",
   "execution_count": 8,
   "metadata": {},
   "outputs": [],
   "source": [
    "# Cell surface contacts of cell b6.5\n",
    "S_b65_B61 = np.array(df_cellContact_bline.iloc[:,1].values.tolist())[0:26] \n",
    "S_b65_B62 = np.array(df_cellContact_bline.iloc[:,2].values.tolist())[0:26] \n",
    "S_b65_B63 = np.array(df_cellContact_bline.iloc[:,3].values.tolist())[0:26] \n",
    "S_b65_B64 = np.array(df_cellContact_bline.iloc[:,4].values.tolist())[0:26] \n",
    "S_b65_Aline = np.array(df_cellContact_bline.iloc[:,5].values.tolist())[0:26] \n",
    "S_b65_an = np.array(df_cellContact_bline.iloc[:,6].values.tolist())[0:26] \n",
    "\n",
    "mean_Sb65_B61 = np.nanmean(S_b65_B61)\n",
    "mean_Sb65_B62 = np.nanmean(S_b65_B62)\n",
    "mean_Sb65_B63 = np.nanmean(S_b65_B63)\n",
    "mean_Sb65_B64 = np.nanmean(S_b65_B64)\n",
    "mean_Sb65_A = np.nanmean(S_b65_Aline)\n",
    "\n",
    "# Cell surface contacts of cell b6.6\n",
    "S_b66_B61 = np.array(df_cellContact_bline.iloc[:,1].values.tolist())[28:54] \n",
    "S_b66_B62 = np.array(df_cellContact_bline.iloc[:,2].values.tolist())[28:54] \n",
    "S_b66_B63 = np.array(df_cellContact_bline.iloc[:,3].values.tolist())[28:54] \n",
    "S_b66_B64 = np.array(df_cellContact_bline.iloc[:,4].values.tolist())[28:54] \n",
    "S_b66_Aline = np.array(df_cellContact_bline.iloc[:,5].values.tolist())[28:54] \n",
    "S_b66_an = np.array(df_cellContact_bline.iloc[:,6].values.tolist())[28:54]\n",
    "\n",
    "mean_Sb66_B61 = np.nanmean(S_b66_B61)\n",
    "mean_Sb66_B62 = np.nanmean(S_b66_B62)\n",
    "mean_Sb66_B63 = np.nanmean(S_b66_B63)\n",
    "mean_Sb66_B64 = np.nanmean(S_b66_B64)\n",
    "mean_Sb66_A = np.nanmean(S_b66_Aline)\n",
    "\n",
    "# Cell surface contacts of cell b6.7\n",
    "S_b67_B61 = np.array(df_cellContact_bline.iloc[:,1].values.tolist())[56:82] \n",
    "S_b67_B62 = np.array(df_cellContact_bline.iloc[:,2].values.tolist())[56:82] \n",
    "S_b67_B63 = np.array(df_cellContact_bline.iloc[:,3].values.tolist())[56:82] \n",
    "S_b67_B64 = np.array(df_cellContact_bline.iloc[:,4].values.tolist())[56:82] \n",
    "S_b67_Aline = np.array(df_cellContact_bline.iloc[:,5].values.tolist())[56:82] \n",
    "S_b67_an = np.array(df_cellContact_bline.iloc[:,6].values.tolist())[56:82] \n",
    "\n",
    "mean_Sb67_B61 = np.nanmean(S_b67_B61)\n",
    "mean_Sb67_B62 = np.nanmean(S_b67_B62)\n",
    "mean_Sb67_B63 = np.nanmean(S_b67_B63)\n",
    "mean_Sb67_B64 = np.nanmean(S_b67_B64)\n",
    "mean_Sb67_A = np.nanmean(S_b67_Aline)\n",
    "\n",
    "# Cell surface contacts of cell b6.8\n",
    "S_b68_B61 = np.array(df_cellContact_bline.iloc[:,1].values.tolist())[84:110] \n",
    "S_b68_B62 = np.array(df_cellContact_bline.iloc[:,2].values.tolist())[84:110] \n",
    "S_b68_B63 = np.array(df_cellContact_bline.iloc[:,3].values.tolist())[84:110] \n",
    "S_b68_B64 = np.array(df_cellContact_bline.iloc[:,4].values.tolist())[84:110] \n",
    "S_b68_Aline = np.array(df_cellContact_bline.iloc[:,5].values.tolist())[84:110]\n",
    "S_b68_an = np.array(df_cellContact_bline.iloc[:,6].values.tolist())[84:110] \n",
    "\n",
    "mean_Sb68_B61 = np.nanmean(S_b68_B61)\n",
    "mean_Sb68_B62 = np.nanmean(S_b68_B62)\n",
    "mean_Sb68_B63 = np.nanmean(S_b68_B63)\n",
    "mean_Sb68_B64 = np.nanmean(S_b68_B64)\n",
    "mean_Sb68_A = np.nanmean(S_b68_Aline)\n"
   ]
  },
  {
   "cell_type": "markdown",
   "metadata": {},
   "source": [
    "Erk fluorescence levels "
   ]
  },
  {
   "cell_type": "code",
   "execution_count": 9,
   "metadata": {},
   "outputs": [],
   "source": [
    "Erk_b65_ctr = np.array(df_FigS2.iloc[:,1].values.tolist())[0:103] \n",
    "Erk_b66_ctr = np.array(df_FigS2.iloc[:,2].values.tolist())[0:103] \n",
    "Erk_b67_ctr = np.array(df_FigS2.iloc[:,3].values.tolist())[0:103] \n",
    "Erk_b68_ctr = np.array(df_FigS2.iloc[:,4].values.tolist())[0:103] \n",
    "\n",
    "# Compute the mean of the exp data \n",
    "Erk_mean_b65_ctr = np.nanmean(Erk_b65_ctr)\n",
    "Erk_mean_b66_ctr = np.nanmean(Erk_b66_ctr)\n",
    "Erk_mean_b67_ctr = np.nanmean(Erk_b67_ctr)\n",
    "Erk_mean_b68_ctr = np.nanmean(Erk_b68_ctr)\n",
    "\n",
    "# Compute the std of exp data\n",
    "Erk_sdev_b65_ctr = np.nanstd(Erk_b65_ctr)\n",
    "Erk_sdev_b66_ctr = np.nanstd(Erk_b66_ctr)\n",
    "Erk_sdev_b67_ctr = np.nanstd(Erk_b67_ctr)\n",
    "Erk_sdev_b68_ctr = np.nanstd(Erk_b68_ctr)"
   ]
  },
  {
   "cell_type": "markdown",
   "metadata": {},
   "source": [
    "# Results"
   ]
  },
  {
   "cell_type": "markdown",
   "metadata": {},
   "source": [
    "## Figure S2B"
   ]
  },
  {
   "cell_type": "markdown",
   "metadata": {},
   "source": [
    "### Model predictions"
   ]
  },
  {
   "cell_type": "markdown",
   "metadata": {},
   "source": [
    "Compute Erk activity "
   ]
  },
  {
   "cell_type": "code",
   "execution_count": 10,
   "metadata": {},
   "outputs": [],
   "source": [
    "# Compute T\n",
    "T_pred_b65 = [exprT(S1_Av= S_b65_Aline[i], S1_B61v=S_b65_B61[i], S1_B62v=S_b65_B62[i], S1_B63v=S_b65_B63[i], S1_B64v=S_b65_B64[i], S2_v=S_b65_an[i]) for i in range(len(S_b65_B64))]\n",
    "T_pred_b66 = [exprT(S1_Av= S_b66_Aline[i], S1_B61v=S_b66_B61[i], S1_B62v=S_b66_B62[i], S1_B63v=S_b66_B63[i], S1_B64v=S_b66_B64[i], S2_v=S_b66_an[i]) for i in range(len(S_b66_B64))]\n",
    "T_pred_b67 = [exprT(S1_Av= S_b67_Aline[i], S1_B61v=S_b67_B61[i], S1_B62v=S_b67_B62[i], S1_B63v=S_b67_B63[i], S1_B64v=S_b67_B64[i], S2_v=S_b67_an[i]) for i in range(len(S_b67_B64))]\n",
    "T_pred_b68 = [exprT(S1_Av= S_b68_Aline[i], S1_B61v=S_b68_B61[i], S1_B62v=S_b68_B62[i], S1_B63v=S_b68_B63[i], S1_B64v=S_b68_B64[i], S2_v=S_b68_an[i]) for i in range(len(S_b68_B64))]\n",
    "\n",
    "# Compute Erk\n",
    "Erk_pred_b65_a = Erk(T_pred_b65)\n",
    "Erk_pred_b66_a = Erk(T_pred_b66)\n",
    "Erk_pred_b67_a = Erk(T_pred_b67)\n",
    "Erk_pred_b68_a = Erk(T_pred_b68)\n",
    "\n",
    "# Compute the mean Erk value for each cell type (with our model)\n",
    "mean_b65_Erk_model_a= np.mean(Erk_pred_b65_a) \n",
    "mean_b66_Erk_model_a= np.mean(Erk_pred_b66_a)\n",
    "mean_b67_Erk_model_a= np.mean(Erk_pred_b67_a)\n",
    "mean_b68_Erk_model_a= np.mean(Erk_pred_b68_a)\n",
    "Erk_mean_a = [mean_b65_Erk_model_a, mean_b66_Erk_model_a, mean_b67_Erk_model_a, mean_b68_Erk_model_a]\n",
    "\n",
    "# Compute the std\n",
    "sdev_b65_Erk_model_a = np.std(Erk_pred_b65_a)\n",
    "sdev_b66_Erk_model_a = np.std(Erk_pred_b66_a)\n",
    "sdev_b67_Erk_model_a = np.std(Erk_pred_b67_a)\n",
    "sdev_b68_Erk_model_a = np.std(Erk_pred_b68_a)"
   ]
  },
  {
   "cell_type": "markdown",
   "metadata": {},
   "source": [
    "Compute Erk fluorescence "
   ]
  },
  {
   "cell_type": "code",
   "execution_count": 11,
   "metadata": {},
   "outputs": [],
   "source": [
    "Erk_max= 1500    \n",
    "Erk_bas = np.nanmean(Erk_b68_ctr)  \n",
    "\n",
    "Erk_pred_b65_f = Erk(T_pred_b65, Erk_max=Erk_max, Erk_bas =Erk_bas)\n",
    "Erk_pred_b66_f = Erk(T_pred_b66, Erk_max=Erk_max, Erk_bas =Erk_bas)\n",
    "Erk_pred_b67_f = Erk(T_pred_b67, Erk_max=Erk_max, Erk_bas =Erk_bas)\n",
    "Erk_pred_b68_f = Erk(T_pred_b68, Erk_max=Erk_max, Erk_bas =Erk_bas)\n",
    "\n",
    "# Compute the mean Erk value for each cell type (with our model)\n",
    "mean_b65_Erk_model_f= np.nanmean(Erk_pred_b65_f) \n",
    "mean_b66_Erk_model_f= np.nanmean(Erk_pred_b66_f)\n",
    "mean_b67_Erk_model_f= np.nanmean(Erk_pred_b67_f)\n",
    "mean_b68_Erk_model_f= np.nanmean(Erk_pred_b68_f)\n",
    "Erk_mean_f = [mean_b65_Erk_model_f, mean_b66_Erk_model_f, mean_b67_Erk_model_f, mean_b68_Erk_model_f]\n",
    "\n",
    "# Compute the std\n",
    "sdev_b65_Erk_model_f = np.sqrt(Erk_max**2*sdev_b65_Erk_model_a**2+Erk_sdev_b68_ctr**2)\n",
    "sdev_b66_Erk_model_f = np.sqrt(Erk_max**2*sdev_b66_Erk_model_a**2+Erk_sdev_b68_ctr**2)\n",
    "sdev_b67_Erk_model_f = np.sqrt(Erk_max**2*sdev_b67_Erk_model_a**2+Erk_sdev_b68_ctr**2)\n",
    "sdev_b68_Erk_model_f = np.sqrt(Erk_max**2*sdev_b68_Erk_model_a**2+Erk_sdev_b68_ctr**2)"
   ]
  },
  {
   "cell_type": "markdown",
   "metadata": {},
   "source": [
    "### Comparison with experimental data"
   ]
  },
  {
   "cell_type": "code",
   "execution_count": 12,
   "metadata": {},
   "outputs": [
    {
     "data": {
      "image/png": "[encoded data removed]",
      "text/plain": [
       "<Figure size 648x432 with 4 Axes>"
      ]
     },
     "metadata": {
      "needs_background": "light"
     },
     "output_type": "display_data"
    }
   ],
   "source": [
    "fig = plt.figure(figsize=(9,6))\n",
    "gs = fig.add_gridspec(1,4, hspace=0,wspace=0)\n",
    "axs = gs.subplots(sharey=True)\n",
    "\n",
    "# b6.8 \n",
    "x = np.random.normal(1, 0.08, size=len(Erk_b68_ctr))\n",
    "axs[3].plot(x,Erk_b68_ctr,'.', color='teal', alpha=0.3,markersize=10,zorder=1)\n",
    "\n",
    "x = 1 \n",
    "axs[3].errorbar(x,Erk_mean_b68_ctr ,Erk_sdev_b68_ctr, marker='o',markersize=5,color='black', capsize=5,mfc='black', mec='black', ls='none',zorder=2)\n",
    "\n",
    "x = np.random.normal(2, 0.08, size=len(Erk_pred_b68_f))\n",
    "axs[3].plot(x,Erk_pred_b68_f,'.', color='teal', alpha=0.3,markersize=10,zorder=1)\n",
    "\n",
    "x = 2 \n",
    "axs[3].errorbar(x,mean_b68_Erk_model_f ,sdev_b68_Erk_model_f, marker='o',markersize=5,color='black', capsize=5,mfc='black', mec='black', ls='none',zorder=2)\n",
    "\n",
    "my_axsis(axs[3], xlim=[0.5,2.5], ylim=[2**6,2**(10)], xticks=[1,2], title='b6.8', xtickslabels=['Exp', 'Model'], bold=True, scale='log')\n",
    "\n",
    "   \n",
    "# b6.6 \n",
    "x = np.random.normal(1, 0.08, size=len(Erk_b66_ctr))\n",
    "axs[1].plot(x,Erk_b66_ctr,'.', color='tab:orange', alpha=0.3, markersize=10,zorder=1)\n",
    "\n",
    "x = 1 \n",
    "axs[1].errorbar(x,Erk_mean_b66_ctr ,Erk_sdev_b66_ctr, marker='o',markersize=5,color='black', capsize=5,mfc='black', mec='black', ls='none',zorder=2)\n",
    "\n",
    "x = np.random.normal(2, 0.08, size=len(Erk_pred_b66_f))\n",
    "axs[1].plot(x,Erk_pred_b66_f,'.', color='tab:orange', alpha=0.3, markersize=10,zorder=1)\n",
    "\n",
    "x = 2 \n",
    "axs[1].errorbar(x,mean_b66_Erk_model_f ,sdev_b66_Erk_model_f, marker='o',markersize=5,color='black', capsize=5,mfc='black', mec='black', ls='none',zorder=2)\n",
    "\n",
    "my_axsis(axs[1], xlim=[0.5,2.5], ylim=[2**6,2**(10)], xticks=[1,2], title='b6.6', xtickslabels=['Exp', 'Model'], bold=True, scale='log')\n",
    "\n",
    "# b6.7 \n",
    "x = np.random.normal(1, 0.08, size=len(Erk_b67_ctr))\n",
    "axs[2].plot(x,Erk_b67_ctr,'.', color='olive', alpha=0.3,markersize=10,zorder=1)\n",
    "\n",
    "x = 1 \n",
    "axs[2].errorbar(x,Erk_mean_b67_ctr ,Erk_sdev_b67_ctr, marker='o',markersize=5,color='black', capsize=5,mfc='black', mec='black', ls='none',zorder=2)\n",
    "\n",
    "x = np.random.normal(2, 0.08, size=len(Erk_pred_b67_f))\n",
    "axs[2].plot(x,Erk_pred_b67_f,'.', color='olive', alpha=0.3,markersize=10,zorder=1)\n",
    "\n",
    "x = 2 \n",
    "axs[2].errorbar(x,mean_b67_Erk_model_f ,sdev_b67_Erk_model_f, marker='o',markersize=5,color='black', capsize=5,mfc='black', mec='black', ls='none',zorder=2)\n",
    "\n",
    "my_axsis(axs[2], xlim=[0.5,2.5], ylim=[2**6,2**(10)], xticks=[1,2], title='b6.7', xtickslabels=['Exp', 'Model'], bold=True, scale='log')\n",
    "\n",
    "# b6.5\n",
    "x = np.random.normal(1, 0.08, size=len(Erk_b65_ctr))\n",
    "axs[0].plot(x,Erk_b65_ctr,'.', color='maroon', alpha=0.3,markersize=10,zorder=1)\n",
    "\n",
    "x = 1 \n",
    "axs[0].errorbar(x,Erk_mean_b65_ctr ,Erk_sdev_b65_ctr, marker='o',markersize=5,color='black', capsize=5,mfc='black', mec='black', ls='none',zorder=2)\n",
    "\n",
    "x = np.random.normal(2, 0.08, size=len(Erk_pred_b65_f))\n",
    "axs[0].plot(x,Erk_pred_b65_f,'.', color='maroon', alpha=0.3,markersize=10,zorder=1)\n",
    "\n",
    "x = 2 \n",
    "axs[0].errorbar(x,mean_b65_Erk_model_f ,sdev_b65_Erk_model_f, marker='o',markersize=5,color='black', capsize=5,mfc='black', mec='black', ls='none',zorder=2)\n",
    "axs[0].set_ylabel('nuclear dpErk signal')\n",
    "\n",
    "my_axsis(axs[0], xlim=[0.5,2.5], ylim=[2**6,2**(10)], xticks=[1,2], title='b6.5', xtickslabels=['Exp', 'Model'], bold=True, scale='log')\n",
    "\n",
    "plt.tight_layout()\n",
    "plt.show()"
   ]
  },
  {
   "cell_type": "code",
   "execution_count": null,
   "metadata": {},
   "outputs": [],
   "source": []
  }
 ],
 "metadata": {
  "kernelspec": {
   "display_name": "Python 3",
   "language": "python",
   "name": "python3"
  },
  "language_info": {
   "codemirror_mode": {
    "name": "ipython",
    "version": 3
   },
   "file_extension": ".py",
   "mimetype": "text/x-python",
   "name": "python",
   "nbconvert_exporter": "python",
   "pygments_lexer": "ipython3",
   "version": "3.8.5"
  }
 },
 "nbformat": 4,
 "nbformat_minor": 4
}
